{
 "metadata": {
  "name": ""
 },
 "nbformat": 3,
 "nbformat_minor": 0,
 "worksheets": [
  {
   "cells": [
    {
     "cell_type": "markdown",
     "metadata": {},
     "source": [
      "# Miscellaneous notes from the lecture"
     ]
    },
    {
     "cell_type": "markdown",
     "metadata": {},
     "source": [
      "Even Python3 optimizes out assertions."
     ]
    },
    {
     "cell_type": "code",
     "collapsed": false,
     "input": [
      "%%file test_assert.py\n",
      "\n",
      "def test():\n",
      "    assert False, \"assertions work!\"\n",
      "    print(\"we're all screwed!\")\n",
      "    \n",
      "test()"
     ],
     "language": "python",
     "metadata": {},
     "outputs": [
      {
       "output_type": "stream",
       "stream": "stdout",
       "text": [
        "Overwriting test_assert.py\n"
       ]
      }
     ],
     "prompt_number": 13
    },
    {
     "cell_type": "code",
     "collapsed": false,
     "input": [
      "!python3 test_assert.py"
     ],
     "language": "python",
     "metadata": {},
     "outputs": [
      {
       "output_type": "stream",
       "stream": "stdout",
       "text": [
        "Traceback (most recent call last):\r\n",
        "  File \"test_assert.py\", line 6, in <module>\r\n",
        "    test()\r\n",
        "  File \"test_assert.py\", line 3, in test\r\n",
        "    assert False, \"assertions work!\"\r\n",
        "AssertionError: assertions work!\r\n"
       ]
      }
     ],
     "prompt_number": 14
    },
    {
     "cell_type": "code",
     "collapsed": false,
     "input": [
      "!python3 -O test_assert.py"
     ],
     "language": "python",
     "metadata": {},
     "outputs": [
      {
       "output_type": "stream",
       "stream": "stdout",
       "text": [
        "we're all screwed!\r\n"
       ]
      }
     ],
     "prompt_number": 15
    },
    {
     "cell_type": "markdown",
     "metadata": {},
     "source": [
      "[A blog post about `interned` python builtins](http://me.veekun.com/blog/2012/03/24/python-faq-equality/), or why:\n",
      "\n",
      "* `1000 is 1000` is `True`, \n",
      "\n",
      "but\n",
      " \n",
      "* `x = 1000; x is 1000` is `False`"
     ]
    },
    {
     "cell_type": "code",
     "collapsed": false,
     "input": [
      "1000 is 1000"
     ],
     "language": "python",
     "metadata": {},
     "outputs": [
      {
       "metadata": {},
       "output_type": "pyout",
       "prompt_number": 17,
       "text": [
        "True"
       ]
      }
     ],
     "prompt_number": 17
    },
    {
     "cell_type": "code",
     "collapsed": false,
     "input": [
      "x = 1000\n",
      "x is 1000"
     ],
     "language": "python",
     "metadata": {},
     "outputs": [
      {
       "metadata": {},
       "output_type": "pyout",
       "prompt_number": 19,
       "text": [
        "False"
       ]
      }
     ],
     "prompt_number": 19
    },
    {
     "cell_type": "code",
     "collapsed": false,
     "input": [],
     "language": "python",
     "metadata": {},
     "outputs": []
    }
   ],
   "metadata": {}
  }
 ]
}