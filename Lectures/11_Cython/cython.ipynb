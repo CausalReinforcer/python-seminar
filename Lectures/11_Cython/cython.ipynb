{
 "metadata": {
  "name": ""
 },
 "nbformat": 3,
 "nbformat_minor": 0,
 "worksheets": [
  {
   "cells": [
    {
     "cell_type": "markdown",
     "metadata": {},
     "source": [
      "# [Cython](http://docs.cython.org/)\n",
      "\n",
      "### [UC Berkeley AY 250 'Python Computing for Data Science'](https://github.com/profjsb/python-seminar)\n",
      "\n",
      "### lecture materials prepared by [Paul Ivanov](http://pirsquared.org/blog) (2013-11-21)  \n",
      "\n",
      "\n",
      "Cython is good for two things:\n",
      "\n",
      "1. Wrapping legacy code\n",
      "2. Making your python code go faster"
     ]
    },
    {
     "cell_type": "markdown",
     "metadata": {},
     "source": [
      "# Let's take a step back...\n",
      "\n",
      "Python is a C program (yes, there are other implementations, but CPython is the dominant one)\n",
      "\n",
      "- you can write \"C extensions\" that can be imported as python modules"
     ]
    },
    {
     "cell_type": "code",
     "collapsed": false,
     "input": [
      "import math\n",
      "math??"
     ],
     "language": "python",
     "metadata": {},
     "outputs": [],
     "prompt_number": 1
    },
    {
     "cell_type": "markdown",
     "metadata": {},
     "source": [
      "Deep introspection of `math` will not show us the source code, because it is actually implemented in C, compiled in a special way using the Python C API, and exposed to us (mere mortals) using a python interface."
     ]
    },
    {
     "cell_type": "code",
     "collapsed": false,
     "input": [
      "import os\n",
      "os.path??"
     ],
     "language": "python",
     "metadata": {},
     "outputs": [],
     "prompt_number": 2
    },
    {
     "cell_type": "markdown",
     "metadata": {},
     "source": [
      "`os.path` on the other hand, is written in pure Python, so we can see the sourcecode"
     ]
    },
    {
     "cell_type": "code",
     "collapsed": false,
     "input": [
      "!cython --version"
     ],
     "language": "python",
     "metadata": {},
     "outputs": [
      {
       "output_type": "stream",
       "stream": "stdout",
       "text": [
        "Cython version 0.19.1\r\n"
       ]
      }
     ],
     "prompt_number": 3
    },
    {
     "cell_type": "markdown",
     "metadata": {},
     "source": [
      "## What's Cython?\n",
      "\n",
      "*Cython \n",
      "is a programming language that makes writing C extensions for the Python language as easy as Python itself.*\n",
      "\n",
      "Cython is a superset of Python (i.e. all Python programs are valid Cython programs).\n",
      "\n",
      "Cython allows you to:\n",
      "\n",
      "   1. get convenient handles on C libraries, objects, and functions using in your Python code.\n",
      "   2. sprinkle in\" type annotations into Python code to get speedups\n",
      "\n"
     ]
    },
    {
     "cell_type": "markdown",
     "metadata": {},
     "source": [
      "## Your first Cython program\n",
      "\n",
      "Ignoring the first line that starts with `%%file`, which is just an IPython magic to write the contents of the cell to a file, here's what Cython actually looks like:\n",
      "\n"
     ]
    },
    {
     "cell_type": "code",
     "collapsed": false,
     "input": [
      "%%file my_first_cython_file.pyx\n",
      "cdef extern from \"math.h\":\n",
      "    double cos(double x)\n",
      "    double sin(double x)\n",
      "    double tan(double x)\n",
      "    \n",
      "    double M_PI\n",
      "    \n",
      "def test_trig():\n",
      "    print 'some trig functions from C:', cos(0), cos(M_PI)\n"
     ],
     "language": "python",
     "metadata": {},
     "outputs": [
      {
       "output_type": "stream",
       "stream": "stdout",
       "text": [
        "Writing my_first_cython_file.pyx\n"
       ]
      }
     ],
     "prompt_number": 3
    },
    {
     "cell_type": "markdown",
     "metadata": {},
     "source": [
      "# Running Cython\n",
      "\n",
      "Three ways. First, the least magical one:\n",
      "\n",
      "### old school\n",
      "\n",
      "    $ cython some_pyfile.pyx\n",
      "    \n",
      "    $ gcc -o some_pyfile.so some_pyfile.c"
     ]
    },
    {
     "cell_type": "code",
     "collapsed": false,
     "input": [
      "!cython my_first_cython_file.pyx"
     ],
     "language": "python",
     "metadata": {},
     "outputs": [],
     "prompt_number": 4
    },
    {
     "cell_type": "code",
     "collapsed": false,
     "input": [
      "ls my*"
     ],
     "language": "python",
     "metadata": {},
     "outputs": [
      {
       "output_type": "stream",
       "stream": "stdout",
       "text": [
        "my_first_cython_file.c    my_first_cython_file.pyx  myctest.py\r\n"
       ]
      }
     ],
     "prompt_number": 5
    },
    {
     "cell_type": "code",
     "collapsed": false,
     "input": [
      "!gcc -lpython2.7  -shared -fPIC -o my_first_cython_file.so my_first_cython_file.c -I /Users/jbloom/anaconda/include/python2.7 \n",
      "#/usr/include/python2.7 "
     ],
     "language": "python",
     "metadata": {},
     "outputs": [],
     "prompt_number": 1
    },
    {
     "cell_type": "code",
     "collapsed": false,
     "input": [
      "import my_first_cython_file"
     ],
     "language": "python",
     "metadata": {},
     "outputs": [],
     "prompt_number": "*"
    },
    {
     "cell_type": "code",
     "collapsed": false,
     "input": [
      "my_first_cython_file.test_trig()"
     ],
     "language": "python",
     "metadata": {},
     "outputs": [
      {
       "output_type": "stream",
       "stream": "stdout",
       "text": [
        "some trig functions from C: 1.0 -1.0\n"
       ]
      }
     ],
     "prompt_number": 76
    },
    {
     "cell_type": "code",
     "collapsed": false,
     "input": [
      "# cleanup\n",
      "!rm my_first_cython_file.c my_first_cython_file.so"
     ],
     "language": "python",
     "metadata": {},
     "outputs": [],
     "prompt_number": 77
    },
    {
     "cell_type": "markdown",
     "metadata": {},
     "source": [
      "### pyximport\n",
      "\n",
      "A little bit magical, it will grab and compile .pyx files the first time they are imported, if a compilation is necessary."
     ]
    },
    {
     "cell_type": "code",
     "collapsed": false,
     "input": [
      "import pyximport\n",
      "pyximport.install()\n",
      "\n",
      "import my_first_cython_file"
     ],
     "language": "python",
     "metadata": {},
     "outputs": [],
     "prompt_number": 4
    },
    {
     "cell_type": "code",
     "collapsed": false,
     "input": [
      "my_first_cython_file.test_trig()"
     ],
     "language": "python",
     "metadata": {},
     "outputs": [
      {
       "output_type": "stream",
       "stream": "stdout",
       "text": [
        "some trig functions from C: 1.0 -1.0\n"
       ]
      }
     ],
     "prompt_number": 5
    },
    {
     "cell_type": "markdown",
     "metadata": {},
     "source": [
      "**caveat emptor!**  C extensions **cannot** be reloaded in Python, see [this bug marked as WON'T FIX](http://bugs.python.org/issue1144263), so you have to either *restart the kernel* (i.e. quit python and start it again), or you could use the `%cython` magic..."
     ]
    },
    {
     "cell_type": "markdown",
     "metadata": {},
     "source": [
      "### %cython magic\n",
      "\n",
      "The most magical of all"
     ]
    },
    {
     "cell_type": "code",
     "collapsed": false,
     "input": [
      "%load_ext cythonmagic"
     ],
     "language": "python",
     "metadata": {},
     "outputs": [],
     "prompt_number": 6
    },
    {
     "cell_type": "markdown",
     "metadata": {},
     "source": [
      "After running the `%load` in the next, just put a `%%cython` as the first line of the resulting cell."
     ]
    },
    {
     "cell_type": "code",
     "collapsed": false,
     "input": [
      "%load my_first_cython_file.pyx"
     ],
     "language": "python",
     "metadata": {},
     "outputs": [],
     "prompt_number": 10
    },
    {
     "cell_type": "code",
     "collapsed": false,
     "input": [
      "%%cython\n",
      "cdef extern from \"math.h\":\n",
      "    double cos(double x)\n",
      "    double sin(double x)\n",
      "    double tan(double x)\n",
      "    \n",
      "    double M_PI\n",
      "    \n",
      "def test_trig():\n",
      "    print 'some trig functions from C:', cos(0.5), cos(M_PI)"
     ],
     "language": "python",
     "metadata": {},
     "outputs": [],
     "prompt_number": 15
    },
    {
     "cell_type": "code",
     "collapsed": false,
     "input": [
      "test_trig()"
     ],
     "language": "python",
     "metadata": {},
     "outputs": [
      {
       "output_type": "stream",
       "stream": "stdout",
       "text": [
        "some trig functions from C: 0.87758256189 -1.0\n"
       ]
      }
     ],
     "prompt_number": 16
    },
    {
     "cell_type": "markdown",
     "metadata": {},
     "source": [
      "### Now you know enough about how to wrap C code\n",
      "\n",
      "See also [Calling C functions](http://docs.cython.org/src/tutorial/external.html) and [Using C Libraries](http://docs.cython.org/src/tutorial/clibraries.html) in the Cython documentation.\n",
      "\n",
      "### What about Fortran?\n",
      "\n",
      "[Export the Fortran code to C](http://fortran90.org/src/best-practices.html#interfacing-with-c) and then [tell Cython to pretend it's calling C code](http://fortran90.org/src/best-practices.html#interfacing-with-python):\n",
      "\n",
      "*Notice that we didn\u2019t write any C code \u2014 we only told fortran to use the C calling convention when producing the \".o\" files, and then we pretended in Cython, that the function is implemented in C, but in fact, it is linked in from Fortran directly*"
     ]
    },
    {
     "cell_type": "markdown",
     "metadata": {},
     "source": [
      "# Python is great, but slow at some things...\n",
      "\n",
      "![Dinner with Guido van Rossum, 2009](http://pirsquared.org/bocanova/vga/vga_dinner_final.jpg)\n",
      "\n",
      "Slow things worth knowing about:\n",
      "\n",
      "1. for loops\n",
      "2. function calls"
     ]
    },
    {
     "cell_type": "markdown",
     "metadata": {},
     "source": [
      "## Making your code go faster\n",
      "\n",
      "### \"Premature optimization is the root of all evil\" -- *Don Knuth*\n",
      "\n",
      "0. Use version control and have a test suite\n",
      "0. Profile code (don't just add type declarations everwhere)\n",
      "0. Sprinkle in optimizations (refacoring code as necessary)\n"
     ]
    },
    {
     "cell_type": "code",
     "collapsed": false,
     "input": [
      "%%cython -a\n",
      "def omg(c):\n",
      "    wtf = 0\n",
      "    for a in range(c):\n",
      "        wtf += a\n",
      "        \n",
      "    return wtf\n",
      "\n",
      "def lol(x):\n",
      "    for i in range(x):\n",
      "        omg(x*2)"
     ],
     "language": "python",
     "metadata": {},
     "outputs": [
      {
       "html": [
        "<!-- Generated by Cython 0.19.1 on Thu Nov 21 14:30:12 2013 -->\n",
        "<html>\n",
        "\n",
        "<head>\n",
        "<meta http-equiv=\"Content-Type\" content=\"text/html; charset=utf-8\" />\n",
        "<style type=\"text/css\">\n",
        "\n",
        "body { font-family: courier; font-size: 12; }\n",
        "\n",
        ".code  { font-size: 9; color: #444444; display: none; margin-left: 20px; }\n",
        ".py_c_api  { color: red; }\n",
        ".py_macro_api  { color: #FF7000; }\n",
        ".pyx_c_api  { color: #FF3000; }\n",
        ".pyx_macro_api  { color: #FF7000; }\n",
        ".refnanny  { color: #FFA000; }\n",
        "\n",
        ".error_goto  { color: #FFA000; }\n",
        "\n",
        ".tag  {  }\n",
        "\n",
        ".coerce  { color: #008000; border: 1px dotted #008000 }\n",
        "\n",
        ".py_attr { color: #FF0000; font-weight: bold; }\n",
        ".c_attr  { color: #0000FF; }\n",
        "\n",
        ".py_call { color: #FF0000; font-weight: bold; }\n",
        ".c_call  { color: #0000FF; }\n",
        "\n",
        ".line { margin: 0em }\n",
        "\n",
        "</style>\n",
        "<script>\n",
        "function toggleDiv(id) {\n",
        "    theDiv = document.getElementById(id);\n",
        "    if (theDiv.style.display == 'none') theDiv.style.display = 'block';\n",
        "    else theDiv.style.display = 'none';\n",
        "}\n",
        "</script>\n",
        "</head>\n",
        "        <body>\n",
        "<p>Generated by Cython 0.19.1 on Thu Nov 21 14:30:12 2013\n",
        "<pre class='line' style='background-color: #FFFF62' onclick='toggleDiv(\"line1\")'> 1: def omg(c):</pre>\n",
        "<pre id='line1' class='code' style='background-color: #FFFF62'>\n",
        "/* \"_cython_magic_185ef8ea8e6a377c1f051224aaef613a.pyx\":1\n",
        " * def omg(c):             # <code><</code><code><</code><code><</code><code><</code><code><</code><code><</code><code><</code><code><</code><code><</code><code><</code><code><</code><code><</code><code><</code><code><</code>\n",
        " *     wtf = 0\n",
        " *     for a in range(c):\n",
        " */\n",
        "\n",
        "static PyObject *__pyx_pf_46_cython_magic_185ef8ea8e6a377c1f051224aaef613a_omg(CYTHON_UNUSED PyObject *__pyx_self, PyObject *__pyx_v_c) {\n",
        "  PyObject *__pyx_v_wtf = NULL;\n",
        "  PyObject *__pyx_v_a = NULL;\n",
        "  PyObject *__pyx_r = NULL;\n",
        "  <span class='refnanny'>__Pyx_RefNannyDeclarations</span>\n",
        "  <span class='pyx_c_api'><span class='refnanny'>__Pyx_RefNannySetupContext</span></span>(\"omg\", 0);\n",
        "\n",
        "  /* \"_cython_magic_185ef8ea8e6a377c1f051224aaef613a.pyx\":1\n",
        " * def omg(c):             # <code><</code><code><</code><code><</code><code><</code><code><</code><code><</code><code><</code><code><</code><code><</code><code><</code><code><</code><code><</code><code><</code><code><</code>\n",
        " *     wtf = 0\n",
        " *     for a in range(c):\n",
        " */\n",
        "  __pyx_k_tuple_1 = <span class='py_c_api'>PyTuple_Pack</span>(3, ((PyObject *)__pyx_n_s__c), ((PyObject *)__pyx_n_s__wtf), ((PyObject *)__pyx_n_s__a));<span class='error_goto'> if (unlikely(!__pyx_k_tuple_1)) {__pyx_filename = __pyx_f[0]; __pyx_lineno = 1; __pyx_clineno = __LINE__; goto __pyx_L1_error;}</span>\n",
        "  <span class='pyx_macro_api'><span class='refnanny'>__Pyx_GOTREF</span></span>(__pyx_k_tuple_1);\n",
        "  <span class='pyx_macro_api'><span class='refnanny'>__Pyx_GIVEREF</span></span>(((PyObject *)__pyx_k_tuple_1));\n",
        "\n",
        "  /* \"_cython_magic_185ef8ea8e6a377c1f051224aaef613a.pyx\":1\n",
        " * def omg(c):             # <code><</code><code><</code><code><</code><code><</code><code><</code><code><</code><code><</code><code><</code><code><</code><code><</code><code><</code><code><</code><code><</code><code><</code>\n",
        " *     wtf = 0\n",
        " *     for a in range(c):\n",
        " */\n",
        "  __pyx_t_1 = PyCFunction_NewEx(&__pyx_mdef_46_cython_magic_185ef8ea8e6a377c1f051224aaef613a_1omg, NULL, __pyx_n_s_4);<span class='error_goto'> if (unlikely(!__pyx_t_1)) {__pyx_filename = __pyx_f[0]; __pyx_lineno = 1; __pyx_clineno = __LINE__; goto __pyx_L1_error;}</span>\n",
        "  <span class='pyx_macro_api'><span class='refnanny'>__Pyx_GOTREF</span></span>(__pyx_t_1);\n",
        "  if (<span class='py_c_api'>PyDict_SetItem</span>(__pyx_d, __pyx_n_s__omg, __pyx_t_1) <code><</code> 0)<span class='error_goto'> {__pyx_filename = __pyx_f[0]; __pyx_lineno = 1; __pyx_clineno = __LINE__; goto __pyx_L1_error;}</span>\n",
        "  <span class='pyx_macro_api'>__Pyx_DECREF</span>(__pyx_t_1); __pyx_t_1 = 0;\n",
        "  __pyx_k_codeobj_2 = (PyObject*)__Pyx_<span class='py_c_api'>PyCode_New</span>(1, 0, 3, 0, 0, __pyx_empty_bytes, __pyx_empty_tuple, __pyx_empty_tuple, __pyx_k_tuple_1, __pyx_empty_tuple, __pyx_empty_tuple, __pyx_kp_s_3, __pyx_n_s__omg, 1, __pyx_empty_bytes);<span class='error_goto'> if (unlikely(!__pyx_k_codeobj_2)) {__pyx_filename = __pyx_f[0]; __pyx_lineno = 1; __pyx_clineno = __LINE__; goto __pyx_L1_error;}</span>\n",
        "</pre><pre class='line' style='background-color: #FFFFe7' onclick='toggleDiv(\"line2\")'> 2:     wtf = 0</pre>\n",
        "<pre id='line2' class='code' style='background-color: #FFFFe7'>\n",
        "  /* \"_cython_magic_185ef8ea8e6a377c1f051224aaef613a.pyx\":2\n",
        " * def omg(c):\n",
        " *     wtf = 0             # <code><</code><code><</code><code><</code><code><</code><code><</code><code><</code><code><</code><code><</code><code><</code><code><</code><code><</code><code><</code><code><</code><code><</code>\n",
        " *     for a in range(c):\n",
        " *         wtf += a\n",
        " */\n",
        "  <span class='pyx_macro_api'>__Pyx_INCREF</span>(__pyx_int_0);\n",
        "  __pyx_v_wtf = __pyx_int_0;\n",
        "</pre><pre class='line' style='background-color: #FFFF22' onclick='toggleDiv(\"line3\")'> 3:     for a in range(c):</pre>\n",
        "<pre id='line3' class='code' style='background-color: #FFFF22'>\n",
        "  /* \"_cython_magic_185ef8ea8e6a377c1f051224aaef613a.pyx\":3\n",
        " * def omg(c):\n",
        " *     wtf = 0\n",
        " *     for a in range(c):             # <code><</code><code><</code><code><</code><code><</code><code><</code><code><</code><code><</code><code><</code><code><</code><code><</code><code><</code><code><</code><code><</code><code><</code>\n",
        " *         wtf += a\n",
        " * \n",
        " */\n",
        "  __pyx_t_1 = <span class='py_c_api'>PyTuple_New</span>(1);<span class='error_goto'> if (unlikely(!__pyx_t_1)) {__pyx_filename = __pyx_f[0]; __pyx_lineno = 3; __pyx_clineno = __LINE__; goto __pyx_L1_error;}</span>\n",
        "  <span class='pyx_macro_api'><span class='refnanny'>__Pyx_GOTREF</span></span>(__pyx_t_1);\n",
        "  <span class='pyx_macro_api'>__Pyx_INCREF</span>(__pyx_v_c);\n",
        "  <span class='py_macro_api'>PyTuple_SET_ITEM</span>(__pyx_t_1, 0, __pyx_v_c);\n",
        "  <span class='pyx_macro_api'><span class='refnanny'>__Pyx_GIVEREF</span></span>(__pyx_v_c);\n",
        "  __pyx_t_2 = <span class='py_c_api'>PyObject_Call</span>(__pyx_builtin_range, ((PyObject *)__pyx_t_1), NULL);<span class='error_goto'> if (unlikely(!__pyx_t_2)) {__pyx_filename = __pyx_f[0]; __pyx_lineno = 3; __pyx_clineno = __LINE__; goto __pyx_L1_error;}</span>\n",
        "  <span class='pyx_macro_api'><span class='refnanny'>__Pyx_GOTREF</span></span>(__pyx_t_2);\n",
        "  <span class='pyx_macro_api'>__Pyx_DECREF</span>(((PyObject *)__pyx_t_1)); __pyx_t_1 = 0;\n",
        "  if (<span class='py_c_api'>PyList_CheckExact</span>(__pyx_t_2) || <span class='py_c_api'>PyTuple_CheckExact</span>(__pyx_t_2)) {\n",
        "    __pyx_t_1 = __pyx_t_2; <span class='pyx_macro_api'>__Pyx_INCREF</span>(__pyx_t_1); __pyx_t_3 = 0;\n",
        "    __pyx_t_4 = NULL;\n",
        "  } else {\n",
        "    __pyx_t_3 = -1; __pyx_t_1 = <span class='py_c_api'>PyObject_GetIter</span>(__pyx_t_2);<span class='error_goto'> if (unlikely(!__pyx_t_1)) {__pyx_filename = __pyx_f[0]; __pyx_lineno = 3; __pyx_clineno = __LINE__; goto __pyx_L1_error;}</span>\n",
        "    <span class='pyx_macro_api'><span class='refnanny'>__Pyx_GOTREF</span></span>(__pyx_t_1);\n",
        "    __pyx_t_4 = Py_TYPE(__pyx_t_1)->tp_iternext;\n",
        "  }\n",
        "  <span class='pyx_macro_api'>__Pyx_DECREF</span>(__pyx_t_2); __pyx_t_2 = 0;\n",
        "  for (;;) {\n",
        "    if (!__pyx_t_4 && <span class='py_c_api'>PyList_CheckExact</span>(__pyx_t_1)) {\n",
        "      if (__pyx_t_3 >= <span class='py_macro_api'>PyList_GET_SIZE</span>(__pyx_t_1)) break;\n",
        "      #if CYTHON_COMPILING_IN_CPYTHON\n",
        "      __pyx_t_2 = <span class='py_macro_api'>PyList_GET_ITEM</span>(__pyx_t_1, __pyx_t_3); <span class='pyx_macro_api'>__Pyx_INCREF</span>(__pyx_t_2); __pyx_t_3++;<span class='error_goto'> if (unlikely(0 <code><</code> 0)) {__pyx_filename = __pyx_f[0]; __pyx_lineno = 3; __pyx_clineno = __LINE__; goto __pyx_L1_error;}</span>\n",
        "      #else\n",
        "      __pyx_t_2 = <span class='py_macro_api'>PySequence_ITEM</span>(__pyx_t_1, __pyx_t_3); __pyx_t_3++;<span class='error_goto'> if (unlikely(!__pyx_t_2)) {__pyx_filename = __pyx_f[0]; __pyx_lineno = 3; __pyx_clineno = __LINE__; goto __pyx_L1_error;}</span>\n",
        "      #endif\n",
        "    } else if (!__pyx_t_4 && <span class='py_c_api'>PyTuple_CheckExact</span>(__pyx_t_1)) {\n",
        "      if (__pyx_t_3 >= <span class='py_macro_api'>PyTuple_GET_SIZE</span>(__pyx_t_1)) break;\n",
        "      #if CYTHON_COMPILING_IN_CPYTHON\n",
        "      __pyx_t_2 = <span class='py_macro_api'>PyTuple_GET_ITEM</span>(__pyx_t_1, __pyx_t_3); <span class='pyx_macro_api'>__Pyx_INCREF</span>(__pyx_t_2); __pyx_t_3++;<span class='error_goto'> if (unlikely(0 <code><</code> 0)) {__pyx_filename = __pyx_f[0]; __pyx_lineno = 3; __pyx_clineno = __LINE__; goto __pyx_L1_error;}</span>\n",
        "      #else\n",
        "      __pyx_t_2 = <span class='py_macro_api'>PySequence_ITEM</span>(__pyx_t_1, __pyx_t_3); __pyx_t_3++;<span class='error_goto'> if (unlikely(!__pyx_t_2)) {__pyx_filename = __pyx_f[0]; __pyx_lineno = 3; __pyx_clineno = __LINE__; goto __pyx_L1_error;}</span>\n",
        "      #endif\n",
        "    } else {\n",
        "      __pyx_t_2 = __pyx_t_4(__pyx_t_1);\n",
        "      if (unlikely(!__pyx_t_2)) {\n",
        "        if (<span class='py_c_api'>PyErr_Occurred</span>()) {\n",
        "          if (likely(<span class='py_c_api'>PyErr_ExceptionMatches</span>(PyExc_StopIteration))) <span class='py_c_api'>PyErr_Clear</span>();\n",
        "          else<span class='error_goto'> {__pyx_filename = __pyx_f[0]; __pyx_lineno = 3; __pyx_clineno = __LINE__; goto __pyx_L1_error;}</span>\n",
        "        }\n",
        "        break;\n",
        "      }\n",
        "      <span class='pyx_macro_api'><span class='refnanny'>__Pyx_GOTREF</span></span>(__pyx_t_2);\n",
        "    }\n",
        "    <span class='pyx_macro_api'>__Pyx_XDECREF</span>(__pyx_v_a);\n",
        "    __pyx_v_a = __pyx_t_2;\n",
        "    __pyx_t_2 = 0;\n",
        "</pre><pre class='line' style='background-color: #FFFF96' onclick='toggleDiv(\"line4\")'> 4:         wtf += a</pre>\n",
        "<pre id='line4' class='code' style='background-color: #FFFF96'>\n",
        "    /* \"_cython_magic_185ef8ea8e6a377c1f051224aaef613a.pyx\":4\n",
        " *     wtf = 0\n",
        " *     for a in range(c):\n",
        " *         wtf += a             # <code><</code><code><</code><code><</code><code><</code><code><</code><code><</code><code><</code><code><</code><code><</code><code><</code><code><</code><code><</code><code><</code><code><</code>\n",
        " * \n",
        " *     return wtf\n",
        " */\n",
        "    __pyx_t_2 = <span class='py_c_api'>PyNumber_InPlaceAdd</span>(__pyx_v_wtf, __pyx_v_a);<span class='error_goto'> if (unlikely(!__pyx_t_2)) {__pyx_filename = __pyx_f[0]; __pyx_lineno = 4; __pyx_clineno = __LINE__; goto __pyx_L1_error;}</span>\n",
        "    <span class='pyx_macro_api'><span class='refnanny'>__Pyx_GOTREF</span></span>(__pyx_t_2);\n",
        "    <span class='pyx_macro_api'>__Pyx_DECREF</span>(__pyx_v_wtf);\n",
        "    __pyx_v_wtf = __pyx_t_2;\n",
        "    __pyx_t_2 = 0;\n",
        "  }\n",
        "  <span class='pyx_macro_api'>__Pyx_DECREF</span>(__pyx_t_1); __pyx_t_1 = 0;\n",
        "</pre><pre class='line' style='background-color: #FFFFff' onclick='toggleDiv(\"line5\")'> 5: </pre>\n",
        "<pre id='line5' class='code' style='background-color: #FFFFff'></pre><pre class='line' style='background-color: #FFFF6e' onclick='toggleDiv(\"line6\")'> 6:     return wtf</pre>\n",
        "<pre id='line6' class='code' style='background-color: #FFFF6e'>\n",
        "  /* \"_cython_magic_185ef8ea8e6a377c1f051224aaef613a.pyx\":6\n",
        " *         wtf += a\n",
        " * \n",
        " *     return wtf             # <code><</code><code><</code><code><</code><code><</code><code><</code><code><</code><code><</code><code><</code><code><</code><code><</code><code><</code><code><</code><code><</code><code><</code>\n",
        " * \n",
        " * def lol(x):\n",
        " */\n",
        "  <span class='pyx_macro_api'>__Pyx_XDECREF</span>(__pyx_r);\n",
        "  <span class='pyx_macro_api'>__Pyx_INCREF</span>(__pyx_v_wtf);\n",
        "  __pyx_r = __pyx_v_wtf;\n",
        "  goto __pyx_L0;\n",
        "\n",
        "  __pyx_r = Py_None; <span class='pyx_macro_api'>__Pyx_INCREF</span>(Py_None);\n",
        "  goto __pyx_L0;\n",
        "  __pyx_L1_error:;\n",
        "  <span class='pyx_macro_api'>__Pyx_XDECREF</span>(__pyx_t_1);\n",
        "  <span class='pyx_macro_api'>__Pyx_XDECREF</span>(__pyx_t_2);\n",
        "  <span class='pyx_c_api'>__Pyx_AddTraceback</span>(\"_cython_magic_185ef8ea8e6a377c1f051224aaef613a.omg\", __pyx_clineno, __pyx_lineno, __pyx_filename);\n",
        "  __pyx_r = NULL;\n",
        "  __pyx_L0:;\n",
        "  <span class='pyx_macro_api'>__Pyx_XDECREF</span>(__pyx_v_wtf);\n",
        "  <span class='pyx_macro_api'>__Pyx_XDECREF</span>(__pyx_v_a);\n",
        "  <span class='pyx_macro_api'><span class='refnanny'>__Pyx_XGIVEREF</span></span>(__pyx_r);\n",
        "  <span class='pyx_c_api'><span class='refnanny'>__Pyx_RefNannyFinishContext</span></span>();\n",
        "  return __pyx_r;\n",
        "}\n",
        "\n",
        "/* Python wrapper */\n",
        "static PyObject *__pyx_pw_46_cython_magic_185ef8ea8e6a377c1f051224aaef613a_3lol(PyObject *__pyx_self, PyObject *__pyx_v_x); /*proto*/\n",
        "static PyMethodDef __pyx_mdef_46_cython_magic_185ef8ea8e6a377c1f051224aaef613a_3lol = {<span class='pyx_macro_api'>__Pyx_NAMESTR</span>(\"lol\"), (PyCFunction)__pyx_pw_46_cython_magic_185ef8ea8e6a377c1f051224aaef613a_3lol, METH_O, <span class='pyx_macro_api'>__Pyx_DOCSTR</span>(0)};\n",
        "static PyObject *__pyx_pw_46_cython_magic_185ef8ea8e6a377c1f051224aaef613a_3lol(PyObject *__pyx_self, PyObject *__pyx_v_x) {\n",
        "  PyObject *__pyx_r = 0;\n",
        "  <span class='refnanny'>__Pyx_RefNannyDeclarations</span>\n",
        "  <span class='pyx_c_api'><span class='refnanny'>__Pyx_RefNannySetupContext</span></span>(\"lol (wrapper)\", 0);\n",
        "  __pyx_r = __pyx_pf_46_cython_magic_185ef8ea8e6a377c1f051224aaef613a_2lol(__pyx_self, ((PyObject *)__pyx_v_x));\n",
        "  <span class='pyx_c_api'><span class='refnanny'>__Pyx_RefNannyFinishContext</span></span>();\n",
        "  return __pyx_r;\n",
        "}\n",
        "</pre><pre class='line' style='background-color: #FFFFff' onclick='toggleDiv(\"line7\")'> 7: </pre>\n",
        "<pre id='line7' class='code' style='background-color: #FFFFff'></pre><pre class='line' style='background-color: #FFFF79' onclick='toggleDiv(\"line8\")'> 8: def lol(x):</pre>\n",
        "<pre id='line8' class='code' style='background-color: #FFFF79'>\n",
        "/* \"_cython_magic_185ef8ea8e6a377c1f051224aaef613a.pyx\":8\n",
        " *     return wtf\n",
        " * \n",
        " * def lol(x):             # <code><</code><code><</code><code><</code><code><</code><code><</code><code><</code><code><</code><code><</code><code><</code><code><</code><code><</code><code><</code><code><</code><code><</code>\n",
        " *     for i in range(x):\n",
        " *         omg(x*2)\n",
        " */\n",
        "\n",
        "static PyObject *__pyx_pf_46_cython_magic_185ef8ea8e6a377c1f051224aaef613a_2lol(CYTHON_UNUSED PyObject *__pyx_self, PyObject *__pyx_v_x) {\n",
        "  CYTHON_UNUSED PyObject *__pyx_v_i = NULL;\n",
        "  PyObject *__pyx_r = NULL;\n",
        "  <span class='refnanny'>__Pyx_RefNannyDeclarations</span>\n",
        "  <span class='pyx_c_api'><span class='refnanny'>__Pyx_RefNannySetupContext</span></span>(\"lol\", 0);\n",
        "\n",
        "  /* \"_cython_magic_185ef8ea8e6a377c1f051224aaef613a.pyx\":8\n",
        " *     return wtf\n",
        " * \n",
        " * def lol(x):             # <code><</code><code><</code><code><</code><code><</code><code><</code><code><</code><code><</code><code><</code><code><</code><code><</code><code><</code><code><</code><code><</code><code><</code>\n",
        " *     for i in range(x):\n",
        " *         omg(x*2)\n",
        " */\n",
        "  __pyx_k_tuple_5 = <span class='py_c_api'>PyTuple_Pack</span>(2, ((PyObject *)__pyx_n_s__x), ((PyObject *)__pyx_n_s__i));<span class='error_goto'> if (unlikely(!__pyx_k_tuple_5)) {__pyx_filename = __pyx_f[0]; __pyx_lineno = 8; __pyx_clineno = __LINE__; goto __pyx_L1_error;}</span>\n",
        "  <span class='pyx_macro_api'><span class='refnanny'>__Pyx_GOTREF</span></span>(__pyx_k_tuple_5);\n",
        "  <span class='pyx_macro_api'><span class='refnanny'>__Pyx_GIVEREF</span></span>(((PyObject *)__pyx_k_tuple_5));\n",
        "\n",
        "  /* \"_cython_magic_185ef8ea8e6a377c1f051224aaef613a.pyx\":8\n",
        " *     return wtf\n",
        " * \n",
        " * def lol(x):             # <code><</code><code><</code><code><</code><code><</code><code><</code><code><</code><code><</code><code><</code><code><</code><code><</code><code><</code><code><</code><code><</code><code><</code>\n",
        " *     for i in range(x):\n",
        " *         omg(x*2)\n",
        " */\n",
        "  __pyx_t_1 = PyCFunction_NewEx(&__pyx_mdef_46_cython_magic_185ef8ea8e6a377c1f051224aaef613a_3lol, NULL, __pyx_n_s_4);<span class='error_goto'> if (unlikely(!__pyx_t_1)) {__pyx_filename = __pyx_f[0]; __pyx_lineno = 8; __pyx_clineno = __LINE__; goto __pyx_L1_error;}</span>\n",
        "  <span class='pyx_macro_api'><span class='refnanny'>__Pyx_GOTREF</span></span>(__pyx_t_1);\n",
        "  if (<span class='py_c_api'>PyDict_SetItem</span>(__pyx_d, __pyx_n_s__lol, __pyx_t_1) <code><</code> 0)<span class='error_goto'> {__pyx_filename = __pyx_f[0]; __pyx_lineno = 8; __pyx_clineno = __LINE__; goto __pyx_L1_error;}</span>\n",
        "  <span class='pyx_macro_api'>__Pyx_DECREF</span>(__pyx_t_1); __pyx_t_1 = 0;\n",
        "</pre><pre class='line' style='background-color: #FFFF22' onclick='toggleDiv(\"line9\")'> 9:     for i in range(x):</pre>\n",
        "<pre id='line9' class='code' style='background-color: #FFFF22'>\n",
        "  /* \"_cython_magic_185ef8ea8e6a377c1f051224aaef613a.pyx\":9\n",
        " * \n",
        " * def lol(x):\n",
        " *     for i in range(x):             # <code><</code><code><</code><code><</code><code><</code><code><</code><code><</code><code><</code><code><</code><code><</code><code><</code><code><</code><code><</code><code><</code><code><</code>\n",
        " *         omg(x*2)\n",
        " */\n",
        "  __pyx_t_1 = <span class='py_c_api'>PyTuple_New</span>(1);<span class='error_goto'> if (unlikely(!__pyx_t_1)) {__pyx_filename = __pyx_f[0]; __pyx_lineno = 9; __pyx_clineno = __LINE__; goto __pyx_L1_error;}</span>\n",
        "  <span class='pyx_macro_api'><span class='refnanny'>__Pyx_GOTREF</span></span>(__pyx_t_1);\n",
        "  <span class='pyx_macro_api'>__Pyx_INCREF</span>(__pyx_v_x);\n",
        "  <span class='py_macro_api'>PyTuple_SET_ITEM</span>(__pyx_t_1, 0, __pyx_v_x);\n",
        "  <span class='pyx_macro_api'><span class='refnanny'>__Pyx_GIVEREF</span></span>(__pyx_v_x);\n",
        "  __pyx_t_2 = <span class='py_c_api'>PyObject_Call</span>(__pyx_builtin_range, ((PyObject *)__pyx_t_1), NULL);<span class='error_goto'> if (unlikely(!__pyx_t_2)) {__pyx_filename = __pyx_f[0]; __pyx_lineno = 9; __pyx_clineno = __LINE__; goto __pyx_L1_error;}</span>\n",
        "  <span class='pyx_macro_api'><span class='refnanny'>__Pyx_GOTREF</span></span>(__pyx_t_2);\n",
        "  <span class='pyx_macro_api'>__Pyx_DECREF</span>(((PyObject *)__pyx_t_1)); __pyx_t_1 = 0;\n",
        "  if (<span class='py_c_api'>PyList_CheckExact</span>(__pyx_t_2) || <span class='py_c_api'>PyTuple_CheckExact</span>(__pyx_t_2)) {\n",
        "    __pyx_t_1 = __pyx_t_2; <span class='pyx_macro_api'>__Pyx_INCREF</span>(__pyx_t_1); __pyx_t_3 = 0;\n",
        "    __pyx_t_4 = NULL;\n",
        "  } else {\n",
        "    __pyx_t_3 = -1; __pyx_t_1 = <span class='py_c_api'>PyObject_GetIter</span>(__pyx_t_2);<span class='error_goto'> if (unlikely(!__pyx_t_1)) {__pyx_filename = __pyx_f[0]; __pyx_lineno = 9; __pyx_clineno = __LINE__; goto __pyx_L1_error;}</span>\n",
        "    <span class='pyx_macro_api'><span class='refnanny'>__Pyx_GOTREF</span></span>(__pyx_t_1);\n",
        "    __pyx_t_4 = Py_TYPE(__pyx_t_1)->tp_iternext;\n",
        "  }\n",
        "  <span class='pyx_macro_api'>__Pyx_DECREF</span>(__pyx_t_2); __pyx_t_2 = 0;\n",
        "  for (;;) {\n",
        "    if (!__pyx_t_4 && <span class='py_c_api'>PyList_CheckExact</span>(__pyx_t_1)) {\n",
        "      if (__pyx_t_3 >= <span class='py_macro_api'>PyList_GET_SIZE</span>(__pyx_t_1)) break;\n",
        "      #if CYTHON_COMPILING_IN_CPYTHON\n",
        "      __pyx_t_2 = <span class='py_macro_api'>PyList_GET_ITEM</span>(__pyx_t_1, __pyx_t_3); <span class='pyx_macro_api'>__Pyx_INCREF</span>(__pyx_t_2); __pyx_t_3++;<span class='error_goto'> if (unlikely(0 <code><</code> 0)) {__pyx_filename = __pyx_f[0]; __pyx_lineno = 9; __pyx_clineno = __LINE__; goto __pyx_L1_error;}</span>\n",
        "      #else\n",
        "      __pyx_t_2 = <span class='py_macro_api'>PySequence_ITEM</span>(__pyx_t_1, __pyx_t_3); __pyx_t_3++;<span class='error_goto'> if (unlikely(!__pyx_t_2)) {__pyx_filename = __pyx_f[0]; __pyx_lineno = 9; __pyx_clineno = __LINE__; goto __pyx_L1_error;}</span>\n",
        "      #endif\n",
        "    } else if (!__pyx_t_4 && <span class='py_c_api'>PyTuple_CheckExact</span>(__pyx_t_1)) {\n",
        "      if (__pyx_t_3 >= <span class='py_macro_api'>PyTuple_GET_SIZE</span>(__pyx_t_1)) break;\n",
        "      #if CYTHON_COMPILING_IN_CPYTHON\n",
        "      __pyx_t_2 = <span class='py_macro_api'>PyTuple_GET_ITEM</span>(__pyx_t_1, __pyx_t_3); <span class='pyx_macro_api'>__Pyx_INCREF</span>(__pyx_t_2); __pyx_t_3++;<span class='error_goto'> if (unlikely(0 <code><</code> 0)) {__pyx_filename = __pyx_f[0]; __pyx_lineno = 9; __pyx_clineno = __LINE__; goto __pyx_L1_error;}</span>\n",
        "      #else\n",
        "      __pyx_t_2 = <span class='py_macro_api'>PySequence_ITEM</span>(__pyx_t_1, __pyx_t_3); __pyx_t_3++;<span class='error_goto'> if (unlikely(!__pyx_t_2)) {__pyx_filename = __pyx_f[0]; __pyx_lineno = 9; __pyx_clineno = __LINE__; goto __pyx_L1_error;}</span>\n",
        "      #endif\n",
        "    } else {\n",
        "      __pyx_t_2 = __pyx_t_4(__pyx_t_1);\n",
        "      if (unlikely(!__pyx_t_2)) {\n",
        "        if (<span class='py_c_api'>PyErr_Occurred</span>()) {\n",
        "          if (likely(<span class='py_c_api'>PyErr_ExceptionMatches</span>(PyExc_StopIteration))) <span class='py_c_api'>PyErr_Clear</span>();\n",
        "          else<span class='error_goto'> {__pyx_filename = __pyx_f[0]; __pyx_lineno = 9; __pyx_clineno = __LINE__; goto __pyx_L1_error;}</span>\n",
        "        }\n",
        "        break;\n",
        "      }\n",
        "      <span class='pyx_macro_api'><span class='refnanny'>__Pyx_GOTREF</span></span>(__pyx_t_2);\n",
        "    }\n",
        "    <span class='pyx_macro_api'>__Pyx_XDECREF</span>(__pyx_v_i);\n",
        "    __pyx_v_i = __pyx_t_2;\n",
        "    __pyx_t_2 = 0;\n",
        "</pre><pre class='line' style='background-color: #FFFF3e' onclick='toggleDiv(\"line10\")'> 10:         omg(x*2)</pre>\n",
        "<pre id='line10' class='code' style='background-color: #FFFF3e'>\n",
        "    /* \"_cython_magic_185ef8ea8e6a377c1f051224aaef613a.pyx\":10\n",
        " * def lol(x):\n",
        " *     for i in range(x):\n",
        " *         omg(x*2)             # <code><</code><code><</code><code><</code><code><</code><code><</code><code><</code><code><</code><code><</code><code><</code><code><</code><code><</code><code><</code><code><</code><code><</code>\n",
        " */\n",
        "    __pyx_t_2 = <span class='pyx_c_api'>__Pyx_GetModuleGlobalName</span>(__pyx_n_s__omg);<span class='error_goto'> if (unlikely(!__pyx_t_2)) {__pyx_filename = __pyx_f[0]; __pyx_lineno = 10; __pyx_clineno = __LINE__; goto __pyx_L1_error;}</span>\n",
        "    <span class='pyx_macro_api'><span class='refnanny'>__Pyx_GOTREF</span></span>(__pyx_t_2);\n",
        "    __pyx_t_5 = <span class='py_c_api'>PyNumber_Multiply</span>(__pyx_v_x, __pyx_int_2);<span class='error_goto'> if (unlikely(!__pyx_t_5)) {__pyx_filename = __pyx_f[0]; __pyx_lineno = 10; __pyx_clineno = __LINE__; goto __pyx_L1_error;}</span>\n",
        "    <span class='pyx_macro_api'><span class='refnanny'>__Pyx_GOTREF</span></span>(__pyx_t_5);\n",
        "    __pyx_t_6 = <span class='py_c_api'>PyTuple_New</span>(1);<span class='error_goto'> if (unlikely(!__pyx_t_6)) {__pyx_filename = __pyx_f[0]; __pyx_lineno = 10; __pyx_clineno = __LINE__; goto __pyx_L1_error;}</span>\n",
        "    <span class='pyx_macro_api'><span class='refnanny'>__Pyx_GOTREF</span></span>(__pyx_t_6);\n",
        "    <span class='py_macro_api'>PyTuple_SET_ITEM</span>(__pyx_t_6, 0, __pyx_t_5);\n",
        "    <span class='pyx_macro_api'><span class='refnanny'>__Pyx_GIVEREF</span></span>(__pyx_t_5);\n",
        "    __pyx_t_5 = 0;\n",
        "    __pyx_t_5 = <span class='py_c_api'>PyObject_Call</span>(__pyx_t_2, ((PyObject *)__pyx_t_6), NULL);<span class='error_goto'> if (unlikely(!__pyx_t_5)) {__pyx_filename = __pyx_f[0]; __pyx_lineno = 10; __pyx_clineno = __LINE__; goto __pyx_L1_error;}</span>\n",
        "    <span class='pyx_macro_api'><span class='refnanny'>__Pyx_GOTREF</span></span>(__pyx_t_5);\n",
        "    <span class='pyx_macro_api'>__Pyx_DECREF</span>(__pyx_t_2); __pyx_t_2 = 0;\n",
        "    <span class='pyx_macro_api'>__Pyx_DECREF</span>(((PyObject *)__pyx_t_6)); __pyx_t_6 = 0;\n",
        "    <span class='pyx_macro_api'>__Pyx_DECREF</span>(__pyx_t_5); __pyx_t_5 = 0;\n",
        "  }\n",
        "  <span class='pyx_macro_api'>__Pyx_DECREF</span>(__pyx_t_1); __pyx_t_1 = 0;\n",
        "\n",
        "  __pyx_r = Py_None; <span class='pyx_macro_api'>__Pyx_INCREF</span>(Py_None);\n",
        "  goto __pyx_L0;\n",
        "  __pyx_L1_error:;\n",
        "  <span class='pyx_macro_api'>__Pyx_XDECREF</span>(__pyx_t_1);\n",
        "  <span class='pyx_macro_api'>__Pyx_XDECREF</span>(__pyx_t_2);\n",
        "  <span class='pyx_macro_api'>__Pyx_XDECREF</span>(__pyx_t_5);\n",
        "  <span class='pyx_macro_api'>__Pyx_XDECREF</span>(__pyx_t_6);\n",
        "  <span class='pyx_c_api'>__Pyx_AddTraceback</span>(\"_cython_magic_185ef8ea8e6a377c1f051224aaef613a.lol\", __pyx_clineno, __pyx_lineno, __pyx_filename);\n",
        "  __pyx_r = NULL;\n",
        "  __pyx_L0:;\n",
        "  <span class='pyx_macro_api'>__Pyx_XDECREF</span>(__pyx_v_i);\n",
        "  <span class='pyx_macro_api'><span class='refnanny'>__Pyx_XGIVEREF</span></span>(__pyx_r);\n",
        "  <span class='pyx_c_api'><span class='refnanny'>__Pyx_RefNannyFinishContext</span></span>();\n",
        "  return __pyx_r;\n",
        "}\n",
        "</pre></body></html>"
       ],
       "metadata": {},
       "output_type": "pyout",
       "prompt_number": 22,
       "text": [
        "<IPython.core.display.HTML at 0x106264b50>"
       ]
      }
     ],
     "prompt_number": 22
    },
    {
     "cell_type": "markdown",
     "metadata": {},
     "source": [
      "The color allows us to see the density of the C code generated for a given line of Python. These lines will take longer to run, but we need not eliminate all of the unoptimized lines in order to get performance. We'll talk about profiling soon to help us find which lines are worth it."
     ]
    },
    {
     "cell_type": "code",
     "collapsed": false,
     "input": [
      "%timeit lol(5000)"
     ],
     "language": "python",
     "metadata": {},
     "outputs": [
      {
       "output_type": "stream",
       "stream": "stdout",
       "text": [
        "1 loops, best of 3: 1.33 s per loop\n"
       ]
      }
     ],
     "prompt_number": 19
    },
    {
     "cell_type": "code",
     "collapsed": false,
     "input": [
      "%%cython -a\n",
      "cdef omg(int c):\n",
      "    cdef int wtf = 0\n",
      "    cdef int a\n",
      "    for a in range(c):\n",
      "        wtf += a\n",
      "        \n",
      "    return wtf\n",
      "\n",
      "def lol(x):\n",
      "    for i in range(x):\n",
      "        omg(x*2)"
     ],
     "language": "python",
     "metadata": {},
     "outputs": [
      {
       "html": [
        "<!-- Generated by Cython 0.19.1 on Thu Nov 21 14:30:12 2013 -->\n",
        "<html>\n",
        "\n",
        "<head>\n",
        "<meta http-equiv=\"Content-Type\" content=\"text/html; charset=utf-8\" />\n",
        "<style type=\"text/css\">\n",
        "\n",
        "body { font-family: courier; font-size: 12; }\n",
        "\n",
        ".code  { font-size: 9; color: #444444; display: none; margin-left: 20px; }\n",
        ".py_c_api  { color: red; }\n",
        ".py_macro_api  { color: #FF7000; }\n",
        ".pyx_c_api  { color: #FF3000; }\n",
        ".pyx_macro_api  { color: #FF7000; }\n",
        ".refnanny  { color: #FFA000; }\n",
        "\n",
        ".error_goto  { color: #FFA000; }\n",
        "\n",
        ".tag  {  }\n",
        "\n",
        ".coerce  { color: #008000; border: 1px dotted #008000 }\n",
        "\n",
        ".py_attr { color: #FF0000; font-weight: bold; }\n",
        ".c_attr  { color: #0000FF; }\n",
        "\n",
        ".py_call { color: #FF0000; font-weight: bold; }\n",
        ".c_call  { color: #0000FF; }\n",
        "\n",
        ".line { margin: 0em }\n",
        "\n",
        "</style>\n",
        "<script>\n",
        "function toggleDiv(id) {\n",
        "    theDiv = document.getElementById(id);\n",
        "    if (theDiv.style.display == 'none') theDiv.style.display = 'block';\n",
        "    else theDiv.style.display = 'none';\n",
        "}\n",
        "</script>\n",
        "</head>\n",
        "        <body>\n",
        "<p>Generated by Cython 0.19.1 on Thu Nov 21 14:30:12 2013\n",
        "<pre class='line' style='background-color: #FFFFff' onclick='toggleDiv(\"line1\")'> 1: cdef omg(int c):</pre>\n",
        "<pre id='line1' class='code' style='background-color: #FFFFff'>\n",
        "/* \"_cython_magic_5657dc8911f9298069740abae6cb02f6.pyx\":1\n",
        " * cdef omg(int c):             # <code><</code><code><</code><code><</code><code><</code><code><</code><code><</code><code><</code><code><</code><code><</code><code><</code><code><</code><code><</code><code><</code><code><</code>\n",
        " *     cdef int wtf = 0\n",
        " *     cdef int a\n",
        " */\n",
        "\n",
        "static PyObject *__pyx_f_46_cython_magic_5657dc8911f9298069740abae6cb02f6_omg(int __pyx_v_c) {\n",
        "  int __pyx_v_wtf;\n",
        "  int __pyx_v_a;\n",
        "  PyObject *__pyx_r = NULL;\n",
        "  <span class='refnanny'>__Pyx_RefNannyDeclarations</span>\n",
        "  <span class='pyx_c_api'><span class='refnanny'>__Pyx_RefNannySetupContext</span></span>(\"omg\", 0);\n",
        "</pre><pre class='line' style='background-color: #FFFFff' onclick='toggleDiv(\"line2\")'> 2:     cdef int wtf = 0</pre>\n",
        "<pre id='line2' class='code' style='background-color: #FFFFff'>\n",
        "  /* \"_cython_magic_5657dc8911f9298069740abae6cb02f6.pyx\":2\n",
        " * cdef omg(int c):\n",
        " *     cdef int wtf = 0             # <code><</code><code><</code><code><</code><code><</code><code><</code><code><</code><code><</code><code><</code><code><</code><code><</code><code><</code><code><</code><code><</code><code><</code>\n",
        " *     cdef int a\n",
        " *     for a in range(c):\n",
        " */\n",
        "  __pyx_v_wtf = 0;\n",
        "</pre><pre class='line' style='background-color: #FFFFff' onclick='toggleDiv(\"line3\")'> 3:     cdef int a</pre>\n",
        "<pre id='line3' class='code' style='background-color: #FFFFff'></pre><pre class='line' style='background-color: #FFFFff' onclick='toggleDiv(\"line4\")'> 4:     for a in range(c):</pre>\n",
        "<pre id='line4' class='code' style='background-color: #FFFFff'>\n",
        "  /* \"_cython_magic_5657dc8911f9298069740abae6cb02f6.pyx\":4\n",
        " *     cdef int wtf = 0\n",
        " *     cdef int a\n",
        " *     for a in range(c):             # <code><</code><code><</code><code><</code><code><</code><code><</code><code><</code><code><</code><code><</code><code><</code><code><</code><code><</code><code><</code><code><</code><code><</code>\n",
        " *         wtf += a\n",
        " * \n",
        " */\n",
        "  __pyx_t_1 = __pyx_v_c;\n",
        "  for (__pyx_t_2 = 0; __pyx_t_2 <code><</code> __pyx_t_1; __pyx_t_2+=1) {\n",
        "    __pyx_v_a = __pyx_t_2;\n",
        "</pre><pre class='line' style='background-color: #FFFFff' onclick='toggleDiv(\"line5\")'> 5:         wtf += a</pre>\n",
        "<pre id='line5' class='code' style='background-color: #FFFFff'>\n",
        "    /* \"_cython_magic_5657dc8911f9298069740abae6cb02f6.pyx\":5\n",
        " *     cdef int a\n",
        " *     for a in range(c):\n",
        " *         wtf += a             # <code><</code><code><</code><code><</code><code><</code><code><</code><code><</code><code><</code><code><</code><code><</code><code><</code><code><</code><code><</code><code><</code><code><</code>\n",
        " * \n",
        " *     return wtf\n",
        " */\n",
        "    __pyx_v_wtf = (__pyx_v_wtf + __pyx_v_a);\n",
        "  }\n",
        "</pre><pre class='line' style='background-color: #FFFFff' onclick='toggleDiv(\"line6\")'> 6: </pre>\n",
        "<pre id='line6' class='code' style='background-color: #FFFFff'></pre><pre class='line' style='background-color: #FFFF6a' onclick='toggleDiv(\"line7\")'> 7:     return wtf</pre>\n",
        "<pre id='line7' class='code' style='background-color: #FFFF6a'>\n",
        "  /* \"_cython_magic_5657dc8911f9298069740abae6cb02f6.pyx\":7\n",
        " *         wtf += a\n",
        " * \n",
        " *     return wtf             # <code><</code><code><</code><code><</code><code><</code><code><</code><code><</code><code><</code><code><</code><code><</code><code><</code><code><</code><code><</code><code><</code><code><</code>\n",
        " * \n",
        " * def lol(x):\n",
        " */\n",
        "  <span class='pyx_macro_api'>__Pyx_XDECREF</span>(__pyx_r);\n",
        "  __pyx_t_3 = <span class='py_c_api'>PyInt_FromLong</span>(__pyx_v_wtf);<span class='error_goto'> if (unlikely(!__pyx_t_3)) {__pyx_filename = __pyx_f[0]; __pyx_lineno = 7; __pyx_clineno = __LINE__; goto __pyx_L1_error;}</span>\n",
        "  <span class='pyx_macro_api'><span class='refnanny'>__Pyx_GOTREF</span></span>(__pyx_t_3);\n",
        "  __pyx_r = __pyx_t_3;\n",
        "  __pyx_t_3 = 0;\n",
        "  goto __pyx_L0;\n",
        "\n",
        "  __pyx_r = Py_None; <span class='pyx_macro_api'>__Pyx_INCREF</span>(Py_None);\n",
        "  goto __pyx_L0;\n",
        "  __pyx_L1_error:;\n",
        "  <span class='pyx_macro_api'>__Pyx_XDECREF</span>(__pyx_t_3);\n",
        "  <span class='pyx_c_api'>__Pyx_AddTraceback</span>(\"_cython_magic_5657dc8911f9298069740abae6cb02f6.omg\", __pyx_clineno, __pyx_lineno, __pyx_filename);\n",
        "  __pyx_r = 0;\n",
        "  __pyx_L0:;\n",
        "  <span class='pyx_macro_api'><span class='refnanny'>__Pyx_XGIVEREF</span></span>(__pyx_r);\n",
        "  <span class='pyx_c_api'><span class='refnanny'>__Pyx_RefNannyFinishContext</span></span>();\n",
        "  return __pyx_r;\n",
        "}\n",
        "\n",
        "/* Python wrapper */\n",
        "static PyObject *__pyx_pw_46_cython_magic_5657dc8911f9298069740abae6cb02f6_1lol(PyObject *__pyx_self, PyObject *__pyx_v_x); /*proto*/\n",
        "static PyMethodDef __pyx_mdef_46_cython_magic_5657dc8911f9298069740abae6cb02f6_1lol = {<span class='pyx_macro_api'>__Pyx_NAMESTR</span>(\"lol\"), (PyCFunction)__pyx_pw_46_cython_magic_5657dc8911f9298069740abae6cb02f6_1lol, METH_O, <span class='pyx_macro_api'>__Pyx_DOCSTR</span>(0)};\n",
        "static PyObject *__pyx_pw_46_cython_magic_5657dc8911f9298069740abae6cb02f6_1lol(PyObject *__pyx_self, PyObject *__pyx_v_x) {\n",
        "  PyObject *__pyx_r = 0;\n",
        "  <span class='refnanny'>__Pyx_RefNannyDeclarations</span>\n",
        "  <span class='pyx_c_api'><span class='refnanny'>__Pyx_RefNannySetupContext</span></span>(\"lol (wrapper)\", 0);\n",
        "  __pyx_r = __pyx_pf_46_cython_magic_5657dc8911f9298069740abae6cb02f6_lol(__pyx_self, ((PyObject *)__pyx_v_x));\n",
        "  <span class='pyx_c_api'><span class='refnanny'>__Pyx_RefNannyFinishContext</span></span>();\n",
        "  return __pyx_r;\n",
        "}\n",
        "</pre><pre class='line' style='background-color: #FFFFff' onclick='toggleDiv(\"line8\")'> 8: </pre>\n",
        "<pre id='line8' class='code' style='background-color: #FFFFff'></pre><pre class='line' style='background-color: #FFFF79' onclick='toggleDiv(\"line9\")'> 9: def lol(x):</pre>\n",
        "<pre id='line9' class='code' style='background-color: #FFFF79'>\n",
        "/* \"_cython_magic_5657dc8911f9298069740abae6cb02f6.pyx\":9\n",
        " *     return wtf\n",
        " * \n",
        " * def lol(x):             # <code><</code><code><</code><code><</code><code><</code><code><</code><code><</code><code><</code><code><</code><code><</code><code><</code><code><</code><code><</code><code><</code><code><</code>\n",
        " *     for i in range(x):\n",
        " *         omg(x*2)\n",
        " */\n",
        "\n",
        "static PyObject *__pyx_pf_46_cython_magic_5657dc8911f9298069740abae6cb02f6_lol(CYTHON_UNUSED PyObject *__pyx_self, PyObject *__pyx_v_x) {\n",
        "  CYTHON_UNUSED PyObject *__pyx_v_i = NULL;\n",
        "  PyObject *__pyx_r = NULL;\n",
        "  <span class='refnanny'>__Pyx_RefNannyDeclarations</span>\n",
        "  <span class='pyx_c_api'><span class='refnanny'>__Pyx_RefNannySetupContext</span></span>(\"lol\", 0);\n",
        "\n",
        "  /* \"_cython_magic_5657dc8911f9298069740abae6cb02f6.pyx\":9\n",
        " *     return wtf\n",
        " * \n",
        " * def lol(x):             # <code><</code><code><</code><code><</code><code><</code><code><</code><code><</code><code><</code><code><</code><code><</code><code><</code><code><</code><code><</code><code><</code><code><</code>\n",
        " *     for i in range(x):\n",
        " *         omg(x*2)\n",
        " */\n",
        "  __pyx_k_tuple_1 = <span class='py_c_api'>PyTuple_Pack</span>(2, ((PyObject *)__pyx_n_s__x), ((PyObject *)__pyx_n_s__i));<span class='error_goto'> if (unlikely(!__pyx_k_tuple_1)) {__pyx_filename = __pyx_f[0]; __pyx_lineno = 9; __pyx_clineno = __LINE__; goto __pyx_L1_error;}</span>\n",
        "  <span class='pyx_macro_api'><span class='refnanny'>__Pyx_GOTREF</span></span>(__pyx_k_tuple_1);\n",
        "  <span class='pyx_macro_api'><span class='refnanny'>__Pyx_GIVEREF</span></span>(((PyObject *)__pyx_k_tuple_1));\n",
        "\n",
        "  /* \"_cython_magic_5657dc8911f9298069740abae6cb02f6.pyx\":9\n",
        " *     return wtf\n",
        " * \n",
        " * def lol(x):             # <code><</code><code><</code><code><</code><code><</code><code><</code><code><</code><code><</code><code><</code><code><</code><code><</code><code><</code><code><</code><code><</code><code><</code>\n",
        " *     for i in range(x):\n",
        " *         omg(x*2)\n",
        " */\n",
        "  __pyx_t_1 = PyCFunction_NewEx(&__pyx_mdef_46_cython_magic_5657dc8911f9298069740abae6cb02f6_1lol, NULL, __pyx_n_s_4);<span class='error_goto'> if (unlikely(!__pyx_t_1)) {__pyx_filename = __pyx_f[0]; __pyx_lineno = 9; __pyx_clineno = __LINE__; goto __pyx_L1_error;}</span>\n",
        "  <span class='pyx_macro_api'><span class='refnanny'>__Pyx_GOTREF</span></span>(__pyx_t_1);\n",
        "  if (<span class='py_c_api'>PyDict_SetItem</span>(__pyx_d, __pyx_n_s__lol, __pyx_t_1) <code><</code> 0)<span class='error_goto'> {__pyx_filename = __pyx_f[0]; __pyx_lineno = 9; __pyx_clineno = __LINE__; goto __pyx_L1_error;}</span>\n",
        "  <span class='pyx_macro_api'>__Pyx_DECREF</span>(__pyx_t_1); __pyx_t_1 = 0;\n",
        "</pre><pre class='line' style='background-color: #FFFF22' onclick='toggleDiv(\"line10\")'> 10:     for i in range(x):</pre>\n",
        "<pre id='line10' class='code' style='background-color: #FFFF22'>\n",
        "  /* \"_cython_magic_5657dc8911f9298069740abae6cb02f6.pyx\":10\n",
        " * \n",
        " * def lol(x):\n",
        " *     for i in range(x):             # <code><</code><code><</code><code><</code><code><</code><code><</code><code><</code><code><</code><code><</code><code><</code><code><</code><code><</code><code><</code><code><</code><code><</code>\n",
        " *         omg(x*2)\n",
        " */\n",
        "  __pyx_t_1 = <span class='py_c_api'>PyTuple_New</span>(1);<span class='error_goto'> if (unlikely(!__pyx_t_1)) {__pyx_filename = __pyx_f[0]; __pyx_lineno = 10; __pyx_clineno = __LINE__; goto __pyx_L1_error;}</span>\n",
        "  <span class='pyx_macro_api'><span class='refnanny'>__Pyx_GOTREF</span></span>(__pyx_t_1);\n",
        "  <span class='pyx_macro_api'>__Pyx_INCREF</span>(__pyx_v_x);\n",
        "  <span class='py_macro_api'>PyTuple_SET_ITEM</span>(__pyx_t_1, 0, __pyx_v_x);\n",
        "  <span class='pyx_macro_api'><span class='refnanny'>__Pyx_GIVEREF</span></span>(__pyx_v_x);\n",
        "  __pyx_t_2 = <span class='py_c_api'>PyObject_Call</span>(__pyx_builtin_range, ((PyObject *)__pyx_t_1), NULL);<span class='error_goto'> if (unlikely(!__pyx_t_2)) {__pyx_filename = __pyx_f[0]; __pyx_lineno = 10; __pyx_clineno = __LINE__; goto __pyx_L1_error;}</span>\n",
        "  <span class='pyx_macro_api'><span class='refnanny'>__Pyx_GOTREF</span></span>(__pyx_t_2);\n",
        "  <span class='pyx_macro_api'>__Pyx_DECREF</span>(((PyObject *)__pyx_t_1)); __pyx_t_1 = 0;\n",
        "  if (<span class='py_c_api'>PyList_CheckExact</span>(__pyx_t_2) || <span class='py_c_api'>PyTuple_CheckExact</span>(__pyx_t_2)) {\n",
        "    __pyx_t_1 = __pyx_t_2; <span class='pyx_macro_api'>__Pyx_INCREF</span>(__pyx_t_1); __pyx_t_3 = 0;\n",
        "    __pyx_t_4 = NULL;\n",
        "  } else {\n",
        "    __pyx_t_3 = -1; __pyx_t_1 = <span class='py_c_api'>PyObject_GetIter</span>(__pyx_t_2);<span class='error_goto'> if (unlikely(!__pyx_t_1)) {__pyx_filename = __pyx_f[0]; __pyx_lineno = 10; __pyx_clineno = __LINE__; goto __pyx_L1_error;}</span>\n",
        "    <span class='pyx_macro_api'><span class='refnanny'>__Pyx_GOTREF</span></span>(__pyx_t_1);\n",
        "    __pyx_t_4 = Py_TYPE(__pyx_t_1)->tp_iternext;\n",
        "  }\n",
        "  <span class='pyx_macro_api'>__Pyx_DECREF</span>(__pyx_t_2); __pyx_t_2 = 0;\n",
        "  for (;;) {\n",
        "    if (!__pyx_t_4 && <span class='py_c_api'>PyList_CheckExact</span>(__pyx_t_1)) {\n",
        "      if (__pyx_t_3 >= <span class='py_macro_api'>PyList_GET_SIZE</span>(__pyx_t_1)) break;\n",
        "      #if CYTHON_COMPILING_IN_CPYTHON\n",
        "      __pyx_t_2 = <span class='py_macro_api'>PyList_GET_ITEM</span>(__pyx_t_1, __pyx_t_3); <span class='pyx_macro_api'>__Pyx_INCREF</span>(__pyx_t_2); __pyx_t_3++;<span class='error_goto'> if (unlikely(0 <code><</code> 0)) {__pyx_filename = __pyx_f[0]; __pyx_lineno = 10; __pyx_clineno = __LINE__; goto __pyx_L1_error;}</span>\n",
        "      #else\n",
        "      __pyx_t_2 = <span class='py_macro_api'>PySequence_ITEM</span>(__pyx_t_1, __pyx_t_3); __pyx_t_3++;<span class='error_goto'> if (unlikely(!__pyx_t_2)) {__pyx_filename = __pyx_f[0]; __pyx_lineno = 10; __pyx_clineno = __LINE__; goto __pyx_L1_error;}</span>\n",
        "      #endif\n",
        "    } else if (!__pyx_t_4 && <span class='py_c_api'>PyTuple_CheckExact</span>(__pyx_t_1)) {\n",
        "      if (__pyx_t_3 >= <span class='py_macro_api'>PyTuple_GET_SIZE</span>(__pyx_t_1)) break;\n",
        "      #if CYTHON_COMPILING_IN_CPYTHON\n",
        "      __pyx_t_2 = <span class='py_macro_api'>PyTuple_GET_ITEM</span>(__pyx_t_1, __pyx_t_3); <span class='pyx_macro_api'>__Pyx_INCREF</span>(__pyx_t_2); __pyx_t_3++;<span class='error_goto'> if (unlikely(0 <code><</code> 0)) {__pyx_filename = __pyx_f[0]; __pyx_lineno = 10; __pyx_clineno = __LINE__; goto __pyx_L1_error;}</span>\n",
        "      #else\n",
        "      __pyx_t_2 = <span class='py_macro_api'>PySequence_ITEM</span>(__pyx_t_1, __pyx_t_3); __pyx_t_3++;<span class='error_goto'> if (unlikely(!__pyx_t_2)) {__pyx_filename = __pyx_f[0]; __pyx_lineno = 10; __pyx_clineno = __LINE__; goto __pyx_L1_error;}</span>\n",
        "      #endif\n",
        "    } else {\n",
        "      __pyx_t_2 = __pyx_t_4(__pyx_t_1);\n",
        "      if (unlikely(!__pyx_t_2)) {\n",
        "        if (<span class='py_c_api'>PyErr_Occurred</span>()) {\n",
        "          if (likely(<span class='py_c_api'>PyErr_ExceptionMatches</span>(PyExc_StopIteration))) <span class='py_c_api'>PyErr_Clear</span>();\n",
        "          else<span class='error_goto'> {__pyx_filename = __pyx_f[0]; __pyx_lineno = 10; __pyx_clineno = __LINE__; goto __pyx_L1_error;}</span>\n",
        "        }\n",
        "        break;\n",
        "      }\n",
        "      <span class='pyx_macro_api'><span class='refnanny'>__Pyx_GOTREF</span></span>(__pyx_t_2);\n",
        "    }\n",
        "    <span class='pyx_macro_api'>__Pyx_XDECREF</span>(__pyx_v_i);\n",
        "    __pyx_v_i = __pyx_t_2;\n",
        "    __pyx_t_2 = 0;\n",
        "</pre><pre class='line' style='background-color: #FFFF48' onclick='toggleDiv(\"line11\")'> 11:         omg(x*2)</pre>\n",
        "<pre id='line11' class='code' style='background-color: #FFFF48'>\n",
        "    /* \"_cython_magic_5657dc8911f9298069740abae6cb02f6.pyx\":11\n",
        " * def lol(x):\n",
        " *     for i in range(x):\n",
        " *         omg(x*2)             # <code><</code><code><</code><code><</code><code><</code><code><</code><code><</code><code><</code><code><</code><code><</code><code><</code><code><</code><code><</code><code><</code><code><</code>\n",
        " */\n",
        "    __pyx_t_2 = <span class='py_c_api'>PyNumber_Multiply</span>(__pyx_v_x, __pyx_int_2);<span class='error_goto'> if (unlikely(!__pyx_t_2)) {__pyx_filename = __pyx_f[0]; __pyx_lineno = 11; __pyx_clineno = __LINE__; goto __pyx_L1_error;}</span>\n",
        "    <span class='pyx_macro_api'><span class='refnanny'>__Pyx_GOTREF</span></span>(__pyx_t_2);\n",
        "    __pyx_t_5 = __Pyx_<span class='py_c_api'>PyInt_AsInt</span>(__pyx_t_2);<span class='error_goto'> if (unlikely((__pyx_t_5 == (int)-1) && <span class='py_c_api'>PyErr_Occurred</span>())) {__pyx_filename = __pyx_f[0]; __pyx_lineno = 11; __pyx_clineno = __LINE__; goto __pyx_L1_error;}</span>\n",
        "    <span class='pyx_macro_api'>__Pyx_DECREF</span>(__pyx_t_2); __pyx_t_2 = 0;\n",
        "    __pyx_t_2 = __pyx_f_46_cython_magic_5657dc8911f9298069740abae6cb02f6_omg(__pyx_t_5);<span class='error_goto'> if (unlikely(!__pyx_t_2)) {__pyx_filename = __pyx_f[0]; __pyx_lineno = 11; __pyx_clineno = __LINE__; goto __pyx_L1_error;}</span>\n",
        "    <span class='pyx_macro_api'><span class='refnanny'>__Pyx_GOTREF</span></span>(__pyx_t_2);\n",
        "    <span class='pyx_macro_api'>__Pyx_DECREF</span>(__pyx_t_2); __pyx_t_2 = 0;\n",
        "  }\n",
        "  <span class='pyx_macro_api'>__Pyx_DECREF</span>(__pyx_t_1); __pyx_t_1 = 0;\n",
        "\n",
        "  __pyx_r = Py_None; <span class='pyx_macro_api'>__Pyx_INCREF</span>(Py_None);\n",
        "  goto __pyx_L0;\n",
        "  __pyx_L1_error:;\n",
        "  <span class='pyx_macro_api'>__Pyx_XDECREF</span>(__pyx_t_1);\n",
        "  <span class='pyx_macro_api'>__Pyx_XDECREF</span>(__pyx_t_2);\n",
        "  <span class='pyx_c_api'>__Pyx_AddTraceback</span>(\"_cython_magic_5657dc8911f9298069740abae6cb02f6.lol\", __pyx_clineno, __pyx_lineno, __pyx_filename);\n",
        "  __pyx_r = NULL;\n",
        "  __pyx_L0:;\n",
        "  <span class='pyx_macro_api'>__Pyx_XDECREF</span>(__pyx_v_i);\n",
        "  <span class='pyx_macro_api'><span class='refnanny'>__Pyx_XGIVEREF</span></span>(__pyx_r);\n",
        "  <span class='pyx_c_api'><span class='refnanny'>__Pyx_RefNannyFinishContext</span></span>();\n",
        "  return __pyx_r;\n",
        "}\n",
        "</pre></body></html>"
       ],
       "metadata": {},
       "output_type": "pyout",
       "prompt_number": 24,
       "text": [
        "<IPython.core.display.HTML at 0x106264dd0>"
       ]
      }
     ],
     "prompt_number": 24
    },
    {
     "cell_type": "code",
     "collapsed": false,
     "input": [
      "%timeit lol(5000)"
     ],
     "language": "python",
     "metadata": {},
     "outputs": [
      {
       "output_type": "stream",
       "stream": "stdout",
       "text": [
        "10000 loops, best of 3: 175 \u00b5s per loop\n"
       ]
      }
     ],
     "prompt_number": 25
    },
    {
     "cell_type": "markdown",
     "metadata": {},
     "source": [
      "### Exercise\n",
      "\n",
      "1. Here's a python function that performs an elementwise computations:\n",
      "\n",
      "   $y_i = x_i^3 - 4x_i + 2$\n",
      "   \n",
      "2. Write a Cython equivalent. "
     ]
    },
    {
     "cell_type": "code",
     "collapsed": false,
     "input": [
      "%%cython\n",
      "import numpy as np\n",
      "cdef my_poly(double [:] x):\n",
      "    out = np.zeros_like(x)\n",
      "    L = x.shape[0]\n",
      "\n",
      "    for i in range(L):\n",
      "        out[i] = x[i] * x[i] * x[i] - 4 * x[i] + 2\n",
      "\n",
      "    return np.asarray(out)\n",
      "\n",
      "def other_poly(x):\n",
      "    return my_poly(x)"
     ],
     "language": "python",
     "metadata": {},
     "outputs": [],
     "prompt_number": 51
    },
    {
     "cell_type": "code",
     "collapsed": false,
     "input": [
      "import numpy as np\n",
      "x = np.linspace(-10,10,100000)\n",
      "%timeit my_poly(x)"
     ],
     "language": "python",
     "metadata": {},
     "outputs": [
      {
       "output_type": "stream",
       "stream": "stdout",
       "text": [
        "1 loops, best of 3: 363 ms per loop\n"
       ]
      }
     ],
     "prompt_number": 29
    },
    {
     "cell_type": "code",
     "collapsed": false,
     "input": [
      "%%cython -a\n",
      "import numpy as np\n",
      "\n",
      "def blah(float y):\n",
      "    return y * y * y - 4 * y + 2\n",
      "    \n",
      "def my_poly(x):\n",
      "    out = np.zeros_like(x)\n",
      "    L = x.shape[0]\n",
      "\n",
      "    for i in range(L,x):\n",
      "        out[i] = blah(x[i])\n",
      "\n",
      "    return np.asarray(out)"
     ],
     "language": "python",
     "metadata": {},
     "outputs": [
      {
       "html": [
        "<!-- Generated by Cython 0.19.1 on Thu Nov 21 14:30:12 2013 -->\n",
        "<html>\n",
        "\n",
        "<head>\n",
        "<meta http-equiv=\"Content-Type\" content=\"text/html; charset=utf-8\" />\n",
        "<style type=\"text/css\">\n",
        "\n",
        "body { font-family: courier; font-size: 12; }\n",
        "\n",
        ".code  { font-size: 9; color: #444444; display: none; margin-left: 20px; }\n",
        ".py_c_api  { color: red; }\n",
        ".py_macro_api  { color: #FF7000; }\n",
        ".pyx_c_api  { color: #FF3000; }\n",
        ".pyx_macro_api  { color: #FF7000; }\n",
        ".refnanny  { color: #FFA000; }\n",
        "\n",
        ".error_goto  { color: #FFA000; }\n",
        "\n",
        ".tag  {  }\n",
        "\n",
        ".coerce  { color: #008000; border: 1px dotted #008000 }\n",
        "\n",
        ".py_attr { color: #FF0000; font-weight: bold; }\n",
        ".c_attr  { color: #0000FF; }\n",
        "\n",
        ".py_call { color: #FF0000; font-weight: bold; }\n",
        ".c_call  { color: #0000FF; }\n",
        "\n",
        ".line { margin: 0em }\n",
        "\n",
        "</style>\n",
        "<script>\n",
        "function toggleDiv(id) {\n",
        "    theDiv = document.getElementById(id);\n",
        "    if (theDiv.style.display == 'none') theDiv.style.display = 'block';\n",
        "    else theDiv.style.display = 'none';\n",
        "}\n",
        "</script>\n",
        "</head>\n",
        "        <body>\n",
        "<p>Generated by Cython 0.19.1 on Thu Nov 21 14:30:12 2013\n",
        "<pre class='line' style='background-color: #FFFF8d' onclick='toggleDiv(\"line1\")'> 1: import numpy as np</pre>\n",
        "<pre id='line1' class='code' style='background-color: #FFFF8d'>\n",
        "  /* \"_cython_magic_6467a1832e1d20571f747b62e3ad7fba.pyx\":1\n",
        " * import numpy as np             # <code><</code><code><</code><code><</code><code><</code><code><</code><code><</code><code><</code><code><</code><code><</code><code><</code><code><</code><code><</code><code><</code><code><</code>\n",
        " * \n",
        " * def blah(float y):\n",
        " */\n",
        "  __pyx_t_1 = <span class='pyx_c_api'>__Pyx_Import</span>(((PyObject *)__pyx_n_s__numpy), 0, -1);<span class='error_goto'> if (unlikely(!__pyx_t_1)) {__pyx_filename = __pyx_f[0]; __pyx_lineno = 1; __pyx_clineno = __LINE__; goto __pyx_L1_error;}</span>\n",
        "  <span class='pyx_macro_api'><span class='refnanny'>__Pyx_GOTREF</span></span>(__pyx_t_1);\n",
        "  if (<span class='py_c_api'>PyDict_SetItem</span>(__pyx_d, __pyx_n_s__np, __pyx_t_1) <code><</code> 0)<span class='error_goto'> {__pyx_filename = __pyx_f[0]; __pyx_lineno = 1; __pyx_clineno = __LINE__; goto __pyx_L1_error;}</span>\n",
        "  <span class='pyx_macro_api'>__Pyx_DECREF</span>(__pyx_t_1); __pyx_t_1 = 0;\n",
        "</pre><pre class='line' style='background-color: #FFFFff' onclick='toggleDiv(\"line2\")'> 2: </pre>\n",
        "<pre id='line2' class='code' style='background-color: #FFFFff'></pre><pre class='line' style='background-color: #FFFF62' onclick='toggleDiv(\"line3\")'> 3: def blah(float y):</pre>\n",
        "<pre id='line3' class='code' style='background-color: #FFFF62'>\n",
        "/* \"_cython_magic_6467a1832e1d20571f747b62e3ad7fba.pyx\":3\n",
        " * import numpy as np\n",
        " * \n",
        " * def blah(float y):             # <code><</code><code><</code><code><</code><code><</code><code><</code><code><</code><code><</code><code><</code><code><</code><code><</code><code><</code><code><</code><code><</code><code><</code>\n",
        " *     return y * y * y - 4 * y + 2\n",
        " * \n",
        " */\n",
        "\n",
        "static PyObject *__pyx_pf_46_cython_magic_6467a1832e1d20571f747b62e3ad7fba_blah(CYTHON_UNUSED PyObject *__pyx_self, float __pyx_v_y) {\n",
        "  PyObject *__pyx_r = NULL;\n",
        "  <span class='refnanny'>__Pyx_RefNannyDeclarations</span>\n",
        "  <span class='pyx_c_api'><span class='refnanny'>__Pyx_RefNannySetupContext</span></span>(\"blah\", 0);\n",
        "\n",
        "  /* \"_cython_magic_6467a1832e1d20571f747b62e3ad7fba.pyx\":3\n",
        " * import numpy as np\n",
        " * \n",
        " * def blah(float y):             # <code><</code><code><</code><code><</code><code><</code><code><</code><code><</code><code><</code><code><</code><code><</code><code><</code><code><</code><code><</code><code><</code><code><</code>\n",
        " *     return y * y * y - 4 * y + 2\n",
        " * \n",
        " */\n",
        "  __pyx_k_tuple_1 = <span class='py_c_api'>PyTuple_Pack</span>(2, ((PyObject *)__pyx_n_s__y), ((PyObject *)__pyx_n_s__y));<span class='error_goto'> if (unlikely(!__pyx_k_tuple_1)) {__pyx_filename = __pyx_f[0]; __pyx_lineno = 3; __pyx_clineno = __LINE__; goto __pyx_L1_error;}</span>\n",
        "  <span class='pyx_macro_api'><span class='refnanny'>__Pyx_GOTREF</span></span>(__pyx_k_tuple_1);\n",
        "  <span class='pyx_macro_api'><span class='refnanny'>__Pyx_GIVEREF</span></span>(((PyObject *)__pyx_k_tuple_1));\n",
        "\n",
        "  /* \"_cython_magic_6467a1832e1d20571f747b62e3ad7fba.pyx\":3\n",
        " * import numpy as np\n",
        " * \n",
        " * def blah(float y):             # <code><</code><code><</code><code><</code><code><</code><code><</code><code><</code><code><</code><code><</code><code><</code><code><</code><code><</code><code><</code><code><</code><code><</code>\n",
        " *     return y * y * y - 4 * y + 2\n",
        " * \n",
        " */\n",
        "  __pyx_t_1 = PyCFunction_NewEx(&__pyx_mdef_46_cython_magic_6467a1832e1d20571f747b62e3ad7fba_1blah, NULL, __pyx_n_s_4);<span class='error_goto'> if (unlikely(!__pyx_t_1)) {__pyx_filename = __pyx_f[0]; __pyx_lineno = 3; __pyx_clineno = __LINE__; goto __pyx_L1_error;}</span>\n",
        "  <span class='pyx_macro_api'><span class='refnanny'>__Pyx_GOTREF</span></span>(__pyx_t_1);\n",
        "  if (<span class='py_c_api'>PyDict_SetItem</span>(__pyx_d, __pyx_n_s__blah, __pyx_t_1) <code><</code> 0)<span class='error_goto'> {__pyx_filename = __pyx_f[0]; __pyx_lineno = 3; __pyx_clineno = __LINE__; goto __pyx_L1_error;}</span>\n",
        "  <span class='pyx_macro_api'>__Pyx_DECREF</span>(__pyx_t_1); __pyx_t_1 = 0;\n",
        "  __pyx_k_codeobj_2 = (PyObject*)__Pyx_<span class='py_c_api'>PyCode_New</span>(1, 0, 2, 0, 0, __pyx_empty_bytes, __pyx_empty_tuple, __pyx_empty_tuple, __pyx_k_tuple_1, __pyx_empty_tuple, __pyx_empty_tuple, __pyx_kp_s_3, __pyx_n_s__blah, 3, __pyx_empty_bytes);<span class='error_goto'> if (unlikely(!__pyx_k_codeobj_2)) {__pyx_filename = __pyx_f[0]; __pyx_lineno = 3; __pyx_clineno = __LINE__; goto __pyx_L1_error;}</span>\n",
        "</pre><pre class='line' style='background-color: #FFFF6a' onclick='toggleDiv(\"line4\")'> 4:     return y * y * y - 4 * y + 2</pre>\n",
        "<pre id='line4' class='code' style='background-color: #FFFF6a'>\n",
        "  /* \"_cython_magic_6467a1832e1d20571f747b62e3ad7fba.pyx\":4\n",
        " * \n",
        " * def blah(float y):\n",
        " *     return y * y * y - 4 * y + 2             # <code><</code><code><</code><code><</code><code><</code><code><</code><code><</code><code><</code><code><</code><code><</code><code><</code><code><</code><code><</code><code><</code><code><</code>\n",
        " * \n",
        " * def my_poly(x):\n",
        " */\n",
        "  <span class='pyx_macro_api'>__Pyx_XDECREF</span>(__pyx_r);\n",
        "  __pyx_t_1 = <span class='py_c_api'>PyFloat_FromDouble</span>(((((__pyx_v_y * __pyx_v_y) * __pyx_v_y) - (4.0 * __pyx_v_y)) + 2.0));<span class='error_goto'> if (unlikely(!__pyx_t_1)) {__pyx_filename = __pyx_f[0]; __pyx_lineno = 4; __pyx_clineno = __LINE__; goto __pyx_L1_error;}</span>\n",
        "  <span class='pyx_macro_api'><span class='refnanny'>__Pyx_GOTREF</span></span>(__pyx_t_1);\n",
        "  __pyx_r = __pyx_t_1;\n",
        "  __pyx_t_1 = 0;\n",
        "  goto __pyx_L0;\n",
        "\n",
        "  __pyx_r = Py_None; <span class='pyx_macro_api'>__Pyx_INCREF</span>(Py_None);\n",
        "  goto __pyx_L0;\n",
        "  __pyx_L1_error:;\n",
        "  <span class='pyx_macro_api'>__Pyx_XDECREF</span>(__pyx_t_1);\n",
        "  <span class='pyx_c_api'>__Pyx_AddTraceback</span>(\"_cython_magic_6467a1832e1d20571f747b62e3ad7fba.blah\", __pyx_clineno, __pyx_lineno, __pyx_filename);\n",
        "  __pyx_r = NULL;\n",
        "  __pyx_L0:;\n",
        "  <span class='pyx_macro_api'><span class='refnanny'>__Pyx_XGIVEREF</span></span>(__pyx_r);\n",
        "  <span class='pyx_c_api'><span class='refnanny'>__Pyx_RefNannyFinishContext</span></span>();\n",
        "  return __pyx_r;\n",
        "}\n",
        "\n",
        "/* Python wrapper */\n",
        "static PyObject *__pyx_pw_46_cython_magic_6467a1832e1d20571f747b62e3ad7fba_3my_poly(PyObject *__pyx_self, PyObject *__pyx_v_x); /*proto*/\n",
        "static PyMethodDef __pyx_mdef_46_cython_magic_6467a1832e1d20571f747b62e3ad7fba_3my_poly = {<span class='pyx_macro_api'>__Pyx_NAMESTR</span>(\"my_poly\"), (PyCFunction)__pyx_pw_46_cython_magic_6467a1832e1d20571f747b62e3ad7fba_3my_poly, METH_O, <span class='pyx_macro_api'>__Pyx_DOCSTR</span>(0)};\n",
        "static PyObject *__pyx_pw_46_cython_magic_6467a1832e1d20571f747b62e3ad7fba_3my_poly(PyObject *__pyx_self, PyObject *__pyx_v_x) {\n",
        "  PyObject *__pyx_r = 0;\n",
        "  <span class='refnanny'>__Pyx_RefNannyDeclarations</span>\n",
        "  <span class='pyx_c_api'><span class='refnanny'>__Pyx_RefNannySetupContext</span></span>(\"my_poly (wrapper)\", 0);\n",
        "  __pyx_r = __pyx_pf_46_cython_magic_6467a1832e1d20571f747b62e3ad7fba_2my_poly(__pyx_self, ((PyObject *)__pyx_v_x));\n",
        "  <span class='pyx_c_api'><span class='refnanny'>__Pyx_RefNannyFinishContext</span></span>();\n",
        "  return __pyx_r;\n",
        "}\n",
        "</pre><pre class='line' style='background-color: #FFFFff' onclick='toggleDiv(\"line5\")'> 5: </pre>\n",
        "<pre id='line5' class='code' style='background-color: #FFFFff'></pre><pre class='line' style='background-color: #FFFF79' onclick='toggleDiv(\"line6\")'> 6: def my_poly(x):</pre>\n",
        "<pre id='line6' class='code' style='background-color: #FFFF79'>\n",
        "/* \"_cython_magic_6467a1832e1d20571f747b62e3ad7fba.pyx\":6\n",
        " *     return y * y * y - 4 * y + 2\n",
        " * \n",
        " * def my_poly(x):             # <code><</code><code><</code><code><</code><code><</code><code><</code><code><</code><code><</code><code><</code><code><</code><code><</code><code><</code><code><</code><code><</code><code><</code>\n",
        " *     out = np.zeros_like(x)\n",
        " *     L = x.shape[0]\n",
        " */\n",
        "\n",
        "static PyObject *__pyx_pf_46_cython_magic_6467a1832e1d20571f747b62e3ad7fba_2my_poly(CYTHON_UNUSED PyObject *__pyx_self, PyObject *__pyx_v_x) {\n",
        "  PyObject *__pyx_v_out = NULL;\n",
        "  PyObject *__pyx_v_L = NULL;\n",
        "  PyObject *__pyx_v_i = NULL;\n",
        "  PyObject *__pyx_r = NULL;\n",
        "  <span class='refnanny'>__Pyx_RefNannyDeclarations</span>\n",
        "  <span class='pyx_c_api'><span class='refnanny'>__Pyx_RefNannySetupContext</span></span>(\"my_poly\", 0);\n",
        "\n",
        "  /* \"_cython_magic_6467a1832e1d20571f747b62e3ad7fba.pyx\":6\n",
        " *     return y * y * y - 4 * y + 2\n",
        " * \n",
        " * def my_poly(x):             # <code><</code><code><</code><code><</code><code><</code><code><</code><code><</code><code><</code><code><</code><code><</code><code><</code><code><</code><code><</code><code><</code><code><</code>\n",
        " *     out = np.zeros_like(x)\n",
        " *     L = x.shape[0]\n",
        " */\n",
        "  __pyx_k_tuple_5 = <span class='py_c_api'>PyTuple_Pack</span>(4, ((PyObject *)__pyx_n_s__x), ((PyObject *)__pyx_n_s__out), ((PyObject *)__pyx_n_s__L), ((PyObject *)__pyx_n_s__i));<span class='error_goto'> if (unlikely(!__pyx_k_tuple_5)) {__pyx_filename = __pyx_f[0]; __pyx_lineno = 6; __pyx_clineno = __LINE__; goto __pyx_L1_error;}</span>\n",
        "  <span class='pyx_macro_api'><span class='refnanny'>__Pyx_GOTREF</span></span>(__pyx_k_tuple_5);\n",
        "  <span class='pyx_macro_api'><span class='refnanny'>__Pyx_GIVEREF</span></span>(((PyObject *)__pyx_k_tuple_5));\n",
        "\n",
        "  /* \"_cython_magic_6467a1832e1d20571f747b62e3ad7fba.pyx\":6\n",
        " *     return y * y * y - 4 * y + 2\n",
        " * \n",
        " * def my_poly(x):             # <code><</code><code><</code><code><</code><code><</code><code><</code><code><</code><code><</code><code><</code><code><</code><code><</code><code><</code><code><</code><code><</code><code><</code>\n",
        " *     out = np.zeros_like(x)\n",
        " *     L = x.shape[0]\n",
        " */\n",
        "  __pyx_t_1 = PyCFunction_NewEx(&__pyx_mdef_46_cython_magic_6467a1832e1d20571f747b62e3ad7fba_3my_poly, NULL, __pyx_n_s_4);<span class='error_goto'> if (unlikely(!__pyx_t_1)) {__pyx_filename = __pyx_f[0]; __pyx_lineno = 6; __pyx_clineno = __LINE__; goto __pyx_L1_error;}</span>\n",
        "  <span class='pyx_macro_api'><span class='refnanny'>__Pyx_GOTREF</span></span>(__pyx_t_1);\n",
        "  if (<span class='py_c_api'>PyDict_SetItem</span>(__pyx_d, __pyx_n_s__my_poly, __pyx_t_1) <code><</code> 0)<span class='error_goto'> {__pyx_filename = __pyx_f[0]; __pyx_lineno = 6; __pyx_clineno = __LINE__; goto __pyx_L1_error;}</span>\n",
        "  <span class='pyx_macro_api'>__Pyx_DECREF</span>(__pyx_t_1); __pyx_t_1 = 0;\n",
        "</pre><pre class='line' style='background-color: #FFFF4f' onclick='toggleDiv(\"line7\")'> 7:     out = np.zeros_like(x)</pre>\n",
        "<pre id='line7' class='code' style='background-color: #FFFF4f'>\n",
        "  /* \"_cython_magic_6467a1832e1d20571f747b62e3ad7fba.pyx\":7\n",
        " * \n",
        " * def my_poly(x):\n",
        " *     out = np.zeros_like(x)             # <code><</code><code><</code><code><</code><code><</code><code><</code><code><</code><code><</code><code><</code><code><</code><code><</code><code><</code><code><</code><code><</code><code><</code>\n",
        " *     L = x.shape[0]\n",
        " * \n",
        " */\n",
        "  __pyx_t_1 = <span class='pyx_c_api'>__Pyx_GetModuleGlobalName</span>(__pyx_n_s__np);<span class='error_goto'> if (unlikely(!__pyx_t_1)) {__pyx_filename = __pyx_f[0]; __pyx_lineno = 7; __pyx_clineno = __LINE__; goto __pyx_L1_error;}</span>\n",
        "  <span class='pyx_macro_api'><span class='refnanny'>__Pyx_GOTREF</span></span>(__pyx_t_1);\n",
        "  __pyx_t_2 = __Pyx_<span class='py_c_api'>PyObject_GetAttrStr</span>(__pyx_t_1, __pyx_n_s__zeros_like);<span class='error_goto'> if (unlikely(!__pyx_t_2)) {__pyx_filename = __pyx_f[0]; __pyx_lineno = 7; __pyx_clineno = __LINE__; goto __pyx_L1_error;}</span>\n",
        "  <span class='pyx_macro_api'><span class='refnanny'>__Pyx_GOTREF</span></span>(__pyx_t_2);\n",
        "  <span class='pyx_macro_api'>__Pyx_DECREF</span>(__pyx_t_1); __pyx_t_1 = 0;\n",
        "  __pyx_t_1 = <span class='py_c_api'>PyTuple_New</span>(1);<span class='error_goto'> if (unlikely(!__pyx_t_1)) {__pyx_filename = __pyx_f[0]; __pyx_lineno = 7; __pyx_clineno = __LINE__; goto __pyx_L1_error;}</span>\n",
        "  <span class='pyx_macro_api'><span class='refnanny'>__Pyx_GOTREF</span></span>(__pyx_t_1);\n",
        "  <span class='pyx_macro_api'>__Pyx_INCREF</span>(__pyx_v_x);\n",
        "  <span class='py_macro_api'>PyTuple_SET_ITEM</span>(__pyx_t_1, 0, __pyx_v_x);\n",
        "  <span class='pyx_macro_api'><span class='refnanny'>__Pyx_GIVEREF</span></span>(__pyx_v_x);\n",
        "  __pyx_t_3 = <span class='py_c_api'>PyObject_Call</span>(__pyx_t_2, ((PyObject *)__pyx_t_1), NULL);<span class='error_goto'> if (unlikely(!__pyx_t_3)) {__pyx_filename = __pyx_f[0]; __pyx_lineno = 7; __pyx_clineno = __LINE__; goto __pyx_L1_error;}</span>\n",
        "  <span class='pyx_macro_api'><span class='refnanny'>__Pyx_GOTREF</span></span>(__pyx_t_3);\n",
        "  <span class='pyx_macro_api'>__Pyx_DECREF</span>(__pyx_t_2); __pyx_t_2 = 0;\n",
        "  <span class='pyx_macro_api'>__Pyx_DECREF</span>(((PyObject *)__pyx_t_1)); __pyx_t_1 = 0;\n",
        "  __pyx_v_out = __pyx_t_3;\n",
        "  __pyx_t_3 = 0;\n",
        "</pre><pre class='line' style='background-color: #FFFF8d' onclick='toggleDiv(\"line8\")'> 8:     L = x.shape[0]</pre>\n",
        "<pre id='line8' class='code' style='background-color: #FFFF8d'>\n",
        "  /* \"_cython_magic_6467a1832e1d20571f747b62e3ad7fba.pyx\":8\n",
        " * def my_poly(x):\n",
        " *     out = np.zeros_like(x)\n",
        " *     L = x.shape[0]             # <code><</code><code><</code><code><</code><code><</code><code><</code><code><</code><code><</code><code><</code><code><</code><code><</code><code><</code><code><</code><code><</code><code><</code>\n",
        " * \n",
        " *     for i in range(L,x):\n",
        " */\n",
        "  __pyx_t_3 = __Pyx_<span class='py_c_api'>PyObject_GetAttrStr</span>(__pyx_v_x, __pyx_n_s__shape);<span class='error_goto'> if (unlikely(!__pyx_t_3)) {__pyx_filename = __pyx_f[0]; __pyx_lineno = 8; __pyx_clineno = __LINE__; goto __pyx_L1_error;}</span>\n",
        "  <span class='pyx_macro_api'><span class='refnanny'>__Pyx_GOTREF</span></span>(__pyx_t_3);\n",
        "  __pyx_t_1 = <span class='pyx_c_api'>__Pyx_GetItemInt</span>(__pyx_t_3, 0, sizeof(long), PyInt_FromLong, 0, 0, 1);<span class='error_goto'> if (!__pyx_t_1) {__pyx_filename = __pyx_f[0]; __pyx_lineno = 8; __pyx_clineno = __LINE__; goto __pyx_L1_error;}</span>\n",
        "  <span class='pyx_macro_api'><span class='refnanny'>__Pyx_GOTREF</span></span>(__pyx_t_1);\n",
        "  <span class='pyx_macro_api'>__Pyx_DECREF</span>(__pyx_t_3); __pyx_t_3 = 0;\n",
        "  __pyx_v_L = __pyx_t_1;\n",
        "  __pyx_t_1 = 0;\n",
        "</pre><pre class='line' style='background-color: #FFFFff' onclick='toggleDiv(\"line9\")'> 9: </pre>\n",
        "<pre id='line9' class='code' style='background-color: #FFFFff'></pre><pre class='line' style='background-color: #FFFF21' onclick='toggleDiv(\"line10\")'> 10:     for i in range(L,x):</pre>\n",
        "<pre id='line10' class='code' style='background-color: #FFFF21'>\n",
        "  /* \"_cython_magic_6467a1832e1d20571f747b62e3ad7fba.pyx\":10\n",
        " *     L = x.shape[0]\n",
        " * \n",
        " *     for i in range(L,x):             # <code><</code><code><</code><code><</code><code><</code><code><</code><code><</code><code><</code><code><</code><code><</code><code><</code><code><</code><code><</code><code><</code><code><</code>\n",
        " *         out[i] = blah(x[i])\n",
        " * \n",
        " */\n",
        "  __pyx_t_1 = <span class='py_c_api'>PyTuple_New</span>(2);<span class='error_goto'> if (unlikely(!__pyx_t_1)) {__pyx_filename = __pyx_f[0]; __pyx_lineno = 10; __pyx_clineno = __LINE__; goto __pyx_L1_error;}</span>\n",
        "  <span class='pyx_macro_api'><span class='refnanny'>__Pyx_GOTREF</span></span>(__pyx_t_1);\n",
        "  <span class='pyx_macro_api'>__Pyx_INCREF</span>(__pyx_v_L);\n",
        "  <span class='py_macro_api'>PyTuple_SET_ITEM</span>(__pyx_t_1, 0, __pyx_v_L);\n",
        "  <span class='pyx_macro_api'><span class='refnanny'>__Pyx_GIVEREF</span></span>(__pyx_v_L);\n",
        "  <span class='pyx_macro_api'>__Pyx_INCREF</span>(__pyx_v_x);\n",
        "  <span class='py_macro_api'>PyTuple_SET_ITEM</span>(__pyx_t_1, 1, __pyx_v_x);\n",
        "  <span class='pyx_macro_api'><span class='refnanny'>__Pyx_GIVEREF</span></span>(__pyx_v_x);\n",
        "  __pyx_t_3 = <span class='py_c_api'>PyObject_Call</span>(__pyx_builtin_range, ((PyObject *)__pyx_t_1), NULL);<span class='error_goto'> if (unlikely(!__pyx_t_3)) {__pyx_filename = __pyx_f[0]; __pyx_lineno = 10; __pyx_clineno = __LINE__; goto __pyx_L1_error;}</span>\n",
        "  <span class='pyx_macro_api'><span class='refnanny'>__Pyx_GOTREF</span></span>(__pyx_t_3);\n",
        "  <span class='pyx_macro_api'>__Pyx_DECREF</span>(((PyObject *)__pyx_t_1)); __pyx_t_1 = 0;\n",
        "  if (<span class='py_c_api'>PyList_CheckExact</span>(__pyx_t_3) || <span class='py_c_api'>PyTuple_CheckExact</span>(__pyx_t_3)) {\n",
        "    __pyx_t_1 = __pyx_t_3; <span class='pyx_macro_api'>__Pyx_INCREF</span>(__pyx_t_1); __pyx_t_4 = 0;\n",
        "    __pyx_t_5 = NULL;\n",
        "  } else {\n",
        "    __pyx_t_4 = -1; __pyx_t_1 = <span class='py_c_api'>PyObject_GetIter</span>(__pyx_t_3);<span class='error_goto'> if (unlikely(!__pyx_t_1)) {__pyx_filename = __pyx_f[0]; __pyx_lineno = 10; __pyx_clineno = __LINE__; goto __pyx_L1_error;}</span>\n",
        "    <span class='pyx_macro_api'><span class='refnanny'>__Pyx_GOTREF</span></span>(__pyx_t_1);\n",
        "    __pyx_t_5 = Py_TYPE(__pyx_t_1)->tp_iternext;\n",
        "  }\n",
        "  <span class='pyx_macro_api'>__Pyx_DECREF</span>(__pyx_t_3); __pyx_t_3 = 0;\n",
        "  for (;;) {\n",
        "    if (!__pyx_t_5 && <span class='py_c_api'>PyList_CheckExact</span>(__pyx_t_1)) {\n",
        "      if (__pyx_t_4 >= <span class='py_macro_api'>PyList_GET_SIZE</span>(__pyx_t_1)) break;\n",
        "      #if CYTHON_COMPILING_IN_CPYTHON\n",
        "      __pyx_t_3 = <span class='py_macro_api'>PyList_GET_ITEM</span>(__pyx_t_1, __pyx_t_4); <span class='pyx_macro_api'>__Pyx_INCREF</span>(__pyx_t_3); __pyx_t_4++;<span class='error_goto'> if (unlikely(0 <code><</code> 0)) {__pyx_filename = __pyx_f[0]; __pyx_lineno = 10; __pyx_clineno = __LINE__; goto __pyx_L1_error;}</span>\n",
        "      #else\n",
        "      __pyx_t_3 = <span class='py_macro_api'>PySequence_ITEM</span>(__pyx_t_1, __pyx_t_4); __pyx_t_4++;<span class='error_goto'> if (unlikely(!__pyx_t_3)) {__pyx_filename = __pyx_f[0]; __pyx_lineno = 10; __pyx_clineno = __LINE__; goto __pyx_L1_error;}</span>\n",
        "      #endif\n",
        "    } else if (!__pyx_t_5 && <span class='py_c_api'>PyTuple_CheckExact</span>(__pyx_t_1)) {\n",
        "      if (__pyx_t_4 >= <span class='py_macro_api'>PyTuple_GET_SIZE</span>(__pyx_t_1)) break;\n",
        "      #if CYTHON_COMPILING_IN_CPYTHON\n",
        "      __pyx_t_3 = <span class='py_macro_api'>PyTuple_GET_ITEM</span>(__pyx_t_1, __pyx_t_4); <span class='pyx_macro_api'>__Pyx_INCREF</span>(__pyx_t_3); __pyx_t_4++;<span class='error_goto'> if (unlikely(0 <code><</code> 0)) {__pyx_filename = __pyx_f[0]; __pyx_lineno = 10; __pyx_clineno = __LINE__; goto __pyx_L1_error;}</span>\n",
        "      #else\n",
        "      __pyx_t_3 = <span class='py_macro_api'>PySequence_ITEM</span>(__pyx_t_1, __pyx_t_4); __pyx_t_4++;<span class='error_goto'> if (unlikely(!__pyx_t_3)) {__pyx_filename = __pyx_f[0]; __pyx_lineno = 10; __pyx_clineno = __LINE__; goto __pyx_L1_error;}</span>\n",
        "      #endif\n",
        "    } else {\n",
        "      __pyx_t_3 = __pyx_t_5(__pyx_t_1);\n",
        "      if (unlikely(!__pyx_t_3)) {\n",
        "        if (<span class='py_c_api'>PyErr_Occurred</span>()) {\n",
        "          if (likely(<span class='py_c_api'>PyErr_ExceptionMatches</span>(PyExc_StopIteration))) <span class='py_c_api'>PyErr_Clear</span>();\n",
        "          else<span class='error_goto'> {__pyx_filename = __pyx_f[0]; __pyx_lineno = 10; __pyx_clineno = __LINE__; goto __pyx_L1_error;}</span>\n",
        "        }\n",
        "        break;\n",
        "      }\n",
        "      <span class='pyx_macro_api'><span class='refnanny'>__Pyx_GOTREF</span></span>(__pyx_t_3);\n",
        "    }\n",
        "    <span class='pyx_macro_api'>__Pyx_XDECREF</span>(__pyx_v_i);\n",
        "    __pyx_v_i = __pyx_t_3;\n",
        "    __pyx_t_3 = 0;\n",
        "</pre><pre class='line' style='background-color: #FFFF44' onclick='toggleDiv(\"line11\")'> 11:         out[i] = blah(x[i])</pre>\n",
        "<pre id='line11' class='code' style='background-color: #FFFF44'>\n",
        "    /* \"_cython_magic_6467a1832e1d20571f747b62e3ad7fba.pyx\":11\n",
        " * \n",
        " *     for i in range(L,x):\n",
        " *         out[i] = blah(x[i])             # <code><</code><code><</code><code><</code><code><</code><code><</code><code><</code><code><</code><code><</code><code><</code><code><</code><code><</code><code><</code><code><</code><code><</code>\n",
        " * \n",
        " *     return np.asarray(out)\n",
        " */\n",
        "    __pyx_t_3 = <span class='pyx_c_api'>__Pyx_GetModuleGlobalName</span>(__pyx_n_s__blah);<span class='error_goto'> if (unlikely(!__pyx_t_3)) {__pyx_filename = __pyx_f[0]; __pyx_lineno = 11; __pyx_clineno = __LINE__; goto __pyx_L1_error;}</span>\n",
        "    <span class='pyx_macro_api'><span class='refnanny'>__Pyx_GOTREF</span></span>(__pyx_t_3);\n",
        "    __pyx_t_2 = <span class='py_c_api'>PyObject_GetItem</span>(__pyx_v_x, __pyx_v_i);<span class='error_goto'> if (!__pyx_t_2) {__pyx_filename = __pyx_f[0]; __pyx_lineno = 11; __pyx_clineno = __LINE__; goto __pyx_L1_error;}</span>\n",
        "    <span class='pyx_macro_api'><span class='refnanny'>__Pyx_GOTREF</span></span>(__pyx_t_2);\n",
        "    __pyx_t_6 = <span class='py_c_api'>PyTuple_New</span>(1);<span class='error_goto'> if (unlikely(!__pyx_t_6)) {__pyx_filename = __pyx_f[0]; __pyx_lineno = 11; __pyx_clineno = __LINE__; goto __pyx_L1_error;}</span>\n",
        "    <span class='pyx_macro_api'><span class='refnanny'>__Pyx_GOTREF</span></span>(__pyx_t_6);\n",
        "    <span class='py_macro_api'>PyTuple_SET_ITEM</span>(__pyx_t_6, 0, __pyx_t_2);\n",
        "    <span class='pyx_macro_api'><span class='refnanny'>__Pyx_GIVEREF</span></span>(__pyx_t_2);\n",
        "    __pyx_t_2 = 0;\n",
        "    __pyx_t_2 = <span class='py_c_api'>PyObject_Call</span>(__pyx_t_3, ((PyObject *)__pyx_t_6), NULL);<span class='error_goto'> if (unlikely(!__pyx_t_2)) {__pyx_filename = __pyx_f[0]; __pyx_lineno = 11; __pyx_clineno = __LINE__; goto __pyx_L1_error;}</span>\n",
        "    <span class='pyx_macro_api'><span class='refnanny'>__Pyx_GOTREF</span></span>(__pyx_t_2);\n",
        "    <span class='pyx_macro_api'>__Pyx_DECREF</span>(__pyx_t_3); __pyx_t_3 = 0;\n",
        "    <span class='pyx_macro_api'>__Pyx_DECREF</span>(((PyObject *)__pyx_t_6)); __pyx_t_6 = 0;\n",
        "    if (<span class='py_c_api'>PyObject_SetItem</span>(__pyx_v_out, __pyx_v_i, __pyx_t_2) <code><</code> 0)<span class='error_goto'> {__pyx_filename = __pyx_f[0]; __pyx_lineno = 11; __pyx_clineno = __LINE__; goto __pyx_L1_error;}</span>\n",
        "    <span class='pyx_macro_api'>__Pyx_DECREF</span>(__pyx_t_2); __pyx_t_2 = 0;\n",
        "  }\n",
        "  <span class='pyx_macro_api'>__Pyx_DECREF</span>(__pyx_t_1); __pyx_t_1 = 0;\n",
        "</pre><pre class='line' style='background-color: #FFFFff' onclick='toggleDiv(\"line12\")'> 12: </pre>\n",
        "<pre id='line12' class='code' style='background-color: #FFFFff'></pre><pre class='line' style='background-color: #FFFF39' onclick='toggleDiv(\"line13\")'> 13:     return np.asarray(out)</pre>\n",
        "<pre id='line13' class='code' style='background-color: #FFFF39'>\n",
        "  /* \"_cython_magic_6467a1832e1d20571f747b62e3ad7fba.pyx\":13\n",
        " *         out[i] = blah(x[i])\n",
        " * \n",
        " *     return np.asarray(out)             # <code><</code><code><</code><code><</code><code><</code><code><</code><code><</code><code><</code><code><</code><code><</code><code><</code><code><</code><code><</code><code><</code><code><</code>\n",
        " */\n",
        "  <span class='pyx_macro_api'>__Pyx_XDECREF</span>(__pyx_r);\n",
        "  __pyx_t_1 = <span class='pyx_c_api'>__Pyx_GetModuleGlobalName</span>(__pyx_n_s__np);<span class='error_goto'> if (unlikely(!__pyx_t_1)) {__pyx_filename = __pyx_f[0]; __pyx_lineno = 13; __pyx_clineno = __LINE__; goto __pyx_L1_error;}</span>\n",
        "  <span class='pyx_macro_api'><span class='refnanny'>__Pyx_GOTREF</span></span>(__pyx_t_1);\n",
        "  __pyx_t_2 = __Pyx_<span class='py_c_api'>PyObject_GetAttrStr</span>(__pyx_t_1, __pyx_n_s__asarray);<span class='error_goto'> if (unlikely(!__pyx_t_2)) {__pyx_filename = __pyx_f[0]; __pyx_lineno = 13; __pyx_clineno = __LINE__; goto __pyx_L1_error;}</span>\n",
        "  <span class='pyx_macro_api'><span class='refnanny'>__Pyx_GOTREF</span></span>(__pyx_t_2);\n",
        "  <span class='pyx_macro_api'>__Pyx_DECREF</span>(__pyx_t_1); __pyx_t_1 = 0;\n",
        "  __pyx_t_1 = <span class='py_c_api'>PyTuple_New</span>(1);<span class='error_goto'> if (unlikely(!__pyx_t_1)) {__pyx_filename = __pyx_f[0]; __pyx_lineno = 13; __pyx_clineno = __LINE__; goto __pyx_L1_error;}</span>\n",
        "  <span class='pyx_macro_api'><span class='refnanny'>__Pyx_GOTREF</span></span>(__pyx_t_1);\n",
        "  <span class='pyx_macro_api'>__Pyx_INCREF</span>(__pyx_v_out);\n",
        "  <span class='py_macro_api'>PyTuple_SET_ITEM</span>(__pyx_t_1, 0, __pyx_v_out);\n",
        "  <span class='pyx_macro_api'><span class='refnanny'>__Pyx_GIVEREF</span></span>(__pyx_v_out);\n",
        "  __pyx_t_6 = <span class='py_c_api'>PyObject_Call</span>(__pyx_t_2, ((PyObject *)__pyx_t_1), NULL);<span class='error_goto'> if (unlikely(!__pyx_t_6)) {__pyx_filename = __pyx_f[0]; __pyx_lineno = 13; __pyx_clineno = __LINE__; goto __pyx_L1_error;}</span>\n",
        "  <span class='pyx_macro_api'><span class='refnanny'>__Pyx_GOTREF</span></span>(__pyx_t_6);\n",
        "  <span class='pyx_macro_api'>__Pyx_DECREF</span>(__pyx_t_2); __pyx_t_2 = 0;\n",
        "  <span class='pyx_macro_api'>__Pyx_DECREF</span>(((PyObject *)__pyx_t_1)); __pyx_t_1 = 0;\n",
        "  __pyx_r = __pyx_t_6;\n",
        "  __pyx_t_6 = 0;\n",
        "  goto __pyx_L0;\n",
        "\n",
        "  __pyx_r = Py_None; <span class='pyx_macro_api'>__Pyx_INCREF</span>(Py_None);\n",
        "  goto __pyx_L0;\n",
        "  __pyx_L1_error:;\n",
        "  <span class='pyx_macro_api'>__Pyx_XDECREF</span>(__pyx_t_1);\n",
        "  <span class='pyx_macro_api'>__Pyx_XDECREF</span>(__pyx_t_2);\n",
        "  <span class='pyx_macro_api'>__Pyx_XDECREF</span>(__pyx_t_3);\n",
        "  <span class='pyx_macro_api'>__Pyx_XDECREF</span>(__pyx_t_6);\n",
        "  <span class='pyx_c_api'>__Pyx_AddTraceback</span>(\"_cython_magic_6467a1832e1d20571f747b62e3ad7fba.my_poly\", __pyx_clineno, __pyx_lineno, __pyx_filename);\n",
        "  __pyx_r = NULL;\n",
        "  __pyx_L0:;\n",
        "  <span class='pyx_macro_api'>__Pyx_XDECREF</span>(__pyx_v_out);\n",
        "  <span class='pyx_macro_api'>__Pyx_XDECREF</span>(__pyx_v_L);\n",
        "  <span class='pyx_macro_api'>__Pyx_XDECREF</span>(__pyx_v_i);\n",
        "  <span class='pyx_macro_api'><span class='refnanny'>__Pyx_XGIVEREF</span></span>(__pyx_r);\n",
        "  <span class='pyx_c_api'><span class='refnanny'>__Pyx_RefNannyFinishContext</span></span>();\n",
        "  return __pyx_r;\n",
        "}\n",
        "</pre></body></html>"
       ],
       "metadata": {},
       "output_type": "pyout",
       "prompt_number": 35,
       "text": [
        "<IPython.core.display.HTML at 0x1062c5350>"
       ]
      }
     ],
     "prompt_number": 35
    },
    {
     "cell_type": "code",
     "collapsed": false,
     "input": [
      "import numpy as np\n",
      "x = np.linspace(-10,10,100000)\n",
      "%timeit my_poly(x)"
     ],
     "language": "python",
     "metadata": {},
     "outputs": [
      {
       "ename": "TypeError",
       "evalue": "only length-1 arrays can be converted to Python scalars",
       "output_type": "pyerr",
       "traceback": [
        "\u001b[0;31m---------------------------------------------------------------------------\u001b[0m\n\u001b[0;31mTypeError\u001b[0m                                 Traceback (most recent call last)",
        "\u001b[0;32m<ipython-input-36-c0663408df1a>\u001b[0m in \u001b[0;36m<module>\u001b[0;34m()\u001b[0m\n\u001b[1;32m      1\u001b[0m \u001b[0;32mimport\u001b[0m \u001b[0mnumpy\u001b[0m \u001b[0;32mas\u001b[0m \u001b[0mnp\u001b[0m\u001b[0;34m\u001b[0m\u001b[0m\n\u001b[1;32m      2\u001b[0m \u001b[0mx\u001b[0m \u001b[0;34m=\u001b[0m \u001b[0mnp\u001b[0m\u001b[0;34m.\u001b[0m\u001b[0mlinspace\u001b[0m\u001b[0;34m(\u001b[0m\u001b[0;34m-\u001b[0m\u001b[0;36m10\u001b[0m\u001b[0;34m,\u001b[0m\u001b[0;36m10\u001b[0m\u001b[0;34m,\u001b[0m\u001b[0;36m100000\u001b[0m\u001b[0;34m)\u001b[0m\u001b[0;34m\u001b[0m\u001b[0m\n\u001b[0;32m----> 3\u001b[0;31m \u001b[0mget_ipython\u001b[0m\u001b[0;34m(\u001b[0m\u001b[0;34m)\u001b[0m\u001b[0;34m.\u001b[0m\u001b[0mmagic\u001b[0m\u001b[0;34m(\u001b[0m\u001b[0;34mu'timeit my_poly(x)'\u001b[0m\u001b[0;34m)\u001b[0m\u001b[0;34m\u001b[0m\u001b[0m\n\u001b[0m",
        "\u001b[0;32m/Users/jbloom/anaconda/lib/python2.7/site-packages/IPython/core/interactiveshell.pyc\u001b[0m in \u001b[0;36mmagic\u001b[0;34m(self, arg_s)\u001b[0m\n\u001b[1;32m   2170\u001b[0m         \u001b[0mmagic_name\u001b[0m\u001b[0;34m,\u001b[0m \u001b[0m_\u001b[0m\u001b[0;34m,\u001b[0m \u001b[0mmagic_arg_s\u001b[0m \u001b[0;34m=\u001b[0m \u001b[0marg_s\u001b[0m\u001b[0;34m.\u001b[0m\u001b[0mpartition\u001b[0m\u001b[0;34m(\u001b[0m\u001b[0;34m' '\u001b[0m\u001b[0;34m)\u001b[0m\u001b[0;34m\u001b[0m\u001b[0m\n\u001b[1;32m   2171\u001b[0m         \u001b[0mmagic_name\u001b[0m \u001b[0;34m=\u001b[0m \u001b[0mmagic_name\u001b[0m\u001b[0;34m.\u001b[0m\u001b[0mlstrip\u001b[0m\u001b[0;34m(\u001b[0m\u001b[0mprefilter\u001b[0m\u001b[0;34m.\u001b[0m\u001b[0mESC_MAGIC\u001b[0m\u001b[0;34m)\u001b[0m\u001b[0;34m\u001b[0m\u001b[0m\n\u001b[0;32m-> 2172\u001b[0;31m         \u001b[0;32mreturn\u001b[0m \u001b[0mself\u001b[0m\u001b[0;34m.\u001b[0m\u001b[0mrun_line_magic\u001b[0m\u001b[0;34m(\u001b[0m\u001b[0mmagic_name\u001b[0m\u001b[0;34m,\u001b[0m \u001b[0mmagic_arg_s\u001b[0m\u001b[0;34m)\u001b[0m\u001b[0;34m\u001b[0m\u001b[0m\n\u001b[0m\u001b[1;32m   2173\u001b[0m \u001b[0;34m\u001b[0m\u001b[0m\n\u001b[1;32m   2174\u001b[0m     \u001b[0;31m#-------------------------------------------------------------------------\u001b[0m\u001b[0;34m\u001b[0m\u001b[0;34m\u001b[0m\u001b[0m\n",
        "\u001b[0;32m/Users/jbloom/anaconda/lib/python2.7/site-packages/IPython/core/interactiveshell.pyc\u001b[0m in \u001b[0;36mrun_line_magic\u001b[0;34m(self, magic_name, line)\u001b[0m\n\u001b[1;32m   2091\u001b[0m                 \u001b[0mkwargs\u001b[0m\u001b[0;34m[\u001b[0m\u001b[0;34m'local_ns'\u001b[0m\u001b[0;34m]\u001b[0m \u001b[0;34m=\u001b[0m \u001b[0msys\u001b[0m\u001b[0;34m.\u001b[0m\u001b[0m_getframe\u001b[0m\u001b[0;34m(\u001b[0m\u001b[0mstack_depth\u001b[0m\u001b[0;34m)\u001b[0m\u001b[0;34m.\u001b[0m\u001b[0mf_locals\u001b[0m\u001b[0;34m\u001b[0m\u001b[0m\n\u001b[1;32m   2092\u001b[0m             \u001b[0;32mwith\u001b[0m \u001b[0mself\u001b[0m\u001b[0;34m.\u001b[0m\u001b[0mbuiltin_trap\u001b[0m\u001b[0;34m:\u001b[0m\u001b[0;34m\u001b[0m\u001b[0m\n\u001b[0;32m-> 2093\u001b[0;31m                 \u001b[0mresult\u001b[0m \u001b[0;34m=\u001b[0m \u001b[0mfn\u001b[0m\u001b[0;34m(\u001b[0m\u001b[0;34m*\u001b[0m\u001b[0margs\u001b[0m\u001b[0;34m,\u001b[0m\u001b[0;34m**\u001b[0m\u001b[0mkwargs\u001b[0m\u001b[0;34m)\u001b[0m\u001b[0;34m\u001b[0m\u001b[0m\n\u001b[0m\u001b[1;32m   2094\u001b[0m             \u001b[0;32mreturn\u001b[0m \u001b[0mresult\u001b[0m\u001b[0;34m\u001b[0m\u001b[0m\n\u001b[1;32m   2095\u001b[0m \u001b[0;34m\u001b[0m\u001b[0m\n",
        "\u001b[0;32m/Users/jbloom/anaconda/lib/python2.7/site-packages/IPython/core/magics/execution.pyc\u001b[0m in \u001b[0;36mtimeit\u001b[0;34m(self, line, cell)\u001b[0m\n",
        "\u001b[0;32m/Users/jbloom/anaconda/lib/python2.7/site-packages/IPython/core/magic.pyc\u001b[0m in \u001b[0;36m<lambda>\u001b[0;34m(f, *a, **k)\u001b[0m\n\u001b[1;32m    189\u001b[0m     \u001b[0;31m# but it's overkill for just that one bit of state.\u001b[0m\u001b[0;34m\u001b[0m\u001b[0;34m\u001b[0m\u001b[0m\n\u001b[1;32m    190\u001b[0m     \u001b[0;32mdef\u001b[0m \u001b[0mmagic_deco\u001b[0m\u001b[0;34m(\u001b[0m\u001b[0marg\u001b[0m\u001b[0;34m)\u001b[0m\u001b[0;34m:\u001b[0m\u001b[0;34m\u001b[0m\u001b[0m\n\u001b[0;32m--> 191\u001b[0;31m         \u001b[0mcall\u001b[0m \u001b[0;34m=\u001b[0m \u001b[0;32mlambda\u001b[0m \u001b[0mf\u001b[0m\u001b[0;34m,\u001b[0m \u001b[0;34m*\u001b[0m\u001b[0ma\u001b[0m\u001b[0;34m,\u001b[0m \u001b[0;34m**\u001b[0m\u001b[0mk\u001b[0m\u001b[0;34m:\u001b[0m \u001b[0mf\u001b[0m\u001b[0;34m(\u001b[0m\u001b[0;34m*\u001b[0m\u001b[0ma\u001b[0m\u001b[0;34m,\u001b[0m \u001b[0;34m**\u001b[0m\u001b[0mk\u001b[0m\u001b[0;34m)\u001b[0m\u001b[0;34m\u001b[0m\u001b[0m\n\u001b[0m\u001b[1;32m    192\u001b[0m \u001b[0;34m\u001b[0m\u001b[0m\n\u001b[1;32m    193\u001b[0m         \u001b[0;32mif\u001b[0m \u001b[0mcallable\u001b[0m\u001b[0;34m(\u001b[0m\u001b[0marg\u001b[0m\u001b[0;34m)\u001b[0m\u001b[0;34m:\u001b[0m\u001b[0;34m\u001b[0m\u001b[0m\n",
        "\u001b[0;32m/Users/jbloom/anaconda/lib/python2.7/site-packages/IPython/core/magics/execution.pyc\u001b[0m in \u001b[0;36mtimeit\u001b[0;34m(self, line, cell)\u001b[0m\n\u001b[1;32m    929\u001b[0m             \u001b[0mnumber\u001b[0m \u001b[0;34m=\u001b[0m \u001b[0;36m1\u001b[0m\u001b[0;34m\u001b[0m\u001b[0m\n\u001b[1;32m    930\u001b[0m             \u001b[0;32mfor\u001b[0m \u001b[0mi\u001b[0m \u001b[0;32min\u001b[0m \u001b[0mrange\u001b[0m\u001b[0;34m(\u001b[0m\u001b[0;36m1\u001b[0m\u001b[0;34m,\u001b[0m \u001b[0;36m10\u001b[0m\u001b[0;34m)\u001b[0m\u001b[0;34m:\u001b[0m\u001b[0;34m\u001b[0m\u001b[0m\n\u001b[0;32m--> 931\u001b[0;31m                 \u001b[0;32mif\u001b[0m \u001b[0mtimer\u001b[0m\u001b[0;34m.\u001b[0m\u001b[0mtimeit\u001b[0m\u001b[0;34m(\u001b[0m\u001b[0mnumber\u001b[0m\u001b[0;34m)\u001b[0m \u001b[0;34m>=\u001b[0m \u001b[0;36m0.2\u001b[0m\u001b[0;34m:\u001b[0m\u001b[0;34m\u001b[0m\u001b[0m\n\u001b[0m\u001b[1;32m    932\u001b[0m                     \u001b[0;32mbreak\u001b[0m\u001b[0;34m\u001b[0m\u001b[0m\n\u001b[1;32m    933\u001b[0m                 \u001b[0mnumber\u001b[0m \u001b[0;34m*=\u001b[0m \u001b[0;36m10\u001b[0m\u001b[0;34m\u001b[0m\u001b[0m\n",
        "\u001b[0;32m/Users/jbloom/anaconda/python.app/Contents/lib/python2.7/timeit.pyc\u001b[0m in \u001b[0;36mtimeit\u001b[0;34m(self, number)\u001b[0m\n\u001b[1;32m    193\u001b[0m         \u001b[0mgc\u001b[0m\u001b[0;34m.\u001b[0m\u001b[0mdisable\u001b[0m\u001b[0;34m(\u001b[0m\u001b[0;34m)\u001b[0m\u001b[0;34m\u001b[0m\u001b[0m\n\u001b[1;32m    194\u001b[0m         \u001b[0;32mtry\u001b[0m\u001b[0;34m:\u001b[0m\u001b[0;34m\u001b[0m\u001b[0m\n\u001b[0;32m--> 195\u001b[0;31m             \u001b[0mtiming\u001b[0m \u001b[0;34m=\u001b[0m \u001b[0mself\u001b[0m\u001b[0;34m.\u001b[0m\u001b[0minner\u001b[0m\u001b[0;34m(\u001b[0m\u001b[0mit\u001b[0m\u001b[0;34m,\u001b[0m \u001b[0mself\u001b[0m\u001b[0;34m.\u001b[0m\u001b[0mtimer\u001b[0m\u001b[0;34m)\u001b[0m\u001b[0;34m\u001b[0m\u001b[0m\n\u001b[0m\u001b[1;32m    196\u001b[0m         \u001b[0;32mfinally\u001b[0m\u001b[0;34m:\u001b[0m\u001b[0;34m\u001b[0m\u001b[0m\n\u001b[1;32m    197\u001b[0m             \u001b[0;32mif\u001b[0m \u001b[0mgcold\u001b[0m\u001b[0;34m:\u001b[0m\u001b[0;34m\u001b[0m\u001b[0m\n",
        "\u001b[0;32m<magic-timeit>\u001b[0m in \u001b[0;36minner\u001b[0;34m(_it, _timer)\u001b[0m\n",
        "\u001b[0;32m/Users/jbloom/.ipython/cython/_cython_magic_6467a1832e1d20571f747b62e3ad7fba.so\u001b[0m in \u001b[0;36m_cython_magic_6467a1832e1d20571f747b62e3ad7fba.my_poly (/Users/jbloom/.ipython/cython/_cython_magic_6467a1832e1d20571f747b62e3ad7fba.c:844)\u001b[0;34m()\u001b[0m\n",
        "\u001b[0;31mTypeError\u001b[0m: only length-1 arrays can be converted to Python scalars"
       ]
      }
     ],
     "prompt_number": 36
    },
    {
     "cell_type": "markdown",
     "metadata": {},
     "source": [
      "<!-- \n",
      "%load /home/pi/cur/python-seminar/Lectures/11_Cython/problems/fast_poly/fast_poly.pyx\n",
      "-->"
     ]
    },
    {
     "cell_type": "markdown",
     "metadata": {},
     "source": [
      "# Profiling\n",
      "\n",
      "You already know that Python comes with batteries include, and performance profiling is no exception.\n",
      "\n",
      "You can keep track of how much time each *function* is taking up using tools from the standard library.\n",
      "\n",
      "Here's the [documentation of `profile` and `cProfile`](http://docs.python.org/2/library/profile.html), but you probably won't need to use them directly. \n",
      "\n",
      "## There's a magic for that!\n",
      "\n",
      "### `%timeit` to learn how long it takes a chunk of code to run\n",
      "\n",
      "### `%prun` for function-by-function breakdown of code in your namespace\n",
      "\n",
      "### `%run -p` for function-by-function breakdown of running a whole file"
     ]
    },
    {
     "cell_type": "code",
     "collapsed": false,
     "input": [
      "cd demos/profile"
     ],
     "language": "python",
     "metadata": {},
     "outputs": [
      {
       "output_type": "stream",
       "stream": "stdout",
       "text": [
        "/Users/jbloom/Classes/python-seminar/Lectures/11_Cython/demos/profile\n"
       ]
      }
     ],
     "prompt_number": 37
    },
    {
     "cell_type": "code",
     "collapsed": false,
     "input": [
      "ls"
     ],
     "language": "python",
     "metadata": {},
     "outputs": [
      {
       "output_type": "stream",
       "stream": "stdout",
       "text": [
        "\u001b[31mprofile\u001b[m\u001b[m*          profile.txt       \u001b[31msnake.sh\u001b[m\u001b[m*         sometask.profile  sometask.py\r\n"
       ]
      }
     ],
     "prompt_number": 38
    },
    {
     "cell_type": "code",
     "collapsed": false,
     "input": [
      "!cat sometask.py"
     ],
     "language": "python",
     "metadata": {},
     "outputs": [
      {
       "output_type": "stream",
       "stream": "stdout",
       "text": [
        "import numpy as np\r\n",
        "\r\n",
        "def expensive_square(x):\r\n",
        "    x = x.copy()\r\n",
        "    for i in range(x.size):\r\n",
        "        x[i] = x[i] ** 2\r\n",
        "\r\n",
        "    return x\r\n",
        "\r\n",
        "def cheap_square(x):\r\n",
        "    return x**2\r\n",
        "\r\n",
        "square = expensive_square\r\n",
        "#square = cheap_square\r\n",
        "\r\n",
        "def execute():\r\n",
        "    print \"Squaring some numbers...\"\r\n",
        "    x = np.arange((500000))\r\n",
        "    y = square(x)\r\n",
        "\r\n",
        "#    np.testing.assert_equal(x**2, y)\r\n",
        "\r\n",
        "if __name__ == \"__main__\":\r\n",
        "    execute()\r\n"
       ]
      }
     ],
     "prompt_number": 39
    },
    {
     "cell_type": "code",
     "collapsed": false,
     "input": [
      "import sometask"
     ],
     "language": "python",
     "metadata": {},
     "outputs": [],
     "prompt_number": 40
    },
    {
     "cell_type": "markdown",
     "metadata": {},
     "source": [
      "## %prun"
     ]
    },
    {
     "cell_type": "code",
     "collapsed": false,
     "input": [
      "%prun sometask.execute()"
     ],
     "language": "python",
     "metadata": {},
     "outputs": [
      {
       "output_type": "stream",
       "stream": "stdout",
       "text": [
        "Squaring some numbers...\n"
       ]
      },
      {
       "output_type": "stream",
       "stream": "stdout",
       "text": [
        "\n"
       ]
      }
     ],
     "prompt_number": 41
    },
    {
     "cell_type": "markdown",
     "metadata": {},
     "source": [
      "## %run -p\n"
     ]
    },
    {
     "cell_type": "code",
     "collapsed": false,
     "input": [
      "%run -p sometask.py"
     ],
     "language": "python",
     "metadata": {},
     "outputs": [
      {
       "output_type": "stream",
       "stream": "stdout",
       "text": [
        "Squaring some numbers...\n"
       ]
      },
      {
       "output_type": "stream",
       "stream": "stdout",
       "text": [
        "\n"
       ]
      }
     ],
     "prompt_number": 42
    },
    {
     "cell_type": "markdown",
     "metadata": {},
     "source": [
      "With the `-D` flag, you can dump the profile to binary file that external tools can use.\n",
      "\n",
      "\n",
      "You  can also produce this .profile without IPython using:\n",
      "\n",
      "    python -m cProfile -o sometask.profile sometask.py"
     ]
    },
    {
     "cell_type": "code",
     "collapsed": false,
     "input": [
      "%run -p -D sometask.profile sometask.py"
     ],
     "language": "python",
     "metadata": {},
     "outputs": [
      {
       "output_type": "stream",
       "stream": "stdout",
       "text": [
        "Squaring some numbers...\n"
       ]
      },
      {
       "output_type": "stream",
       "stream": "stdout",
       "text": [
        " \n",
        "*** Profile stats marshalled to file u'sometask.profile'. \n"
       ]
      }
     ],
     "prompt_number": 43
    },
    {
     "cell_type": "markdown",
     "metadata": {},
     "source": [
      "#### runsnakerun"
     ]
    },
    {
     "cell_type": "code",
     "collapsed": false,
     "input": [
      "!runsnake sometask.profile"
     ],
     "language": "python",
     "metadata": {},
     "outputs": [
      {
       "output_type": "stream",
       "stream": "stdout",
       "text": [
        "Traceback (most recent call last):\r\n",
        "  File \"/Library/Frameworks/EPD64.framework/Versions/Current/bin/runsnake32\", line 9, in <module>\r\n",
        "    load_entry_point('RunSnakeRun==2.0.2b1', 'gui_scripts', 'runsnake32')()\r\n",
        "  File \"/Library/Frameworks/EPD64.framework/Versions/7.3/lib/python2.7/site-packages/pkg_resources.py\", line 343, in load_entry_point\r\n",
        "    return get_distribution(dist).load_entry_point(group, name)\r\n",
        "  File \"/Library/Frameworks/EPD64.framework/Versions/7.3/lib/python2.7/site-packages/pkg_resources.py\", line 2354, in load_entry_point\r\n",
        "    return ep.load()\r\n",
        "  File \"/Library/Frameworks/EPD64.framework/Versions/7.3/lib/python2.7/site-packages/pkg_resources.py\", line 2060, in load\r\n",
        "    entry = __import__(self.module_name, globals(),globals(), ['__name__'])\r\n",
        "  File \"/Library/Frameworks/EPD64.framework/Versions/7.3/lib/python2.7/site-packages/runsnakerun/runsnake.py\", line 11, in <module>\r\n",
        "    from squaremap import squaremap\r\n",
        "  File \"/Library/Frameworks/EPD64.framework/Versions/7.3/lib/python2.7/site-packages/squaremap/squaremap.py\", line 3, in <module>\r\n",
        "    import wx.lib.newevent\r\n",
        "ImportError: No module named lib.newevent\r\n"
       ]
      }
     ],
     "prompt_number": 44
    },
    {
     "cell_type": "markdown",
     "metadata": {},
     "source": [
      "## Exercise\n",
      "\n",
      "1. With a partner, have one of you log into Github, fork [this gist](http://git.io/Pq37pQ)\n",
      "\n",
      "1. modify it together so that all functions perform some computation, but the whole thing doesn't take too long to run (1-5 second). \n",
      "\n",
      "   * You can use numpy in some of them, if you'd like, but be sure to include some for loops, as well. \n",
      "   * The template is there just to get you started, feel free to modify the parameters, or add new functions as you see fit.\n",
      "\n",
      "1. Update your gist with this new code, and hand it off to another pair (who will give you theirs).\n",
      "\n",
      "1. Fork and clone the other pair's program.\n",
      "\n",
      "1. Now, without looking at the code, profile this code to identify the bottleneck. \n",
      "\n",
      "1. Put a comment next to the function that eats up the most time. \n",
      "\n",
      "1. Time permitting, numpy-fy and Cython-ize the offending function\n",
      "\n",
      "1. Time permitting, change the parameters used in main to make a *different* function the bottleneck.\n",
      "\n"
     ]
    },
    {
     "cell_type": "code",
     "collapsed": false,
     "input": [],
     "language": "python",
     "metadata": {},
     "outputs": []
    },
    {
     "cell_type": "markdown",
     "metadata": {},
     "source": [
      "## Profiling line-by-line\n",
      "\n",
      "    %lprun\n",
      "    \n",
      "This magic is not built into IPython, it is provided by the [line_profiler package by Robert Kern](http://pythonhosted.org/line_profiler/)."
     ]
    },
    {
     "cell_type": "code",
     "collapsed": false,
     "input": [
      "!easy_install --user line-profiler"
     ],
     "language": "python",
     "metadata": {},
     "outputs": [
      {
       "output_type": "stream",
       "stream": "stdout",
       "text": [
        "Traceback (most recent call last):\r\n",
        "  File \"/home/pi/.local/bin/easy_install\", line 5, in <module>\r\n",
        "    from pkg_resources import load_entry_point\r\n",
        "  File \"/usr/lib/python2.7/dist-packages/pkg_resources.py\", line 2881, in <module>\r\n",
        "    parse_requirements(__requires__), Environment()\r\n",
        "  File \"/usr/lib/python2.7/dist-packages/pkg_resources.py\", line 596, in resolve\r\n",
        "    raise DistributionNotFound(req)\r\n",
        "pkg_resources.DistributionNotFound: distribute==0.6.45\r\n"
       ]
      }
     ],
     "prompt_number": 1
    },
    {
     "cell_type": "code",
     "collapsed": false,
     "input": [
      "%load_ext line_profiler"
     ],
     "language": "python",
     "metadata": {},
     "outputs": [],
     "prompt_number": 8
    },
    {
     "cell_type": "markdown",
     "metadata": {},
     "source": [
      "Run the code, but only run the line profiler on the function `square()`"
     ]
    },
    {
     "cell_type": "code",
     "collapsed": false,
     "input": [
      "import sometask"
     ],
     "language": "python",
     "metadata": {},
     "outputs": [],
     "prompt_number": 9
    },
    {
     "cell_type": "code",
     "collapsed": false,
     "input": [
      "%lprun -f sometask.square sometask.execute()"
     ],
     "language": "python",
     "metadata": {},
     "outputs": [
      {
       "output_type": "stream",
       "stream": "stdout",
       "text": [
        "Squaring some numbers...\n"
       ]
      },
      {
       "output_type": "stream",
       "stream": "stdout",
       "text": [
        "\n"
       ]
      }
     ],
     "prompt_number": 10
    },
    {
     "cell_type": "markdown",
     "metadata": {},
     "source": [
      "## Profiling memory usage (line-by-line)\n",
      "\n",
      "    %mprun\n",
      "    \n",
      "        \n",
      "This magic is not built into IPython, it is provided by the [memory_profiler package by Fabian Pedregosa](https://pypi.python.org/pypi/memory_profiler)."
     ]
    },
    {
     "cell_type": "code",
     "collapsed": false,
     "input": [
      "!pip install --user  memory_profiler"
     ],
     "language": "python",
     "metadata": {},
     "outputs": [
      {
       "output_type": "stream",
       "stream": "stdout",
       "text": [
        "Downloading/unpacking memory-profiler\r\n"
       ]
      },
      {
       "output_type": "stream",
       "stream": "stdout",
       "text": [
        "  Downloading memory_profiler-0.30.tar.gz\r\n",
        "  Running setup.py egg_info for package memory-profiler\r\n"
       ]
      },
      {
       "output_type": "stream",
       "stream": "stdout",
       "text": [
        "    \r\n"
       ]
      },
      {
       "output_type": "stream",
       "stream": "stdout",
       "text": [
        "Installing collected packages: memory-profiler\r\n",
        "  Running setup.py install for memory-profiler\r\n"
       ]
      },
      {
       "output_type": "stream",
       "stream": "stdout",
       "text": [
        "    changing mode of build/scripts-2.7/mprof from 644 to 755\r\n",
        "    \r\n"
       ]
      },
      {
       "output_type": "stream",
       "stream": "stdout",
       "text": [
        "    changing mode of /home/pi/.local/bin/mprof to 755\r\n",
        "Successfully installed memory-profiler\r\n",
        "Cleaning up...\r\n"
       ]
      }
     ],
     "prompt_number": 14
    },
    {
     "cell_type": "code",
     "collapsed": false,
     "input": [
      "%load_ext memory_profiler"
     ],
     "language": "python",
     "metadata": {},
     "outputs": [
      {
       "output_type": "stream",
       "stream": "stdout",
       "text": [
        "The memory_profiler extension is already loaded. To reload it, use:\n",
        "  %reload_ext memory_profiler\n"
       ]
      }
     ],
     "prompt_number": 11
    },
    {
     "cell_type": "code",
     "collapsed": false,
     "input": [
      "%mprun?"
     ],
     "language": "python",
     "metadata": {},
     "outputs": [],
     "prompt_number": 4
    },
    {
     "cell_type": "code",
     "collapsed": false,
     "input": [
      "import sometask"
     ],
     "language": "python",
     "metadata": {},
     "outputs": [],
     "prompt_number": 13
    },
    {
     "cell_type": "code",
     "collapsed": false,
     "input": [
      "%mprun -f sometask.square sometask.execute()"
     ],
     "language": "python",
     "metadata": {},
     "outputs": [
      {
       "output_type": "stream",
       "stream": "stdout",
       "text": [
        "Squaring some numbers...\n",
        "('',)"
       ]
      },
      {
       "output_type": "stream",
       "stream": "stdout",
       "text": [
        "\n"
       ]
      }
     ],
     "prompt_number": 12
    },
    {
     "cell_type": "markdown",
     "metadata": {},
     "source": [
      "# Other tools for profiling:\n",
      "\n",
      "[gprof](http://en.wikipedia.org/wiki/Gprof) -- command line profiling tool for C code. [GNU Gprof documentation](https://sourceware.org/binutils/docs/gprof/) is pretty good.\n",
      "\n",
      "[valgrind](http://valgrind.org/docs/manual/cl-manual.html) -- very complex suite for analyzing callgrind and kcachegrind. \"*Valgrind is an instrumentation framework for building dynamic analysis tools. There are Valgrind tools that can automatically detect many memory management and threading bugs, and profile your programs in detail.*\""
     ]
    },
    {
     "cell_type": "markdown",
     "metadata": {},
     "source": [
      "# References:\n",
      "\n",
      "[Cython Profiling Tutorial](http://docs.cython.org/src/tutorial/profiling_tutorial.html) : from Cython's official docs\n",
      "\n",
      "[Timing and Profiling in IPython](http://pynash.org/2013/03/06/timing-and-profiling.html) : Blogpost at the PyNashville"
     ]
    },
    {
     "cell_type": "markdown",
     "metadata": {},
     "source": [
      "# Thank you.\n",
      "\n",
      "### \"Only ugly languages become popular. Python is the one exception.\" -- *Don Knuth, to [me](https://twitter.com/ivanov/status/243244721034637312) (!!)*\n",
      "\n",
      "\n",
      "![http://i.imgur.com/B3W96Px.jpg](http://i.imgur.com/B3W96Px.jpg)"
     ]
    }
   ],
   "metadata": {}
  }
 ]
}