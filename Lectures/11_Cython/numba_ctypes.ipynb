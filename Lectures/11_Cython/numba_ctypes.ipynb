{
 "metadata": {
  "name": ""
 },
 "nbformat": 3,
 "nbformat_minor": 0,
 "worksheets": [
  {
   "cells": [
    {
     "cell_type": "markdown",
     "metadata": {},
     "source": [
      "<h1>Making Python Faster</h1>\n",
      "<h2> ... and using legacy code</h2>\n",
      "\n",
      "- we've already seen `numexpr`, parallelization, etc.\n",
      "\n",
      "- Python is _slow_ ... it's interpreted on the fly\n",
      "\n",
      "- no static typing ... even integers are objects (bulky memory!)\n",
      "\n",
      "- what if we want to write Python, but use it as a *glue* to fast C-code?"
     ]
    },
    {
     "cell_type": "markdown",
     "metadata": {},
     "source": [
      "<pre>\n",
      "Premature optimization is the root of all evil \n",
      "   -- Donald Knuth\n",
      "</pre>\n",
      "\n",
      "<pre>\n",
      "C is premature optimization\n",
      "   -- Plato\n",
      "</pre>"
     ]
    },
    {
     "cell_type": "markdown",
     "metadata": {},
     "source": [
      "## Profiling ##"
     ]
    },
    {
     "cell_type": "code",
     "collapsed": false,
     "input": [
      "import cProfile\n",
      "import re\n",
      "cProfile.run('re.compile(\"foo|bar\")') # run a piece of code"
     ],
     "language": "python",
     "metadata": {},
     "outputs": []
    },
    {
     "cell_type": "code",
     "collapsed": false,
     "input": [
      "import cProfile, pstats, StringIO\n",
      "pr = cProfile.Profile()\n",
      "pr.enable()\n",
      "\n",
      "# here's the code you want to profile\n",
      "def waste_of_time(n=1000):\n",
      "    [x for x in xrange(n)]\n",
      "[waste_of_time(y) for y in range(10000)]\n",
      "## end of code you want to profile\n",
      "\n",
      "pr.disable()\n",
      "s = StringIO.StringIO()\n",
      "sortby = 'cumulative'\n",
      "ps = pstats.Stats(pr, stream=s).sort_stats(sortby)\n",
      "ps.print_stats()\n",
      "print s.getvalue()"
     ],
     "language": "python",
     "metadata": {},
     "outputs": []
    },
    {
     "cell_type": "markdown",
     "metadata": {},
     "source": [
      "Calculate the variance\n",
      "\n",
      "$$\\sigma^2 = \\frac {\\sum_{i=1}^N (x_i - \\sum_{j=1}^N x_j/N)^2}{N - 1}. $$\n",
      "\n",
      "problem here is that you must first pass over all the data (to get the mean) then pass over the data again.  There's a bunch of Pythonic ways to do this. Here's a few..."
     ]
    },
    {
     "cell_type": "code",
     "collapsed": false,
     "input": [
      "def variance(data):\n",
      "    sample_mean = 0.0\n",
      "    \n",
      "    # 1st loop\n",
      "    for x in data:\n",
      "        sample_mean += float(x)\n",
      "        \n",
      "    # second loop\n",
      "    sum_of_squared_errors = 0.0\n",
      "    for x in data:\n",
      "        sum_of_squared_errors += (float(x) - sample_mean) ** 2\n",
      "    \n",
      "    return sum_of_squared_errors / (float(len(data)) - 1.0)\n",
      "    \n",
      "def variance0(data):\n",
      "   sample_mean = sum(data) / len(data) # loop 1\n",
      "   sum_of_squared_errors = sum((i - sample_mean) ** 2 for i in data) # loop 2\n",
      "   return sum_of_squared_errors / (len(data) - 1)\n",
      "\n",
      "def variance1(data):\n",
      "    mean = float(reduce(lambda x,y : x+y, data)) / len(data)\n",
      "    return reduce(lambda x,y: x+y, map(lambda xi: (xi-mean)**2, data))/ (len(data) - 1)"
     ],
     "language": "python",
     "metadata": {},
     "outputs": []
    },
    {
     "cell_type": "code",
     "collapsed": false,
     "input": [
      "%timeit variance(range(100000))"
     ],
     "language": "python",
     "metadata": {},
     "outputs": []
    },
    {
     "cell_type": "code",
     "collapsed": false,
     "input": [
      "%timeit variance0(range(100000))"
     ],
     "language": "python",
     "metadata": {},
     "outputs": []
    },
    {
     "cell_type": "code",
     "collapsed": false,
     "input": [
      "%timeit variance1(range(100000))"
     ],
     "language": "python",
     "metadata": {},
     "outputs": []
    },
    {
     "cell_type": "markdown",
     "metadata": {},
     "source": [
      "We'd like to do this with just one pass over the data. Have a look at Welford's Method (1962):"
     ]
    },
    {
     "cell_type": "code",
     "collapsed": false,
     "input": [
      "def online_variance(data):\n",
      "    mean,M2= 0.,0.\n",
      "    for n,d in enumerate(data):\n",
      "        delta = d - mean\n",
      "        mean += delta/(n + 1)\n",
      "        M2 += delta*(d - mean)  \n",
      "    return M2/n"
     ],
     "language": "python",
     "metadata": {},
     "outputs": []
    },
    {
     "cell_type": "code",
     "collapsed": false,
     "input": [
      "%timeit online_variance(range(100000))"
     ],
     "language": "python",
     "metadata": {},
     "outputs": []
    },
    {
     "cell_type": "markdown",
     "metadata": {},
     "source": [
      "## Numba  ##\n",
      "\n",
      "LLVM compiler for python (brought to you by Continuum). In short: Python code cab be converted to highly efficient compiled code in real-time. \n",
      "\n",
      "   `pip install numba`\n",
      "\n",
      "Should be on everyone's conda installation already. But you might want to update (it's been changed recently):\n",
      "\n",
      "   `conda update numba`\n"
     ]
    },
    {
     "cell_type": "code",
     "collapsed": false,
     "input": [
      "import numba\n",
      "numba.__version__"
     ],
     "language": "python",
     "metadata": {},
     "outputs": []
    },
    {
     "cell_type": "markdown",
     "metadata": {},
     "source": [
      "How compilers usually work:\n",
      "\n",
      "<img src=\"http://www.aosabook.org/images/llvm/SimpleCompiler.png\">\n",
      "\n",
      "How LLVM works:\n",
      "\n",
      "<img src=\"http://www.aosabook.org/images/llvm/RetargetableCompiler.png\">\n",
      "\n",
      "Credit: http://www.aosabook.org/en/llvm.html"
     ]
    },
    {
     "cell_type": "markdown",
     "metadata": {},
     "source": [
      "Numba two major decorators: `jit` and `autojit`.\n",
      "\n",
      "The `@jit` decorator returns a compiled version of the function using the input types and the output types of the function. You can specify the type using out_type(in_type, ...) syntax. Array inputs can be specified using `[:,:]` appended to the type.\n",
      "\n",
      "The `@autojit` decorator does not require you to specify any types. It watches for what types you call the function with and infers the type of the return. If there is a previously compiled version of the code available it uses it, if not it generates machine code for the function and then executes that code.\n",
      "\n",
      "(Via http://nbviewer.ipython.org/urls/raw.github.com/aterrel/HPCPythonSC2012/master/02_Speeding_Python.ipynb)"
     ]
    },
    {
     "cell_type": "code",
     "collapsed": false,
     "input": [
      "from numba import double\n",
      "from numba.decorators import jit, autojit\n",
      "\n",
      "numba_variance = autojit(variance)\n",
      "numba_ovariance = autojit(online_variance)\n",
      "\n",
      "%timeit numba_variance(range(100000))\n",
      "%timeit numba_ovariance(range(100000))"
     ],
     "language": "python",
     "metadata": {},
     "outputs": []
    },
    {
     "cell_type": "markdown",
     "metadata": {},
     "source": [
      "List comprehension and other fancy Python tricks are not supported yet in numba"
     ]
    },
    {
     "cell_type": "code",
     "collapsed": false,
     "input": [
      "numba_variance = autojit(variance0)\n",
      "%timeit numba_variance(range(100000))"
     ],
     "language": "python",
     "metadata": {},
     "outputs": []
    },
    {
     "cell_type": "code",
     "collapsed": false,
     "input": [
      "import numpy\n",
      "\n",
      "def filter2d(image, filt):\n",
      "    M, N = image.shape\n",
      "    Mf, Nf = filt.shape\n",
      "    Mf2 = Mf // 2\n",
      "    Nf2 = Nf // 2\n",
      "    result = numpy.zeros_like(image)\n",
      "    for i in range(Mf2, M - Mf2):\n",
      "        for j in range(Nf2, N - Nf2):\n",
      "            num = 0.0\n",
      "            for ii in range(Mf):\n",
      "                for jj in range(Nf):\n",
      "                    num += (filt[Mf-1-ii, Nf-1-jj] * image[i-Mf2+ii, j-Nf2+jj])\n",
      "            result[i, j] = num\n",
      "    return result\n",
      "\n",
      "# This kind of quadruply-nested for-loop is going to be quite slow.\n",
      "# Using Numba we can compile this code to LLVM which then gets\n",
      "# compiled to machine code:\n",
      "\n",
      "from numba import double, jit\n",
      "\n",
      "numbafilter_2d = jit(double[:,:](double[:,:], double[:,:]))(filter2d)\n",
      "\n",
      "# Now fastfilter_2d runs at speeds as if you had first translated\n",
      "# it to C, compiled the code and wrapped it with Python\n",
      "image = numpy.random.random((100, 100))\n",
      "filt = numpy.random.random((10, 10))\n",
      "res = numbafilter_2d(image, filt)"
     ],
     "language": "python",
     "metadata": {},
     "outputs": []
    },
    {
     "cell_type": "code",
     "collapsed": false,
     "input": [
      "%timeit numbafilter_2d(image, filt)"
     ],
     "language": "python",
     "metadata": {},
     "outputs": []
    },
    {
     "cell_type": "code",
     "collapsed": false,
     "input": [
      "%timeit filter2d(image, filt)"
     ],
     "language": "python",
     "metadata": {},
     "outputs": []
    },
    {
     "cell_type": "code",
     "collapsed": false,
     "input": [
      "%pylab inline"
     ],
     "language": "python",
     "metadata": {},
     "outputs": []
    },
    {
     "cell_type": "code",
     "collapsed": false,
     "input": [
      "imshow(filt)"
     ],
     "language": "python",
     "metadata": {},
     "outputs": []
    },
    {
     "cell_type": "markdown",
     "metadata": {},
     "source": [
      "<img src=\"http://pypy.org/image/pypy-logo.png\">\n",
      "\n",
      "Python interpreter and C/JIT compiler. See http://pypy.org/"
     ]
    },
    {
     "cell_type": "markdown",
     "metadata": {},
     "source": [
      "## Ctypes ##"
     ]
    },
    {
     "cell_type": "code",
     "collapsed": false,
     "input": [
      "from ctypes import *"
     ],
     "language": "python",
     "metadata": {},
     "outputs": []
    },
    {
     "cell_type": "code",
     "collapsed": false,
     "input": [
      "p = create_string_buffer(\"Hello\", 10)  # create a 10 byte buffer"
     ],
     "language": "python",
     "metadata": {},
     "outputs": []
    },
    {
     "cell_type": "code",
     "collapsed": false,
     "input": [
      "p"
     ],
     "language": "python",
     "metadata": {},
     "outputs": []
    },
    {
     "cell_type": "code",
     "collapsed": false,
     "input": [
      "p.value"
     ],
     "language": "python",
     "metadata": {},
     "outputs": []
    },
    {
     "cell_type": "code",
     "collapsed": false,
     "input": [
      "print sizeof(p) ; repr(p.raw)"
     ],
     "language": "python",
     "metadata": {},
     "outputs": []
    },
    {
     "cell_type": "code",
     "collapsed": false,
     "input": [
      "repr(p.raw)"
     ],
     "language": "python",
     "metadata": {},
     "outputs": []
    },
    {
     "cell_type": "code",
     "collapsed": false,
     "input": [
      "p.value = \"Bye.\""
     ],
     "language": "python",
     "metadata": {},
     "outputs": []
    },
    {
     "cell_type": "code",
     "collapsed": false,
     "input": [
      "print sizeof(p) ; repr(p.raw)"
     ],
     "language": "python",
     "metadata": {},
     "outputs": []
    },
    {
     "cell_type": "markdown",
     "metadata": {},
     "source": [
      "<table border=\"1\" class=\"docutils\">\n",
      "<colgroup>\n",
      "<col width=\"24%\" />\n",
      "<col width=\"46%\" />\n",
      "<col width=\"30%\" />\n",
      "</colgroup>\n",
      "<thead valign=\"bottom\">\n",
      "<tr><th class=\"head\">ctypes type</th>\n",
      "<th class=\"head\">C type</th>\n",
      "<th class=\"head\">Python type</th>\n",
      "</tr>\n",
      "</thead>\n",
      "<tbody valign=\"top\">\n",
      "<tr><td><a class=\"reference internal\" href=\"#ctypes.c_bool\" title=\"ctypes.c_bool\"><tt class=\"xref py py-class docutils literal\"><span class=\"pre\">c_bool</span></tt></a></td>\n",
      "<td><tt class=\"xref c c-type docutils literal\"><span class=\"pre\">_Bool</span></tt></td>\n",
      "<td>bool (1)</td>\n",
      "</tr>\n",
      "<tr><td><a class=\"reference internal\" href=\"#ctypes.c_char\" title=\"ctypes.c_char\"><tt class=\"xref py py-class docutils literal\"><span class=\"pre\">c_char</span></tt></a></td>\n",
      "<td><tt class=\"xref c c-type docutils literal\"><span class=\"pre\">char</span></tt></td>\n",
      "<td>1-character string</td>\n",
      "</tr>\n",
      "<tr><td><a class=\"reference internal\" href=\"#ctypes.c_wchar\" title=\"ctypes.c_wchar\"><tt class=\"xref py py-class docutils literal\"><span class=\"pre\">c_wchar</span></tt></a></td>\n",
      "<td><tt class=\"xref c c-type docutils literal\"><span class=\"pre\">wchar_t</span></tt></td>\n",
      "<td>1-character unicode string</td>\n",
      "</tr>\n",
      "<tr><td><a class=\"reference internal\" href=\"#ctypes.c_byte\" title=\"ctypes.c_byte\"><tt class=\"xref py py-class docutils literal\"><span class=\"pre\">c_byte</span></tt></a></td>\n",
      "<td><tt class=\"xref c c-type docutils literal\"><span class=\"pre\">char</span></tt></td>\n",
      "<td>int/long</td>\n",
      "</tr>\n",
      "<tr><td><a class=\"reference internal\" href=\"#ctypes.c_ubyte\" title=\"ctypes.c_ubyte\"><tt class=\"xref py py-class docutils literal\"><span class=\"pre\">c_ubyte</span></tt></a></td>\n",
      "<td><tt class=\"xref c c-type docutils literal\"><span class=\"pre\">unsigned</span> <span class=\"pre\">char</span></tt></td>\n",
      "<td>int/long</td>\n",
      "</tr>\n",
      "<tr><td><a class=\"reference internal\" href=\"#ctypes.c_short\" title=\"ctypes.c_short\"><tt class=\"xref py py-class docutils literal\"><span class=\"pre\">c_short</span></tt></a></td>\n",
      "<td><tt class=\"xref c c-type docutils literal\"><span class=\"pre\">short</span></tt></td>\n",
      "<td>int/long</td>\n",
      "</tr>\n",
      "<tr><td><a class=\"reference internal\" href=\"#ctypes.c_ushort\" title=\"ctypes.c_ushort\"><tt class=\"xref py py-class docutils literal\"><span class=\"pre\">c_ushort</span></tt></a></td>\n",
      "<td><tt class=\"xref c c-type docutils literal\"><span class=\"pre\">unsigned</span> <span class=\"pre\">short</span></tt></td>\n",
      "<td>int/long</td>\n",
      "</tr>\n",
      "<tr><td><a class=\"reference internal\" href=\"#ctypes.c_int\" title=\"ctypes.c_int\"><tt class=\"xref py py-class docutils literal\"><span class=\"pre\">c_int</span></tt></a></td>\n",
      "<td><tt class=\"xref c c-type docutils literal\"><span class=\"pre\">int</span></tt></td>\n",
      "<td>int/long</td>\n",
      "</tr>\n",
      "<tr><td><a class=\"reference internal\" href=\"#ctypes.c_uint\" title=\"ctypes.c_uint\"><tt class=\"xref py py-class docutils literal\"><span class=\"pre\">c_uint</span></tt></a></td>\n",
      "<td><tt class=\"xref c c-type docutils literal\"><span class=\"pre\">unsigned</span> <span class=\"pre\">int</span></tt></td>\n",
      "<td>int/long</td>\n",
      "</tr>\n",
      "<tr><td><a class=\"reference internal\" href=\"#ctypes.c_long\" title=\"ctypes.c_long\"><tt class=\"xref py py-class docutils literal\"><span class=\"pre\">c_long</span></tt></a></td>\n",
      "<td><tt class=\"xref c c-type docutils literal\"><span class=\"pre\">long</span></tt></td>\n",
      "<td>int/long</td>\n",
      "</tr>\n",
      "<tr><td><a class=\"reference internal\" href=\"#ctypes.c_ulong\" title=\"ctypes.c_ulong\"><tt class=\"xref py py-class docutils literal\"><span class=\"pre\">c_ulong</span></tt></a></td>\n",
      "<td><tt class=\"xref c c-type docutils literal\"><span class=\"pre\">unsigned</span> <span class=\"pre\">long</span></tt></td>\n",
      "<td>int/long</td>\n",
      "</tr>\n",
      "<tr><td><a class=\"reference internal\" href=\"#ctypes.c_longlong\" title=\"ctypes.c_longlong\"><tt class=\"xref py py-class docutils literal\"><span class=\"pre\">c_longlong</span></tt></a></td>\n",
      "<td><tt class=\"xref c c-type docutils literal\"><span class=\"pre\">__int64</span></tt> or <tt class=\"xref c c-type docutils literal\"><span class=\"pre\">long</span> <span class=\"pre\">long</span></tt></td>\n",
      "<td>int/long</td>\n",
      "</tr>\n",
      "<tr><td><a class=\"reference internal\" href=\"#ctypes.c_ulonglong\" title=\"ctypes.c_ulonglong\"><tt class=\"xref py py-class docutils literal\"><span class=\"pre\">c_ulonglong</span></tt></a></td>\n",
      "<td><tt class=\"xref c c-type docutils literal\"><span class=\"pre\">unsigned</span> <span class=\"pre\">__int64</span></tt> or\n",
      "<tt class=\"xref c c-type docutils literal\"><span class=\"pre\">unsigned</span> <span class=\"pre\">long</span> <span class=\"pre\">long</span></tt></td>\n",
      "<td>int/long</td>\n",
      "</tr>\n",
      "<tr><td><a class=\"reference internal\" href=\"#ctypes.c_float\" title=\"ctypes.c_float\"><tt class=\"xref py py-class docutils literal\"><span class=\"pre\">c_float</span></tt></a></td>\n",
      "<td><tt class=\"xref c c-type docutils literal\"><span class=\"pre\">float</span></tt></td>\n",
      "<td>float</td>\n",
      "</tr>\n",
      "<tr><td><a class=\"reference internal\" href=\"#ctypes.c_double\" title=\"ctypes.c_double\"><tt class=\"xref py py-class docutils literal\"><span class=\"pre\">c_double</span></tt></a></td>\n",
      "<td><tt class=\"xref c c-type docutils literal\"><span class=\"pre\">double</span></tt></td>\n",
      "<td>float</td>\n",
      "</tr>\n",
      "<tr><td><a class=\"reference internal\" href=\"#ctypes.c_longdouble\" title=\"ctypes.c_longdouble\"><tt class=\"xref py py-class docutils literal\"><span class=\"pre\">c_longdouble</span></tt></a></td>\n",
      "<td><tt class=\"xref c c-type docutils literal\"><span class=\"pre\">long</span> <span class=\"pre\">double</span></tt></td>\n",
      "<td>float</td>\n",
      "</tr>\n",
      "<tr><td><a class=\"reference internal\" href=\"#ctypes.c_char_p\" title=\"ctypes.c_char_p\"><tt class=\"xref py py-class docutils literal\"><span class=\"pre\">c_char_p</span></tt></a></td>\n",
      "<td><tt class=\"xref c c-type docutils literal\"><span class=\"pre\">char</span> <span class=\"pre\">*</span></tt> (NUL terminated)</td>\n",
      "<td>string or <tt class=\"xref docutils literal\"><span class=\"pre\">None</span></tt></td>\n",
      "</tr>\n",
      "<tr><td><a class=\"reference internal\" href=\"#ctypes.c_wchar_p\" title=\"ctypes.c_wchar_p\"><tt class=\"xref py py-class docutils literal\"><span class=\"pre\">c_wchar_p</span></tt></a></td>\n",
      "<td><tt class=\"xref c c-type docutils literal\"><span class=\"pre\">wchar_t</span> <span class=\"pre\">*</span></tt> (NUL terminated)</td>\n",
      "<td>unicode or <tt class=\"xref docutils literal\"><span class=\"pre\">None</span></tt></td>\n",
      "</tr>\n",
      "<tr><td><a class=\"reference internal\" href=\"#ctypes.c_void_p\" title=\"ctypes.c_void_p\"><tt class=\"xref py py-class docutils literal\"><span class=\"pre\">c_void_p</span></tt></a></td>\n",
      "<td><tt class=\"xref c c-type docutils literal\"><span class=\"pre\">void</span> <span class=\"pre\">*</span></tt></td>\n",
      "<td>int/long or <tt class=\"xref docutils literal\"><span class=\"pre\">None</span></tt></td>\n",
      "</tr>\n",
      "</tbody>\n",
      "</table>"
     ]
    },
    {
     "cell_type": "code",
     "collapsed": false,
     "input": [
      "x = c_int(100)"
     ],
     "language": "python",
     "metadata": {},
     "outputs": []
    },
    {
     "cell_type": "code",
     "collapsed": false,
     "input": [
      "print x"
     ],
     "language": "python",
     "metadata": {},
     "outputs": []
    },
    {
     "cell_type": "code",
     "collapsed": false,
     "input": [
      "x.value"
     ],
     "language": "python",
     "metadata": {},
     "outputs": []
    },
    {
     "cell_type": "code",
     "collapsed": false,
     "input": [
      "sizeof(x)"
     ],
     "language": "python",
     "metadata": {},
     "outputs": []
    },
    {
     "cell_type": "code",
     "collapsed": false,
     "input": [
      "y = 100"
     ],
     "language": "python",
     "metadata": {},
     "outputs": []
    },
    {
     "cell_type": "code",
     "collapsed": false,
     "input": [
      "import sys\n",
      "sys.getsizeof(y)"
     ],
     "language": "python",
     "metadata": {},
     "outputs": []
    },
    {
     "cell_type": "code",
     "collapsed": false,
     "input": [
      "sys.getsizeof(x)"
     ],
     "language": "python",
     "metadata": {},
     "outputs": []
    },
    {
     "cell_type": "code",
     "collapsed": false,
     "input": [
      "id(y)"
     ],
     "language": "python",
     "metadata": {},
     "outputs": []
    },
    {
     "cell_type": "code",
     "collapsed": false,
     "input": [
      "id(x)"
     ],
     "language": "python",
     "metadata": {},
     "outputs": []
    },
    {
     "cell_type": "code",
     "collapsed": false,
     "input": [
      "%%file test.c\n",
      "#include <stdio.h>\n",
      "\n",
      "void myprint(void);\n",
      "\n",
      "void myprint()\n",
      "{\n",
      "    printf(\"hello world\\n\");\n",
      "}"
     ],
     "language": "python",
     "metadata": {},
     "outputs": []
    },
    {
     "cell_type": "code",
     "collapsed": false,
     "input": [
      "# linux\n",
      "#!gcc -shared -Wl,-soname,test -o test.so -fPIC test.c\n",
      "\n",
      "# or... for Mac OS X \n",
      "!gcc -shared -Wl,-install_name,testlib.so -o test.so -fPIC test.c"
     ],
     "language": "python",
     "metadata": {},
     "outputs": []
    },
    {
     "cell_type": "code",
     "collapsed": false,
     "input": [
      "%%file myctest.py\n",
      "import ctypes\n",
      "myctest = ctypes.CDLL('./test.so')\n",
      "myctest.myprint()"
     ],
     "language": "python",
     "metadata": {},
     "outputs": []
    },
    {
     "cell_type": "code",
     "collapsed": false,
     "input": [
      "%%file test1.c\n",
      "int add(int a, int b);\n",
      "\n",
      "int add(int a, int b)\n",
      "{\n",
      "    return(a+b);\n",
      "}"
     ],
     "language": "python",
     "metadata": {},
     "outputs": []
    },
    {
     "cell_type": "code",
     "collapsed": false,
     "input": [
      "!gcc -shared -Wl,-install_name,test1lib.so -o test1.so -fPIC test1.c"
     ],
     "language": "python",
     "metadata": {},
     "outputs": []
    },
    {
     "cell_type": "code",
     "collapsed": false,
     "input": [
      "from ctypes import *\n",
      "\n",
      "# load the shared object\n",
      "libtest = cdll.LoadLibrary('./test1.so')\n",
      "\n",
      "# call the function, yes it is as simple as that!\n",
      "print libtest.add(10, 20)"
     ],
     "language": "python",
     "metadata": {},
     "outputs": []
    },
    {
     "cell_type": "code",
     "collapsed": false,
     "input": [
      "%timeit libtest.add(10,20)"
     ],
     "language": "python",
     "metadata": {},
     "outputs": []
    },
    {
     "cell_type": "code",
     "collapsed": false,
     "input": [
      "%timeit sum([10,20])"
     ],
     "language": "python",
     "metadata": {},
     "outputs": []
    },
    {
     "cell_type": "code",
     "collapsed": false,
     "input": [
      "%timeit 10 + 20"
     ],
     "language": "python",
     "metadata": {},
     "outputs": []
    },
    {
     "cell_type": "markdown",
     "metadata": {},
     "source": [
      "For a whole lot of timing comparisons, see \n",
      "http://nbviewer.ipython.org/url/jakevdp.github.io/downloads/notebooks/NumbaCython.ipynb"
     ]
    },
    {
     "cell_type": "markdown",
     "metadata": {},
     "source": [
      "## f2py \n",
      "\n",
      "<pre>\n",
      "...automatically construct an extension module that interfaces to routines in Fortran 77/90/95 code. It has the ability to parse Fortran 77/90/95 code and automatically generate Python signatures for the subroutines it encounters, or you can guide how the subroutine interfaces with Python by constructing an interface-definition-file (or modifying the f2py-produced one).\n",
      "</pre>\n",
      "\n",
      "It's part of numpy!\n",
      "\n",
      "(http://docs.scipy.org/doc/numpy/user/c-info.python-as-glue.html#f2py)"
     ]
    },
    {
     "cell_type": "code",
     "collapsed": false,
     "input": [
      "%%file pairwise_fort.f\n",
      "\n",
      "      subroutine pairwise_fort(X,D,m,n)\n",
      "          integer :: n,m\n",
      "          double precision, intent(in) :: X(m,n)\n",
      "          double precision, intent(out) :: D(m,m) \n",
      "          integer :: i,j,k\n",
      "          double precision :: r \n",
      "          do i = 1,m \n",
      "              do j = 1,m \n",
      "                  r = 0\n",
      "                  do k = 1,n \n",
      "                      r = r + (X(i,k) - X(j,k)) * (X(i,k) - X(j,k)) \n",
      "                  end do \n",
      "                  D(i,j) = sqrt(r) \n",
      "              end do \n",
      "          end do \n",
      "      end subroutine pairwise_fort"
     ],
     "language": "python",
     "metadata": {},
     "outputs": []
    },
    {
     "cell_type": "code",
     "collapsed": false,
     "input": [
      "!f2py -c pairwise_fort.f -m pairwise_fort > /dev/null"
     ],
     "language": "python",
     "metadata": {},
     "outputs": []
    },
    {
     "cell_type": "code",
     "collapsed": false,
     "input": [
      "import numpy as np\n",
      "X = np.random.random((1000, 3))\n",
      "from pairwise_fort import pairwise_fort\n",
      "XF = np.asarray(X, order='F')\n",
      "%timeit pairwise_fort(XF)"
     ],
     "language": "python",
     "metadata": {},
     "outputs": []
    },
    {
     "cell_type": "code",
     "collapsed": false,
     "input": [],
     "language": "python",
     "metadata": {},
     "outputs": []
    }
   ],
   "metadata": {}
  }
 ]
}