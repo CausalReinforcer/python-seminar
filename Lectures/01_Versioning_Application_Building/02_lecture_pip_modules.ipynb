{
 "metadata": {
  "name": ""
 },
 "nbformat": 3,
 "nbformat_minor": 0,
 "worksheets": [
  {
   "cells": [
    {
     "cell_type": "markdown",
     "metadata": {},
     "source": [
      "<center>\n",
      "<h1>Python Application Building and Version Control</h1>\n",
      "<img src=\"http://i.imgur.com/91PUPZA.png\" width=20%>\n",
      "</center>\n",
      "\n",
      "<center>\n",
      "AY 250, Spring 2013; Josh Bloom\n",
      "</center>"
     ]
    },
    {
     "cell_type": "markdown",
     "metadata": {},
     "source": [
      "<h2>Important reminders</h2>\n",
      "<h3>Contact</h3>\n",
      "- email us: `ucbpythonclass+seminar@gmail.com`\n",
      "- Piazza: https://piazza.com/berkeley/fall2013/ay250/home\n",
      "<h3>Keeping up to Date</h3>\n",
      " Keep updated with the git repository:\n",
      "\n",
      "```bash\n",
      "git clone http://github.com/python-seminar.git\n",
      "# and keep updated by pulling often\n",
      "git pull\n",
      "```\n",
      "*We\u2019ll talk more about git later today*\n",
      "\n",
      "<h3>Help</h3>\n",
      " Monday help sessions will are 10am - noon, Evans 481\n"
     ]
    },
    {
     "cell_type": "markdown",
     "metadata": {},
     "source": [
      "<center><h1>Outline</h1></center>"
     ]
    },
    {
     "cell_type": "markdown",
     "metadata": {},
     "source": [
      "* Managing Packages - `pip`, `setup.py`, `virtualenv`, `conda`, ...\n",
      "* Command Line Parsing - `argparse`\n",
      "* Building Modules & Packages\n",
      "* Breakout\n",
      "* Version Control - `git` \n",
      "* Debugging & Testing - `pdb`, `ipy`, `%debug`, `pylint`, `pep8`, `nose`\n",
      "* Distribution - `distutils2`"
     ]
    },
    {
     "cell_type": "markdown",
     "metadata": {},
     "source": [
      "<h1>Getting Packages - `pip`</h1>\n",
      "\n",
      "* `pip` is a package manager for Python, similar to apt-get for Ubuntu or MacPorts/Homebrew for OSX \n",
      "* `easy_install` is the outdated version - still works, but is being phased out\n",
      "* These are all run from the command line (not within Python), it is automatically associated with your Python installation\n",
      "* Downloads packages from the official PyPI - the Python Package Index\n",
      "* May have to install `pip` using: `easy_install pip`)\n",
      "\n",
      "<h3>Enthought/Continuum Package Managers</h3>\n",
      "\n",
      "* The package manager for Anaconda is `conda`; `enpkg` is the manager for Enthought\n",
      "\n",
      "** In general, you should do `conda` before doing `pip` but the interactions between these two package managers shouldn't be too painful **"
     ]
    },
    {
     "cell_type": "markdown",
     "metadata": {},
     "source": [
      "## Installing a package ##\n",
      "\n",
      "One these *should* work for you (try in this order) on the command line:\n",
      "\n",
      "     conda install <pkg>  # or enpkg install simplejson\n",
      "     pip install <pkg>\n",
      "     sudo pip install <pkg>\n",
      "     easy_install <pkg>"
     ]
    },
    {
     "cell_type": "code",
     "collapsed": false,
     "input": [
      "!conda install simplejson"
     ],
     "language": "python",
     "metadata": {},
     "outputs": [
      {
       "output_type": "stream",
       "stream": "stdout",
       "text": [
        "Error: No packages found matching: simplejson\r\n"
       ]
      }
     ],
     "prompt_number": 1
    },
    {
     "cell_type": "code",
     "collapsed": false,
     "input": [
      "!pip install simplejson"
     ],
     "language": "python",
     "metadata": {},
     "outputs": [
      {
       "output_type": "stream",
       "stream": "stdout",
       "text": [
        "Downloading/unpacking simplejson\r\n",
        "  Running setup.py egg_info for package simplejson\r\n"
       ]
      },
      {
       "output_type": "stream",
       "stream": "stdout",
       "text": [
        "    \r\n",
        "Installing collected packages: simplejson\r\n",
        "  Running setup.py install for simplejson\r\n"
       ]
      },
      {
       "output_type": "stream",
       "stream": "stdout",
       "text": [
        "    \r\n"
       ]
      },
      {
       "output_type": "stream",
       "stream": "stdout",
       "text": [
        "Successfully installed simplejson\r\n",
        "Cleaning up...\r\n"
       ]
      }
     ],
     "prompt_number": 2
    },
    {
     "cell_type": "markdown",
     "metadata": {},
     "source": [
      "## upgrading ##\n",
      "\n",
      "    conda upgrade <pkg>\n",
      "    pip install --upgrade <pkg>\n",
      "    sudo pip install --upgrade <pkg>\n"
     ]
    },
    {
     "cell_type": "code",
     "collapsed": false,
     "input": [
      "!pip install --upgrade simplejson"
     ],
     "language": "python",
     "metadata": {},
     "outputs": [
      {
       "output_type": "stream",
       "stream": "stdout",
       "text": [
        "Requirement already up-to-date: simplejson in /Users/jbloom/anaconda/lib/python2.7/site-packages\r\n",
        "Cleaning up...\r\n"
       ]
      }
     ],
     "prompt_number": 3
    },
    {
     "cell_type": "markdown",
     "metadata": {},
     "source": [
      "## uninstalling ##\n",
      "\n",
      "    conda remove <pkg>\n",
      "    pip uninstall <pkg>\n",
      "    sudo pip uninstall <pkg>"
     ]
    },
    {
     "cell_type": "code",
     "collapsed": false,
     "input": [
      "!conda remove simplejson"
     ],
     "language": "python",
     "metadata": {},
     "outputs": [
      {
       "output_type": "stream",
       "stream": "stdout",
       "text": [
        "No packages found to remove from environment: /Users/jbloom/anaconda\r\n"
       ]
      }
     ],
     "prompt_number": 4
    },
    {
     "cell_type": "code",
     "collapsed": false,
     "input": [
      "!pip uninstall simplejson"
     ],
     "language": "python",
     "metadata": {},
     "outputs": [
      {
       "output_type": "stream",
       "stream": "stdout",
       "text": [
        "Uninstalling simplejson:\r\n",
        "  /Users/jbloom/anaconda/lib/python2.7/site-packages/simplejson-3.3.0-py2.7.egg-info\r\n",
        "  /Users/jbloom/anaconda/lib/python2.7/site-packages/simplejson/__init__.py\r\n",
        "  /Users/jbloom/anaconda/lib/python2.7/site-packages/simplejson/__init__.pyc\r\n",
        "  /Users/jbloom/anaconda/lib/python2.7/site-packages/simplejson/_speedups.so\r\n",
        "  /Users/jbloom/anaconda/lib/python2.7/site-packages/simplejson/compat.py\r\n",
        "  /Users/jbloom/anaconda/lib/python2.7/site-packages/simplejson/compat.pyc\r\n",
        "  /Users/jbloom/anaconda/lib/python2.7/site-packages/simplejson/decoder.py\r\n",
        "  /Users/jbloom/anaconda/lib/python2.7/site-packages/simplejson/decoder.pyc\r\n",
        "  /Users/jbloom/anaconda/lib/python2.7/site-packages/simplejson/encoder.py\r\n",
        "  /Users/jbloom/anaconda/lib/python2.7/site-packages/simplejson/encoder.pyc\r\n",
        "  /Users/jbloom/anaconda/lib/python2.7/site-packages/simplejson/ordered_dict.py\r\n",
        "  /Users/jbloom/anaconda/lib/python2.7/site-packages/simplejson/ordered_dict.pyc\r\n",
        "  /Users/jbloom/anaconda/lib/python2.7/site-packages/simplejson/scanner.py\r\n",
        "  /Users/jbloom/anaconda/lib/python2.7/site-packages/simplejson/scanner.pyc\r\n",
        "  /Users/jbloom/anaconda/lib/python2.7/site-packages/simplejson/tests/__init__.py\r\n",
        "  /Users/jbloom/anaconda/lib/python2.7/site-packages/simplejson/tests/__init__.pyc\r\n",
        "  /Users/jbloom/anaconda/lib/python2.7/site-packages/simplejson/tests/test_bigint_as_string.py\r\n",
        "  /Users/jbloom/anaconda/lib/python2.7/site-packages/simplejson/tests/test_bigint_as_string.pyc\r\n",
        "  /Users/jbloom/anaconda/lib/python2.7/site-packages/simplejson/tests/test_check_circular.py\r\n",
        "  /Users/jbloom/anaconda/lib/python2.7/site-packages/simplejson/tests/test_check_circular.pyc\r\n",
        "  /Users/jbloom/anaconda/lib/python2.7/site-packages/simplejson/tests/test_decimal.py\r\n",
        "  /Users/jbloom/anaconda/lib/python2.7/site-packages/simplejson/tests/test_decimal.pyc\r\n",
        "  /Users/jbloom/anaconda/lib/python2.7/site-packages/simplejson/tests/test_decode.py\r\n",
        "  /Users/jbloom/anaconda/lib/python2.7/site-packages/simplejson/tests/test_decode.pyc\r\n",
        "  /Users/jbloom/anaconda/lib/python2.7/site-packages/simplejson/tests/test_default.py\r\n",
        "  /Users/jbloom/anaconda/lib/python2.7/site-packages/simplejson/tests/test_default.pyc\r\n",
        "  /Users/jbloom/anaconda/lib/python2.7/site-packages/simplejson/tests/test_dump.py\r\n",
        "  /Users/jbloom/anaconda/lib/python2.7/site-packages/simplejson/tests/test_dump.pyc\r\n",
        "  /Users/jbloom/anaconda/lib/python2.7/site-packages/simplejson/tests/test_encode_basestring_ascii.py\r\n",
        "  /Users/jbloom/anaconda/lib/python2.7/site-packages/simplejson/tests/test_encode_basestring_ascii.pyc\r\n",
        "  /Users/jbloom/anaconda/lib/python2.7/site-packages/simplejson/tests/test_encode_for_html.py\r\n",
        "  /Users/jbloom/anaconda/lib/python2.7/site-packages/simplejson/tests/test_encode_for_html.pyc\r\n",
        "  /Users/jbloom/anaconda/lib/python2.7/site-packages/simplejson/tests/test_errors.py\r\n",
        "  /Users/jbloom/anaconda/lib/python2.7/site-packages/simplejson/tests/test_errors.pyc\r\n",
        "  /Users/jbloom/anaconda/lib/python2.7/site-packages/simplejson/tests/test_fail.py\r",
        "\r\n",
        "  /Users/jbloom/anaconda/lib/python2.7/site-packages/simplejson/tests/test_fail.pyc\r\n",
        "  /Users/jbloom/anaconda/lib/python2.7/site-packages/simplejson/tests/test_float.py\r\n",
        "  /Users/jbloom/anaconda/lib/python2.7/site-packages/simplejson/tests/test_float.pyc\r\n",
        "  /Users/jbloom/anaconda/lib/python2.7/site-packages/simplejson/tests/test_for_json.py\r\n",
        "  /Users/jbloom/anaconda/lib/python2.7/site-packages/simplejson/tests/test_for_json.pyc\r\n",
        "  /Users/jbloom/anaconda/lib/python2.7/site-packages/simplejson/tests/test_indent.py\r\n",
        "  /Users/jbloom/anaconda/lib/python2.7/site-packages/simplejson/tests/test_indent.pyc\r\n",
        "  /Users/jbloom/anaconda/lib/python2.7/site-packages/simplejson/tests/test_item_sort_key.py\r\n",
        "  /Users/jbloom/anaconda/lib/python2.7/site-packages/simplejson/tests/test_item_sort_key.pyc\r\n",
        "  /Users/jbloom/anaconda/lib/python2.7/site-packages/simplejson/tests/test_namedtuple.py\r\n",
        "  /Users/jbloom/anaconda/lib/python2.7/site-packages/simplejson/tests/test_namedtuple.pyc\r\n",
        "  /Users/jbloom/anaconda/lib/python2.7/site-packages/simplejson/tests/test_pass1.py\r\n",
        "  /Users/jbloom/anaconda/lib/python2.7/site-packages/simplejson/tests/test_pass1.pyc\r\n",
        "  /Users/jbloom/anaconda/lib/python2.7/site-packages/simplejson/tests/test_pass2.py\r\n",
        "  /Users/jbloom/anaconda/lib/python2.7/site-packages/simplejson/tests/test_pass2.pyc\r\n",
        "  /Users/jbloom/anaconda/lib/python2.7/site-packages/simplejson/tests/test_pass3.py\r\n",
        "  /Users/jbloom/anaconda/lib/python2.7/site-packages/simplejson/tests/test_pass3.pyc\r\n",
        "  /Users/jbloom/anaconda/lib/python2.7/site-packages/simplejson/tests/test_recursion.py\r\n",
        "  /Users/jbloom/anaconda/lib/python2.7/site-packages/simplejson/tests/test_recursion.pyc\r\n",
        "  /Users/jbloom/anaconda/lib/python2.7/site-packages/simplejson/tests/test_scanstring.py\r\n",
        "  /Users/jbloom/anaconda/lib/python2.7/site-packages/simplejson/tests/test_scanstring.pyc\r\n",
        "  /Users/jbloom/anaconda/lib/python2.7/site-packages/simplejson/tests/test_separators.py\r\n",
        "  /Users/jbloom/anaconda/lib/python2.7/site-packages/simplejson/tests/test_separators.pyc\r\n",
        "  /Users/jbloom/anaconda/lib/python2.7/site-packages/simplejson/tests/test_speedups.py\r\n",
        "  /Users/jbloom/anaconda/lib/python2.7/site-packages/simplejson/tests/test_speedups.pyc\r\n",
        "  /Users/jbloom/anaconda/lib/python2.7/site-packages/simplejson/tests/test_tool.py\r\n",
        "  /Users/jbloom/anaconda/lib/python2.7/site-packages/simplejson/tests/test_tool.pyc\r\n",
        "  /Users/jbloom/anaconda/lib/python2.7/site-packages/simplejson/tests/test_tuple.py\r\n",
        "  /Users/jbloom/anaconda/lib/python2.7/site-packages/simplejson/tests/test_tuple.pyc\r\n",
        "  /Users/jbloom/anaconda/lib/python2.7/site-packages/simplejson/tests/test_unicode.py\r\n",
        "  /Users/jbloom/anaconda/lib/python2.7/site-packages/simplejson/tests/test_unicode.pyc\r\n",
        "  /Users/jbloom/anaconda/lib/python2.7/site-packages/simplejson/tool.py\r\n",
        "  /Users/jbloom/anaconda/lib/python2.7/site-packages/simplejson/tool.pyc\r\n",
        "Proceed (y/n)? "
       ]
      },
      {
       "output_type": "stream",
       "stream": "stdout",
       "text": [
        "^COperation cancelled by user\r\n",
        "Storing complete log in /Users/jbloom/.pip/pip.log\r\n",
        "\r\n"
       ]
      }
     ],
     "prompt_number": 5
    },
    {
     "cell_type": "markdown",
     "metadata": {},
     "source": [
      "Both `pip` and `conda` have a pretty rich command set and useful interface:\n",
      "\n",
      "    pip --help\n",
      "    pip install --help\n",
      "    pip search sator\n",
      "    \n",
      "    http://docs.continuum.io/conda/index.html\n",
      "    conda install ~/redis-py-2.7.2-py27_0.tar.bz2\n",
      "    conda install matplotlib=1.2"
     ]
    },
    {
     "cell_type": "code",
     "collapsed": false,
     "input": [
      "!conda --help"
     ],
     "language": "python",
     "metadata": {},
     "outputs": [
      {
       "output_type": "stream",
       "stream": "stdout",
       "text": [
        "usage: conda [-h] [-V] command ...\r\n",
        "\r\n",
        "conda is a tool for managing environments and packages.\r\n",
        "\r\n",
        "positional arguments:\r\n",
        "  command\r\n",
        "    info         Display information about current conda install.\r\n",
        "    help         Displays a list of available conda commands and their help strings.\r\n",
        "    list         List linked packages in a conda environment.\r\n",
        "    search       Search for packages and display their information.\r\n",
        "    create       Create a new conda environment from a list of specified packages. To use the created\r\n",
        "                 environment, use 'source activate envname' look in that directory first. This command requires\r\n",
        "                 either the -n NAME or -p PREFIX option.\r\n",
        "    install      Install a list of packages into a specified conda environment.\r\n",
        "    update       Update conda packages.\r\n",
        "    remove       Remove a list of packages from a specified conda environment.\r\n",
        "    config       Modify configuration values in .condarc. This is modeled after the git config command. Writes to\r\n",
        "                 the user .condarc file (/Users/jbloom/.condarc) by default.\r\n",
        "    clean        Remove unused packages and caches\r\n",
        "    build        Build a package from a (conda) recipe. (ADVANCED)\r\n",
        "    skeleton     Build skeleton recipes for packages from popular package hosting sites.\r\n",
        "    package      Create a conda package in an environment. (ADVANCED)\r\n",
        "    clone        Clone a \"share package\" (created by conda package --share)\r\n",
        "    index        Updates repodata.json in channel directories. (ADVANCED)\r\n",
        "\r\n",
        "optional arguments:\r\n",
        "  -h, --help     show this help message and exit\r\n",
        "  -V, --version  show program's version number and exit\r\n"
       ]
      }
     ],
     "prompt_number": 6
    },
    {
     "cell_type": "markdown",
     "metadata": {},
     "source": [
      "<center>What if you don\u2019t have superuser privileges?   Maybe on a department computer?  You can install packages to your own folder, and include them by modifying your `.bashrc` or `.profile` file.</center>\n",
      "\n",
      "    pip install <pkg> --target=<my_choice>"
     ]
    },
    {
     "cell_type": "code",
     "collapsed": false,
     "input": [
      "!pip install simplejson --target=/tmp/"
     ],
     "language": "python",
     "metadata": {},
     "outputs": [
      {
       "output_type": "stream",
       "stream": "stdout",
       "text": [
        "Downloading/unpacking simplejson\r\n",
        "  Running setup.py egg_info for package simplejson\r\n"
       ]
      },
      {
       "output_type": "stream",
       "stream": "stdout",
       "text": [
        "    \r\n"
       ]
      },
      {
       "output_type": "stream",
       "stream": "stdout",
       "text": [
        "Installing collected packages: simplejson\r\n",
        "  Running setup.py install for simplejson\r\n"
       ]
      },
      {
       "output_type": "stream",
       "stream": "stdout",
       "text": [
        "    \r\n"
       ]
      },
      {
       "output_type": "stream",
       "stream": "stdout",
       "text": [
        "Successfully installed simplejson\r\n",
        "Cleaning up...\r\n"
       ]
      }
     ],
     "prompt_number": 8
    },
    {
     "cell_type": "code",
     "collapsed": false,
     "input": [
      "!ls /tmp/simple*"
     ],
     "language": "python",
     "metadata": {},
     "outputs": [
      {
       "output_type": "stream",
       "stream": "stdout",
       "text": [
        "/tmp/simplejson:\r\n",
        "__init__.py      compat.py        decoder.pyc      ordered_dict.py  scanner.pyc      tool.pyc\r\n",
        "__init__.pyc     compat.pyc       encoder.py       ordered_dict.pyc \u001b[34mtests\u001b[m\u001b[m\r\n",
        "\u001b[31m_speedups.so\u001b[m\u001b[m     decoder.py       encoder.pyc      scanner.py       tool.py\r\n",
        "\r\n",
        "/tmp/simplejson-3.3.0-py2.7.egg-info:\r\n",
        "PKG-INFO             SOURCES.txt          dependency_links.txt installed-files.txt  top_level.txt\r\n"
       ]
      }
     ],
     "prompt_number": 9
    },
    {
     "cell_type": "markdown",
     "metadata": {},
     "source": [
      "[EGG files are like .jar files: self-contained packages with code and metadata. Have a look at http://mrtopf.de/blog/en/a-small-introduction-to-python-eggs/]"
     ]
    },
    {
     "cell_type": "markdown",
     "metadata": {},
     "source": [
      "Now, you can have Python know about your special installation directory by modifying your `PYTHONPATH` environment variable in your .bashrc, .cshrc, or .tcshrc file:\n",
      "```bash\n",
      "#BASH Style: \n",
      "export PYTHONPATH=/tmp/simplejson:$PYTHONPATH\n",
      "#CSH Style:\n",
      "setenv PYTHONPATH /path/to/my_choice:$PYTHONPATH\n",
      "```"
     ]
    },
    {
     "cell_type": "markdown",
     "metadata": {},
     "source": [
      "# Getting and Installing Packages with `setup.py` #\n",
      "\n",
      "Sometimes `conda` and `pip` cannot find a codebase you're trying to install. In this case you'll need to do it yourself using a tarball and a `setup.py` file. This is the most straightforward way to get packages: download them from the developer\u2019s website and hope that they\u2019ve followed the standard conventions.\n",
      "\n",
      "There is a standard Python package distribution scheme using `distutils2` and `setup.py` files...more on that later.\n",
      "\n",
      "Basic workflow of installing a package with `setup.py`:\n",
      "```bash\n",
      "$ cd [folder with package and setup.py file]\n",
      "$ sudo python setup.py install\n",
      "   # [ progress report ... ]\n",
      "$ Finished processing dependencies for [package]\n",
      "   # [if you want more info, there are several options to modify]\n",
      "$ python setup.py --help install\n",
      "```\n"
     ]
    },
    {
     "cell_type": "markdown",
     "metadata": {},
     "source": [
      "To do a custom installation directory (if you dont have sudo, e.g.):\n",
      "```bash\n",
      "# {-- on unix --}\n",
      "$ python setup.py install --home <my_choice>\n",
      "\n",
      "# {-- on windows --}\n",
      "$ python setup.py install --prefix \u201cmy_choice\u201d\n",
      "```"
     ]
    },
    {
     "cell_type": "markdown",
     "metadata": {},
     "source": [
      "# Managing Packages - `virtualenv`/`conda` environments #\n",
      "\n",
      "* Open Source software is constantly changing - how do you protect working code against future updates?\n",
      "* Or, what if there is a beta release of a package you want to try, but you don\u2019t want to fully commit yet?\n",
      "* `virtualenv` and `conda -n` creates a local, self-contained, and totally separate python installation.\n",
      "* Use it to create a local Python ecosystem, separate from your computer\u2019s main system, so that you can do what you want in one without affecting the other."
     ]
    },
    {
     "cell_type": "markdown",
     "metadata": {},
     "source": [
      "# `virtualenv` #\n",
      "\n",
      "installing:"
     ]
    },
    {
     "cell_type": "code",
     "collapsed": false,
     "input": [
      "!pip install --upgrade virtualenv"
     ],
     "language": "python",
     "metadata": {},
     "outputs": [
      {
       "output_type": "stream",
       "stream": "stdout",
       "text": [
        "Requirement already up-to-date: virtualenv in /Users/jbloom/anaconda/lib/python2.7/site-packages\r\n",
        "Cleaning up...\r\n"
       ]
      }
     ],
     "prompt_number": 11
    },
    {
     "cell_type": "markdown",
     "metadata": {},
     "source": [
      "Creating a new environment:"
     ]
    },
    {
     "cell_type": "code",
     "collapsed": false,
     "input": [
      "!virtualenv --no-setuptools LocalPython"
     ],
     "language": "python",
     "metadata": {},
     "outputs": [
      {
       "output_type": "stream",
       "stream": "stdout",
       "text": [
        "New python executable in LocalPython/bin/python\r\n"
       ]
      }
     ],
     "prompt_number": 12
    },
    {
     "cell_type": "code",
     "collapsed": false,
     "input": [
      "!virtualenv --no-setuptools --system-site-packages Test1"
     ],
     "language": "python",
     "metadata": {},
     "outputs": [
      {
       "output_type": "stream",
       "stream": "stdout",
       "text": [
        "New python executable in Test1/bin/python\r\n"
       ]
      }
     ],
     "prompt_number": 13
    },
    {
     "cell_type": "markdown",
     "metadata": {},
     "source": [
      "During a shell session, you can source this environment so that it runs as the default:\n",
      "\n",
      "```bash\n",
      "$ source LocalPython/bin/activate\n",
      "(LocalPython)$\n",
      "#[ pip and python commands now point to new environment ]\n",
      "(LocalPython)$ which python\n",
      "LocalPython/bin/python\n",
      "```\n",
      "\n",
      "We can get out of the enviroment:\n",
      "\n",
      "```bash\n",
      " deactivate LocalPython\n",
      "```\n",
      "Just delete to remove environment:\n",
      "\n",
      "```bash\n",
      "rm -r LocalPython\n",
      "```"
     ]
    },
    {
     "cell_type": "markdown",
     "metadata": {},
     "source": [
      "# conda -n #\n",
      "http://www.continuum.io/blog/conda"
     ]
    },
    {
     "cell_type": "code",
     "collapsed": false,
     "input": [
      "!conda info"
     ],
     "language": "python",
     "metadata": {},
     "outputs": [
      {
       "output_type": "stream",
       "stream": "stdout",
       "text": [
        "\r\n",
        "Current conda install:\r\n",
        "\r\n",
        "             platform : osx-64\r\n",
        "        conda version : 1.9.1\r\n",
        "       conda location : /Users/jbloom/anaconda/lib/python2.7/site-packages/conda\r\n",
        "     root environment : /Users/jbloom/anaconda\r\n",
        "  default environment : /Users/jbloom/anaconda\r\n",
        "         channel URLs : http://repo.continuum.io/pkgs/free/osx-64/\r\n",
        "                        http://repo.continuum.io/pkgs/pro/osx-64/\r\n",
        "          config file : None\r\n",
        "\r\n"
       ]
      }
     ],
     "prompt_number": 14
    },
    {
     "cell_type": "code",
     "collapsed": false,
     "input": [
      "!conda info -e"
     ],
     "language": "python",
     "metadata": {},
     "outputs": [
      {
       "output_type": "stream",
       "stream": "stdout",
       "text": [
        "# conda environments:\r\n",
        "#\r\n",
        "(root)                *  /Users/jbloom/anaconda\r\n",
        "\r\n"
       ]
      }
     ],
     "prompt_number": 15
    },
    {
     "cell_type": "code",
     "collapsed": false,
     "input": [
      "!conda search numpy"
     ],
     "language": "python",
     "metadata": {},
     "outputs": [
      {
       "output_type": "stream",
       "stream": "stdout",
       "text": [
        "numpy                        1.5.1                    py26_0  \r\n",
        "                             1.5.1                    py27_0  \r\n",
        "                             1.5.1                    py26_4  \r\n",
        "                             1.5.1                   py27_p4  [mkl]\r\n",
        "                             1.5.1                   py26_p4  [mkl]\r\n",
        "                             1.5.1                    py27_4  \r\n",
        "                             1.6.2                    py26_0  \r\n",
        "                             1.6.2                    py27_0  \r\n",
        "                             1.6.2                    py27_4  \r\n",
        "                             1.6.2                   py27_p4  [mkl]\r\n",
        "                             1.6.2                   py26_p4  [mkl]\r\n",
        "                             1.6.2                    py26_4  \r\n",
        "                             1.7.0b2                  py27_0  \r\n",
        "                             1.7.0b2                  py26_0  \r\n",
        "                             1.7.0rc1                 py27_0  \r\n",
        "                             1.7.0rc1                 py26_0  \r\n",
        "                             1.7.0rc1                 py33_0  \r\n",
        "                             1.7.0                    py33_0  \r\n",
        "                             1.7.0                    py27_0  \r\n",
        "                             1.7.0                    py26_0  \r\n",
        "                             1.7.1                    py33_0  \r\n",
        "                             1.7.1                   py27_p0  [mkl]\r\n",
        "                             1.7.1                   py26_p0  [mkl]\r\n",
        "                          *  1.7.1                    py27_0  \r\n",
        "                             1.7.1                    py26_0  \r\n",
        "numpydoc                     0.4                      py26_0  \r\n",
        "                             0.4                      py27_0  \r\n"
       ]
      }
     ],
     "prompt_number": 16
    },
    {
     "cell_type": "markdown",
     "metadata": {},
     "source": [
      "```bash\n",
      "Py4DS> conda create -n numpy15 numpy=1.5.1\n",
      "\n",
      "Package plan for creating environment at /Users/jbloom/anaconda/envs/numpy15:\n",
      "\n",
      "The following packages will be downloaded:\n",
      "\n",
      "    package                    |            build\n",
      "    ---------------------------|-----------------\n",
      "    numpy-1.5.1                |           py27_4         2.3 MB\n",
      "\n",
      "The following packages will be linked:\n",
      "\n",
      "    package                    |            build\n",
      "    ---------------------------|-----------------\n",
      "    numpy-1.5.1                |           py27_4\n",
      "    python-2.7.5               |                2\n",
      "    readline-6.2               |                1\n",
      "    sqlite-3.7.13              |                1\n",
      "    tk-8.5.13                  |                1\n",
      "    zlib-1.2.7                 |                1\n",
      "\n",
      "Proceed ([y]/n)? y\n",
      "\n",
      "Fetching packages ...\n",
      "numpy-1.5.1-py27_4.tar.bz2 100% |####################| Time: 0:00:02 816.17 kB/s\n",
      "Extracting packages ...\n",
      "[      COMPLETE      ] |##################################################| 100%\n",
      "Linking packages ...\n",
      "[      COMPLETE      ] |##################################################| 100%\n",
      "#\n",
      "# To activate this environment, use:\n",
      "# $ source activate numpy15\n",
      "#\n",
      "# To deactivate this environment, use:\n",
      "# $ source deactivate\n",
      "```"
     ]
    },
    {
     "cell_type": "code",
     "collapsed": false,
     "input": [
      "!conda info -e"
     ],
     "language": "python",
     "metadata": {},
     "outputs": [
      {
       "output_type": "stream",
       "stream": "stdout",
       "text": [
        "# conda environments:\r\n",
        "#\r\n",
        "(root)                *  /Users/jbloom/anaconda\r\n",
        "numpy15                  /Users/jbloom/anaconda/envs/numpy15\r\n",
        "\r\n"
       ]
      }
     ],
     "prompt_number": 17
    },
    {
     "cell_type": "code",
     "collapsed": false,
     "input": [
      "!ls /Users/jbloom/anaconda/envs/numpy15/bin"
     ],
     "language": "python",
     "metadata": {},
     "outputs": [
      {
       "output_type": "stream",
       "stream": "stdout",
       "text": [
        "\u001b[31m2to3\u001b[m\u001b[m             \u001b[31mpydoc\u001b[m\u001b[m            \u001b[31mpython2\u001b[m\u001b[m          \u001b[31mpython2.7-config\u001b[m\u001b[m \u001b[31mwish8.5\u001b[m\u001b[m\r\n",
        "\u001b[31mf2py\u001b[m\u001b[m             \u001b[31mpython\u001b[m\u001b[m           \u001b[31mpython2-config\u001b[m\u001b[m   \u001b[31msmtpd.py\u001b[m\u001b[m\r\n",
        "\u001b[31midle\u001b[m\u001b[m             \u001b[31mpython-config\u001b[m\u001b[m    \u001b[31mpython2.7\u001b[m\u001b[m        \u001b[31mtclsh8.5\u001b[m\u001b[m\r\n"
       ]
      }
     ],
     "prompt_number": 18
    },
    {
     "cell_type": "markdown",
     "metadata": {},
     "source": [
      "We could make this environment the default if we want to:\n",
      "```bash\n",
      "export PATH=~/anaconda/envs/numpy15/bin:$PATH\n",
      "```\n",
      "And if we want to remove that environment:\n",
      "```bash\n",
      "conda remove -n numpy15 --all\n",
      "```"
     ]
    },
    {
     "cell_type": "markdown",
     "metadata": {},
     "source": [
      "<center><h1> Command Line Parsing</h1></center>\n",
      "\n",
      "<center>`python myawesomeprogram.py -o option1 -p parameter2 -Q -R`</center>\n",
      "<p>\n",
      " **Goal**: build a command-line 'standalone' codebase in Python, w/ CL options & keywords\n",
      " \n",
      " **Solution**: argparse, which has been built in to Python 2.7 & above (if you don\u2019t have it, you can get it with `pip argparse`)\n",
      " \n",
      "* Allows for  user-friendly command line interfaces, and leaves it up to the code to determine what it was the user wanted.\n",
      "\n",
      "* Also automatically generates help & usage messages and issues errors when invalid arguments are provided.\n",
      "\n",
      "(Note on optparse: being replaced in favor of argparse)\n"
     ]
    },
    {
     "cell_type": "code",
     "collapsed": false,
     "input": [
      "import argparse"
     ],
     "language": "python",
     "metadata": {},
     "outputs": [],
     "prompt_number": 19
    },
    {
     "cell_type": "markdown",
     "metadata": {},
     "source": [
      "# Setting up a parser #\n",
      "\n",
      "\n",
      "* First step for `argparse`: create parser object & tell it what arguments to expect. \n",
      "* It can then be used to process the command line arguments on runtime\n",
      "* Parser class: `ArgumentParser`. Takes several arguments to set up the description used in the help text for the program & other global behaviors \n",
      "   \n",
      " <p>\n",
      "See  http://www.doughellmann.com/PyMOTW/argparse/\n",
      "</p>"
     ]
    },
    {
     "cell_type": "code",
     "collapsed": false,
     "input": [
      "parser = argparse.ArgumentParser(description='Sample Application')\n",
      "print \"hi\""
     ],
     "language": "python",
     "metadata": {},
     "outputs": [
      {
       "output_type": "stream",
       "stream": "stdout",
       "text": [
        "Writing myfile.py\n"
       ]
      }
     ],
     "prompt_number": 20
    },
    {
     "cell_type": "markdown",
     "metadata": {},
     "source": [
      "# Defining Arguments & Parsing"
     ]
    },
    {
     "cell_type": "markdown",
     "metadata": {},
     "source": [
      "* Arguments can trigger different actions, specified by the action argument to add_argument(). \n",
      "* Several supported actions (next slide).\n",
      "* Once all of the arguments are defined, you can parse the command line by passing a sequence of argument strings to parse_args(). \n",
      "* By default, arguments are taken from `sys.argv[1:]`, but you can also pass your own list."
     ]
    },
    {
     "cell_type": "code",
     "collapsed": false,
     "input": [
      "%%file argparse_action.py\n",
      "import argparse\n",
      "parser = argparse.ArgumentParser(description='Sample Application')\n",
      "parser.add_argument('required_arg_1', help='This positional argument is required')\n",
      "parser.add_argument('required_arg_2', help='This positional argument is also required')\n",
      "parser.add_argument('-s', action='store', dest='simple_value',\n",
      "                    help='Store a simple value')\n",
      "parser.add_argument('-c', action='store_const', dest='constant_value',\n",
      "                    const='value-to-store',\n",
      "                    help='Store a constant value')\n",
      "parser.add_argument('-t', action='store_true', default=False,\n",
      "                    dest='boolean_switch',\n",
      "                    help='Set a switch to true')\n",
      "parser.add_argument('-a', action='append', dest='collection',\n",
      "                    default=[],\n",
      "                    help='Add repeated values to a list',\n",
      "                    )\n",
      "parser.add_argument('-A', action='append_const', dest='const_collection',\n",
      "                    const='value-1-to-append',\n",
      "                    default=[],\n",
      "                    help='Add different values to list')\n",
      "parser.add_argument('-B', action='append_const', dest='const_collection',\n",
      "                    const='value-2-to-append',\n",
      "                    help='Add different values to list')\n",
      "parser.add_argument('--version', action='version', version='%(prog)s 1.0')\n",
      "\n",
      "results = parser.parse_args()\n",
      "print 'required_args    =', results.required_arg_1, results.required_arg_2\n",
      "print 'simple_value     =', results.simple_value\n",
      "print 'constant_value   =', results.constant_value\n",
      "print 'boolean_switch   =', results.boolean_switch\n",
      "print 'collection       =', results.collection\n",
      "print 'const_collection =', results.const_collection"
     ],
     "language": "python",
     "metadata": {},
     "outputs": [
      {
       "output_type": "stream",
       "stream": "stdout",
       "text": [
        "Overwriting argparse_action.py\n"
       ]
      }
     ],
     "prompt_number": 25
    },
    {
     "cell_type": "markdown",
     "metadata": {},
     "source": [
      "* store: Save the value, after optionally converting it to a different type (default)\n",
      "* store_const: Save the value as defined as part of the argument specification, rather than a value that comes from the arguments being parsed\n",
      "* store_true/store_false: Save the appropriate boolean value\n",
      "* append: Save the value to a list.  Multiple values are saved if the argument is repeated\n",
      "* append_const: Save a value defined in the argument specification to a list\n",
      "* version: Prints version details about the program and then exits"
     ]
    },
    {
     "cell_type": "markdown",
     "metadata": {},
     "source": [
      "<center><h2>Modules and Packages</h2></center>\n",
      "\n",
      "* As code gets more involved, it becomes unwieldy & unnatural to keep everything in the same file, or even the same folder\n",
      "\n",
      "* Functions from other codes made for different reasons might be useful elsewhere\n",
      "\n",
      "* Useful to break up code into modules and packages  - used like \u2018package.module\u2019\n",
      "\n",
      "* **Module**: file containing defined functions & variables. **It must have a .py extension.**\n",
      "\n",
      "* **Package**: a properly-organized folder containing modules (packages Numpy are well-developed examples - you can make your own) "
     ]
    },
    {
     "cell_type": "code",
     "collapsed": false,
     "input": [
      "!ls /Users/jbloom/Dev/Anaconda/lib/python2.7/site-packages"
     ],
     "language": "python",
     "metadata": {},
     "outputs": [
      {
       "output_type": "stream",
       "stream": "stdout",
       "text": [
        "\u001b[34mCython\u001b[m\u001b[m                                 \u001b[34mnumexpr\u001b[m\u001b[m\r\n",
        "Cython-0.16-py2.7.egg-info             numexpr-2.0.1-py2.7.egg-info\r\n",
        "Flask-0.9-py2.7.egg-info               \u001b[34mnumpy\u001b[m\u001b[m\r\n",
        "\u001b[34mIPython\u001b[m\u001b[m                                numpy-1.8.0.dev_Unknown-py2.7.egg-info\r\n",
        "Jinja2-2.6-py2.7.egg-info              \u001b[34mpandas\u001b[m\u001b[m\r\n",
        "\u001b[34mPIL\u001b[m\u001b[m                                    pandas-0.8.1-py2.7.egg-info\r\n",
        "PIL.pth                                \u001b[34mpeewee-2.0.8-py2.7.egg-info\u001b[m\u001b[m\r\n",
        "PyYAML-3.10-py2.7.egg-info             peewee.py\r\n",
        "Pygments-1.5-py2.7.egg-info            peewee.pyc\r\n",
        "README                                 \u001b[34mpip\u001b[m\u001b[m\r\n",
        "SQLAlchemy-0.7.8-py2.7.egg-info        \u001b[34mpip.egg-info\u001b[m\u001b[m\r\n",
        "\u001b[31mTabProxies.so\u001b[m\u001b[m                          \u001b[31mpkg_resources.py\u001b[m\u001b[m\r\n",
        "Theano-0.5.0-py2.7.egg-info            pkg_resources.pyc\r\n",
        "\u001b[34mWTForms-1.0.3-py2.7.egg-info\u001b[m\u001b[m           \u001b[34mplayhouse\u001b[m\u001b[m\r\n",
        "Werkzeug-0.8.3-py2.7.egg-info          pwiz.py\r\n",
        "\u001b[31m_yaml.so\u001b[m\u001b[m                               pwiz.pyc\r\n",
        "anaconda_launcher-0.1-py2.7.egg-info   pycurl-7.19.0-py2.7.egg-info\r\n",
        "\u001b[34mbitarray\u001b[m\u001b[m                               \u001b[31mpycurl.so\u001b[m\u001b[m\r\n",
        "bitarray-0.8.0-py2.7.egg-info          \u001b[34mpyfits\u001b[m\u001b[m\r\n",
        "\u001b[34mbitey\u001b[m\u001b[m                                  \u001b[34mpyfits-3.1-py2.7.egg-info\u001b[m\u001b[m\r\n",
        "bitey-0.0-py2.7.egg-info               \u001b[34mpygments\u001b[m\u001b[m\r\n",
        "\u001b[34mconda\u001b[m\u001b[m                                  pylab.py\r\n",
        "conda-1.0-py2.7.egg-info               pylab.pyc\r\n",
        "\u001b[31mcsamtools.so\u001b[m\u001b[m                           \u001b[34mpysal\u001b[m\u001b[m\r\n",
        "\u001b[31mctabix.so\u001b[m\u001b[m                              pysal-1.4.0-py2.7.egg-info\r\n",
        "\u001b[34mcurl\u001b[m\u001b[m                                   \u001b[34mpysam\u001b[m\u001b[m\r\n",
        "\u001b[31mcvcf.so\u001b[m\u001b[m                                pysam-0.6-py2.7.egg-info\r\n",
        "cython.py                              python_dateutil-1.5-py2.7.egg-info\r\n",
        "cython.pyc                             \u001b[34mpytz\u001b[m\u001b[m\r\n",
        "\u001b[34mdateutil\u001b[m\u001b[m                               pytz-2012c-py2.7.egg-info\r\n",
        "\u001b[34mdistribute.egg-info\u001b[m\u001b[m                    \u001b[34mpyximport\u001b[m\u001b[m\r\n",
        "\u001b[31measy_install.py\u001b[m\u001b[m                        pyzmq-2.2.0-py2.7.egg-info\r\n",
        "easy_install.pyc                       \u001b[34mrequests\u001b[m\u001b[m\r\n",
        "\u001b[34mexample\u001b[m\u001b[m                                requests-0.13.5-py2.7.egg-info\r\n",
        "\u001b[34mflask\u001b[m\u001b[m                                  \u001b[34mrpy2\u001b[m\u001b[m\r\n",
        "\u001b[34mflask_peewee\u001b[m\u001b[m                           \u001b[34mrpy2-2.2.6dev_20120831-py2.7.egg-info\u001b[m\u001b[m\r\n",
        "\u001b[34mflask_peewee-0.6.3-py2.7.egg-info\u001b[m\u001b[m      scikit_learn-0.11-py2.7.egg-info\r\n",
        "\u001b[34mgevent\u001b[m\u001b[m                                 scikits_image-0.6.1-py2.7.egg-info\r\n",
        "gevent-0.13.7-py2.7.egg-info           \u001b[34mscipy\u001b[m\u001b[m\r\n",
        "gevent_websocket-0.3.6-py2.7.egg-info  scipy-0.11.0rc2-py2.7.egg-info\r\n",
        "\u001b[34mgevent_zeromq\u001b[m\u001b[m                          \u001b[34msetuptools\u001b[m\u001b[m\r\n",
        "gevent_zeromq-0.2.2-py2.7.egg-info     setuptools-0.6c11-py2.7.egg-info\r\n",
        "\u001b[34mgeventwebsocket\u001b[m\u001b[m                        \u001b[31msite.py\u001b[m\u001b[m\r\n",
        "greenlet-0.4.0-py2.7.egg-info          site.pyc\r\n",
        "\u001b[31mgreenlet.so\u001b[m\u001b[m                            \u001b[34mskimage\u001b[m\u001b[m\r\n",
        "\u001b[34mh5py\u001b[m\u001b[m                                   \u001b[34msklearn\u001b[m\u001b[m\r\n",
        "h5py-2.0.1-py2.7.egg-info              \u001b[34msqlalchemy\u001b[m\u001b[m\r\n",
        "ipython-0.13-py2.7.egg-info            \u001b[34mstatsmodels\u001b[m\u001b[m\r\n",
        "\u001b[34mjinja2\u001b[m\u001b[m                                 statsmodels-0.4.3-py2.7.egg-info\r\n",
        "\u001b[34mlauncher\u001b[m\u001b[m                               \u001b[34msympy\u001b[m\u001b[m\r\n",
        "\u001b[34mllvm\u001b[m\u001b[m                                   sympy-0.7.1-py2.7.egg-info\r\n",
        "llvm_py-0.8.2-py2.7.egg-info           \u001b[34mtables\u001b[m\u001b[m\r\n",
        "\u001b[34mmatplotlib\u001b[m\u001b[m                             tables-2.4.0-py2.7.egg-info\r\n",
        "matplotlib-1.1.1-py2.7.egg-info        \u001b[34mtests\u001b[m\u001b[m\r",
        "\r\n",
        "\u001b[34mmpi4py\u001b[m\u001b[m                                 \u001b[34mtheano\u001b[m\u001b[m\r\n",
        "mpi4py-1.3-py2.7.egg-info              \u001b[34mtornado\u001b[m\u001b[m\r\n",
        "\u001b[34mmpl_toolkits\u001b[m\u001b[m                           tornado-2.3-py2.7.egg-info\r\n",
        "\u001b[34mnetworkx\u001b[m\u001b[m                               \u001b[34mwerkzeug\u001b[m\u001b[m\r\n",
        "networkx-1.7-py2.7.egg-info            \u001b[34mwtf_peewee-0.2.0-py2.7.egg-info\u001b[m\u001b[m\r\n",
        "\u001b[34mnose\u001b[m\u001b[m                                   \u001b[34mwtforms\u001b[m\u001b[m\r\n",
        "nose-1.1.2-py2.7.egg-info              \u001b[34mwtfpeewee\u001b[m\u001b[m\r\n",
        "\u001b[34mnumba\u001b[m\u001b[m                                  \u001b[34myaml\u001b[m\u001b[m\r\n",
        "numba-0.2-py2.7.egg-info               \u001b[34mzmq\u001b[m\u001b[m\r\n"
       ]
      }
     ],
     "prompt_number": 26
    },
    {
     "cell_type": "code",
     "collapsed": false,
     "input": [
      "!ls /Users/jbloom/Dev/Anaconda/lib/python2.7/site-packages/numpy"
     ],
     "language": "python",
     "metadata": {},
     "outputs": [
      {
       "output_type": "stream",
       "stream": "stdout",
       "text": [
        "__config__.py     add_newdocs.py    \u001b[34mdistutils\u001b[m\u001b[m         \u001b[34mlib\u001b[m\u001b[m               \u001b[34mnumarray\u001b[m\u001b[m          setupscons.py\r\n",
        "__config__.pyc    add_newdocs.pyc   \u001b[34mdoc\u001b[m\u001b[m               \u001b[34mlinalg\u001b[m\u001b[m            \u001b[34moldnumeric\u001b[m\u001b[m        setupscons.pyc\r\n",
        "__init__.py       \u001b[34mcompat\u001b[m\u001b[m            dual.py           \u001b[34mma\u001b[m\u001b[m                \u001b[34mpolynomial\u001b[m\u001b[m        \u001b[34mtesting\u001b[m\u001b[m\r\n",
        "__init__.pyc      \u001b[34mcore\u001b[m\u001b[m              dual.pyc          matlib.py         \u001b[34mrandom\u001b[m\u001b[m            \u001b[34mtests\u001b[m\u001b[m\r\n",
        "_import_tools.py  ctypeslib.py      \u001b[34mf2py\u001b[m\u001b[m              matlib.pyc        setup.py          version.py\r\n",
        "_import_tools.pyc ctypeslib.pyc     \u001b[34mfft\u001b[m\u001b[m               \u001b[34mmatrixlib\u001b[m\u001b[m         setup.pyc         version.pyc\r\n"
       ]
      }
     ],
     "prompt_number": 27
    },
    {
     "cell_type": "markdown",
     "metadata": {},
     "source": [
      "<p><h2>Modules: Setting up your path</h2></p>\n",
      "`PYTHONPATH`\n",
      "Augment the default search path for module files. The format is the same as the shell\u2019s PATH: one or more directory pathnames separated by os.pathsep (e.g. colons on Unix or semicolons on Windows). Non-existent directories are silently ignored.\n",
      "\n",
      "In addition to normal directories, individual PYTHONPATH entries may refer to zipfiles containing pure Python modules (in either source or compiled form). Extension modules cannot be imported from zipfiles.\n",
      "The default search path is installation dependent, but generally begins with prefix/lib/pythonversion (see PYTHONHOME above). It is always appended to PYTHONPATH.\n",
      "\n",
      "An additional directory will be inserted in the search path in front of PYTHONPATH as described above under Interface options. The search path can be manipulated from within a Python program as the variable sys.path.\n",
      "\n",
      "Add to your .bashrc, .cshrc, or .tcshrc file:\n",
      "```bash\n",
      "#BASH Style: \n",
      "export PYTHONPATH=/path/to/your/code\n",
      "#CSH Style: \n",
      "setenv PYTHONPATH /path/to/your/code\n",
      "```"
     ]
    },
    {
     "cell_type": "markdown",
     "metadata": {},
     "source": [
      "<p><h3>Modules: More Path Stuff</h3></p>"
     ]
    },
    {
     "cell_type": "code",
     "collapsed": false,
     "input": [
      "import sys\n",
      "# Get a list of all paths python is looking at with sys.path\n",
      "print sys.path[-4:]   # only look at the first 4 to save space\n",
      "# Can append to this list:\n",
      "# sys.path.append(\u201c/new/software/path/\u201d)"
     ],
     "language": "python",
     "metadata": {},
     "outputs": [
      {
       "output_type": "stream",
       "stream": "stdout",
       "text": [
        "['/Users/jbloom/anaconda/lib/python2.7/site-packages/PIL', '/Users/jbloom/anaconda/lib/python2.7/site-packages/setuptools-0.6c11-py2.7.egg-info', '/usr/local/lib/python2.7/site-packages/setuptools-0.6c11-py2.7.egg-info', '/Users/jbloom/anaconda/lib/python2.7/site-packages/IPython/extensions']\n"
       ]
      }
     ],
     "prompt_number": 3
    },
    {
     "cell_type": "markdown",
     "metadata": {},
     "source": [
      "New paths appended will not be preserved upon exiting python. \n",
      "For long-term path appending, use PYTHONPATH environment variable defined in previous slide."
     ]
    },
    {
     "cell_type": "markdown",
     "metadata": {},
     "source": [
      "<p><h2> Packages</h2></p>\n",
      "\n",
      "* If path is set correctly, code can be broken up into reasonable folders and imported as necessary, either by importing entire modules (.py files) or functions/classes within the modules.\n",
      "\n",
      "* Put an `__init__.py` file in each folder you want to be able to import from.\n",
      "\n",
      "* Code in `__init__.py` is run when the package, or any derivative of it, is imported.  Usually `__init__`.py is an empty file."
     ]
    },
    {
     "cell_type": "code",
     "collapsed": false,
     "input": [
      "!ls /Users/jbloom/Classes/python-seminar/Breakouts/01_Versioning_Application_Building"
     ],
     "language": "python",
     "metadata": {},
     "outputs": [
      {
       "output_type": "stream",
       "stream": "stdout",
       "text": [
        "breakout1.py           breakout1_solution.zip \u001b[34mdatagen\u001b[m\u001b[m                \u001b[34mplotting\u001b[m\u001b[m\r\n"
       ]
      }
     ],
     "prompt_number": 29
    },
    {
     "cell_type": "markdown",
     "metadata": {},
     "source": [
      "# Breakout! #\n",
      "\n",
      "* Go to the breakout folder in: `../Breakouts/01_Versioning_Application_Building/`\n",
      "\n",
      "* Work on the file `breakout1.py`.  Do not move or modify the other files, in the other folders, but you will need to use them.  (You may add files to these directories, if necessary)\n",
      "\n",
      "* Build up a command line parser which allows the user to specify:\n",
      " - how many datapoints to generate\n",
      " - whether to plot with a filled in histogram or an outlined one\n",
      " - the title of the plot\n",
      " - And then have the plot be generated.\n",
      "\n",
      "* We want to be able to run a command like:\n",
      "\n",
      "```bash\n",
      "python breakout1.py -t -n 200 -T \"My Awesome Title\"\n",
      "```"
     ]
    },
    {
     "cell_type": "code",
     "collapsed": false,
     "input": [],
     "language": "python",
     "metadata": {},
     "outputs": []
    }
   ],
   "metadata": {}
  }
 ]
}