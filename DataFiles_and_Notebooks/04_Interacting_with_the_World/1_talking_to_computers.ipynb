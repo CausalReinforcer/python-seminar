{
 "metadata": {
  "name": ""
 },
 "nbformat": 3,
 "nbformat_minor": 0,
 "worksheets": [
  {
   "cells": [
    {
     "cell_type": "markdown",
     "metadata": {},
     "source": [
      "Python Seminar (AY250) UC Berkeley\n",
      "\n",
      "# Super simple webpage access"
     ]
    },
    {
     "cell_type": "code",
     "collapsed": true,
     "input": [
      "import urllib2 # URL = Uniform Resource Locator\n",
      "\n",
      "# even with the government shut down, some .gov URLs still work!\n",
      "# chemistry data portal\n",
      "url = \"http://www.nist.gov/chem-srd-portal.cfm\"  \n",
      "response = urllib2.urlopen(url) # response is a file-like object\n",
      "html_data = response.read()\n",
      "response.close() # close response as you would a normal file\n",
      "print html_data[:300]"
     ],
     "language": "python",
     "metadata": {},
     "outputs": []
    },
    {
     "cell_type": "markdown",
     "metadata": {},
     "source": [
      "Small aside: if you have HTML data that you want to render, you can use `webbrowser` module\n",
      "\n",
      "see http://docs.python.org/library/webbrowser.html"
     ]
    },
    {
     "cell_type": "code",
     "collapsed": false,
     "input": [
      "import webbrowser\n",
      "open(\"/tmp/tmp.html\",\"w\").write(html_data)\n",
      "webbrowser.open(\"file:///tmp/tmp.html\")"
     ],
     "language": "python",
     "metadata": {},
     "outputs": []
    },
    {
     "cell_type": "markdown",
     "metadata": {},
     "source": [
      "# Scripting an HTTP GET request"
     ]
    },
    {
     "cell_type": "code",
     "collapsed": false,
     "input": [
      "import urllib2, urllib\n",
      "\n",
      "# create a dictionary to store the GET data\n",
      "get_info = {\"q\": \"Ciechanover, Aaron\", \"sort\": \"relevance\"} \n",
      "\n",
      "# encode the data in proper URL format\n",
      "url_values = urllib.urlencode(get_info) \n",
      "print url_values"
     ],
     "language": "python",
     "metadata": {},
     "outputs": []
    },
    {
     "cell_type": "code",
     "collapsed": false,
     "input": [
      "url = \"http://pubget.com/search\"\n",
      "\n",
      "# open the url as before\n",
      "response = urllib2.urlopen(url,data=url_values) \n",
      "#alternatively: urllib2.urlopen(url + \"?\" + url_values)\n",
      "html = response.read()\n",
      "response.close()\n",
      "print html[:300]"
     ],
     "language": "python",
     "metadata": {},
     "outputs": []
    },
    {
     "cell_type": "markdown",
     "metadata": {},
     "source": [
      "# Scripting an HTTP POST request"
     ]
    },
    {
     "cell_type": "code",
     "collapsed": false,
     "input": [
      "import urllib2, urllib\n",
      "data = {}\n",
      "data[\"author\"] = \"Sagan, Carl\"\n",
      "params = urllib.urlencode(data) # same urlencode method\n",
      "url = \"http://adsabs.harvard.edu/cgi-bin/nph-abs_connect\"\n",
      "response = urllib2.urlopen(url, params) \n",
      "# POST request is indicated by including the params in urlopen\n",
      "html = response.read()\n",
      "response.close()\n",
      "print html[300:700]"
     ],
     "language": "python",
     "metadata": {},
     "outputs": []
    },
    {
     "cell_type": "markdown",
     "metadata": {},
     "source": [
      "# Access an FTP server"
     ]
    },
    {
     "cell_type": "code",
     "collapsed": false,
     "input": [
      "import ftplib\n",
      "ftp = ftplib.FTP(\"ftp.cac.psu.edu\")\n",
      "ftp.login()"
     ],
     "language": "python",
     "metadata": {},
     "outputs": []
    },
    {
     "cell_type": "code",
     "collapsed": false,
     "input": [
      "ftp.cwd(\"/pub/folk_music/sheet_music\")"
     ],
     "language": "python",
     "metadata": {},
     "outputs": []
    },
    {
     "cell_type": "code",
     "collapsed": false,
     "input": [
      "ftp.dir()"
     ],
     "language": "python",
     "metadata": {},
     "outputs": []
    },
    {
     "cell_type": "code",
     "collapsed": false,
     "input": [
      "ftp.retrbinary('RETR OffToCalifornia.JPG', open('music.jpg', 'wb').write)"
     ],
     "language": "python",
     "metadata": {},
     "outputs": []
    },
    {
     "cell_type": "code",
     "collapsed": false,
     "input": [
      "%pylab inline"
     ],
     "language": "python",
     "metadata": {},
     "outputs": []
    },
    {
     "cell_type": "code",
     "collapsed": false,
     "input": [
      "figure(figsize=(12,16))\n",
      "im = plt.imread(\"music.jpg\")\n",
      "imshow(im[::-1], origin=\"lower\")"
     ],
     "language": "python",
     "metadata": {},
     "outputs": []
    },
    {
     "cell_type": "markdown",
     "metadata": {},
     "source": [
      "# Parsing HTML with BeautifulSoup\n",
      "\n",
      "See: http://www.crummy.com/software/BeautifulSoup/bs4/doc/"
     ]
    },
    {
     "cell_type": "code",
     "collapsed": false,
     "input": [
      "import urllib2\n",
      "response = urllib2.urlopen(\"http://words.bighugelabs.com/\")\n",
      "html = response.read()\n",
      "response.close()\n",
      "\n",
      "# pip install beautifulsoup4\n",
      "from bs4 import BeautifulSoup\n",
      "soup = BeautifulSoup(html)\n",
      "forms = soup.findAll(\"form\")\n",
      "print(forms)"
     ],
     "language": "python",
     "metadata": {},
     "outputs": []
    },
    {
     "cell_type": "code",
     "collapsed": false,
     "input": [
      "links = soup.findAll(\"a\")\n",
      "for link in links:\n",
      "    print link"
     ],
     "language": "python",
     "metadata": {},
     "outputs": []
    },
    {
     "cell_type": "markdown",
     "metadata": {},
     "source": [
      "Let's load up a whole bunch of baby names, by combining scripted webpage access with BeautifulSoup:"
     ]
    },
    {
     "cell_type": "code",
     "collapsed": false,
     "input": [
      "from bs4 import BeautifulSoup\n",
      "url = \"http://nameberry.com/search/boys_names/J\"\n",
      "response = urllib2.urlopen(url)\n",
      "html = response.read()\n",
      "response.close()\n",
      "soup = BeautifulSoup(html)"
     ],
     "language": "python",
     "metadata": {},
     "outputs": []
    },
    {
     "cell_type": "code",
     "collapsed": false,
     "input": [
      "items = soup.findAll(\"li\", class_=\"name_in_list\")"
     ],
     "language": "python",
     "metadata": {},
     "outputs": []
    },
    {
     "cell_type": "code",
     "collapsed": false,
     "input": [
      "items[0].a.get_text()"
     ],
     "language": "python",
     "metadata": {},
     "outputs": []
    },
    {
     "cell_type": "code",
     "collapsed": false,
     "input": [
      "import urllib2, urllib\n",
      "import string\n",
      "from bs4 import BeautifulSoup\n",
      "letters = \"qwertyuioplkjhgfdsazxcvbnm\"\n",
      "boy_names = []\n",
      "for n in string.letters[:26]:\n",
      "    url = \"http://nameberry.com/search/boys_names/\" + n\n",
      "    response = urllib2.urlopen(url)\n",
      "    html = response.read()\n",
      "    response.close()\n",
      "    soup = BeautifulSoup(html)\n",
      "    items = soup.findAll(\"li\", class_=\"name_in_list\")\n",
      "    for item in items:\n",
      "        if len(item.findAll(\"a\")) == 1:\n",
      "            boy_names.append(item.a.get_text())"
     ],
     "language": "python",
     "metadata": {},
     "outputs": []
    },
    {
     "cell_type": "code",
     "collapsed": false,
     "input": [
      "print boy_names"
     ],
     "language": "python",
     "metadata": {},
     "outputs": []
    },
    {
     "cell_type": "code",
     "collapsed": false,
     "input": [
      "boy_names.sort()\n",
      "print (str(len(boy_names)) + \" names from \" + \\\n",
      "       boy_names[0] + \" to \" + boy_names[-1] + \".\")"
     ],
     "language": "python",
     "metadata": {},
     "outputs": []
    },
    {
     "cell_type": "markdown",
     "metadata": {},
     "source": [
      "To demonstrate we downloaded and parsed all the names, and to have a little fun, let's make up an official-sounding name for a childish Congressman."
     ]
    },
    {
     "cell_type": "code",
     "collapsed": false,
     "input": [
      "import random\n",
      "proper_person_name = \"\"\n",
      "for n in range(5):\n",
      "    proper_person_name += random.choice(boy_names) + \" \"\n",
      "proper_person_name = \"Congressman \" + proper_person_name[:-1] + \" XVI\" + \" PhD\"\n",
      "print proper_person_name"
     ],
     "language": "python",
     "metadata": {},
     "outputs": []
    },
    {
     "cell_type": "markdown",
     "metadata": {},
     "source": [
      "# JSON API"
     ]
    },
    {
     "cell_type": "code",
     "collapsed": false,
     "input": [
      "import json, urllib2\n",
      "import joshkey\n",
      "base_domain = \"http://words.bighugelabs.com/\"\n",
      "api_key =  joshkey.API # get your own damn key!\n",
      "word = \"dog\"\n",
      "url = base_domain + \"api/2/\" + api_key + \"/\" + word + \"/json\"\n",
      "result = json.load(urllib2.urlopen(url)) # a dictionary!\n",
      "print result"
     ],
     "language": "python",
     "metadata": {},
     "outputs": []
    },
    {
     "cell_type": "code",
     "collapsed": false,
     "input": [
      "import pprint\n",
      "pprint.pprint(result)"
     ],
     "language": "python",
     "metadata": {},
     "outputs": []
    },
    {
     "cell_type": "markdown",
     "metadata": {},
     "source": [
      "A more fleshed-out example code, prints the output more cleanly."
     ]
    },
    {
     "cell_type": "code",
     "collapsed": false,
     "input": [
      "import json, urllib2, sys\n",
      "base_domain = \"http://words.bighugelabs.com/\"\n",
      "api_key = \"483e281b60496d7961d852629799e733\"\n",
      "word = \"dog\"\n",
      "print \"Retrieving thesaurus entry for \\\"\" + word + \"\\\".\"\n",
      "url = base_domain + \"api/2/\" + api_key + \"/\" + word + \"/json\"\n",
      "try:\n",
      "    result = json.load(urllib2.urlopen(url)) # a dictionary!\n",
      "except:\n",
      "    print \"Error - word probably not in thesaurus.\"\n",
      "    sys.exit()\n",
      "for part_of_speech in result:\n",
      "    print \"-\"*50\n",
      "    print \"These are the \" + part_of_speech + \" entries:\"\n",
      "    for key in [\"syn\", \"ant\", \"rel\"]:\n",
      "        try:\n",
      "            for synonym in result[part_of_speech][key]:\n",
      "                print key + \" - \" + synonym\n",
      "        except:\n",
      "            continue"
     ],
     "language": "python",
     "metadata": {},
     "outputs": []
    },
    {
     "cell_type": "code",
     "collapsed": true,
     "input": [],
     "language": "python",
     "metadata": {},
     "outputs": []
    }
   ],
   "metadata": {}
  }
 ]
}