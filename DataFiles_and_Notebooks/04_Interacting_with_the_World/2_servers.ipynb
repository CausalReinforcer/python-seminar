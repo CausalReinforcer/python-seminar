{
 "metadata": {
  "name": ""
 },
 "nbformat": 3,
 "nbformat_minor": 0,
 "worksheets": [
  {
   "cells": [
    {
     "cell_type": "markdown",
     "metadata": {},
     "source": [
      "# TCP Socket Server"
     ]
    },
    {
     "cell_type": "code",
     "collapsed": false,
     "input": [
      "import socket, time\n",
      "s = socket.socket(socket.AF_INET, socket.SOCK_STREAM) \n",
      "host, port = \"\", 5100\n",
      "s.bind((host, port))\n",
      "s.listen(1)\n",
      "conn, addr = s.accept()\n",
      "print \"Client is at\", addr, \".\"\n",
      "data = conn.recv(100)\n",
      "print \"Client says:\", data\n",
      "response = \"Invalid command.\"\n",
      "if data == \"hello\":\n",
      "    response = \"How do you do?\"\n",
      "if data == \"time\":\n",
      "    response = time.ctime()\n",
      "if data == \"goodbye\":\n",
      "    response = \"It was nice hearing from you.\"\n",
      "conn.send(response) # now send response\n",
      "conn.close()"
     ],
     "language": "python",
     "metadata": {},
     "outputs": [
      {
       "output_type": "stream",
       "stream": "stdout",
       "text": [
        "Client is at ('127.0.0.1', 50083) .\n",
        "Client says: goodbye\n"
       ]
      }
     ],
     "prompt_number": 4
    },
    {
     "cell_type": "markdown",
     "metadata": {},
     "source": [
      "Make a server that runs indefinitely. Must kill it with an interrupt."
     ]
    },
    {
     "cell_type": "code",
     "collapsed": false,
     "input": [
      "import SocketServer, time\n",
      "class EchoRequestHandler(SocketServer.BaseRequestHandler):\n",
      "    def handle(self):\n",
      "        data = self.request.recv(100)\n",
      "        response = \"Invalid command.\"\n",
      "        if data == \"hello\":\n",
      "            response = \"How do you do?\"\n",
      "        if data == \"time\":\n",
      "            response = time.ctime()\n",
      "        self.request.send(response)\n",
      "server = SocketServer.ThreadingTCPServer(('', 5004), EchoRequestHandler)\n",
      "try:\n",
      "    server.serve_forever()\n",
      "except KeyboardInterrupt:\n",
      "    del server\n",
      "    print \"you interrupted. bye.\""
     ],
     "language": "python",
     "metadata": {},
     "outputs": [
      {
       "output_type": "stream",
       "stream": "stdout",
       "text": [
        "you interrupted. bye.\n"
       ]
      }
     ],
     "prompt_number": 5
    },
    {
     "cell_type": "markdown",
     "metadata": {},
     "source": [
      "# XMLRPC Server"
     ]
    },
    {
     "cell_type": "code",
     "collapsed": false,
     "input": [
      "import SimpleXMLRPCServer\n",
      "class Some_Class_We_Want_Remotely_Accessible(object):\n",
      "    def addition(self, a, b):\n",
      "        return a + b\n",
      "    def subtraction(self, a, b):\n",
      "        return a - b\n",
      "host, port = \"\", 5021\n",
      "server = SimpleXMLRPCServer.SimpleXMLRPCServer((host, port), allow_none=True)\n",
      "server.register_instance(Some_Class_We_Want_Remotely_Accessible())\n",
      "server.register_multicall_functions()\n",
      "server.register_introspection_functions()\n",
      "print \"XMLRPC Server is starting at:\", host, port"
     ],
     "language": "python",
     "metadata": {},
     "outputs": [
      {
       "output_type": "stream",
       "stream": "stdout",
       "text": [
        "XMLRPC Server is starting at:  5021\n"
       ]
      }
     ],
     "prompt_number": 6
    },
    {
     "cell_type": "code",
     "collapsed": false,
     "input": [
      "server.serve_forever()"
     ],
     "language": "python",
     "metadata": {},
     "outputs": [],
     "prompt_number": "*"
    },
    {
     "cell_type": "code",
     "collapsed": false,
     "input": [],
     "language": "python",
     "metadata": {},
     "outputs": []
    }
   ],
   "metadata": {}
  }
 ]
}