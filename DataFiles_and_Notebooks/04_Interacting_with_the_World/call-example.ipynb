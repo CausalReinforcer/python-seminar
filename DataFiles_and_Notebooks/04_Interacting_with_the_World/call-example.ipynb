{
 "metadata": {
  "name": "call-example"
 },
 "nbformat": 3,
 "nbformat_minor": 0,
 "worksheets": [
  {
   "cells": [
    {
     "cell_type": "code",
     "collapsed": false,
     "input": [
      "import twil # this has Josh's secret keys there, as well as his phone numbers"
     ],
     "language": "python",
     "metadata": {},
     "outputs": [],
     "prompt_number": 1
    },
    {
     "cell_type": "code",
     "collapsed": false,
     "input": [
      "from twilio.rest import TwilioRestClient\n",
      "\n",
      "account = twil.SID\n",
      "token = twil.TOKEN\n",
      "client = TwilioRestClient(account, token)\n",
      "\n",
      "message = client.sms.messages.create(to=twil.JOSHNUM, from_=twil.TWILNUM,\n",
      "                                     body=\"Warning SMS: You need more cowbells in your life.\")"
     ],
     "language": "python",
     "metadata": {},
     "outputs": [],
     "prompt_number": 14
    },
    {
     "cell_type": "code",
     "collapsed": false,
     "input": [
      "print message.status"
     ],
     "language": "python",
     "metadata": {},
     "outputs": [
      {
       "output_type": "stream",
       "stream": "stdout",
       "text": [
        "queued\n"
       ]
      }
     ],
     "prompt_number": 15
    },
    {
     "cell_type": "code",
     "collapsed": false,
     "input": [
      "from twilio.rest import TwilioRestClient\n",
      "\n",
      "# To find these visit https://www.twilio.com/user/account\n",
      "ACCOUNT_SID = twil.SID\n",
      "AUTH_TOKEN = twil.TOKEN\n",
      "\n",
      "client = TwilioRestClient(ACCOUNT_SID, AUTH_TOKEN)\n",
      "call = client.calls.create(to=twil.JOSHNUM, from_=twil.TWILNUM,\n",
      "                           url=\"https://api.twilio.com/cowbell.mp3\")"
     ],
     "language": "python",
     "metadata": {},
     "outputs": [],
     "prompt_number": 16
    },
    {
     "cell_type": "code",
     "collapsed": false,
     "input": [
      "print call.status"
     ],
     "language": "python",
     "metadata": {},
     "outputs": [
      {
       "output_type": "stream",
       "stream": "stdout",
       "text": [
        "queued\n"
       ]
      }
     ],
     "prompt_number": 17
    },
    {
     "cell_type": "code",
     "collapsed": false,
     "input": [],
     "language": "python",
     "metadata": {},
     "outputs": []
    }
   ],
   "metadata": {}
  }
 ]
}