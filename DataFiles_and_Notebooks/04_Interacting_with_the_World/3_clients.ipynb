{
 "metadata": {
  "name": "3_clients"
 },
 "nbformat": 3,
 "nbformat_minor": 0,
 "worksheets": [
  {
   "cells": [
    {
     "cell_type": "markdown",
     "metadata": {},
     "source": [
      "# TCP Socket Client"
     ]
    },
    {
     "cell_type": "code",
     "collapsed": false,
     "input": [
      "import socket, sys\n",
      "s = socket.socket(socket.AF_INET, socket.SOCK_STREAM) \n",
      "host, port = \"\", 5000 # empty host string = localhost\n",
      "s.connect((host, port))\n",
      "cmd = \"hello\" # if making a command line script, use sys.argv[1]\n",
      "s.send(cmd) # send command\n",
      "data = s.recv(100) # read up to 100 bytes\n",
      "print \"Server says:\", data\n",
      "s.close()"
     ],
     "language": "python",
     "metadata": {},
     "outputs": []
    },
    {
     "cell_type": "code",
     "collapsed": false,
     "input": [
      "import socket, sys\n",
      "s = socket.socket(socket.AF_INET, socket.SOCK_STREAM) \n",
      "host, port = \"\", 5002 # empty host string = localhost\n",
      "s.connect((host, port))\n",
      "cmd = \"time\" # if making a command line script, use sys.argv[1]\n",
      "s.send(cmd) # send command\n",
      "data = s.recv(100) # read up to 100 bytes\n",
      "print \"Server says:\", data\n",
      "s.close()"
     ],
     "language": "python",
     "metadata": {},
     "outputs": []
    },
    {
     "cell_type": "markdown",
     "metadata": {},
     "source": [
      "# XMLRPC Client"
     ]
    },
    {
     "cell_type": "code",
     "collapsed": false,
     "input": [
      "import xmlrpclib, sys\n",
      "host, port = \"\", 5021\n",
      "server = xmlrpclib.ServerProxy(\"http://%s:%d\" % (host, port))\n",
      "available_methods = server.system.listMethods()\n",
      "print \"Available methods from server:\"\n",
      "for method in available_methods:\n",
      "    print \"\\t\" + method\n",
      "result = server.subtraction(1, 4)\n",
      "print \"Result:\", result\n",
      "result = server.addition(1, 4)\n",
      "print \"Result:\", result"
     ],
     "language": "python",
     "metadata": {},
     "outputs": []
    },
    {
     "cell_type": "code",
     "collapsed": false,
     "input": [
      "result = server.addition(12, 4.5)\n",
      "print result"
     ],
     "language": "python",
     "metadata": {},
     "outputs": []
    },
    {
     "cell_type": "code",
     "collapsed": false,
     "input": [],
     "language": "python",
     "metadata": {},
     "outputs": []
    }
   ],
   "metadata": {}
  }
 ]
}