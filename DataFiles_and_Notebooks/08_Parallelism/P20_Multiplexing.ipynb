{
 "metadata": {
  "name": ""
 },
 "nbformat": 3,
 "nbformat_minor": 0,
 "worksheets": [
  {
   "cells": [
    {
     "cell_type": "markdown",
     "metadata": {},
     "source": [
      "# DirectView as multiplexer"
     ]
    },
    {
     "cell_type": "code",
     "collapsed": false,
     "input": [
      "import os,sys,time\n",
      "import numpy as np\n",
      "\n",
      "from IPython.display import display\n",
      "from IPython import parallel\n",
      "rc = parallel.Client()"
     ],
     "language": "python",
     "metadata": {},
     "outputs": [],
     "prompt_number": 3
    },
    {
     "cell_type": "markdown",
     "metadata": {},
     "source": [
      "The DirectView can be readily understood as an Engine Multiplexer -\n",
      "it does the same thing on all of its engines.\n",
      "\n",
      "The only difference between running code on a single remote engine\n",
      "and running code in parallel is how many engines the DirectView is\n",
      "instructed to use.\n",
      "\n",
      "You can create DirectViews by index-access to the Client.  This creates\n",
      "a DirectView using the engines after passing the same index (or slice)\n",
      "to the `ids` list."
     ]
    },
    {
     "cell_type": "code",
     "collapsed": true,
     "input": [
      "e0 = rc[0]\n",
      "eall = rc[:]\n",
      "even = rc[::2]\n",
      "odd = rc[1::2]\n",
      "\n",
      "# this is the one we are going to use:\n",
      "dview = eall\n",
      "dview.block = True"
     ],
     "language": "python",
     "metadata": {},
     "outputs": [],
     "prompt_number": 4
    },
    {
     "cell_type": "markdown",
     "metadata": {},
     "source": [
      "Now, the only difference from single-engine remote execution is that the code we run happens on all of the engines of a given view:"
     ]
    },
    {
     "cell_type": "code",
     "collapsed": false,
     "input": [
      "for view in (e0, eall, even, odd):\n",
      "    print view, view.apply_sync(os.getpid)"
     ],
     "language": "python",
     "metadata": {},
     "outputs": [
      {
       "output_type": "stream",
       "stream": "stdout",
       "text": [
        "<DirectView 0> 6999\n",
        "<DirectView [0, 1, 2, 3]> [6999, 7000, 7003, 7013]\n",
        "<DirectView [0, 2]> [6999, 7003]\n",
        "<DirectView [1, 3]> [7000, 7013]\n"
       ]
      }
     ],
     "prompt_number": 5
    },
    {
     "cell_type": "markdown",
     "metadata": {},
     "source": [
      "The results of multiplexed execution is always a list of the length of the number of engines."
     ]
    },
    {
     "cell_type": "code",
     "collapsed": false,
     "input": [
      "dview['a'] = 5\n",
      "dview['a']"
     ],
     "language": "python",
     "metadata": {},
     "outputs": [
      {
       "metadata": {},
       "output_type": "pyout",
       "prompt_number": 6,
       "text": [
        "[5, 5, 5, 5]"
       ]
      }
     ],
     "prompt_number": 6
    },
    {
     "cell_type": "markdown",
     "metadata": {},
     "source": [
      "# Scatter and Gather\n",
      "\n",
      "Lots of parallel computations involve partitioning data onto processes.  \n",
      "DirectViews have `scatter()` and `gather()` methods, to help with this.\n",
      "Pass any container or numpy array, and IPython will partition the object onto the engines wih `scatter`,\n",
      "or reconstruct the full object in the Client with `gather()`."
     ]
    },
    {
     "cell_type": "code",
     "collapsed": false,
     "input": [
      "dview.scatter('a',np.arange(16))\n",
      "a = len(dview['a'])\n",
      "\n",
      "print 'a in the engines:',dview['a']\n",
      "print 'a here:', a\n",
      "print 'len of whole thing:', len(dview.gather('a'))"
     ],
     "language": "python",
     "metadata": {},
     "outputs": [
      {
       "output_type": "stream",
       "stream": "stdout",
       "text": [
        "a in the engines: [array([0, 1, 2, 3]), array([4, 5, 6, 7]), array([ 8,  9, 10, 11]), array([12, 13, 14, 15])]\n",
        "a here: 4\n",
        "len of whole thing: 16\n"
       ]
      }
     ],
     "prompt_number": 7
    },
    {
     "cell_type": "code",
     "collapsed": false,
     "input": [
      "e0.block = True\n",
      "e0.scatter('a',np.arange(16))\n",
      "e0['a']"
     ],
     "language": "python",
     "metadata": {},
     "outputs": [
      {
       "metadata": {},
       "output_type": "pyout",
       "prompt_number": 8,
       "text": [
        "array([ 0,  1,  2,  3,  4,  5,  6,  7,  8,  9, 10, 11, 12, 13, 14, 15])"
       ]
      }
     ],
     "prompt_number": 8
    },
    {
     "cell_type": "code",
     "collapsed": false,
     "input": [
      "dview.gather('a')"
     ],
     "language": "python",
     "metadata": {},
     "outputs": [
      {
       "metadata": {},
       "output_type": "pyout",
       "prompt_number": 9,
       "text": [
        "array([ 0,  1,  2,  3,  4,  5,  6,  7,  8,  9, 10, 11, 12, 13, 14, 15,  4,\n",
        "        5,  6,  7,  8,  9, 10, 11, 12, 13, 14, 15])"
       ]
      }
     ],
     "prompt_number": 9
    },
    {
     "cell_type": "code",
     "collapsed": false,
     "input": [
      "dview.execute(\"asum = sum(a)\")\n",
      "dview.gather('asum')"
     ],
     "language": "python",
     "metadata": {},
     "outputs": [
      {
       "metadata": {},
       "output_type": "pyout",
       "prompt_number": 10,
       "text": [
        "[120, 22, 38, 54]"
       ]
      }
     ],
     "prompt_number": 10
    },
    {
     "cell_type": "markdown",
     "metadata": {},
     "source": [
      "The cell magic `%%px` is equivalent to calling `dview.execute()` on an entire cell, with a more convenient syntax:"
     ]
    },
    {
     "cell_type": "code",
     "collapsed": false,
     "input": [
      "%%px\n",
      "# This entire cell will be executed in all the engines as if we'd called\n",
      "# dview.execute(\"...\") with the contents below.\n",
      "asum2 = 2*sum(a)\n",
      "import numpy as np\n",
      "b = np.random.rand(4)"
     ],
     "language": "python",
     "metadata": {},
     "outputs": [],
     "prompt_number": 11
    },
    {
     "cell_type": "markdown",
     "metadata": {},
     "source": [
      "We can now agther"
     ]
    },
    {
     "cell_type": "code",
     "collapsed": false,
     "input": [
      "print 'asum2:\\n', dview.gather('asum2')\n",
      "print 'b    :\\n', dview.gather('b')"
     ],
     "language": "python",
     "metadata": {},
     "outputs": [
      {
       "output_type": "stream",
       "stream": "stdout",
       "text": [
        "asum2:\n",
        "[240, 44, 76, 108]\n",
        "b    :\n",
        "[ 0.39806431  0.03743146  0.03290088  0.08573552  0.72367846  0.06101819\n",
        "  0.23203826  0.31289956  0.57537764  0.38096102  0.74546469  0.83145872\n",
        "  0.87727918  0.31122775  0.57766312  0.08605077]\n"
       ]
      }
     ],
     "prompt_number": 12
    },
    {
     "cell_type": "markdown",
     "metadata": {},
     "source": [
      "With gather and `%%px` we can conveniently break up computation across multiple engines, for example a set of data files that need processing:"
     ]
    },
    {
     "cell_type": "code",
     "collapsed": false,
     "input": [
      "files = ['one.txt', 'two.txt', 'three.txt']\n",
      "dview.scatter('files', files)\n",
      "dview['files']"
     ],
     "language": "python",
     "metadata": {},
     "outputs": [
      {
       "metadata": {},
       "output_type": "pyout",
       "prompt_number": 13,
       "text": [
        "[['one.txt'], ['two.txt'], ['three.txt'], []]"
       ]
      }
     ],
     "prompt_number": 13
    },
    {
     "cell_type": "markdown",
     "metadata": {},
     "source": [
      "Note  how when  we run code with `%%px`, IPython automatically captures and summarizes print output for us from all engines:"
     ]
    },
    {
     "cell_type": "code",
     "collapsed": false,
     "input": [
      "%%px\n",
      "for file in files:\n",
      "    print 'filename:', file"
     ],
     "language": "python",
     "metadata": {},
     "outputs": [
      {
       "output_type": "stream",
       "stream": "stdout",
       "text": [
        "[stdout:0] filename: one.txt\n",
        "[stdout:1] filename: two.txt\n",
        "[stdout:2] filename: three.txt\n"
       ]
      }
     ],
     "prompt_number": 14
    },
    {
     "cell_type": "markdown",
     "metadata": {},
     "source": [
      "We can pass a 'flatten' keyword,\n",
      "to instruct engines that will only get one item of the list to\n",
      "get the actual item, rather than a one-element sublist:"
     ]
    },
    {
     "cell_type": "code",
     "collapsed": false,
     "input": [
      "dview.scatter('id',rc.ids)\n",
      "dview['id']"
     ],
     "language": "python",
     "metadata": {},
     "outputs": [
      {
       "metadata": {},
       "output_type": "pyout",
       "prompt_number": 15,
       "text": [
        "[[0], [1], [2], [3]]"
       ]
      }
     ],
     "prompt_number": 15
    },
    {
     "cell_type": "code",
     "collapsed": false,
     "input": [
      "dview.scatter('id',rc.ids, flatten=True)\n",
      "dview['id']"
     ],
     "language": "python",
     "metadata": {},
     "outputs": [
      {
       "metadata": {},
       "output_type": "pyout",
       "prompt_number": 16,
       "text": [
        "[0, 1, 2, 3]"
       ]
      }
     ],
     "prompt_number": 16
    },
    {
     "cell_type": "markdown",
     "metadata": {},
     "source": [
      "Scatter and gather also work with numpy arrays"
     ]
    },
    {
     "cell_type": "code",
     "collapsed": false,
     "input": [
      "A = np.random.randint(1,10,(16,4))\n",
      "B = np.random.randint(1,10,(4,16))\n",
      "display(A)\n",
      "display(B)"
     ],
     "language": "python",
     "metadata": {},
     "outputs": [
      {
       "metadata": {},
       "output_type": "display_data",
       "text": [
        "array([[2, 5, 7, 5],\n",
        "       [6, 3, 5, 2],\n",
        "       [8, 8, 9, 1],\n",
        "       [8, 7, 7, 5],\n",
        "       [7, 7, 4, 3],\n",
        "       [2, 2, 8, 9],\n",
        "       [8, 9, 1, 6],\n",
        "       [5, 4, 6, 7],\n",
        "       [6, 8, 3, 6],\n",
        "       [4, 9, 1, 9],\n",
        "       [1, 4, 1, 6],\n",
        "       [8, 7, 2, 3],\n",
        "       [1, 8, 4, 7],\n",
        "       [3, 6, 9, 3],\n",
        "       [2, 2, 1, 1],\n",
        "       [2, 4, 1, 3]])"
       ]
      },
      {
       "metadata": {},
       "output_type": "display_data",
       "text": [
        "array([[4, 1, 1, 3, 8, 8, 3, 8, 9, 7, 5, 7, 7, 4, 2, 4],\n",
        "       [8, 9, 3, 3, 3, 9, 1, 5, 8, 8, 6, 1, 1, 2, 1, 9],\n",
        "       [9, 5, 7, 1, 8, 2, 1, 1, 5, 6, 8, 5, 4, 2, 4, 7],\n",
        "       [8, 7, 5, 5, 5, 9, 4, 1, 2, 1, 8, 7, 7, 5, 4, 6]])"
       ]
      }
     ],
     "prompt_number": 17
    },
    {
     "cell_type": "code",
     "collapsed": false,
     "input": [
      "dview.scatter('A', A)\n",
      "dview.scatter('B', B)\n",
      "display(e0['A'])\n",
      "display(e0['B'])"
     ],
     "language": "python",
     "metadata": {},
     "outputs": [
      {
       "metadata": {},
       "output_type": "display_data",
       "text": [
        "array([[2, 5, 7, 5],\n",
        "       [6, 3, 5, 2],\n",
        "       [8, 8, 9, 1],\n",
        "       [8, 7, 7, 5]])"
       ]
      },
      {
       "metadata": {},
       "output_type": "display_data",
       "text": [
        "array([[4, 1, 1, 3, 8, 8, 3, 8, 9, 7, 5, 7, 7, 4, 2, 4]])"
       ]
      }
     ],
     "prompt_number": 18
    },
    {
     "cell_type": "markdown",
     "metadata": {},
     "source": [
      "# Example: Parallel Matrix Multiply\n",
      "\n",
      "With what we have seen so far, we can write our own (completely terrible!) parallel matrix multiply.\n",
      "\n",
      "* Remember - multiply rows of one by the columns of the other.\n",
      "* easiest implementation involves one each of: push, scatter, execute, gather"
     ]
    },
    {
     "cell_type": "code",
     "collapsed": true,
     "input": [
      "%load soln/matmul.py"
     ],
     "language": "python",
     "metadata": {},
     "outputs": [],
     "prompt_number": 1
    },
    {
     "cell_type": "markdown",
     "metadata": {},
     "source": [
      "Let's run this, and validate the result against a local computation."
     ]
    },
    {
     "cell_type": "code",
     "collapsed": false,
     "input": [
      "C_ref = A.dot(B)\n",
      "C1 = pdot(dview, A, B)\n",
      "# validation:\n",
      "(C1==C_ref).all()"
     ],
     "language": "python",
     "metadata": {},
     "outputs": [
      {
       "output_type": "pyout",
       "prompt_number": 38,
       "text": [
        "True"
       ]
      }
     ],
     "prompt_number": 38
    },
    {
     "cell_type": "markdown",
     "metadata": {},
     "source": [
      "# Map\n",
      "\n",
      "DirectViews have a map method, which behaves just like the builtin map,\n",
      "but computed in parallel."
     ]
    },
    {
     "cell_type": "code",
     "collapsed": false,
     "input": [
      "dview.block = True\n",
      "\n",
      "serial_result   =       map(lambda x:x**10, range(32))\n",
      "parallel_result = dview.map(lambda x:x**10, range(32))\n",
      "\n",
      "serial_result==parallel_result"
     ],
     "language": "python",
     "metadata": {},
     "outputs": [
      {
       "metadata": {},
       "output_type": "pyout",
       "prompt_number": 19,
       "text": [
        "True"
       ]
      }
     ],
     "prompt_number": 19
    },
    {
     "cell_type": "markdown",
     "metadata": {},
     "source": [
      "`DirectView.map` partitions the sequences onto each engine,\n",
      "and then calls `map` remotely.  The result is always a single\n",
      "IPython task per engine."
     ]
    },
    {
     "cell_type": "code",
     "collapsed": false,
     "input": [
      "amr = dview.map_async(lambda x:x**10, range(32))\n",
      "amr.msg_ids"
     ],
     "language": "python",
     "metadata": {},
     "outputs": [
      {
       "metadata": {},
       "output_type": "pyout",
       "prompt_number": 20,
       "text": [
        "['ca602482-827c-4dd0-8a96-8deea2e95626',\n",
        " '2fc38a98-c08a-4f54-b631-0d482436b939',\n",
        " '075e351f-9e26-422e-aeeb-a321d368caa8',\n",
        " '4f659d9e-4904-4b86-9bd8-1bcceab53e9d']"
       ]
      }
     ],
     "prompt_number": 20
    },
    {
     "cell_type": "code",
     "collapsed": false,
     "input": [
      "amr = dview.map_async(lambda x:x**10, range(3200))\n",
      "amr.msg_ids"
     ],
     "language": "python",
     "metadata": {},
     "outputs": [
      {
       "metadata": {},
       "output_type": "pyout",
       "prompt_number": 21,
       "text": [
        "['0294e5ca-59c4-420c-be8c-49ddfc11defd',\n",
        " '50ee8899-0885-4415-9eb0-d62757cfcd58',\n",
        " '93072a34-df8d-490f-a5d8-090617675ebd',\n",
        " '87b4cf04-171c-4a94-85a8-19327d09b6cc']"
       ]
      }
     ],
     "prompt_number": 21
    },
    {
     "cell_type": "markdown",
     "metadata": {},
     "source": [
      "### Example: Pi via simple Monte Carlo\n",
      "\n",
      "![Monte Carlo Pi](http://docs.picloud.com/_images/basic_example_monte.png)"
     ]
    },
    {
     "cell_type": "code",
     "collapsed": false,
     "input": [
      "def sample_circle(n):\n",
      "    import numpy as np\n",
      "    m = 0\n",
      "    for i in xrange(int(n)):\n",
      "        p = np.random.rand(2)\n",
      "        if sum(p**2.) <= 1.:\n",
      "            m += 1\n",
      "    return m\n",
      "\n",
      "def brute_pi(n):\n",
      "    m = sample_circle(n)\n",
      "    return 4.* m/n\n",
      "\n",
      "def err(npi):\n",
      "    return 100*abs(np.pi-npi)/np.pi"
     ],
     "language": "python",
     "metadata": {},
     "outputs": [],
     "prompt_number": 25
    },
    {
     "cell_type": "code",
     "collapsed": false,
     "input": [
      "n = 1e4"
     ],
     "language": "python",
     "metadata": {},
     "outputs": [],
     "prompt_number": 26
    },
    {
     "cell_type": "code",
     "collapsed": false,
     "input": [
      "%time bpi = brute_pi(n)\n",
      "print \"\\nError: %.2f%%\" % err(bpi)"
     ],
     "language": "python",
     "metadata": {},
     "outputs": [
      {
       "output_type": "stream",
       "stream": "stdout",
       "text": [
        "CPU times: user 102 ms, sys: 9 ms, total: 111 ms\n",
        "Wall time: 92.7 ms\n",
        "\n",
        "Error: 0.33%\n"
       ]
      }
     ],
     "prompt_number": 27
    },
    {
     "cell_type": "markdown",
     "metadata": {},
     "source": [
      "**Breakout**\n",
      "\n",
      "Write a function `cluster_pi` that uses the cluster to run the computation in parallel (use `brute_pi` as inspiration)."
     ]
    },
    {
     "cell_type": "code",
     "collapsed": false,
     "input": [
      "%load soln/cluster_pi.py"
     ],
     "language": "python",
     "metadata": {},
     "outputs": [],
     "prompt_number": 34
    }
   ],
   "metadata": {}
  }
 ]
}