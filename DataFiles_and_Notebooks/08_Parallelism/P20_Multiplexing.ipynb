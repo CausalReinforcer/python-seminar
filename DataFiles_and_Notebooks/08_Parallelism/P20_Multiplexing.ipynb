{
 "metadata": {
  "name": "P20_Multiplexing"
 },
 "nbformat": 3,
 "nbformat_minor": 0,
 "worksheets": [
  {
   "cells": [
    {
     "cell_type": "markdown",
     "metadata": {},
     "source": [
      "# DirectView as multiplexer"
     ]
    },
    {
     "cell_type": "code",
     "collapsed": false,
     "input": [
      "import os,sys,time\n",
      "import numpy as np\n",
      "\n",
      "from IPython.display import display\n",
      "from IPython import parallel\n",
      "rc = parallel.Client()"
     ],
     "language": "python",
     "metadata": {},
     "outputs": [
      {
       "output_type": "stream",
       "stream": "stdout",
       "text": [
        "\n"
       ]
      }
     ],
     "prompt_number": 45
    },
    {
     "cell_type": "markdown",
     "metadata": {},
     "source": [
      "The DirectView can be readily understood as an Engine Multiplexer -\n",
      "it does the same thing on all of its engines.\n",
      "\n",
      "The only difference between running code on a single remote engine\n",
      "and running code in parallel is how many engines the DirectView is\n",
      "instructed to use.\n",
      "\n",
      "You can create DirectViews by index-access to the Client.  This creates\n",
      "a DirectView using the engines after passing the same index (or slice)\n",
      "to the `ids` list."
     ]
    },
    {
     "cell_type": "code",
     "collapsed": true,
     "input": [
      "e0 = rc[0]\n",
      "eall = rc[:]\n",
      "even = rc[::2]\n",
      "odd = rc[1::2]\n",
      "\n",
      "# this is the one we are going to use:\n",
      "dview = eall\n",
      "dview.block = True"
     ],
     "language": "python",
     "metadata": {},
     "outputs": [],
     "prompt_number": 46
    },
    {
     "cell_type": "markdown",
     "metadata": {},
     "source": [
      "Now, the only difference from single-engine remote execution is that the code we run happens on all of the engines of a given view:"
     ]
    },
    {
     "cell_type": "code",
     "collapsed": false,
     "input": [
      "for view in (e0, eall, even, odd):\n",
      "    print view, view.apply_sync(os.getpid)"
     ],
     "language": "python",
     "metadata": {},
     "outputs": [
      {
       "output_type": "stream",
       "stream": "stdout",
       "text": [
        "<DirectView 0> 3725\n",
        "<DirectView [0, 1]> [3725, 3726]\n",
        "<DirectView [0]> [3725]\n",
        "<DirectView [1]> [3726]\n"
       ]
      }
     ],
     "prompt_number": 47
    },
    {
     "cell_type": "markdown",
     "metadata": {},
     "source": [
      "The results of multiplexed execution is always a list of the length of the number of engines."
     ]
    },
    {
     "cell_type": "code",
     "collapsed": false,
     "input": [
      "dview['a'] = 5\n",
      "dview['a']"
     ],
     "language": "python",
     "metadata": {},
     "outputs": [
      {
       "output_type": "pyout",
       "prompt_number": 48,
       "text": [
        "[5, 5]"
       ]
      }
     ],
     "prompt_number": 48
    },
    {
     "cell_type": "markdown",
     "metadata": {},
     "source": [
      "# Scatter and Gather\n",
      "\n",
      "Lots of parallel computations involve partitioning data onto processes.  \n",
      "DirectViews have `scatter()` and `gather()` methods, to help with this.\n",
      "Pass any container or numpy array, and IPython will partition the object onto the engines wih `scatter`,\n",
      "or reconstruct the full object in the Client with `gather()`."
     ]
    },
    {
     "cell_type": "code",
     "collapsed": false,
     "input": [
      "dview.scatter('a',np.arange(16))\n",
      "a = len(dview['a'])\n",
      "\n",
      "print 'a in the engines:',dview['a']\n",
      "print 'a here:', a\n",
      "print 'len of whole thing:', len(dview.gather('a'))"
     ],
     "language": "python",
     "metadata": {},
     "outputs": [
      {
       "output_type": "stream",
       "stream": "stdout",
       "text": [
        "a in the engines: [array([0, 1, 2, 3, 4, 5, 6, 7]), array([ 8,  9, 10, 11, 12, 13, 14, 15])]\n",
        "a here: 2\n",
        "len of whole thing: 16\n"
       ]
      }
     ],
     "prompt_number": 49
    },
    {
     "cell_type": "code",
     "collapsed": false,
     "input": [
      "e0.block = True\n",
      "e0.scatter('a',np.arange(16))\n",
      "e0['a']"
     ],
     "language": "python",
     "metadata": {},
     "outputs": [
      {
       "output_type": "pyout",
       "prompt_number": 50,
       "text": [
        "array([ 0,  1,  2,  3,  4,  5,  6,  7,  8,  9, 10, 11, 12, 13, 14, 15])"
       ]
      }
     ],
     "prompt_number": 50
    },
    {
     "cell_type": "code",
     "collapsed": false,
     "input": [
      "dview.gather('a')"
     ],
     "language": "python",
     "metadata": {},
     "outputs": [
      {
       "output_type": "pyout",
       "prompt_number": 51,
       "text": [
        "array([ 0,  1,  2,  3,  4,  5,  6,  7,  8,  9, 10, 11, 12, 13, 14, 15,  8,\n",
        "        9, 10, 11, 12, 13, 14, 15])"
       ]
      }
     ],
     "prompt_number": 51
    },
    {
     "cell_type": "code",
     "collapsed": false,
     "input": [
      "dview.execute(\"asum = sum(a)\")\n",
      "dview.gather('asum')"
     ],
     "language": "python",
     "metadata": {},
     "outputs": [
      {
       "output_type": "pyout",
       "prompt_number": 52,
       "text": [
        "[120, 92]"
       ]
      }
     ],
     "prompt_number": 52
    },
    {
     "cell_type": "markdown",
     "metadata": {},
     "source": [
      "The cell magic `%%px` is equivalent to calling `dview.execute()` on an entire cell, with a more convenient syntax:"
     ]
    },
    {
     "cell_type": "code",
     "collapsed": false,
     "input": [
      "%%px\n",
      "# This entire cell will be executed in all the engines as if we'd called\n",
      "# dview.execute(\"...\") with the contents below.\n",
      "asum2 = 2*sum(a)\n",
      "import numpy as np\n",
      "b = np.random.rand(4)"
     ],
     "language": "python",
     "metadata": {},
     "outputs": [],
     "prompt_number": 53
    },
    {
     "cell_type": "markdown",
     "metadata": {},
     "source": [
      "We can now agther"
     ]
    },
    {
     "cell_type": "code",
     "collapsed": false,
     "input": [
      "print 'asum2:\\n', dview.gather('asum2')\n",
      "print 'b    :\\n', dview.gather('b')"
     ],
     "language": "python",
     "metadata": {},
     "outputs": [
      {
       "output_type": "stream",
       "stream": "stdout",
       "text": [
        "asum2:\n",
        "[240, 184]\n",
        "b    :\n",
        "[ 0.58541254  0.87612126  0.42967319  0.47928774  0.22745991  0.65026678\n",
        "  0.69375466  0.08150465]\n"
       ]
      }
     ],
     "prompt_number": 56
    },
    {
     "cell_type": "markdown",
     "metadata": {},
     "source": [
      "With gather and `%%px` we can conveniently break up computation across multiple engines, for example a set of data files that need processing:"
     ]
    },
    {
     "cell_type": "code",
     "collapsed": false,
     "input": [
      "files = ['one.txt', 'two.txt', 'three.txt']\n",
      "dview.scatter('files', files)\n",
      "dview['files']"
     ],
     "language": "python",
     "metadata": {},
     "outputs": [
      {
       "output_type": "pyout",
       "prompt_number": 57,
       "text": [
        "[['one.txt', 'two.txt'], ['three.txt']]"
       ]
      }
     ],
     "prompt_number": 57
    },
    {
     "cell_type": "markdown",
     "metadata": {},
     "source": [
      "Note  how when  we run code with `%%px`, IPython automatically captures and summarizes print output for us from all engines:"
     ]
    },
    {
     "cell_type": "code",
     "collapsed": false,
     "input": [
      "%%px\n",
      "for file in files:\n",
      "    print 'filename:', file"
     ],
     "language": "python",
     "metadata": {},
     "outputs": [
      {
       "output_type": "stream",
       "stream": "stdout",
       "text": [
        "[stdout:0] \n",
        "filename: one.txt\n",
        "filename: two.txt\n",
        "[stdout:1] filename: three.txt\n"
       ]
      }
     ],
     "prompt_number": 58
    },
    {
     "cell_type": "markdown",
     "metadata": {},
     "source": [
      "We can pass a 'flatten' keyword,\n",
      "to instruct engines that will only get one item of the list to\n",
      "get the actual item, rather than a one-element sublist:"
     ]
    },
    {
     "cell_type": "code",
     "collapsed": false,
     "input": [
      "dview.scatter('id',rc.ids)\n",
      "dview['id']"
     ],
     "language": "python",
     "metadata": {},
     "outputs": [
      {
       "output_type": "pyout",
       "prompt_number": 8,
       "text": [
        "[[0], [1], [2], [3]]"
       ]
      }
     ],
     "prompt_number": 8
    },
    {
     "cell_type": "code",
     "collapsed": false,
     "input": [
      "dview.scatter('id',rc.ids, flatten=True)\n",
      "dview['id']"
     ],
     "language": "python",
     "metadata": {},
     "outputs": [
      {
       "output_type": "pyout",
       "prompt_number": 9,
       "text": [
        "[0, 1, 2, 3]"
       ]
      }
     ],
     "prompt_number": 9
    },
    {
     "cell_type": "markdown",
     "metadata": {},
     "source": [
      "Scatter and gather also work with numpy arrays"
     ]
    },
    {
     "cell_type": "code",
     "collapsed": false,
     "input": [
      "A = np.random.randint(1,10,(16,4))\n",
      "B = np.random.randint(1,10,(4,16))\n",
      "display(A)\n",
      "display(B)"
     ],
     "language": "python",
     "metadata": {},
     "outputs": [
      {
       "output_type": "display_data",
       "text": [
        "array([[4, 9, 6, 6],\n",
        "       [8, 1, 1, 8],\n",
        "       [9, 5, 1, 9],\n",
        "       [7, 9, 5, 9],\n",
        "       [5, 4, 1, 4],\n",
        "       [1, 8, 7, 1],\n",
        "       [8, 1, 2, 5],\n",
        "       [2, 1, 2, 8],\n",
        "       [6, 5, 7, 8],\n",
        "       [4, 4, 8, 1],\n",
        "       [2, 1, 4, 2],\n",
        "       [4, 4, 9, 7],\n",
        "       [6, 6, 3, 1],\n",
        "       [2, 5, 4, 9],\n",
        "       [6, 8, 5, 6],\n",
        "       [8, 6, 9, 5]])"
       ]
      },
      {
       "output_type": "display_data",
       "text": [
        "array([[3, 1, 3, 5, 3, 8, 4, 3, 9, 5, 2, 1, 5, 9, 4, 6],\n",
        "       [3, 8, 2, 3, 1, 9, 4, 6, 1, 9, 7, 2, 1, 8, 4, 2],\n",
        "       [7, 8, 7, 1, 4, 6, 3, 9, 4, 2, 7, 4, 5, 9, 7, 5],\n",
        "       [8, 7, 2, 9, 1, 3, 9, 9, 3, 1, 8, 3, 1, 5, 1, 5]])"
       ]
      }
     ],
     "prompt_number": 32
    },
    {
     "cell_type": "code",
     "collapsed": false,
     "input": [
      "dview.scatter('A', A)\n",
      "dview.scatter('B', B)\n",
      "display(e0['A'])\n",
      "display(e0['B'])"
     ],
     "language": "python",
     "metadata": {},
     "outputs": [
      {
       "output_type": "display_data",
       "text": [
        "array([[4, 9, 6, 6],\n",
        "       [8, 1, 1, 8],\n",
        "       [9, 5, 1, 9],\n",
        "       [7, 9, 5, 9],\n",
        "       [5, 4, 1, 4],\n",
        "       [1, 8, 7, 1],\n",
        "       [8, 1, 2, 5],\n",
        "       [2, 1, 2, 8]])"
       ]
      },
      {
       "output_type": "display_data",
       "text": [
        "array([[3, 1, 3, 5, 3, 8, 4, 3, 9, 5, 2, 1, 5, 9, 4, 6],\n",
        "       [3, 8, 2, 3, 1, 9, 4, 6, 1, 9, 7, 2, 1, 8, 4, 2]])"
       ]
      }
     ],
     "prompt_number": 33
    },
    {
     "cell_type": "markdown",
     "metadata": {},
     "source": [
      "# Example: Parallel Matrix Multiply\n",
      "\n",
      "With what we have seen so far, we can write our own (completely terrible!) parallel matrix multiply.\n",
      "\n",
      "* Remember - multiply rows of one by the columns of the other.\n",
      "* easiest implementation involves one each of: push, scatter, execute, gather"
     ]
    },
    {
     "cell_type": "code",
     "collapsed": true,
     "input": [
      "%load soln/matmul.py"
     ],
     "language": "python",
     "metadata": {},
     "outputs": [],
     "prompt_number": 36
    },
    {
     "cell_type": "markdown",
     "metadata": {},
     "source": [
      "Let's run this, and validate the result against a local computation."
     ]
    },
    {
     "cell_type": "code",
     "collapsed": false,
     "input": [
      "C_ref = A.dot(B)\n",
      "C1 = pdot(dview, A, B)\n",
      "# validation:\n",
      "(C1==C_ref).all()"
     ],
     "language": "python",
     "metadata": {},
     "outputs": [
      {
       "output_type": "pyout",
       "prompt_number": 38,
       "text": [
        "True"
       ]
      }
     ],
     "prompt_number": 38
    },
    {
     "cell_type": "markdown",
     "metadata": {},
     "source": [
      "# Map\n",
      "\n",
      "DirectViews have a map method, which behaves just like the builtin map,\n",
      "but computed in parallel."
     ]
    },
    {
     "cell_type": "code",
     "collapsed": false,
     "input": [
      "dview.block = True\n",
      "\n",
      "serial_result   =       map(lambda x:x**10, range(32))\n",
      "parallel_result = dview.map(lambda x:x**10, range(32))\n",
      "\n",
      "serial_result==parallel_result"
     ],
     "language": "python",
     "metadata": {},
     "outputs": [
      {
       "output_type": "pyout",
       "prompt_number": 15,
       "text": [
        "True"
       ]
      }
     ],
     "prompt_number": 15
    },
    {
     "cell_type": "markdown",
     "metadata": {},
     "source": [
      "`DirectView.map` partitions the sequences onto each engine,\n",
      "and then calls `map` remotely.  The result is always a single\n",
      "IPython task per engine."
     ]
    },
    {
     "cell_type": "code",
     "collapsed": false,
     "input": [
      "amr = dview.map_async(lambda x:x**10, range(32))\n",
      "amr.msg_ids"
     ],
     "language": "python",
     "metadata": {},
     "outputs": [
      {
       "output_type": "pyout",
       "prompt_number": 16,
       "text": [
        "['2d8cdefc-bd4c-4889-910b-c3dc722cf293',\n",
        " 'c218d34e-28c0-4184-a360-202494daccfd',\n",
        " '38f7178f-eb95-47c9-9cfe-c57e2e29bb11',\n",
        " 'a4876fa6-3a7b-4c8f-a7a3-89eeab5bf89d']"
       ]
      }
     ],
     "prompt_number": 16
    },
    {
     "cell_type": "code",
     "collapsed": false,
     "input": [
      "amr = dview.map_async(lambda x:x**10, range(3200))\n",
      "amr.msg_ids"
     ],
     "language": "python",
     "metadata": {},
     "outputs": [
      {
       "output_type": "pyout",
       "prompt_number": 17,
       "text": [
        "['fe8ae2ae-cace-4d4b-85d1-e681a675379a',\n",
        " '2be80e57-6d69-4ae1-ad25-1aeee4a18912',\n",
        " '2b3a69f0-7f5b-4739-9de1-5812bf868809',\n",
        " '87377c82-20fb-4073-b8f2-42ac0e7433e6']"
       ]
      }
     ],
     "prompt_number": 17
    }
   ],
   "metadata": {}
  }
 ]
}