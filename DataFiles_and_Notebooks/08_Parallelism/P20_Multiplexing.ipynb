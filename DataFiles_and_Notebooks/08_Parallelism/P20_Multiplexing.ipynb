{
 "metadata": {
  "name": "P20_Multiplexing"
 },
 "nbformat": 3,
 "worksheets": [
  {
   "cells": [
    {
     "cell_type": "markdown",
     "source": [
      "# DirectView as multiplexer"
     ]
    },
    {
     "cell_type": "code",
     "collapsed": false,
     "input": [
      "import os,sys,time",
      "import numpy as np",
      "",
      "from IPython.core.display import display",
      "from IPython import parallel",
      "rc = parallel.Client()"
     ],
     "language": "python",
     "outputs": [],
     "prompt_number": 1
    },
    {
     "cell_type": "markdown",
     "source": [
      "The DirectView can be readily understood as an Engine Multiplexer -",
      "it does the same thing on all of its engines.",
      "",
      "The only difference between running code on a single remote engine",
      "and running code in parallel is how many engines the DirectView is",
      "instructed to use.",
      "",
      "You can create DirectViews by index-access to the Client.  This creates",
      "a DirectView using the engines after passing the same index (or slice)",
      "to the `ids` list."
     ]
    },
    {
     "cell_type": "code",
     "collapsed": true,
     "input": [
      "e0 = rc[0]",
      "eall = rc[:]",
      "even = rc[::2]",
      "odd = rc[1::2]",
      "",
      "# this is the one we are going to use:",
      "dview = eall",
      "dview.block = True"
     ],
     "language": "python",
     "outputs": [],
     "prompt_number": 2
    },
    {
     "cell_type": "markdown",
     "source": [
      "Now, the only difference from single-engine remote execution is that the code we run happens on all of the engines of a given view:"
     ]
    },
    {
     "cell_type": "code",
     "collapsed": false,
     "input": [
      "for view in (e0, eall, even, odd):",
      "    print view, view.apply_sync(os.getpid)"
     ],
     "language": "python",
     "outputs": [
      {
       "output_type": "stream",
       "stream": "stdout",
       "text": [
        "<DirectView 0> 10986",
        "<DirectView [0, 1, 2, 3]> [10986, 10985, 10987, 10988]",
        "<DirectView [0, 2]> [10986, 10987]",
        "<DirectView [1, 3]> "
       ]
      },
      {
       "output_type": "stream",
       "stream": "stdout",
       "text": [
        "[10985, 10988]"
       ]
      }
     ],
     "prompt_number": 3
    },
    {
     "cell_type": "markdown",
     "source": [
      "The results of multiplexed execution is always a list of the length of the number of engines."
     ]
    },
    {
     "cell_type": "code",
     "collapsed": false,
     "input": [
      "dview['a'] = 5",
      "dview['a']"
     ],
     "language": "python",
     "outputs": [
      {
       "output_type": "pyout",
       "prompt_number": 4,
       "text": [
        "[5, 5, 5, 5]"
       ]
      }
     ],
     "prompt_number": 4
    },
    {
     "cell_type": "markdown",
     "source": [
      "# Scatter and Gather",
      "",
      "Lots of parallel computations involve partitioning data onto processes.  ",
      "DirectViews have `scatter()` and `gather()` methods, to help with this.",
      "Pass any container or numpy array, and IPython will partition the object onto the engines wih `scatter`,",
      "or reconstruct the full object in the Client with `gather()`."
     ]
    },
    {
     "cell_type": "code",
     "collapsed": false,
     "input": [
      "dview.scatter('a',range(16))",
      "dview['a']"
     ],
     "language": "python",
     "outputs": [
      {
       "output_type": "pyout",
       "prompt_number": 5,
       "text": [
        "[[0, 1, 2, 3], [4, 5, 6, 7], [8, 9, 10, 11], [12, 13, 14, 15]]"
       ]
      }
     ],
     "prompt_number": 5
    },
    {
     "cell_type": "code",
     "collapsed": false,
     "input": [
      "dview.gather('a')"
     ],
     "language": "python",
     "outputs": [
      {
       "output_type": "pyout",
       "prompt_number": 6,
       "text": [
        "[0, 1, 2, 3, 4, 5, 6, 7, 8, 9, 10, 11, 12, 13, 14, 15]"
       ]
      }
     ],
     "prompt_number": 6
    },
    {
     "cell_type": "code",
     "collapsed": false,
     "input": [
      "dview.execute(\"asum = sum(a)\")",
      "dview.gather('asum')"
     ],
     "language": "python",
     "outputs": [
      {
       "output_type": "pyout",
       "prompt_number": 7,
       "text": [
        "[6, 22, 38, 54]"
       ]
      }
     ],
     "prompt_number": 7
    },
    {
     "cell_type": "markdown",
     "source": [
      "We can pass a 'flatten' keyword,",
      "to instruct engines that will only get one item of the list to",
      "get the actual item, rather than a one-element sublist:"
     ]
    },
    {
     "cell_type": "code",
     "collapsed": false,
     "input": [
      "dview.scatter('id',rc.ids)",
      "dview['id']"
     ],
     "language": "python",
     "outputs": [
      {
       "output_type": "pyout",
       "prompt_number": 8,
       "text": [
        "[[0], [1], [2], [3]]"
       ]
      }
     ],
     "prompt_number": 8
    },
    {
     "cell_type": "code",
     "collapsed": false,
     "input": [
      "dview.scatter('id',rc.ids, flatten=True)",
      "dview['id']"
     ],
     "language": "python",
     "outputs": [
      {
       "output_type": "pyout",
       "prompt_number": 9,
       "text": [
        "[0, 1, 2, 3]"
       ]
      }
     ],
     "prompt_number": 9
    },
    {
     "cell_type": "markdown",
     "source": [
      "Scatter and gather also work with numpy arrays"
     ]
    },
    {
     "cell_type": "code",
     "collapsed": false,
     "input": [
      "A = np.random.randint(1,10,(16,4))",
      "B = np.random.randint(1,10,(4,16))",
      "display(A)",
      "display(B)"
     ],
     "language": "python",
     "outputs": [
      {
       "output_type": "display_data",
       "text": [
        "array([[4, 4, 5, 6],",
        "       [4, 8, 1, 7],",
        "       [5, 2, 2, 6],",
        "       [2, 6, 6, 9],",
        "       [5, 4, 6, 4],",
        "       [8, 7, 1, 4],",
        "       [1, 3, 3, 8],",
        "       [7, 1, 2, 2],",
        "       [7, 3, 8, 8],",
        "       [4, 5, 7, 4],",
        "       [9, 5, 4, 5],",
        "       [5, 7, 8, 4],",
        "       [3, 4, 8, 7],",
        "       [6, 6, 2, 2],",
        "       [6, 6, 9, 4],",
        "       [6, 2, 4, 4]])"
       ]
      },
      {
       "output_type": "display_data",
       "text": [
        "array([[7, 3, 7, 8, 2, 5, 3, 3, 5, 8, 2, 8, 4, 1, 4, 1],",
        "       [6, 2, 6, 6, 7, 3, 8, 8, 3, 1, 2, 2, 2, 8, 3, 1],",
        "       [8, 5, 2, 4, 8, 8, 8, 2, 1, 3, 6, 8, 6, 8, 4, 8],",
        "       [8, 4, 3, 3, 3, 1, 3, 5, 1, 4, 4, 1, 4, 6, 6, 5]])"
       ]
      }
     ],
     "prompt_number": 10
    },
    {
     "cell_type": "code",
     "collapsed": false,
     "input": [
      "dview.scatter('A', A)",
      "dview.scatter('B', B)",
      "display(e0['A'])",
      "display(e0['B'])"
     ],
     "language": "python",
     "outputs": [
      {
       "output_type": "display_data",
       "text": [
        "array([[4, 4, 5, 6],",
        "       [4, 8, 1, 7],",
        "       [5, 2, 2, 6],",
        "       [2, 6, 6, 9]])"
       ]
      },
      {
       "output_type": "display_data",
       "text": [
        "array([[7, 3, 7, 8, 2, 5, 3, 3, 5, 8, 2, 8, 4, 1, 4, 1]])"
       ]
      }
     ],
     "prompt_number": 11
    },
    {
     "cell_type": "markdown",
     "source": [
      "# Example: Parallel Matrix Multiply",
      "",
      "With what we have seen so far, we can write our own (completely terrible!) parallel matrix multiply.",
      "",
      "* Remember - multiply rows of one by the columns of the other.",
      "* easiest implementation involves one each of: push, scatter, execute, gather"
     ]
    },
    {
     "cell_type": "code",
     "collapsed": true,
     "input": [
      "%loadpy soln/matmul.py"
     ],
     "language": "python",
     "outputs": [],
     "prompt_number": 12
    },
    {
     "cell_type": "markdown",
     "source": [
      "Let's run this, and validate the result against a local computation."
     ]
    },
    {
     "cell_type": "code",
     "collapsed": false,
     "input": [
      "C_ref = A.dot(B)",
      "C1 = pdot(dview, A, B)",
      "# validation:",
      "(C1==C_ref).all()"
     ],
     "language": "python",
     "outputs": [
      {
       "output_type": "pyout",
       "prompt_number": 14,
       "text": [
        "True"
       ]
      }
     ],
     "prompt_number": 14
    },
    {
     "cell_type": "markdown",
     "source": [
      "# Map",
      "",
      "DirectViews have a map method, which behaves just like the builtin map,",
      "but computed in parallel."
     ]
    },
    {
     "cell_type": "code",
     "collapsed": false,
     "input": [
      "dview.block = True",
      "",
      "serial_result   =       map(lambda x:x**10, range(32))",
      "parallel_result = dview.map(lambda x:x**10, range(32))",
      "",
      "serial_result==parallel_result"
     ],
     "language": "python",
     "outputs": [
      {
       "output_type": "pyout",
       "prompt_number": 15,
       "text": [
        "True"
       ]
      }
     ],
     "prompt_number": 15
    },
    {
     "cell_type": "markdown",
     "source": [
      "`DirectView.map` partitions the sequences onto each engine,",
      "and then calls `map` remotely.  The result is always a single",
      "IPython task per engine."
     ]
    },
    {
     "cell_type": "code",
     "collapsed": false,
     "input": [
      "amr = dview.map_async(lambda x:x**10, range(32))",
      "amr.msg_ids"
     ],
     "language": "python",
     "outputs": [
      {
       "output_type": "pyout",
       "prompt_number": 16,
       "text": [
        "['2d8cdefc-bd4c-4889-910b-c3dc722cf293',",
        " 'c218d34e-28c0-4184-a360-202494daccfd',",
        " '38f7178f-eb95-47c9-9cfe-c57e2e29bb11',",
        " 'a4876fa6-3a7b-4c8f-a7a3-89eeab5bf89d']"
       ]
      }
     ],
     "prompt_number": 16
    },
    {
     "cell_type": "code",
     "collapsed": false,
     "input": [
      "amr = dview.map_async(lambda x:x**10, range(3200))",
      "amr.msg_ids"
     ],
     "language": "python",
     "outputs": [
      {
       "output_type": "pyout",
       "prompt_number": 17,
       "text": [
        "['fe8ae2ae-cace-4d4b-85d1-e681a675379a',",
        " '2be80e57-6d69-4ae1-ad25-1aeee4a18912',",
        " '2b3a69f0-7f5b-4739-9de1-5812bf868809',",
        " '87377c82-20fb-4073-b8f2-42ac0e7433e6']"
       ]
      }
     ],
     "prompt_number": 17
    }
   ]
  }
 ]
}