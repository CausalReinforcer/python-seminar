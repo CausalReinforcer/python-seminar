{
 "metadata": {
  "name": "Untitled2"
 },
 "nbformat": 3,
 "nbformat_minor": 0,
 "worksheets": [
  {
   "cells": [
    {
     "cell_type": "code",
     "collapsed": true,
     "input": [
      "from scipy.interpolate import interp1d, UnivariateSpline\n",
      "from scipy import constants as cons\n",
      "%pylab inline"
     ],
     "language": "python",
     "metadata": {},
     "outputs": []
    },
    {
     "cell_type": "code",
     "collapsed": false,
     "input": [
      "# set up some fake data, listing locations versus time\n",
      "M = 5.98e24  # mass and radius of Earth\n",
      "R = 6.38e6\n",
      "accel = cons.G*M/R**2 # Earth's grav acceleration\n",
      "times = np.arange(0,10,0.5) # seconds\n",
      "locations = 0.5*accel*times**2 + 50*np.random.random(len(times))\n",
      "\n",
      "# now interpolate onto a much finer grid, using both iterp1d and UnivariateSpline\n",
      "i_times = np.arange(0.5,9,0.1)\n",
      "i_locs = interp1d(times, locations, kind=\"cubic\")  # list of interpolated values of location at i_times\n",
      "s = UnivariateSpline(times, locations) # a function that will return interpolated values"
     ],
     "language": "python",
     "metadata": {},
     "outputs": []
    },
    {
     "cell_type": "code",
     "collapsed": false,
     "input": [
      "# plot up several different views of this example\n",
      "plt.errorbar(times, locations, yerr=50/2.35, linestyle='None', marker=\".\", label='data')\n",
      "plt.plot(itimes, s(itimes), c=\"g\", lw=10, alpha=0.3, label='UnivariateSpline')\n",
      "plt.plot(itimes, iloc(itimes), c=\"black\", lw=1, alpha=0.9, label='interp1d')\n",
      "plt.ylabel('locations')\n",
      "plt.xlabel('times (s)')\n",
      "plt.legend(loc='best')"
     ],
     "language": "python",
     "metadata": {},
     "outputs": []
    }
   ],
   "metadata": {}
  }
 ]
}