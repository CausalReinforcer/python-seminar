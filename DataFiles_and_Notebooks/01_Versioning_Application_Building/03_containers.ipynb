{
 "cells": [
  {
   "cell_type": "markdown",
   "metadata": {},
   "source": [
    "## Containerization\n",
    "\n",
    "If you want to package your code AND other non-python files/executables, you need to ship a description of what it takes to get a system to a state with all the dependencies.\n",
    "\n",
    "Docker is a way to specify the precise steps taken to install what you need to run your program. See http://containertutorials.com/index.html"
   ]
  },
  {
   "cell_type": "code",
   "execution_count": 4,
   "metadata": {
    "collapsed": false
   },
   "outputs": [
    {
     "name": "stdout",
     "output_type": "stream",
     "text": [
      "/Users/jbloom/Classes/python-seminar/DataFiles_and_Notebooks/01_Versioning_Application_Building/PyAdder\n"
     ]
    }
   ],
   "source": [
    "cd PyAdder"
   ]
  },
  {
   "cell_type": "code",
   "execution_count": 6,
   "metadata": {
    "collapsed": false
   },
   "outputs": [
    {
     "name": "stdout",
     "output_type": "stream",
     "text": [
      "M\tsetup.cfg\r\n",
      "M\tsetup.py\r\n",
      "Already on 'docker'\r\n"
     ]
    }
   ],
   "source": [
    "!git checkout docker"
   ]
  },
  {
   "cell_type": "code",
   "execution_count": 7,
   "metadata": {
    "collapsed": false
   },
   "outputs": [
    {
     "name": "stdout",
     "output_type": "stream",
     "text": [
      "Usage: docker [OPTIONS] COMMAND [arg...]\r\n",
      "       docker [ --help | -v | --version ]\r\n",
      "\r\n",
      "A self-sufficient runtime for containers.\r\n",
      "\r\n",
      "Options:\r\n",
      "\r\n",
      "  --config=~/.docker              Location of client config files\r\n",
      "  -D, --debug                     Enable debug mode\r\n",
      "  -H, --host=[]                   Daemon socket(s) to connect to\r\n",
      "  -h, --help                      Print usage\r\n",
      "  -l, --log-level=info            Set the logging level\r\n",
      "  --tls                           Use TLS; implied by --tlsverify\r\n",
      "  --tlscacert=~/.docker/ca.pem    Trust certs signed only by this CA\r\n",
      "  --tlscert=~/.docker/cert.pem    Path to TLS certificate file\r\n",
      "  --tlskey=~/.docker/key.pem      Path to TLS key file\r\n",
      "  --tlsverify                     Use TLS and verify the remote\r\n",
      "  -v, --version                   Print version information and quit\r\n",
      "\r\n",
      "Commands:\r\n",
      "    attach    Attach to a running container\r\n",
      "    build     Build an image from a Dockerfile\r\n",
      "    commit    Create a new image from a container's changes\r\n",
      "    cp        Copy files/folders between a container and the local filesystem\r\n",
      "    create    Create a new container\r\n",
      "    deploy    Create and update a stack from a Distributed Application Bundle (DAB)\r\n",
      "    diff      Inspect changes on a container's filesystem\r\n",
      "    events    Get real time events from the server\r\n",
      "    exec      Run a command in a running container\r\n",
      "    export    Export a container's filesystem as a tar archive\r\n",
      "    history   Show the history of an image\r\n",
      "    images    List images\r\n",
      "    import    Import the contents from a tarball to create a filesystem image\r\n",
      "    info      Display system-wide information\r\n",
      "    inspect   Return low-level information on a container, image or task\r\n",
      "    kill      Kill one or more running containers\r\n",
      "    load      Load an image from a tar archive or STDIN\r\n",
      "    login     Log in to a Docker registry.\r\n",
      "    logout    Log out from a Docker registry.\r\n",
      "    logs      Fetch the logs of a container\r\n",
      "    network   Manage Docker networks\r\n",
      "    node      Manage Docker Swarm nodes\r\n",
      "    pause     Pause all processes within one or more containers\r\n",
      "    plugin    Manage Docker plugins\r\n",
      "    port      List port mappings or a specific mapping for the container\r\n",
      "    ps        List containers\r\n",
      "    pull      Pull an image or a repository from a registry\r\n",
      "    push      Push an image or a repository to a registry\r\n",
      "    rename    Rename a container\r\n",
      "    restart   Restart a container\r\n",
      "    rm        Remove one or more containers\r\n",
      "    rmi       Remove one or more images\r\n",
      "    run       Run a command in a new container\r\n",
      "    save      Save one or more images to a tar archive (streamed to STDOUT by default)\r\n",
      "    search    Search the Docker Hub for images\r\n",
      "    service   Manage Docker services\r\n",
      "    stack     Manage Docker stacks\r\n",
      "    start     Start one or more stopped containers\r\n",
      "    stats     Display a live stream of container(s) resource usage statistics\r\n",
      "    stop      Stop one or more running containers\r\n",
      "    swarm     Manage Docker Swarm\r\n",
      "    tag       Tag an image into a repository\r\n",
      "    top       Display the running processes of a container\r\n",
      "    unpause   Unpause all processes within one or more containers\r\n",
      "    update    Update configuration of one or more containers\r\n",
      "    version   Show the Docker version information\r\n",
      "    volume    Manage Docker volumes\r\n",
      "    wait      Block until a container stops, then print its exit code\r\n",
      "\r\n",
      "Run 'docker COMMAND --help' for more information on a command.\r\n"
     ]
    }
   ],
   "source": [
    "!docker --help"
   ]
  },
  {
   "cell_type": "code",
   "execution_count": 11,
   "metadata": {
    "collapsed": true
   },
   "outputs": [],
   "source": [
    "# git clone https://github.com/profjsb/pydocker.git"
   ]
  },
  {
   "cell_type": "code",
   "execution_count": 12,
   "metadata": {
    "collapsed": false
   },
   "outputs": [
    {
     "name": "stdout",
     "output_type": "stream",
     "text": [
      "/Users/jbloom/Classes/python-seminar/DataFiles_and_Notebooks/01_Versioning_Application_Building/PyDocker\n"
     ]
    }
   ],
   "source": [
    "cd ../PyDocker/"
   ]
  },
  {
   "cell_type": "code",
   "execution_count": 14,
   "metadata": {
    "collapsed": false
   },
   "outputs": [
    {
     "name": "stdout",
     "output_type": "stream",
     "text": [
      "FROM python:3.5-alpine\r\n",
      "\r\n",
      "MAINTAINER Josh Bloom \"profjsb@gmail.com\"\r\n",
      "\r\n",
      "## Uncomment this if you want to add numpy, cython etc.\r\n",
      "#RUN apk add --update curl gcc g++ \\\r\n",
      "#    && rm -rf /var/cache/apk/*\r\n",
      "#RUN ln -s /usr/include/locale.h /usr/include/xlocale.h\r\n",
      "#RUN pip install numpy\r\n",
      "\r\n",
      "# Uncomment this if you want bash\r\n",
      "# RUN apk add --update bash && rm -rf /var/cache/apk/*\r\n",
      "\r\n",
      "COPY . /app\r\n",
      "WORKDIR /app\r\n",
      "\r\n",
      "RUN pip install -r requirements.txt\r\n",
      "\r\n",
      "ENTRYPOINT [\"python\"]\r\n",
      "CMD [\"app.py\"]"
     ]
    }
   ],
   "source": [
    "!cat Dockerfile"
   ]
  },
  {
   "cell_type": "code",
   "execution_count": 15,
   "metadata": {
    "collapsed": false
   },
   "outputs": [
    {
     "name": "stdout",
     "output_type": "stream",
     "text": [
      "# see http://www.itnotes.de/docker/development/tools/2014/08/31/speed-up-your-docker-workflow-with-a-makefile/\r\n",
      "\r\n",
      "NS = pyseminar\r\n",
      "VERSION = latest\r\n",
      "NAME = mydocker\r\n",
      "REPO = pydocker\r\n",
      "PORTS = -p 5000:5000\r\n",
      "INSTANCE = default\r\n",
      "VOLUMES = -v /tmp/docker:/var/log\r\n",
      "\r\n",
      "build:\r\n",
      "\tdocker build -t $(NS)/$(REPO):$(VERSION) .\r\n",
      "\r\n",
      "run:\r\n",
      "\t#docker rm $(NAME)-$(INSTANCE) \r\n",
      "\tdocker run -d --name $(NAME)-$(INSTANCE) $(PORTS) $(VOLUMES) $(ENV) $(NS)/$(REPO):$(VERSION)\r\n",
      "\r\n",
      "shell: run\r\n",
      "\tdocker exec -it $(NAME)-$(INSTANCE) /bin/sh\r\n",
      "\r\n",
      "default: build\r\n"
     ]
    }
   ],
   "source": [
    "!cat Makefile"
   ]
  },
  {
   "cell_type": "code",
   "execution_count": 16,
   "metadata": {
    "collapsed": false
   },
   "outputs": [
    {
     "name": "stdout",
     "output_type": "stream",
     "text": [
      "docker build -t pyseminar/pydocker:latest .\n",
      "Sending build context to Docker daemon 62.98 kB\n",
      "Step 1 : FROM python:3.5-alpine\n",
      " ---> 7aa75d330a28\n",
      "Step 2 : MAINTAINER Josh Bloom \"profjsb@gmail.com\"\n",
      " ---> Using cache\n",
      " ---> eb3a586268eb\n",
      "Step 3 : COPY . /app\n",
      " ---> 87fb3a31e723\n",
      "Removing intermediate container de4d83f54f14\n",
      "Step 4 : WORKDIR /app\n",
      " ---> Running in eadfa02b52af\n",
      " ---> 2a803ab26407\n",
      "Removing intermediate container eadfa02b52af\n",
      "Step 5 : RUN pip install -r requirements.txt\n",
      " ---> Running in 9c060a1a5f83\n",
      "Collecting flask (from -r requirements.txt (line 1))\n",
      "  Downloading Flask-0.11.1-py2.py3-none-any.whl (80kB)\n",
      "Collecting click>=2.0 (from flask->-r requirements.txt (line 1))\n",
      "  Downloading click-6.6.tar.gz (283kB)\n",
      "Collecting Jinja2>=2.4 (from flask->-r requirements.txt (line 1))\n",
      "  Downloading Jinja2-2.8-py2.py3-none-any.whl (263kB)\n",
      "Collecting itsdangerous>=0.21 (from flask->-r requirements.txt (line 1))\n",
      "  Downloading itsdangerous-0.24.tar.gz (46kB)\n",
      "Collecting Werkzeug>=0.7 (from flask->-r requirements.txt (line 1))\n",
      "  Downloading Werkzeug-0.11.11-py2.py3-none-any.whl (306kB)\n",
      "Collecting MarkupSafe (from Jinja2>=2.4->flask->-r requirements.txt (line 1))\n",
      "  Downloading MarkupSafe-0.23.tar.gz\n",
      "Installing collected packages: click, MarkupSafe, Jinja2, itsdangerous, Werkzeug, flask\n",
      "  Running setup.py install for click: started\n",
      "    Running setup.py install for click: finished with status 'done'\n",
      "  Running setup.py install for MarkupSafe: started\n",
      "    Running setup.py install for MarkupSafe: finished with status 'done'\n",
      "  Running setup.py install for itsdangerous: started\n",
      "    Running setup.py install for itsdangerous: finished with status 'done'\n",
      "Successfully installed Jinja2-2.8 MarkupSafe-0.23 Werkzeug-0.11.11 click-6.6 flask-0.11.1 itsdangerous-0.24\n",
      " ---> c3d6e80e2444\n",
      "Removing intermediate container 9c060a1a5f83\n",
      "Step 6 : ENTRYPOINT python\n",
      " ---> Running in 7301608ddbbb\n",
      " ---> ad854fcf6256\n",
      "Removing intermediate container 7301608ddbbb\n",
      "Step 7 : CMD app.py\n",
      " ---> Running in 3fd6d2425b3f\n",
      " ---> 45c02fb9631c\n",
      "Removing intermediate container 3fd6d2425b3f\n",
      "Successfully built 45c02fb9631c\n"
     ]
    }
   ],
   "source": [
    "!make build"
   ]
  },
  {
   "cell_type": "code",
   "execution_count": 17,
   "metadata": {
    "collapsed": false
   },
   "outputs": [
    {
     "name": "stdout",
     "output_type": "stream",
     "text": [
      "#docker rm mydocker-default \n",
      "docker run -d --name mydocker-default -p 5000:5000 -v /tmp/docker:/var/log  pyseminar/pydocker:latest\n",
      "docker: Error response from daemon: Conflict. The name \"/mydocker-default\" is already in use by container 8c6e3e113aa7132611de8499ce569c41d2956747639e8e68eedafb614c5ec43d. You have to remove (or rename) that container to be able to reuse that name..\n",
      "See 'docker run --help'.\n",
      "make: *** [run] Error 125\n"
     ]
    }
   ],
   "source": [
    "!make run"
   ]
  },
  {
   "cell_type": "markdown",
   "metadata": {},
   "source": [
    "# Getting Your Code to run in the Cloud\n",
    "\n",
    "We'll use Azure here (chose your favorite PaaS)."
   ]
  },
  {
   "cell_type": "code",
   "execution_count": null,
   "metadata": {
    "collapsed": true
   },
   "outputs": [],
   "source": []
  }
 ],
 "metadata": {
  "kernelspec": {
   "display_name": "Python 3",
   "language": "python",
   "name": "py3k"
  },
  "language_info": {
   "codemirror_mode": {
    "name": "ipython",
    "version": 3
   },
   "file_extension": ".py",
   "mimetype": "text/x-python",
   "name": "python",
   "nbconvert_exporter": "python",
   "pygments_lexer": "ipython3",
   "version": "3.5.2"
  }
 },
 "nbformat": 4,
 "nbformat_minor": 0
}
