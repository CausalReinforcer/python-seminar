{
 "metadata": {
  "name": ""
 },
 "nbformat": 3,
 "nbformat_minor": 0,
 "worksheets": [
  {
   "cells": [
    {
     "cell_type": "code",
     "collapsed": false,
     "input": [
      "%run talktools.py"
     ],
     "language": "python",
     "metadata": {},
     "outputs": [
      {
       "html": [
        "<style>\n",
        "\n",
        ".rendered_html\n",
        "{\n",
        "  color: #2C5494;\n",
        "  font-family: Ubuntu;\n",
        "  font-size: 140%;\n",
        "  line-height: 1.1;\n",
        "  margin: 0.5em 0;\n",
        "  }\n",
        "\n",
        ".title\n",
        "{\n",
        "  color: #498AF3;\n",
        "  font-size: 250%;\n",
        "  font-weight:bold;\n",
        "  line-height: 1.2; \n",
        "  margin: 10px 50px 10px;\n",
        "  }\n",
        "\n",
        ".subtitle\n",
        "{\n",
        "  color: #386BBC;\n",
        "  font-size: 180%;\n",
        "  font-weight:bold;\n",
        "  line-height: 1.2; \n",
        "  margin: 20px 50px 20px;\n",
        "  }\n",
        "\n",
        ".slide-header, p.slide-header\n",
        "{\n",
        "  color: #498AF3;\n",
        "  font-size: 200%;\n",
        "  font-weight:bold;\n",
        "  margin: 0px 20px 10px;\n",
        "  page-break-before: always;\n",
        "  text-align: center;\n",
        "  }\n",
        "\n",
        ".rendered_html h1\n",
        "{\n",
        "  color: #498AF3;\n",
        "  line-height: 1.2; \n",
        "  margin: 0.15em 0em 0.5em;\n",
        "  page-break-before: always;\n",
        "  text-align: center;\n",
        "  }\n",
        "\n",
        "\n",
        ".rendered_html h2\n",
        "{ \n",
        "  color: #386BBC;\n",
        "  line-height: 1.2;\n",
        "  margin: 1.1em 0em 0.5em;\n",
        "  }\n",
        "\n",
        ".rendered_html h3\n",
        "{ \n",
        "  font-size: 100%;\n",
        "  line-height: 1.2;\n",
        "  margin: 1.1em 0em 0.5em;\n",
        "  }\n",
        "\n",
        ".rendered_html li\n",
        "{\n",
        "  line-height: 1.8;\n",
        "  }\n",
        "\n",
        ".input_prompt, .CodeMirror-lines, .output_area\n",
        "{\n",
        "  font-family: Consolas;\n",
        "  font-size: 120%;\n",
        "  }\n",
        "\n",
        ".gap-above\n",
        "{\n",
        "  padding-top: 200px;\n",
        "  }\n",
        "\n",
        ".gap01\n",
        "{\n",
        "  padding-top: 10px;\n",
        "  }\n",
        "\n",
        ".gap05\n",
        "{\n",
        "  padding-top: 50px;\n",
        "  }\n",
        "\n",
        ".gap1\n",
        "{\n",
        "  padding-top: 100px;\n",
        "  }\n",
        "\n",
        ".gap2\n",
        "{\n",
        "  padding-top: 200px;\n",
        "  }\n",
        "\n",
        ".gap3\n",
        "{\n",
        "  padding-top: 300px;\n",
        "  }\n",
        "\n",
        ".emph\n",
        "{\n",
        "  color: #386BBC;\n",
        "  }\n",
        "\n",
        ".warn\n",
        "{\n",
        "  color: red;\n",
        "  }\n",
        "\n",
        ".center\n",
        "{\n",
        "  text-align: center;\n",
        "  }\n",
        "\n",
        ".nb_link\n",
        "{\n",
        "    padding-bottom: 0.5em;\n",
        "}\n",
        "\n",
        "</style>\n"
       ],
       "metadata": {},
       "output_type": "display_data",
       "text": [
        "<IPython.core.display.HTML at 0x1023c5f90>"
       ]
      }
     ],
     "prompt_number": 2
    },
    {
     "cell_type": "markdown",
     "metadata": {},
     "source": [
      "You should be at least at IPython v0.13 for this. \n",
      "\n",
      "If not:\n",
      "\n",
      "<code bash>\n",
      "conda update conda # if on Continuum\n",
      "conda update ipython\n",
      "sudo enpkg ipython # if on EPD\n",
      "</code>\n",
      "\n",
      "Then fire up the notebook\n",
      "<code>\n",
      "$ cd DataFiles_and_Notebooks/00_AdvancedPythonConcepts/\n",
      "$ ipython notebook\n",
      "</code>"
     ]
    },
    {
     "cell_type": "markdown",
     "metadata": {},
     "source": [
      "<center>\n",
      "<p class=\"gap03\"</p>\n",
      "<p class=\"title\">Useful Advanced Concepts</p>\n",
      "<p class=\"gap03\"</p>\n",
      "</center>\n",
      "<ul>\n",
      " <li> ``OrderedDict``\n",
      " <li> building iterators (Classes & generating functions)\n",
      " <li> ``with`` statements (Context managers)\n",
      " <li> decorators\n",
      "</ul>"
     ]
    },
    {
     "cell_type": "markdown",
     "metadata": {},
     "source": [
      "## OrderedDict ##\n",
      "\n",
      "not a core type like ``set``, ``dict``, ``list``, ``tuple``...\n",
      "but still very useful."
     ]
    },
    {
     "cell_type": "code",
     "collapsed": false,
     "input": [
      "a = {\"cal\": \"wow\", \"stanford\": \"meh\"}\n",
      "b = {\"stanford\": \"meh\", \"cal\": \"wow\"}"
     ],
     "language": "python",
     "metadata": {},
     "outputs": [],
     "prompt_number": 3
    },
    {
     "cell_type": "code",
     "collapsed": false,
     "input": [
      "a == b"
     ],
     "language": "python",
     "metadata": {},
     "outputs": [
      {
       "metadata": {},
       "output_type": "pyout",
       "prompt_number": 4,
       "text": [
        "True"
       ]
      }
     ],
     "prompt_number": 4
    },
    {
     "cell_type": "code",
     "collapsed": false,
     "input": [
      "for k in a.keys(): print k,\n",
      "print \"\\n\" + \"*\"*10\n",
      "for v in a.values(): print v,\n",
      "print \"\\n\" + \"*\"*10\n",
      "for k, v in a.iteritems(): print k, v"
     ],
     "language": "python",
     "metadata": {},
     "outputs": [
      {
       "output_type": "stream",
       "stream": "stdout",
       "text": [
        "stanford cal \n",
        "**********\n",
        "meh wow \n",
        "**********\n",
        "stanford meh\n",
        "cal wow\n"
       ]
      }
     ],
     "prompt_number": 5
    },
    {
     "cell_type": "code",
     "collapsed": false,
     "input": [
      "from collections import OrderedDict"
     ],
     "language": "python",
     "metadata": {},
     "outputs": [],
     "prompt_number": 6
    },
    {
     "cell_type": "code",
     "collapsed": false,
     "input": [
      "c = OrderedDict()"
     ],
     "language": "python",
     "metadata": {},
     "outputs": [],
     "prompt_number": 7
    },
    {
     "cell_type": "code",
     "collapsed": false,
     "input": [
      "type(c)"
     ],
     "language": "python",
     "metadata": {},
     "outputs": [
      {
       "metadata": {},
       "output_type": "pyout",
       "prompt_number": 8,
       "text": [
        "collections.OrderedDict"
       ]
      }
     ],
     "prompt_number": 8
    },
    {
     "cell_type": "code",
     "collapsed": false,
     "input": [
      "c.update({\"best schools\": \"cal\"})\n",
      "c.update({\"worst schools\": \"you know\"})\n",
      "d = OrderedDict({\"worst schools\": \"you know\"})\n",
      "d.update({\"best schools\": \"cal\"})"
     ],
     "language": "python",
     "metadata": {},
     "outputs": [],
     "prompt_number": 9
    },
    {
     "cell_type": "code",
     "collapsed": false,
     "input": [
      "c == d"
     ],
     "language": "python",
     "metadata": {},
     "outputs": [
      {
       "metadata": {},
       "output_type": "pyout",
       "prompt_number": 10,
       "text": [
        "False"
       ]
      }
     ],
     "prompt_number": 10
    },
    {
     "cell_type": "code",
     "collapsed": false,
     "input": [
      "print c\n",
      "print d"
     ],
     "language": "python",
     "metadata": {},
     "outputs": [
      {
       "output_type": "stream",
       "stream": "stdout",
       "text": [
        "OrderedDict([('best schools', 'cal'), ('worst schools', 'you know')])\n",
        "OrderedDict([('worst schools', 'you know'), ('best schools', 'cal')])\n"
       ]
      }
     ],
     "prompt_number": 11
    },
    {
     "cell_type": "code",
     "collapsed": false,
     "input": [
      "c.popitem()"
     ],
     "language": "python",
     "metadata": {},
     "outputs": [
      {
       "metadata": {},
       "output_type": "pyout",
       "prompt_number": 12,
       "text": [
        "('worst schools', 'you know')"
       ]
      }
     ],
     "prompt_number": 12
    },
    {
     "cell_type": "code",
     "collapsed": false,
     "input": [
      "d.popitem()"
     ],
     "language": "python",
     "metadata": {},
     "outputs": [
      {
       "metadata": {},
       "output_type": "pyout",
       "prompt_number": 13,
       "text": [
        "('best schools', 'cal')"
       ]
      }
     ],
     "prompt_number": 13
    },
    {
     "cell_type": "code",
     "collapsed": false,
     "input": [
      "print \"c=\", c\n",
      "print \"d=\", d"
     ],
     "language": "python",
     "metadata": {},
     "outputs": [
      {
       "output_type": "stream",
       "stream": "stdout",
       "text": [
        "c= OrderedDict([('best schools', 'cal')])\n",
        "d= OrderedDict([('worst schools', 'you know')])\n"
       ]
      }
     ],
     "prompt_number": 14
    },
    {
     "cell_type": "markdown",
     "metadata": {},
     "source": [
      "`OrderedDict` has all the same methods as `dict` types but includes the `.popitem()` method (which sort of like doing a `.pop()` on a list without any arguements."
     ]
    },
    {
     "cell_type": "code",
     "collapsed": false,
     "input": [
      "d = OrderedDict()\n",
      "d.update({\"best schools\": \"cal\", \"worst schools\": \"you know\"})\n",
      "e = OrderedDict({\"worst schools\": \"you know\",\"best schools\": \"cal\"})"
     ],
     "language": "python",
     "metadata": {},
     "outputs": [],
     "prompt_number": 16
    },
    {
     "cell_type": "code",
     "collapsed": false,
     "input": [
      "d == e"
     ],
     "language": "python",
     "metadata": {},
     "outputs": [
      {
       "output_type": "pyout",
       "prompt_number": 17,
       "text": [
        "True"
       ]
      }
     ],
     "prompt_number": 17
    },
    {
     "cell_type": "markdown",
     "metadata": {},
     "source": [
      "\"The `OrderedDict` constructor and `update()` method both accept keyword arguments, but their order is lost because Python\u2019s function call semantics pass-in keyword arguments using a regular unordered dictionary.\"\n",
      "\n",
      "http://docs.python.org/library/collections.html#collections.Counter"
     ]
    },
    {
     "cell_type": "code",
     "collapsed": false,
     "input": [
      "# other ways to update OrderedDict\n",
      "d.update(cal=\"I mean wow\", stanford=\"what's French for 'meh'?\")\n",
      "d.update([(\"Famous Isaacs\",[\"Shivvers\",\"Hurricane\"])])\n",
      "print d"
     ],
     "language": "python",
     "metadata": {},
     "outputs": [
      {
       "output_type": "stream",
       "stream": "stdout",
       "text": [
        "OrderedDict([('best schools', 'cal'), ('worst schools', 'you know'), ('stanford', \"what's French for 'meh'?\"), ('cal', 'I mean wow'), ('Famous Isaacs', ['Shivvers', 'Hurricane'])])\n"
       ]
      }
     ],
     "prompt_number": 18
    },
    {
     "cell_type": "code",
     "collapsed": false,
     "input": [
      "## unlike with a dict, the ordering of each pair in the\n",
      "## iteration is gauranteed across platforms. Hurray!\n",
      "for k,v in d.iteritems():\n",
      "    print k, \"=\", v"
     ],
     "language": "python",
     "metadata": {},
     "outputs": [
      {
       "output_type": "stream",
       "stream": "stdout",
       "text": [
        "best schools = cal\n",
        "worst schools = you know\n",
        "stanford = what's French for 'meh'?\n",
        "cal = I mean wow\n",
        "Famous Isaacs = ['Shivvers', 'Hurricane']\n"
       ]
      }
     ],
     "prompt_number": 19
    },
    {
     "cell_type": "markdown",
     "metadata": {},
     "source": [
      "# Making Iterables #\n",
      "\n",
      "<center>Python can loop over many different types</center>"
     ]
    },
    {
     "cell_type": "markdown",
     "metadata": {},
     "source": [
      "\n",
      "    >>> for element in [1, 2, 3]:\n",
      "        print element, \n",
      "    1 2 3\n",
      "    >>> for element in (1, 2, 3):\n",
      "        print element\n",
      "    1 2 3\n",
      "    >>> for key in {'one':1, 'two':2}:\n",
      "        print key, \n",
      "    one two\n",
      "    >>> for char in \"123\":\n",
      "        print char,\n",
      "    1 2 3\n",
      "    >>> for a in {4,1,3,4,2}:\n",
      "        print a,   \n",
      "    1 2 3 4\n",
      "    >>> print {4,1,3,4,2,\"a\",0j}\n",
      "        set([0j, 'a', 2, 3, 4, 1])"
     ]
    },
    {
     "cell_type": "markdown",
     "metadata": {},
     "source": [
      "# Making Iterables #\n",
      "<center> Each of those above types have built-in methods.\n",
      "So do, even, `file` objects: </center>"
     ]
    },
    {
     "cell_type": "code",
     "collapsed": false,
     "input": [
      "for l in open(\"password.file\",\"r\"):\n",
      "    print l,"
     ],
     "language": "python",
     "metadata": {},
     "outputs": [
      {
       "output_type": "stream",
       "stream": "stdout",
       "text": [
        "# here's some passwords I cracked\n",
        "guido  Monty\n",
        "cleese Python\n"
       ]
      }
     ],
     "prompt_number": 17
    },
    {
     "cell_type": "code",
     "collapsed": false,
     "input": [
      "a = [\"dog\",\"cat\",\"cheezeberger\"]"
     ],
     "language": "python",
     "metadata": {},
     "outputs": [],
     "prompt_number": 27
    },
    {
     "cell_type": "code",
     "collapsed": false,
     "input": [
      "# this is what is actually getting call by the for call\n",
      "# for x in a: ...\n",
      "b = iter(a)"
     ],
     "language": "python",
     "metadata": {},
     "outputs": [],
     "prompt_number": 28
    },
    {
     "cell_type": "code",
     "collapsed": false,
     "input": [
      "b"
     ],
     "language": "python",
     "metadata": {},
     "outputs": [
      {
       "output_type": "pyout",
       "prompt_number": 29,
       "text": [
        "<listiterator at 0x1082e8e90>"
       ]
      }
     ],
     "prompt_number": 29
    },
    {
     "cell_type": "code",
     "collapsed": false,
     "input": [
      "b.next()"
     ],
     "language": "python",
     "metadata": {},
     "outputs": [
      {
       "output_type": "pyout",
       "prompt_number": 30,
       "text": [
        "'dog'"
       ]
      }
     ],
     "prompt_number": 30
    },
    {
     "cell_type": "code",
     "collapsed": false,
     "input": [
      "b.next()"
     ],
     "language": "python",
     "metadata": {},
     "outputs": [
      {
       "output_type": "pyout",
       "prompt_number": 31,
       "text": [
        "'cat'"
       ]
      }
     ],
     "prompt_number": 31
    },
    {
     "cell_type": "code",
     "collapsed": false,
     "input": [
      "b.next()"
     ],
     "language": "python",
     "metadata": {},
     "outputs": [
      {
       "output_type": "pyout",
       "prompt_number": 32,
       "text": [
        "'cheezeberger'"
       ]
      }
     ],
     "prompt_number": 32
    },
    {
     "cell_type": "code",
     "collapsed": false,
     "input": [
      "b.next()"
     ],
     "language": "python",
     "metadata": {},
     "outputs": [
      {
       "ename": "StopIteration",
       "evalue": "",
       "output_type": "pyerr",
       "traceback": [
        "\u001b[0;31m---------------------------------------------------------------------------\u001b[0m\n\u001b[0;31mStopIteration\u001b[0m                             Traceback (most recent call last)",
        "\u001b[0;32m<ipython-input-33-573a563d926b>\u001b[0m in \u001b[0;36m<module>\u001b[0;34m()\u001b[0m\n\u001b[0;32m----> 1\u001b[0;31m \u001b[0mb\u001b[0m\u001b[0;34m.\u001b[0m\u001b[0mnext\u001b[0m\u001b[0;34m(\u001b[0m\u001b[0;34m)\u001b[0m\u001b[0;34m\u001b[0m\u001b[0m\n\u001b[0m",
        "\u001b[0;31mStopIteration\u001b[0m: "
       ]
      }
     ],
     "prompt_number": 33
    },
    {
     "cell_type": "markdown",
     "metadata": {},
     "source": [
      "# Making Iterables #\n",
      "\n",
      "<p class=\"gap05\"</p>\n",
      "\n",
      "We can make classes that know how to iterate, becoming new iterables types. The key is to build to special methods: ``.__iter__()`` and ``.next()``\n",
      "\n",
      "<p class=\"gap03\"</p>\n",
      "\n",
      " * `.__iter__()` : return an iterator object (usually just self) \n",
      " \n",
      " * `.next()` : return the next element in the iterator. raise a `StopIteration` exception if there is nothing left\n",
      " \n",
      "<p class=\"gap05\"</p>\n",
      "\n",
      " http://docs.python.org/library/stdtypes.html#typeiter"
     ]
    },
    {
     "cell_type": "code",
     "collapsed": false,
     "input": [
      "%%file myits1.py\n",
      "\n",
      "\"\"\" let's make an iterator \"\"\"\n",
      "class Reverse(object):\n",
      "     \"Iterator class for looping over a sequence backwards\"\n",
      "     def __init__(self, data):\n",
      "        self.data = data\n",
      "        self.index = len(data)\n",
      "\n",
      "     def __iter__(self):\n",
      "        # this is a required of an iterating class\n",
      "        return self\n",
      "\n",
      "     def next(self):\n",
      "        # we got to the front of the array\n",
      "        if self.index == 0:\n",
      "            raise StopIteration\n",
      "        self.index = self.index - 1\n",
      "        return self.data[self.index]"
     ],
     "language": "python",
     "metadata": {},
     "outputs": [
      {
       "output_type": "stream",
       "stream": "stdout",
       "text": [
        "Overwriting myits1.py\n"
       ]
      }
     ],
     "prompt_number": 38
    },
    {
     "cell_type": "code",
     "collapsed": false,
     "input": [
      "%run myits"
     ],
     "language": "python",
     "metadata": {},
     "outputs": [],
     "prompt_number": 39
    },
    {
     "cell_type": "code",
     "collapsed": false,
     "input": [
      "r = Reverse(\"god\")"
     ],
     "language": "python",
     "metadata": {},
     "outputs": [],
     "prompt_number": 40
    },
    {
     "cell_type": "code",
     "collapsed": false,
     "input": [
      "for c in r: print c,"
     ],
     "language": "python",
     "metadata": {},
     "outputs": [
      {
       "output_type": "stream",
       "stream": "stdout",
       "text": [
        "d o g\n"
       ]
      }
     ],
     "prompt_number": 41
    },
    {
     "cell_type": "code",
     "collapsed": false,
     "input": [
      "r.next()"
     ],
     "language": "python",
     "metadata": {},
     "outputs": [
      {
       "ename": "StopIteration",
       "evalue": "",
       "output_type": "pyerr",
       "traceback": [
        "\u001b[0;31m---------------------------------------------------------------------------\u001b[0m\n\u001b[0;31mStopIteration\u001b[0m                             Traceback (most recent call last)",
        "\u001b[0;32m<ipython-input-42-8d25240d5a85>\u001b[0m in \u001b[0;36m<module>\u001b[0;34m()\u001b[0m\n\u001b[0;32m----> 1\u001b[0;31m \u001b[0mr\u001b[0m\u001b[0;34m.\u001b[0m\u001b[0mnext\u001b[0m\u001b[0;34m(\u001b[0m\u001b[0;34m)\u001b[0m\u001b[0;34m\u001b[0m\u001b[0m\n\u001b[0m",
        "\u001b[0;32m/Users/jbloom/Classes/python-seminar/DataFiles_and_Notebooks/00_AdvancedPythonConcepts/myits.py\u001b[0m in \u001b[0;36mnext\u001b[0;34m(self)\u001b[0m\n\u001b[1;32m     35\u001b[0m         \u001b[0;31m# we got to the front of the array\u001b[0m\u001b[0;34m\u001b[0m\u001b[0;34m\u001b[0m\u001b[0m\n\u001b[1;32m     36\u001b[0m         \u001b[0;32mif\u001b[0m \u001b[0mself\u001b[0m\u001b[0;34m.\u001b[0m\u001b[0mindex\u001b[0m \u001b[0;34m==\u001b[0m \u001b[0;36m0\u001b[0m\u001b[0;34m:\u001b[0m\u001b[0;34m\u001b[0m\u001b[0m\n\u001b[0;32m---> 37\u001b[0;31m             \u001b[0;32mraise\u001b[0m \u001b[0mStopIteration\u001b[0m\u001b[0;34m\u001b[0m\u001b[0m\n\u001b[0m\u001b[1;32m     38\u001b[0m         \u001b[0mself\u001b[0m\u001b[0;34m.\u001b[0m\u001b[0mindex\u001b[0m \u001b[0;34m=\u001b[0m \u001b[0mself\u001b[0m\u001b[0;34m.\u001b[0m\u001b[0mindex\u001b[0m \u001b[0;34m-\u001b[0m \u001b[0;36m1\u001b[0m\u001b[0;34m\u001b[0m\u001b[0m\n\u001b[1;32m     39\u001b[0m         \u001b[0;32mreturn\u001b[0m \u001b[0mself\u001b[0m\u001b[0;34m.\u001b[0m\u001b[0mdata\u001b[0m\u001b[0;34m[\u001b[0m\u001b[0mself\u001b[0m\u001b[0;34m.\u001b[0m\u001b[0mindex\u001b[0m\u001b[0;34m]\u001b[0m\u001b[0;34m\u001b[0m\u001b[0m\n",
        "\u001b[0;31mStopIteration\u001b[0m: "
       ]
      }
     ],
     "prompt_number": 42
    },
    {
     "cell_type": "code",
     "collapsed": false,
     "input": [
      "r = Reverse(\"rats live on no evil star\")\n",
      "for c in r: print c,"
     ],
     "language": "python",
     "metadata": {},
     "outputs": [
      {
       "output_type": "stream",
       "stream": "stdout",
       "text": [
        "r a t s   l i v e   o n   n o   e v i l   s t a r\n"
       ]
      }
     ],
     "prompt_number": 43
    },
    {
     "cell_type": "markdown",
     "metadata": {},
     "source": [
      "# Generators #\n",
      "\n",
      "<p class=\"gap03\"</p>\n",
      "Create a ``generator`` object, something that is iterable:\n",
      "<p class=\"gap03\"</p>\n",
      "\n",
      "> e.g., (x**2 for x in xrange(3)\n",
      "\n",
      "<p class=\"gap03\"</p>\n",
      "Like list comprehension [] and set comprehension {}"
     ]
    },
    {
     "cell_type": "code",
     "collapsed": false,
     "input": [
      "(x**2 for x in xrange(3))"
     ],
     "language": "python",
     "metadata": {},
     "outputs": [
      {
       "metadata": {},
       "output_type": "pyout",
       "prompt_number": 34,
       "text": [
        "<generator object <genexpr> at 0x10351efa0>"
       ]
      }
     ],
     "prompt_number": 34
    },
    {
     "cell_type": "code",
     "collapsed": false,
     "input": [
      "for i in  (x**2 for x in xrange(3)):\n",
      "    print i"
     ],
     "language": "python",
     "metadata": {},
     "outputs": [
      {
       "output_type": "stream",
       "stream": "stdout",
       "text": [
        "0\n",
        "1\n",
        "4\n"
       ]
      }
     ],
     "prompt_number": 36
    },
    {
     "cell_type": "markdown",
     "metadata": {},
     "source": [
      "# Making Generators #\n",
      "\n",
      "<p class=\"gap03\"</p>\n",
      "we can also make iterables using generating functions\n",
      "<p class=\"gap03\"</p>\n",
      "\n",
      "<font color=\"red\"><b>yield</b></font> inside of a function acts like a \"temporary return\" but saves the entire state of the local variables for further use"
     ]
    },
    {
     "cell_type": "code",
     "collapsed": false,
     "input": [
      "%%file myits2.py\n",
      "\n",
      "def countdown(start,end=0,step=1.0):\n",
      "     i = start\n",
      "     while (i >= end) or end == None:\n",
      "          yield i\n",
      "          i -= step"
     ],
     "language": "python",
     "metadata": {},
     "outputs": [
      {
       "output_type": "stream",
       "stream": "stdout",
       "text": [
        "Writing myits2.py\n"
       ]
      }
     ],
     "prompt_number": 44
    },
    {
     "cell_type": "markdown",
     "metadata": {},
     "source": [
      "when the function stops yielding, StopIteration is raised (implicitly)"
     ]
    },
    {
     "cell_type": "code",
     "collapsed": false,
     "input": [
      "%run myits2"
     ],
     "language": "python",
     "metadata": {},
     "outputs": [],
     "prompt_number": 45
    },
    {
     "cell_type": "code",
     "collapsed": false,
     "input": [
      "c = countdown(1)"
     ],
     "language": "python",
     "metadata": {},
     "outputs": [],
     "prompt_number": 46
    },
    {
     "cell_type": "code",
     "collapsed": false,
     "input": [
      "c"
     ],
     "language": "python",
     "metadata": {},
     "outputs": [
      {
       "metadata": {},
       "output_type": "pyout",
       "prompt_number": 48,
       "text": [
        "<generator object countdown at 0x103542280>"
       ]
      }
     ],
     "prompt_number": 48
    },
    {
     "cell_type": "code",
     "collapsed": false,
     "input": [
      "c.next()"
     ],
     "language": "python",
     "metadata": {},
     "outputs": [
      {
       "metadata": {},
       "output_type": "pyout",
       "prompt_number": 49,
       "text": [
        "1"
       ]
      }
     ],
     "prompt_number": 49
    },
    {
     "cell_type": "code",
     "collapsed": false,
     "input": [
      "c.next()"
     ],
     "language": "python",
     "metadata": {},
     "outputs": [
      {
       "metadata": {},
       "output_type": "pyout",
       "prompt_number": 50,
       "text": [
        "0.0"
       ]
      }
     ],
     "prompt_number": 50
    },
    {
     "cell_type": "code",
     "collapsed": false,
     "input": [
      "c.next()"
     ],
     "language": "python",
     "metadata": {},
     "outputs": [
      {
       "ename": "StopIteration",
       "evalue": "",
       "output_type": "pyerr",
       "traceback": [
        "\u001b[0;31m---------------------------------------------------------------------------\u001b[0m\n\u001b[0;31mStopIteration\u001b[0m                             Traceback (most recent call last)",
        "\u001b[0;32m<ipython-input-51-50b4dad19337>\u001b[0m in \u001b[0;36m<module>\u001b[0;34m()\u001b[0m\n\u001b[0;32m----> 1\u001b[0;31m \u001b[0mc\u001b[0m\u001b[0;34m.\u001b[0m\u001b[0mnext\u001b[0m\u001b[0;34m(\u001b[0m\u001b[0;34m)\u001b[0m\u001b[0;34m\u001b[0m\u001b[0m\n\u001b[0m",
        "\u001b[0;31mStopIteration\u001b[0m: "
       ]
      }
     ],
     "prompt_number": 51
    },
    {
     "cell_type": "markdown",
     "metadata": {},
     "source": [
      "http://stackoverflow.com/questions/231767/the-python-yield-keyword-explained"
     ]
    },
    {
     "cell_type": "markdown",
     "metadata": {},
     "source": [
      "# Example: Fibonacci sequence #\n",
      "\n",
      "$$\n",
      "F(n) = \\left\\{ \\begin{array}{rl}\n",
      "  0 &\\mbox{ if $n=0$} \\\\\n",
      "  1 &\\mbox{ if $n=1$} \\\\\n",
      "  F(n -1) + F(n -2) & \\mbox{ if $n >1$}\n",
      "       \\end{array} \\right.\n",
      "$$\n",
      "\n",
      "output: 0, 1, 1, 2, 3, 5, 8, 13, 21, ..."
     ]
    },
    {
     "cell_type": "code",
     "collapsed": false,
     "input": [
      "%%file myits3.py\n",
      "\n",
      "def fib(start=0,end=None):\n",
      "    a = long(start)\n",
      "    b = start + 1L\n",
      "    while 1 and ((a < end) or (end is None)):\n",
      "        yield a\n",
      "        a, b = b, a + b"
     ],
     "language": "python",
     "metadata": {},
     "outputs": [
      {
       "output_type": "stream",
       "stream": "stdout",
       "text": [
        "Writing myits3.py\n"
       ]
      }
     ],
     "prompt_number": 53
    },
    {
     "cell_type": "code",
     "collapsed": false,
     "input": [
      "%run myits3\n",
      "a = fib()\n",
      "for i in range(10): print a.next(),"
     ],
     "language": "python",
     "metadata": {},
     "outputs": [
      {
       "output_type": "stream",
       "stream": "stdout",
       "text": [
        "0 1 1 2 3 5 8 13 21 34\n"
       ]
      }
     ],
     "prompt_number": 57
    },
    {
     "cell_type": "code",
     "collapsed": false,
     "input": [
      "%%file myits4.py\n",
      "\n",
      "def fib1(start=0,end=None,maxnum=100):\n",
      "    \"\"\"\n",
      "another yield example, allowing the user to start their own fibbinoci sequence at\n",
      "start (default is 0)\n",
      "    \"\"\"\n",
      "    a = long(start)\n",
      "    b = start + 1L\n",
      "    n_yielded = 0\n",
      "    while (n_yielded < maxnum or maxnum is None) and ((end is None) or (abs(a) < abs(end))):\n",
      "        \"abs needed to control against silly user starting with a negative number\"\n",
      "        yield a\n",
      "        n_yielded += 1\n",
      "        a, b = b, a + b\n",
      "    \n",
      "    # if we got here then we are returning instead of yielding. The countdown is finished\n",
      "    # we could raise a StopException excception here...this is done for us implicitly"
     ],
     "language": "python",
     "metadata": {},
     "outputs": [
      {
       "output_type": "stream",
       "stream": "stdout",
       "text": [
        "Writing myits4.py\n"
       ]
      }
     ],
     "prompt_number": 62
    },
    {
     "cell_type": "code",
     "collapsed": false,
     "input": [
      "for e in fib1(start=-1,end=10000,maxnum=4): print e,"
     ],
     "language": "python",
     "metadata": {},
     "outputs": [
      {
       "output_type": "stream",
       "stream": "stdout",
       "text": [
        "-1 0 -1 -1\n"
       ]
      }
     ],
     "prompt_number": 64
    },
    {
     "cell_type": "code",
     "collapsed": false,
     "input": [
      "b = fib1(start=1,end=10000,maxnum=2)\n",
      "b.next()"
     ],
     "language": "python",
     "metadata": {},
     "outputs": [
      {
       "metadata": {},
       "output_type": "pyout",
       "prompt_number": 67,
       "text": [
        "1L"
       ]
      }
     ],
     "prompt_number": 67
    },
    {
     "cell_type": "code",
     "collapsed": false,
     "input": [
      "b.next()"
     ],
     "language": "python",
     "metadata": {},
     "outputs": [
      {
       "metadata": {},
       "output_type": "pyout",
       "prompt_number": 68,
       "text": [
        "2L"
       ]
      }
     ],
     "prompt_number": 68
    },
    {
     "cell_type": "code",
     "collapsed": false,
     "input": [
      "b.next()"
     ],
     "language": "python",
     "metadata": {},
     "outputs": [
      {
       "ename": "StopIteration",
       "evalue": "",
       "output_type": "pyerr",
       "traceback": [
        "\u001b[0;31m---------------------------------------------------------------------------\u001b[0m\n\u001b[0;31mStopIteration\u001b[0m                             Traceback (most recent call last)",
        "\u001b[0;32m<ipython-input-69-573a563d926b>\u001b[0m in \u001b[0;36m<module>\u001b[0;34m()\u001b[0m\n\u001b[0;32m----> 1\u001b[0;31m \u001b[0mb\u001b[0m\u001b[0;34m.\u001b[0m\u001b[0mnext\u001b[0m\u001b[0;34m(\u001b[0m\u001b[0;34m)\u001b[0m\u001b[0;34m\u001b[0m\u001b[0m\n\u001b[0m",
        "\u001b[0;31mStopIteration\u001b[0m: "
       ]
      }
     ],
     "prompt_number": 69
    },
    {
     "cell_type": "markdown",
     "metadata": {},
     "source": [
      "# Breakout! #\n",
      "\n",
      "<center>\n",
      "The infinite series:\n",
      "1 - 1/3 + 1/5 - 1/7 ...\n",
      "converges to \u03c0/4\n",
      "</center>\n",
      "<p></p>\n",
      "\n",
      "a) write a generator function which progressively makes better and better approximations of \u03c0.\n",
      "\n",
      "b) modify the generator to stop after it reaches within 0.1% of the true value of \u03c0.  What value do you get?\n",
      "\n",
      "c) \"accelerate\" convergence by writing a generator that takes your answer in a) as an argument and returns:\n",
      "\n",
      "$$S_n = S_{n+1} - \\frac{(S_{n+1} - S_n)^2}{S_{n-1} - 2 S_n + S_{n+1}}$$"
     ]
    },
    {
     "cell_type": "markdown",
     "metadata": {},
     "source": [
      "<center>\n",
      "<img src=\"http://imgon.net/di-JMPP.gif\">\n",
      "</center>"
     ]
    },
    {
     "cell_type": "code",
     "collapsed": false,
     "input": [
      "%load ~/Classes/python-seminar/Breakouts/00_AdvancedPythonConcepts/week1-breakout1.py"
     ],
     "language": "python",
     "metadata": {},
     "outputs": [],
     "prompt_number": 81
    },
    {
     "cell_type": "code",
     "collapsed": false,
     "input": [
      "#!/usr/bin/env python\n",
      "\"\"\"\n",
      "Breakout answer from the Python seminar class (week #1)\n",
      "  - get's us used to using yield\n",
      "created by Josh Bloom at UC Berkeley, 2010, 2012 (ucbpythonclass+seminar@gmail.com)\n",
      "\"\"\"\n",
      "import math\n",
      "\n",
      "def pi_series(stop_when_close=False,close=0.00001):\n",
      "    \"\"\" generate the series 4*(1 - 1/3 + 1/5 - 1/7 ...), which should be pi.\n",
      "      We have Libnitz to thanks for this\n",
      "    \"\"\"\n",
      "    thesum = 0.0\n",
      "    i = 1.0 ; thesign = 1.0\n",
      "    while ((not stop_when_close) or (abs(4.0*thesum - math.pi) > close*math.pi)):\n",
      "        thesum += thesign/i\n",
      "        yield 4.0*thesum\n",
      "        i += 2.0 \n",
      "        thesign *= -1.0  ## change the sign in front of that term\n",
      "    \n",
      "    # notice that you don't need a StopIteration call\n",
      "\n",
      "def first_n(g, n):\n",
      "    for i in range(n):\n",
      "        yield g.next()\n",
      "\n",
      "def accel(series):\n",
      "    \"\"\" accelerate the series convergence.... we have Euler to thank for this\"\"\"\n",
      "    s0 = series.next() # Sn-1\n",
      "    s1 = series.next() # Sn\n",
      "    s2 = series.next() # Sn+1\n",
      "    while True:\n",
      "        yield s2 - ((s2 - s1)**2)/(s0 - 2.0*s1 + s2)\n",
      "        s0, s1, s2 = s1, s2, series.next()\n",
      "\n",
      "# yeilds ... we have Guido to thank for this.\n",
      "# he's happy about yeild from, coming in python 3.3 ... he accepted on 26th June, 2011.\n",
      "# see https://plus.google.com/115212051037621986145/posts/XkGsnBgdzVk\n",
      "\n",
      "firstbunch = list(first_n(pi_series(stop_when_close=True,close=0.001),1000))\n",
      "print \"{0:.7f} ... 0.1% stops after: {1:d} iterations\".format(firstbunch[-1],len(firstbunch))\n",
      "print \"Last breakout question:\" ; print(\"*\"*30)\n",
      "b = accel(pi_series())\n",
      "print \"fractional accuracy first 8 in accelerated series....:\"\n",
      "for i in range(8): \n",
      "    print \"{:.4e} \".format(abs(b.next() - math.pi)/math.pi)\n",
      "a = pi_series()\n",
      "print \"\\n\" + \"-\"*30\n",
      "print \"\\nfractional accuracy first 8 in un-accelerated series....:\"\n",
      "for i in range(8): \n",
      "    print \"{:.4e} \".format(abs(a.next() - math.pi)/math.pi)\n",
      "    "
     ],
     "language": "python",
     "metadata": {},
     "outputs": [
      {
       "output_type": "stream",
       "stream": "stdout",
       "text": [
        "3.1447274 ... 0.1% stops after: 319 iterations\n",
        "Last breakout question:\n",
        "******************************\n",
        "fractional accuracy first 8 in accelerated series....:\n",
        "7.9813e-03 \n",
        "2.6290e-03 \n",
        "1.1604e-03 \n",
        "6.0801e-04 \n",
        "3.5657e-04 \n",
        "2.2642e-04 \n",
        "1.5252e-04 \n",
        "1.0753e-04 \n",
        "\n",
        "------------------------------\n",
        "\n",
        "fractional accuracy first 8 in un-accelerated series....:\n",
        "2.7324e-01 \n",
        "1.5117e-01 \n",
        "1.0347e-01 \n",
        "7.8417e-02 \n",
        "6.3054e-02 \n",
        "5.2695e-02 \n",
        "4.5246e-02 \n",
        "3.9636e-02 \n"
       ]
      }
     ],
     "prompt_number": 90
    },
    {
     "cell_type": "markdown",
     "metadata": {},
     "source": [
      "# Itertools #"
     ]
    },
    {
     "cell_type": "code",
     "collapsed": false,
     "input": [
      "import itertools"
     ],
     "language": "python",
     "metadata": {},
     "outputs": [
      {
       "output_type": "stream",
       "stream": "stdout",
       "text": [
        "0 1 4\n"
       ]
      }
     ],
     "prompt_number": 32
    },
    {
     "cell_type": "code",
     "collapsed": false,
     "input": [
      "## chain many iterables together\n",
      "a = itertools.chain((x**2 for x in xrange(3)), (x**3 for x in xrange(3)))"
     ],
     "language": "python",
     "metadata": {},
     "outputs": [],
     "prompt_number": 35
    },
    {
     "cell_type": "code",
     "collapsed": false,
     "input": [
      "for x in a: \n",
      "    print x,"
     ],
     "language": "python",
     "metadata": {},
     "outputs": [
      {
       "output_type": "stream",
       "stream": "stdout",
       "text": [
        "0 1 4 0 1 8\n"
       ]
      }
     ],
     "prompt_number": 36
    },
    {
     "cell_type": "code",
     "collapsed": false,
     "input": [
      "print a\n",
      "print hasattr(a,\"next\")\n",
      "print hasattr(a,\"__iter__\")"
     ],
     "language": "python",
     "metadata": {},
     "outputs": [
      {
       "output_type": "stream",
       "stream": "stdout",
       "text": [
        "<itertools.chain object at 0x1082dda10>\n",
        "True\n",
        "True\n"
       ]
      }
     ],
     "prompt_number": 37
    },
    {
     "cell_type": "code",
     "collapsed": false,
     "input": [
      "for x in itertools.combinations([\"dog\",\"cat\",\"cheezberger\"], 2): print x, "
     ],
     "language": "python",
     "metadata": {},
     "outputs": [
      {
       "output_type": "stream",
       "stream": "stdout",
       "text": [
        "('dog', 'cat') ('dog', 'cheezberger') ('cat', 'cheezberger')\n"
       ]
      }
     ],
     "prompt_number": 38
    },
    {
     "cell_type": "code",
     "collapsed": false,
     "input": [
      "for x in itertools.permutations([\"dog\",\"cat\",\"cheezberger\"]): print x, "
     ],
     "language": "python",
     "metadata": {},
     "outputs": [
      {
       "output_type": "stream",
       "stream": "stdout",
       "text": [
        "('dog', 'cat', 'cheezberger') ('dog', 'cheezberger', 'cat') ('cat', 'dog', 'cheezberger') ('cat', 'cheezberger', 'dog') ('cheezberger', 'dog', 'cat') ('cheezberger', 'cat', 'dog')\n"
       ]
      }
     ],
     "prompt_number": 39
    },
    {
     "cell_type": "markdown",
     "metadata": {},
     "source": []
    },
    {
     "cell_type": "markdown",
     "metadata": {},
     "source": [
      "## Decorators ##\n",
      "\n",
      "see http://stackoverflow.com/questions/739654/understanding-python-decorators"
     ]
    },
    {
     "cell_type": "code",
     "collapsed": false,
     "input": [
      "def bread(func):\n",
      "    def wrapper(*args):\n",
      "        print \"</''''''\\>\"\n",
      "        func(*args)\n",
      "        print \"<\\______/>\"\n",
      "    return wrapper\n",
      "\n",
      "def ingredients(func):\n",
      "    def wrapper(*args):\n",
      "        print \"#tomatoes#\"\n",
      "        func(*args)\n",
      "        print \"~salad~\"\n",
      "    return wrapper\n",
      "\n",
      "@bread\n",
      "@ingredients\n",
      "def sandwich(food=\"--ham--\"):\n",
      "    print food"
     ],
     "language": "python",
     "metadata": {},
     "outputs": [],
     "prompt_number": 40
    },
    {
     "cell_type": "code",
     "collapsed": false,
     "input": [
      "sandwich()"
     ],
     "language": "python",
     "metadata": {},
     "outputs": [
      {
       "output_type": "stream",
       "stream": "stdout",
       "text": [
        "</''''''\\>\n",
        "#tomatoes#\n",
        "--ham--\n",
        "~salad~\n",
        "<\\______/>\n"
       ]
      }
     ],
     "prompt_number": 41
    },
    {
     "cell_type": "code",
     "collapsed": false,
     "input": [
      "sandwich(\"--antelope--\")"
     ],
     "language": "python",
     "metadata": {},
     "outputs": [
      {
       "output_type": "stream",
       "stream": "stdout",
       "text": [
        "</''''''\\>\n",
        "#tomatoes#\n",
        "--antelope--\n",
        "~salad~\n",
        "<\\______/>\n"
       ]
      }
     ],
     "prompt_number": 42
    },
    {
     "cell_type": "code",
     "collapsed": false,
     "input": [],
     "language": "python",
     "metadata": {},
     "outputs": []
    }
   ],
   "metadata": {}
  }
 ]
}