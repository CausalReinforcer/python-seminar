{
 "metadata": {
  "name": ""
 },
 "nbformat": 3,
 "nbformat_minor": 0,
 "worksheets": [
  {
   "cells": [
    {
     "cell_type": "markdown",
     "metadata": {},
     "source": [
      "# A few simple Mayavi examples\n",
      "\n",
      "These are all taken from the excellent [Mayavi documentation](http://github.enthought.com/mayavi/mayavi/auto/examples.html)."
     ]
    },
    {
     "cell_type": "code",
     "collapsed": false,
     "input": [
      "%matplotlib inline\n",
      "%gui wx\n",
      "from mayavi import mlab\n",
      "import numpy"
     ],
     "language": "python",
     "metadata": {},
     "outputs": []
    },
    {
     "cell_type": "markdown",
     "metadata": {},
     "source": [
      "## Line plot"
     ]
    },
    {
     "cell_type": "code",
     "collapsed": false,
     "input": [
      "def test_plot3d():\n",
      "    \"\"\"Generates a pretty set of lines.\"\"\"\n",
      "    n_mer, n_long = 6, 11\n",
      "    pi = numpy.pi\n",
      "    dphi = pi/1000.0\n",
      "    phi = numpy.arange(0.0, 2*pi + 0.5*dphi, dphi)\n",
      "    mu = phi*n_mer\n",
      "    x = numpy.cos(mu)*(1+numpy.cos(n_long*mu/n_mer)*0.5)\n",
      "    y = numpy.sin(mu)*(1+numpy.cos(n_long*mu/n_mer)*0.5)\n",
      "    z = numpy.sin(n_long*mu/n_mer)*0.5\n",
      "\n",
      "    l = mlab.plot3d(x, y, z, numpy.sin(mu), tube_radius=0.025, \n",
      "               colormap='Spectral')\n",
      "    return l\n",
      "\n",
      "test_plot3d()"
     ],
     "language": "python",
     "metadata": {},
     "outputs": []
    },
    {
     "cell_type": "markdown",
     "metadata": {},
     "source": [
      "## Point plot"
     ]
    },
    {
     "cell_type": "code",
     "collapsed": false,
     "input": [
      "def test_points3d():\n",
      "    t = numpy.linspace(0, 4*numpy.pi, 20)\n",
      "    cos = numpy.cos\n",
      "    sin = numpy.sin\n",
      "\n",
      "    x = sin(2*t)\n",
      "    y = cos(t)\n",
      "    z = cos(2*t)\n",
      "    s = 2+sin(t)\n",
      "\n",
      "    return mlab.points3d(x, y, z, s, colormap=\"copper\", scale_factor=.25)\n",
      "\n",
      "test_points3d()"
     ],
     "language": "python",
     "metadata": {},
     "outputs": []
    },
    {
     "cell_type": "markdown",
     "metadata": {},
     "source": [
      "## Simple surfaces"
     ]
    },
    {
     "cell_type": "code",
     "collapsed": false,
     "input": [
      "def test_surf():\n",
      "    \"\"\"Test surf on regularly spaced co-ordinates like MayaVi.\"\"\"\n",
      "    import numpy\n",
      "    \n",
      "    def f(x, y):\n",
      "        sin, cos = numpy.sin, numpy.cos\n",
      "        return sin(x+y) + sin(2*x - y) + cos(3*x+4*y)\n",
      "\n",
      "    x, y = numpy.mgrid[-7.:7.05:0.1, -5.:5.05:0.05]\n",
      "    s = mlab.surf(x, y, f)\n",
      "    return s\n",
      "\n",
      "test_surf()"
     ],
     "language": "python",
     "metadata": {},
     "outputs": []
    },
    {
     "cell_type": "code",
     "collapsed": false,
     "input": [
      "from IPython.display import Image\n",
      "png = 'foo.png'\n",
      "mlab.savefig(png)\n",
      "Image(png)"
     ],
     "language": "python",
     "metadata": {},
     "outputs": []
    },
    {
     "cell_type": "markdown",
     "metadata": {},
     "source": [
      "## Images"
     ]
    },
    {
     "cell_type": "code",
     "collapsed": false,
     "input": [
      "def test_imshow():\n",
      "    \"\"\" Use imshow to visualize a 2D 10x10 random array.\n",
      "    \"\"\"\n",
      "    s = numpy.random.random((10,10))\n",
      "    return mlab.imshow(s, colormap='gist_earth')\n",
      "\n",
      "test_imshow()"
     ],
     "language": "python",
     "metadata": {},
     "outputs": []
    },
    {
     "cell_type": "markdown",
     "metadata": {},
     "source": [
      "## Flow"
     ]
    },
    {
     "cell_type": "code",
     "collapsed": false,
     "input": [
      "import numpy\n",
      "\n",
      "def test_flow():\n",
      "    x, y, z = numpy.mgrid[0:5, 0:5, 0:5]\n",
      "    r = numpy.sqrt(x**2 + y**2 + z**4)\n",
      "    u = y*numpy.sin(r)/r\n",
      "    v = -x*numpy.sin(r)/r\n",
      "    w = numpy.zeros_like(z)\n",
      "    obj = mlab.flow(u, v, w)\n",
      "    return obj\n",
      "\n",
      "test_flow()"
     ],
     "language": "python",
     "metadata": {},
     "outputs": []
    },
    {
     "cell_type": "markdown",
     "metadata": {},
     "source": [
      "### The Lorenz attractor"
     ]
    },
    {
     "cell_type": "code",
     "collapsed": true,
     "input": [
      "%loadpy http://github.enthought.com/mayavi/mayavi/_downloads/lorenz.py"
     ],
     "language": "python",
     "metadata": {},
     "outputs": []
    },
    {
     "cell_type": "code",
     "collapsed": false,
     "input": [
      "\"\"\"\n",
      "An example displaying the trajectories for the Lorenz system of\n",
      "equations along with the z-nullcline.\n",
      "\n",
      "The vector field of the Lorenz system flow is integrated to display\n",
      "trajectories using mlab's flow function:\n",
      ":func:`mayavi.mlab.flow`.\n",
      "\n",
      "The z-nullcline is plotted by extracting the z component of the vector\n",
      "field data source with the ExtractVectorComponent filter, and applying\n",
      "an IsoSurface module on this scalar component.\n",
      "\"\"\"\n",
      "# Author: Prabhu Ramachandran <prabhu@aero.iitb.ac.in>\n",
      "# Copyright (c) 2008-2009, Enthought, Inc.\n",
      "# License: BSD Style.\n",
      "\n",
      "import numpy\n",
      "from mayavi import mlab\n",
      "\n",
      "def lorenz(x, y, z, s=10.,r=28., b=8./3.):\n",
      "    \"\"\"The Lorenz system.\"\"\"\n",
      "    u = s*(y-x)\n",
      "    v = r*x -y - x*z\n",
      "    w = x*y - b*z\n",
      "    return u, v, w\n",
      "\n",
      "# Sample the space in an interesting region.\n",
      "x, y, z = numpy.mgrid[-50:50:100j,-50:50:100j,-10:60:70j]\n",
      "u, v, w = lorenz(x, y, z)\n",
      "fig = mlab.figure(size=(400, 300), bgcolor=(0, 0, 0))\n",
      "\n",
      "# Plot the flow of trajectories with suitable parameters.\n",
      "f = mlab.flow(x, y, z, u, v, w, line_width=3, colormap='Paired')\n",
      "f.module_manager.scalar_lut_manager.reverse_lut = True\n",
      "f.stream_tracer.integration_direction = 'both'\n",
      "f.stream_tracer.maximum_propagation = 200\n",
      "# Uncomment the following line if you want to hide the seed:\n",
      "#f.seed.widget.enabled = False\n",
      "\n",
      "# Extract the z-velocity from the vectors and plot the 0 level set\n",
      "# hence producing the z-nullcline.\n",
      "src = f.mlab_source.m_data\n",
      "e = mlab.pipeline.extract_vector_components(src)\n",
      "e.component = 'z-component'\n",
      "zc = mlab.pipeline.iso_surface(e, opacity=0.5, contours=[0,],\n",
      "            color=(0.6, 1, 0.2))\n",
      "# When using transparency, hiding 'backface' triangles often gives better\n",
      "# results\n",
      "zc.actor.property.backface_culling = True\n",
      "\n",
      "# A nice view of the plot.\n",
      "mlab.view(140, 120, 113, [0.65, 1.5, 27])\n",
      "mlab.show()"
     ],
     "language": "python",
     "metadata": {},
     "outputs": []
    },
    {
     "cell_type": "code",
     "collapsed": false,
     "input": [],
     "language": "python",
     "metadata": {},
     "outputs": []
    }
   ],
   "metadata": {}
  }
 ]
}