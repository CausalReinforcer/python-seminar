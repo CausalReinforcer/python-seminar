{
 "metadata": {
  "name": ""
 },
 "nbformat": 3,
 "nbformat_minor": 0,
 "worksheets": [
  {
   "cells": [
    {
     "cell_type": "markdown",
     "metadata": {},
     "source": [
      "# Classifying Text (e.g., newsgroups)\n",
      "\n",
      "We'll step through a reasonably complete ML workflow and test the accuracy of a few of the ML algorithms we've discussed in class on the [20 newsgroups]( http://qwone.com/~jason/20Newsgroups) data set using [nltk](http://nltk.org/) and [scikit-learn](http://scikit-learn.org/).\n",
      "\n",
      "By default, nltk only includes a small sample of the 20 newsgroups data, so for this demo you'll need to download the complete collection of texts, from [here](http://qwone.com/~jason/20Newsgroups/20news-18828.tar.gz).\n",
      "\n",
      "Shamelessly adapted from:\n",
      "http://nbviewer.ipython.org/urls/dl.dropboxusercontent.com/u/4864294/ML/20%2520newsgroups.ipynb"
     ]
    },
    {
     "cell_type": "markdown",
     "metadata": {},
     "source": [
      "## Import data\n",
      "\n",
      "Once you've downloaded and uncompressed the collection, you should have a folder called '20news-18828' in your current directory.  We can now use set up nltk's corpus tools to allow us to easily access the text. "
     ]
    },
    {
     "cell_type": "code",
     "collapsed": false,
     "input": [
      "import nltk\n",
      "newsgroups = \\\n",
      "  nltk.corpus.PlaintextCorpusReader('/Users/jbloom/Downloads/20news-18828', '.*/[0-9]+', encoding='latin1')"
     ],
     "language": "python",
     "metadata": {},
     "outputs": [],
     "prompt_number": 2
    },
    {
     "cell_type": "markdown",
     "metadata": {},
     "source": [
      "An nltk corpus can be viewed as a collection of files:"
     ]
    },
    {
     "cell_type": "code",
     "collapsed": false,
     "input": [
      "ids = newsgroups.fileids()\n",
      "print len(ids)\n",
      "ids[:10]"
     ],
     "language": "python",
     "metadata": {},
     "outputs": [
      {
       "output_type": "stream",
       "stream": "stdout",
       "text": [
        "18828\n"
       ]
      },
      {
       "metadata": {},
       "output_type": "pyout",
       "prompt_number": 5,
       "text": [
        "['alt.atheism/49960',\n",
        " 'alt.atheism/51060',\n",
        " 'alt.atheism/51119',\n",
        " 'alt.atheism/51120',\n",
        " 'alt.atheism/51121',\n",
        " 'alt.atheism/51122',\n",
        " 'alt.atheism/51123',\n",
        " 'alt.atheism/51124',\n",
        " 'alt.atheism/51125',\n",
        " 'alt.atheism/51126']"
       ]
      }
     ],
     "prompt_number": 5
    },
    {
     "cell_type": "code",
     "collapsed": false,
     "input": [
      "!cat /Users/jbloom/Downloads/20news-18828/alt.atheism/49960"
     ],
     "language": "python",
     "metadata": {},
     "outputs": [
      {
       "output_type": "stream",
       "stream": "stdout",
       "text": [
        "From: mathew <mathew@mantis.co.uk>\r\n",
        "Subject: Alt.Atheism FAQ: Atheist Resources\r\n",
        "\r\n",
        "Archive-name: atheism/resources\r\n",
        "Alt-atheism-archive-name: resources\r\n",
        "Last-modified: 11 December 1992\r\n",
        "Version: 1.0\r\n",
        "\r\n",
        "                              Atheist Resources\r\n",
        "\r\n",
        "                      Addresses of Atheist Organizations\r\n",
        "\r\n",
        "                                     USA\r\n",
        "\r\n",
        "FREEDOM FROM RELIGION FOUNDATION\r\n",
        "\r\n",
        "Darwin fish bumper stickers and assorted other atheist paraphernalia are\r\n",
        "available from the Freedom From Religion Foundation in the US.\r\n",
        "\r\n",
        "Write to:  FFRF, P.O. Box 750, Madison, WI 53701.\r\n",
        "Telephone: (608) 256-8900\r\n",
        "\r\n",
        "EVOLUTION DESIGNS\r\n",
        "\r\n",
        "Evolution Designs sell the \"Darwin fish\".  It's a fish symbol, like the ones\r\n",
        "Christians stick on their cars, but with feet and the word \"Darwin\" written\r\n",
        "inside.  The deluxe moulded 3D plastic fish is $4.95 postpaid in the US.\r\n",
        "\r\n",
        "Write to:  Evolution Designs, 7119 Laurel Canyon #4, North Hollywood,\r\n",
        "           CA 91605.\r\n",
        "\r\n",
        "People in the San Francisco Bay area can get Darwin Fish from Lynn Gold --\r\n",
        "try mailing <figmo@netcom.com>.  For net people who go to Lynn directly, the\r\n",
        "price is $4.95 per fish.\r\n",
        "\r\n",
        "AMERICAN ATHEIST PRESS\r\n",
        "\r\n",
        "AAP publish various atheist books -- critiques of the Bible, lists of\r\n",
        "Biblical contradictions, and so on.  One such book is:\r\n",
        "\r\n",
        "\"The Bible Handbook\" by W.P. Ball and G.W. Foote.  American Atheist Press.\r\n",
        "372 pp.  ISBN 0-910309-26-4, 2nd edition, 1986.  Bible contradictions,\r\n",
        "absurdities, atrocities, immoralities... contains Ball, Foote: \"The Bible\r\n",
        "Contradicts Itself\", AAP.  Based on the King James version of the Bible.\r\n",
        "\r\n",
        "Write to:  American Atheist Press, P.O. Box 140195, Austin, TX 78714-0195.\r\n",
        "      or:  7215 Cameron Road, Austin, TX 78752-2973.\r\n",
        "Telephone: (512) 458-1244\r\n",
        "Fax:       (512) 467-9525\r\n",
        "\r\n",
        "PROMETHEUS BOOKS\r\n",
        "\r\n",
        "Sell books including Haught's \"Holy Horrors\" (see below).\r\n",
        "\r\n",
        "Write to:  700 East Amherst Street, Buffalo, New York 14215.\r\n",
        "Telephone: (716) 837-2475.\r\n",
        "\r\n",
        "An alternate address (which may be newer or older) is:\r\n",
        "Prometheus Books, 59 Glenn Drive, Buffalo, NY 14228-2197.\r\n",
        "\r\n",
        "AFRICAN-AMERICANS FOR HUMANISM\r\n",
        "\r\n",
        "An organization promoting black secular humanism and uncovering the history of\r\n",
        "black freethought.  They publish a quarterly newsletter, AAH EXAMINER.\r\n",
        "\r\n",
        "Write to:  Norm R. Allen, Jr., African Americans for Humanism, P.O. Box 664,\r\n",
        "           Buffalo, NY 14226.\r\n",
        "\r\n",
        "                                United Kingdom\r\n",
        "\r\n",
        "Rationalist Press Association          National Secular Society\r\n",
        "88 Islington High Street               702 Holloway Road\r\n",
        "London N1 8EW                          London N19 3NL\r\n",
        "071 226 7251                           071 272 1266\r\n",
        "\r\n",
        "British Humanist Association           South Place Ethical Society\r\n",
        "14 Lamb's Conduit Passage              Conway Hall\r\n",
        "London WC1R 4RH                        Red Lion Square\r\n",
        "071 430 0908                           London WC1R 4RL\r\n",
        "fax 071 430 1271                       071 831 7723\r\n",
        "\r\n",
        "The National Secular Society publish \"The Freethinker\", a monthly magazine\r\n",
        "founded in 1881.\r\n",
        "\r\n",
        "                                   Germany\r\n",
        "\r\n",
        "IBKA e.V.\r\n",
        "Internationaler Bund der Konfessionslosen und Atheisten\r\n",
        "Postfach 880, D-1000 Berlin 41. Germany.\r\n",
        "\r\n",
        "IBKA publish a journal:\r\n",
        "MIZ. (Materialien und Informationen zur Zeit. Politisches\r\n",
        "Journal der Konfessionslosesn und Atheisten. Hrsg. IBKA e.V.)\r\n",
        "MIZ-Vertrieb, Postfach 880, D-1000 Berlin 41. Germany.\r\n",
        "\r\n",
        "For atheist books, write to:\r\n",
        "\r\n",
        "IBDK, Internationaler B\"ucherdienst der Konfessionslosen\r\n",
        "Postfach 3005, D-3000 Hannover 1. Germany.\r\n",
        "Telephone: 0511/211216\r\n",
        "\r\n",
        "\r\n",
        "                               Books -- Fiction\r\n",
        "\r\n",
        "THOMAS M. DISCH\r\n",
        "\r\n",
        "\"The Santa Claus Compromise\"\r\n",
        "Short story.  The ultimate proof that Santa exists.  All characters and \r\n",
        "events are fictitious.  Any similarity to living or dead gods -- uh, well...\r\n",
        "\r\n",
        "WALTER M. MILLER, JR\r\n",
        "\r\n",
        "\"A Canticle for Leibowitz\"\r\n",
        "One gem in this post atomic doomsday novel is the monks who spent their lives\r\n",
        "copying blueprints from \"Saint Leibowitz\", filling the sheets of paper with\r\n",
        "ink and leaving white lines and letters.\r\n",
        "\r\n",
        "EDGAR PANGBORN\r\n",
        "\r\n",
        "\"Davy\"\r\n",
        "Post atomic doomsday novel set in clerical states.  The church, for example,\r\n",
        "forbids that anyone \"produce, describe or use any substance containing...\r\n",
        "atoms\". \r\n",
        "\r\n",
        "PHILIP K. DICK\r\n",
        "\r\n",
        "Philip K. Dick Dick wrote many philosophical and thought-provoking short \r\n",
        "stories and novels.  His stories are bizarre at times, but very approachable.\r\n",
        "He wrote mainly SF, but he wrote about people, truth and religion rather than\r\n",
        "technology.  Although he often believed that he had met some sort of God, he\r\n",
        "remained sceptical.  Amongst his novels, the following are of some relevance:\r\n",
        "\r\n",
        "\"Galactic Pot-Healer\"\r\n",
        "A fallible alien deity summons a group of Earth craftsmen and women to a\r\n",
        "remote planet to raise a giant cathedral from beneath the oceans.  When the\r\n",
        "deity begins to demand faith from the earthers, pot-healer Joe Fernwright is\r\n",
        "unable to comply.  A polished, ironic and amusing novel.\r\n",
        "\r\n",
        "\"A Maze of Death\"\r\n",
        "Noteworthy for its description of a technology-based religion.\r\n",
        "\r\n",
        "\"VALIS\"\r\n",
        "The schizophrenic hero searches for the hidden mysteries of Gnostic\r\n",
        "Christianity after reality is fired into his brain by a pink laser beam of\r\n",
        "unknown but possibly divine origin.  He is accompanied by his dogmatic and\r\n",
        "dismissively atheist friend and assorted other odd characters.\r\n",
        "\r\n",
        "\"The Divine Invasion\"\r\n",
        "God invades Earth by making a young woman pregnant as she returns from\r\n",
        "another star system.  Unfortunately she is terminally ill, and must be\r\n",
        "assisted by a dead man whose brain is wired to 24-hour easy listening music.\r\n",
        "\r\n",
        "MARGARET ATWOOD\r\n",
        "\r\n",
        "\"The Handmaid's Tale\"\r\n",
        "A story based on the premise that the US Congress is mysteriously\r\n",
        "assassinated, and fundamentalists quickly take charge of the nation to set it\r\n",
        "\"right\" again.  The book is the diary of a woman's life as she tries to live\r\n",
        "under the new Christian theocracy.  Women's right to own property is revoked,\r\n",
        "and their bank accounts are closed; sinful luxuries are outlawed, and the\r\n",
        "radio is only used for readings from the Bible.  Crimes are punished\r\n",
        "retroactively: doctors who performed legal abortions in the \"old world\" are\r\n",
        "hunted down and hanged.  Atwood's writing style is difficult to get used to\r\n",
        "at first, but the tale grows more and more chilling as it goes on.\r\n",
        "\r\n",
        "VARIOUS AUTHORS\r\n",
        "\r\n",
        "\"The Bible\"\r\n",
        "This somewhat dull and rambling work has often been criticized.  However, it\r\n",
        "is probably worth reading, if only so that you'll know what all the fuss is\r\n",
        "about.  It exists in many different versions, so make sure you get the one\r\n",
        "true version.\r\n",
        "\r\n",
        "                             Books -- Non-fiction\r\n",
        "\r\n",
        "PETER DE ROSA\r\n",
        "\r\n",
        "\"Vicars of Christ\", Bantam Press, 1988\r\n",
        "Although de Rosa seems to be Christian or even Catholic this is a very\r\n",
        "enlighting history of papal immoralities, adulteries, fallacies etc.\r\n",
        "(German translation: \"Gottes erste Diener. Die dunkle Seite des Papsttums\",\r\n",
        "Droemer-Knaur, 1989)\r\n",
        "\r\n",
        "MICHAEL MARTIN\r\n",
        "\r\n",
        "\"Atheism: A Philosophical Justification\", Temple University Press,\r\n",
        " Philadelphia, USA.\r\n",
        "A detailed and scholarly justification of atheism.  Contains an outstanding\r\n",
        "appendix defining terminology and usage in this (necessarily) tendentious\r\n",
        "area.  Argues both for \"negative atheism\" (i.e. the \"non-belief in the\r\n",
        "existence of god(s)\") and also for \"positive atheism\" (\"the belief in the\r\n",
        "non-existence of god(s)\").  Includes great refutations of the most\r\n",
        "challenging arguments for god; particular attention is paid to refuting\r\n",
        "contempory theists such as Platinga and Swinburne.\r\n",
        "541 pages. ISBN 0-87722-642-3 (hardcover; paperback also available)\r\n",
        "\r\n",
        "\"The Case Against Christianity\", Temple University Press\r\n",
        "A comprehensive critique of Christianity, in which he considers\r\n",
        "the best contemporary defences of Christianity and (ultimately)\r\n",
        "demonstrates that they are unsupportable and/or incoherent.\r\n",
        "273 pages. ISBN 0-87722-767-5\r\n",
        "\r\n",
        "JAMES TURNER\r\n",
        "\r\n",
        "\"Without God, Without Creed\", The Johns Hopkins University Press, Baltimore,\r\n",
        " MD, USA\r\n",
        "Subtitled \"The Origins of Unbelief in America\".  Examines the way in which\r\n",
        "unbelief (whether agnostic or atheistic)  became a mainstream alternative\r\n",
        "world-view.  Focusses on the period 1770-1900, and while considering France\r\n",
        "and Britain the emphasis is on American, and particularly New England\r\n",
        "developments.  \"Neither a religious history of secularization or atheism,\r\n",
        "Without God, Without Creed is, rather, the intellectual history of the fate\r\n",
        "of a single idea, the belief that God exists.\" \r\n",
        "316 pages. ISBN (hardcover) 0-8018-2494-X (paper) 0-8018-3407-4\r\n",
        "\r\n",
        "GEORGE SELDES (Editor)\r\n",
        "\r\n",
        "\"The great thoughts\", Ballantine Books, New York, USA\r\n",
        "A \"dictionary of quotations\" of a different kind, concentrating on statements\r\n",
        "and writings which, explicitly or implicitly, present the person's philosophy\r\n",
        "and world-view.  Includes obscure (and often suppressed) opinions from many\r\n",
        "people.  For some popular observations, traces the way in which various\r\n",
        "people expressed and twisted the idea over the centuries.  Quite a number of\r\n",
        "the quotations are derived from Cardiff's \"What Great Men Think of Religion\"\r\n",
        "and Noyes' \"Views of Religion\".\r\n",
        "490 pages. ISBN (paper) 0-345-29887-X.\r\n",
        "\r\n",
        "RICHARD SWINBURNE\r\n",
        "\r\n",
        "\"The Existence of God (Revised Edition)\", Clarendon Paperbacks, Oxford\r\n",
        "This book is the second volume in a trilogy that began with \"The Coherence of\r\n",
        "Theism\" (1977) and was concluded with \"Faith and Reason\" (1981).  In this\r\n",
        "work, Swinburne attempts to construct a series of inductive arguments for the\r\n",
        "existence of God.  His arguments, which are somewhat tendentious and rely\r\n",
        "upon the imputation of late 20th century western Christian values and\r\n",
        "aesthetics to a God which is supposedly as simple as can be conceived, were\r\n",
        "decisively rejected in Mackie's \"The Miracle of Theism\".  In the revised\r\n",
        "edition of \"The Existence of God\", Swinburne includes an Appendix in which he\r\n",
        "makes a somewhat incoherent attempt to rebut Mackie.\r\n",
        "\r\n",
        "J. L. MACKIE\r\n",
        "\r\n",
        "\"The Miracle of Theism\", Oxford\r\n",
        "This (posthumous) volume contains a comprehensive review of the principal\r\n",
        "arguments for and against the existence of God.  It ranges from the classical\r\n",
        "philosophical positions of Descartes, Anselm, Berkeley, Hume et al, through\r\n",
        "the moral arguments of Newman, Kant and Sidgwick, to the recent restatements\r\n",
        "of the classical theses by Plantinga and Swinburne.  It also addresses those\r\n",
        "positions which push the concept of God beyond the realm of the rational,\r\n",
        "such as those of Kierkegaard, Kung and Philips, as well as \"replacements for\r\n",
        "God\" such as Lelie's axiarchism.  The book is a delight to read - less\r\n",
        "formalistic and better written than Martin's works, and refreshingly direct\r\n",
        "when compared with the hand-waving of Swinburne.\r\n",
        "\r\n",
        "JAMES A. HAUGHT\r\n",
        "\r\n",
        "\"Holy Horrors: An Illustrated History of Religious Murder and Madness\",\r\n",
        " Prometheus Books\r\n",
        "Looks at religious persecution from ancient times to the present day -- and\r\n",
        "not only by Christians.\r\n",
        "Library of Congress Catalog Card Number 89-64079. 1990.\r\n",
        "\r\n",
        "NORM R. ALLEN, JR.\r\n",
        "\r\n",
        "\"African American Humanism: an Anthology\"\r\n",
        "See the listing for African Americans for Humanism above.\r\n",
        "\r\n",
        "GORDON STEIN\r\n",
        "\r\n",
        "\"An Anthology of Atheism and Rationalism\", Prometheus Books\r\n",
        "An anthology covering a wide range of subjects, including 'The Devil, Evil\r\n",
        "and Morality' and 'The History of Freethought'.  Comprehensive bibliography.\r\n",
        "\r\n",
        "EDMUND D. COHEN\r\n",
        "\r\n",
        "\"The Mind of The Bible-Believer\", Prometheus Books\r\n",
        "A study of why people become Christian fundamentalists, and what effect it\r\n",
        "has on them.\r\n",
        "\r\n",
        "                                Net Resources\r\n",
        "\r\n",
        "There's a small mail-based archive server at mantis.co.uk which carries\r\n",
        "archives of old alt.atheism.moderated articles and assorted other files.  For\r\n",
        "more information, send mail to archive-server@mantis.co.uk saying\r\n",
        "\r\n",
        "   help\r\n",
        "   send atheism/index\r\n",
        "\r\n",
        "and it will mail back a reply.\r\n",
        "\r\n",
        "\r\n",
        "mathew\r\n",
        "\ufffd\r\n"
       ]
      }
     ],
     "prompt_number": 6
    },
    {
     "cell_type": "markdown",
     "metadata": {},
     "source": [
      "We'll take the list of file ids, randomly shuffle it, and divide it into training and test sections.  And, to make the demo go faster, we'll only use a small sample of the available text."
     ]
    },
    {
     "cell_type": "code",
     "collapsed": false,
     "input": [
      "import random\n",
      "\n",
      "random.seed(0)\n",
      "\n",
      "random.shuffle(ids)\n",
      "ids = ids[:5000]\n",
      "size = len(ids)\n",
      "\n",
      "testSet = ids[:int(size*0.1)]\n",
      "trainSet = ids[int(size*0.1):]\n",
      "\n",
      "print len(trainSet), len(testSet)"
     ],
     "language": "python",
     "metadata": {},
     "outputs": [
      {
       "output_type": "stream",
       "stream": "stdout",
       "text": [
        "4500 500\n"
       ]
      }
     ],
     "prompt_number": 7
    },
    {
     "cell_type": "markdown",
     "metadata": {},
     "source": [
      "## Extract features\n",
      "\n",
      "Now that we've got our data, we need to convert our newsgroup texts into features that can be used by machine learning algorithms.  For this example, we'll use lexical features: each word is a feature, and it's value is the number of times that word occurs in a text. \n",
      "\n"
     ]
    },
    {
     "cell_type": "code",
     "collapsed": false,
     "input": [
      "from collections import defaultdict\n",
      "\n",
      "def features(text):\n",
      "    \"\"\"Convert a post into a dictionary of features\"\"\"\n",
      "    features = defaultdict(int)\n",
      "    for word in text:\n",
      "        if word.isalpha():\n",
      "            features[word.lower()] += 1\n",
      "    return features\n",
      "\n",
      "print features(newsgroups.words(fileids=trainSet[0]))"
     ],
     "language": "python",
     "metadata": {},
     "outputs": [
      {
       "output_type": "stream",
       "stream": "stdout",
       "text": [
        "defaultdict(<type 'int'>, {u'all': 1, u'background': 1, u'formula': 1, u'over': 1, u'rest': 1, u'edu': 4, u'its': 1, u'galaxy': 2, u'ergs': 2, u'absorption': 1, u'writes': 1, u'had': 2, u'to': 5, u'pretty': 1, u'has': 1, u'hope': 1, u'do': 1, u'around': 2, u'very': 1, u'know': 1, u'they': 1, u'half': 1, u'not': 1, u'during': 1, u'highly': 1, u'transparent': 1, u'several': 1, u'd': 2, u'did': 2, u'luminosity': 2, u'l': 2, u'flux': 7, u'bursts': 1, u't': 1, u'found': 2, u'out': 2, u'r': 5, u'set': 1, u'old': 1, u'be': 2, u'energy': 3, u'oort': 1, u'depends': 1, u'sec': 4, u'are': 2, u'duration': 1, u'our': 1, u'subject': 1, u'what': 3, u'jeremy': 1, u'for': 6, u'extragalactic': 1, u'per': 1, u'find': 2, u're': 1, u'does': 1, u'standby': 1, u'bedfellow': 1, u'integrated': 2, u'core': 1, u'we': 5, u'carr': 2, u'use': 2, u'here': 1, u'put': 2, u'article': 1, u'wanted': 1, u'by': 1, u'on': 1, u'about': 1, u'ok': 1, u'jfc': 2, u'of': 11, u'could': 2, u'turn': 1, u's': 3, u'frst': 1, u'usually': 1, u'senator': 1, u'll': 1, u'gamma': 3, u'belgarath': 1, u'cm': 2, u'simple': 1, u'one': 2, u'model': 2, u'simplified': 1, u'lastly': 2, u'cloud': 1, u'little': 1, u'from': 2, u'would': 1, u'unknown': 1, u'burst': 4, u'moderately': 1, u'long': 1, u'pc': 1, u'much': 2, u'call': 1, u'too': 1, u'fpeak': 1, u'expected': 1, u'john': 2, u'calculator': 1, u'athena': 2, u'a': 8, u'form': 1, u'that': 6, u'but': 1, u'last': 1, u'with': 1, u'than': 1, u'megaparsec': 1, u'distance': 1, u'pi': 1, u'f': 1, u'this': 3, u'second': 2, u'will': 1, u'assume': 1, u'erg': 3, u'radius': 2, u'problem': 4, u'more': 1, u'my': 1, u'example': 1, u'and': 5, u'fluence': 1, u'cosmological': 1, u'then': 2, u'is': 7, u'suggestions': 1, u'it': 2, u'an': 3, u'say': 1, u'at': 2, u'have': 2, u'in': 3, u'close': 1, u'burster': 1, u'any': 1, u'ray': 2, u'different': 1, u'rays': 1, u'spheres': 1, u'how': 3, u'complex': 1, u'which': 1, u'answer': 1, u'you': 2, u'if': 1, u'mit': 3, u'used': 1, u'galactic': 2, u'energetic': 3, u'mankato': 1, u'time': 2, u'msus': 1, u'coronal': 1, u'peak': 3, u'class': 1, u'ago': 1, u'don': 1, u'i': 8, u'bursters': 2, u'seconds': 2, u'corona': 1, u'or': 1, u'edge': 2, u'so': 1, u'sets': 1, u'the': 23})\n"
       ]
      }
     ],
     "prompt_number": 8
    },
    {
     "cell_type": "markdown",
     "metadata": {},
     "source": [
      "We'll also extract the class names for training instances.  For the class, we'll just use the name of the newsgroup that the text was taken from, and we can get that from the first part of the fileid."
     ]
    },
    {
     "cell_type": "code",
     "collapsed": false,
     "input": [
      "def getclass(fileid):\n",
      "    \"\"\"Get class name from fileid\"\"\"\n",
      "    return fileid.split('/')[0]\n",
      "\n",
      "print getclass(trainSet[0])"
     ],
     "language": "python",
     "metadata": {},
     "outputs": [
      {
       "output_type": "stream",
       "stream": "stdout",
       "text": [
        "sci.space\n"
       ]
      }
     ],
     "prompt_number": 9
    },
    {
     "cell_type": "markdown",
     "metadata": {},
     "source": [
      "Finally, we'll apply these functions to all the posts in the dataset (this may a while!)"
     ]
    },
    {
     "cell_type": "code",
     "collapsed": false,
     "input": [
      "%time trainData = [(features(newsgroups.words(fileids=f)),getclass(f)) for f in trainSet]"
     ],
     "language": "python",
     "metadata": {},
     "outputs": [
      {
       "output_type": "stream",
       "stream": "stdout",
       "text": [
        "CPU times: user 5.2 s, sys: 277 ms, total: 5.48 s\n",
        "Wall time: 5.5 s\n"
       ]
      }
     ],
     "prompt_number": 10
    },
    {
     "cell_type": "code",
     "collapsed": false,
     "input": [
      "%time testData = [(features(newsgroups.words(fileids=f)),getclass(f)) for f in testSet]"
     ],
     "language": "python",
     "metadata": {},
     "outputs": [
      {
       "output_type": "stream",
       "stream": "stdout",
       "text": [
        "CPU times: user 523 ms, sys: 30.3 ms, total: 553 ms\n",
        "Wall time: 554 ms\n"
       ]
      }
     ],
     "prompt_number": 11
    },
    {
     "cell_type": "code",
     "collapsed": false,
     "input": [
      "trainData[0]"
     ],
     "language": "python",
     "metadata": {},
     "outputs": [
      {
       "metadata": {},
       "output_type": "pyout",
       "prompt_number": 12,
       "text": [
        "(defaultdict(<type 'int'>, {u'all': 1, u'background': 1, u'formula': 1, u'over': 1, u'rest': 1, u'edu': 4, u'its': 1, u'galaxy': 2, u'ergs': 2, u'absorption': 1, u'writes': 1, u'had': 2, u'to': 5, u'pretty': 1, u'has': 1, u'hope': 1, u'do': 1, u'around': 2, u'very': 1, u'know': 1, u'they': 1, u'half': 1, u'not': 1, u'during': 1, u'highly': 1, u'transparent': 1, u'several': 1, u'd': 2, u'did': 2, u'luminosity': 2, u'l': 2, u'flux': 7, u'bursts': 1, u't': 1, u'found': 2, u'out': 2, u'r': 5, u'set': 1, u'old': 1, u'be': 2, u'energy': 3, u'oort': 1, u'depends': 1, u'sec': 4, u'are': 2, u'duration': 1, u'our': 1, u'subject': 1, u'what': 3, u'jeremy': 1, u'for': 6, u'extragalactic': 1, u'per': 1, u'find': 2, u're': 1, u'does': 1, u'standby': 1, u'bedfellow': 1, u'integrated': 2, u'core': 1, u'we': 5, u'carr': 2, u'use': 2, u'here': 1, u'put': 2, u'article': 1, u'wanted': 1, u'by': 1, u'on': 1, u'about': 1, u'ok': 1, u'jfc': 2, u'of': 11, u'could': 2, u'turn': 1, u's': 3, u'frst': 1, u'usually': 1, u'senator': 1, u'll': 1, u'gamma': 3, u'belgarath': 1, u'cm': 2, u'simple': 1, u'one': 2, u'model': 2, u'simplified': 1, u'lastly': 2, u'cloud': 1, u'little': 1, u'from': 2, u'would': 1, u'unknown': 1, u'burst': 4, u'moderately': 1, u'long': 1, u'pc': 1, u'much': 2, u'call': 1, u'too': 1, u'fpeak': 1, u'expected': 1, u'john': 2, u'calculator': 1, u'athena': 2, u'a': 8, u'form': 1, u'that': 6, u'but': 1, u'last': 1, u'with': 1, u'than': 1, u'megaparsec': 1, u'distance': 1, u'pi': 1, u'f': 1, u'this': 3, u'second': 2, u'will': 1, u'assume': 1, u'erg': 3, u'radius': 2, u'problem': 4, u'more': 1, u'my': 1, u'example': 1, u'and': 5, u'fluence': 1, u'cosmological': 1, u'then': 2, u'is': 7, u'suggestions': 1, u'it': 2, u'an': 3, u'say': 1, u'at': 2, u'have': 2, u'in': 3, u'close': 1, u'burster': 1, u'any': 1, u'ray': 2, u'different': 1, u'rays': 1, u'spheres': 1, u'how': 3, u'complex': 1, u'which': 1, u'answer': 1, u'you': 2, u'if': 1, u'mit': 3, u'used': 1, u'galactic': 2, u'energetic': 3, u'mankato': 1, u'time': 2, u'msus': 1, u'coronal': 1, u'peak': 3, u'class': 1, u'ago': 1, u'don': 1, u'i': 8, u'bursters': 2, u'seconds': 2, u'corona': 1, u'or': 1, u'edge': 2, u'so': 1, u'sets': 1, u'the': 23}),\n",
        " 'sci.space')"
       ]
      }
     ],
     "prompt_number": 12
    },
    {
     "cell_type": "markdown",
     "metadata": {},
     "source": [
      "## Baseline\n",
      "\n",
      "Now that we've got all our posts converted into features and classes, we can try building some classifiers.  First, we'll establish a baseline score: how accurate is a classifier that assigns the most frequent class to every instance?"
     ]
    },
    {
     "cell_type": "code",
     "collapsed": false,
     "input": [
      "c = nltk.FreqDist(item[1] for item in trainData)\n",
      "default = c.keys()[0]\n",
      "print c"
     ],
     "language": "python",
     "metadata": {},
     "outputs": [
      {
       "output_type": "stream",
       "stream": "stdout",
       "text": [
        "<FreqDist: 'sci.med': 252, 'comp.os.ms-windows.misc': 247, 'comp.graphics': 244, 'comp.windows.x': 243, 'rec.motorcycles': 242, 'rec.autos': 239, 'soc.religion.christian': 239, 'rec.sport.hockey': 238, 'sci.crypt': 237, 'sci.space': 232, ...>\n"
       ]
      }
     ],
     "prompt_number": 13
    },
    {
     "cell_type": "code",
     "collapsed": false,
     "input": [
      "sum(c==default for f,c in testData) / float(len(testData))"
     ],
     "language": "python",
     "metadata": {},
     "outputs": [
      {
       "metadata": {},
       "output_type": "pyout",
       "prompt_number": 14,
       "text": [
        "0.058"
       ]
      }
     ],
     "prompt_number": 14
    },
    {
     "cell_type": "markdown",
     "metadata": {},
     "source": [
      "## Naive Bayes\n",
      "\n",
      "Next, we can try a few variations on the Naive Bayes classifier.  Nltk includes a simple function for training Naive Bayes classifiers which is very easy to use, though slow and not very accurate."
     ]
    },
    {
     "cell_type": "code",
     "collapsed": false,
     "input": [
      "nb = nltk.NaiveBayesClassifier.train(trainData)"
     ],
     "language": "python",
     "metadata": {},
     "outputs": [],
     "prompt_number": 15
    },
    {
     "cell_type": "markdown",
     "metadata": {},
     "source": [
      "Nltk also provides easy tools for evaluating classifiers."
     ]
    },
    {
     "cell_type": "code",
     "collapsed": false,
     "input": [
      "print nltk.classify.accuracy(nb, testData)"
     ],
     "language": "python",
     "metadata": {},
     "outputs": [
      {
       "output_type": "stream",
       "stream": "stdout",
       "text": [
        "0.636\n"
       ]
      }
     ],
     "prompt_number": 16
    },
    {
     "cell_type": "markdown",
     "metadata": {},
     "source": [
      "Nltk also has functions that allow us to call other machine learning libraries, including scikit-learn, using wrapper classes."
     ]
    },
    {
     "cell_type": "code",
     "collapsed": false,
     "input": [
      "from nltk.classify.scikitlearn import SklearnClassifier\n",
      "from sklearn.naive_bayes import BernoulliNB\n",
      "\n",
      "bernoulli = SklearnClassifier(BernoulliNB())\n",
      "bernoulli.train(trainData)\n",
      "\n",
      "print nltk.classify.accuracy(bernoulli, testData)"
     ],
     "language": "python",
     "metadata": {},
     "outputs": [
      {
       "output_type": "stream",
       "stream": "stdout",
       "text": [
        "0.664\n"
       ]
      }
     ],
     "prompt_number": 17
    },
    {
     "cell_type": "code",
     "collapsed": false,
     "input": [
      "from sklearn.naive_bayes import MultinomialNB\n",
      "\n",
      "multi = SklearnClassifier(MultinomialNB())\n",
      "multi.train(trainData)\n",
      "\n",
      "print nltk.classify.accuracy(multi, testData)"
     ],
     "language": "python",
     "metadata": {},
     "outputs": [
      {
       "output_type": "stream",
       "stream": "stdout",
       "text": [
        "0.784\n"
       ]
      }
     ],
     "prompt_number": 18
    },
    {
     "cell_type": "markdown",
     "metadata": {},
     "source": [
      "Scikit-learn includes functions for performing feature selection and error analysis."
     ]
    },
    {
     "cell_type": "code",
     "collapsed": false,
     "input": [
      "from sklearn.feature_selection import SelectKBest, chi2\n",
      "from sklearn.pipeline import Pipeline\n",
      "\n",
      "pipeline = Pipeline([('chi2', SelectKBest(chi2, k=1000)),\n",
      "                     ('nb', MultinomialNB())])\n",
      "\n",
      "pmulti = SklearnClassifier(pipeline)\n",
      "pmulti.train(trainData)\n",
      "\n",
      "print nltk.classify.accuracy(pmulti, testData)"
     ],
     "language": "python",
     "metadata": {},
     "outputs": [
      {
       "output_type": "stream",
       "stream": "stdout",
       "text": [
        "0.68\n"
       ]
      },
      {
       "output_type": "stream",
       "stream": "stderr",
       "text": [
        "/Users/jbloom/anaconda/python.app/Contents/lib/python2.7/site-packages/sklearn/feature_selection/univariate_selection.py:319: UserWarning: Duplicate scores. Result may depend on feature ordering.There are probably duplicate features, or you used a classification score for a regression task.\n",
        "  warn(\"Duplicate scores. Result may depend on feature ordering.\"\n"
       ]
      }
     ],
     "prompt_number": 19
    },
    {
     "cell_type": "code",
     "collapsed": false,
     "input": [
      "from sklearn.metrics import f1_score\n",
      "\n",
      "results = pmulti.batch_classify(item[0] for item in testData)\n",
      "results[:10]"
     ],
     "language": "python",
     "metadata": {},
     "outputs": [
      {
       "metadata": {},
       "output_type": "pyout",
       "prompt_number": 20,
       "text": [
        "['alt.atheism',\n",
        " 'misc.forsale',\n",
        " 'rec.autos',\n",
        " 'comp.sys.mac.hardware',\n",
        " 'sci.space',\n",
        " 'comp.graphics',\n",
        " 'rec.sport.baseball',\n",
        " 'rec.sport.hockey',\n",
        " 'rec.autos',\n",
        " 'talk.religion.misc']"
       ]
      }
     ],
     "prompt_number": 20
    },
    {
     "cell_type": "code",
     "collapsed": false,
     "input": [
      "print f1_score([item[1] for item in testData], results)"
     ],
     "language": "python",
     "metadata": {},
     "outputs": [
      {
       "output_type": "stream",
       "stream": "stdout",
       "text": [
        "0.665969836386\n"
       ]
      },
      {
       "output_type": "stream",
       "stream": "stderr",
       "text": [
        "/Users/jbloom/anaconda/python.app/Contents/lib/python2.7/site-packages/sklearn/metrics/metrics.py:1249: UserWarning: The precision and recall are equal to zero for some labels. fbeta_score is ill defined for those labels ['comp.os.ms-windows.misc']. \n",
        "  average=average)\n"
       ]
      }
     ],
     "prompt_number": 21
    },
    {
     "cell_type": "markdown",
     "metadata": {},
     "source": [
      "## Support Vector Machines\n",
      "\n",
      "We can use any of the learning algorithms implemented by scikit-learn ([decision trees](http://scikit-learn.org/stable/modules/tree.html#classification), [knn](http://scikit-learn.org/stable/modules/neighbors.html#nearest-neighbors-classification), maxent [aka [logistic regression](http://scikit-learn.org/stable/modules/linear_model.html#logistic-regression)], [adaboost](http://scikit-learn.org/stable/modules/ensemble.html#adaboost), [linear](http://scikit-learn.org/stable/modules/generated/sklearn.svm.LinearSVC.html#sklearn-svm-linearsvc) and [non-linear](http://scikit-learn.org/stable/modules/generated/sklearn.svm.SVC.html#sklearn-svm-svc) SVMs, etc) in the same way."
     ]
    },
    {
     "cell_type": "code",
     "collapsed": false,
     "input": [
      "from sklearn.svm import LinearSVC\n",
      "\n",
      "svm = SklearnClassifier(LinearSVC())\n",
      "svm.train(trainData)\n",
      "\n",
      "print nltk.classify.accuracy(svm, testData)"
     ],
     "language": "python",
     "metadata": {},
     "outputs": [
      {
       "output_type": "stream",
       "stream": "stdout",
       "text": [
        "0.814\n"
       ]
      }
     ],
     "prompt_number": 47
    },
    {
     "cell_type": "code",
     "collapsed": false,
     "input": [
      "results = svm.batch_classify(item[0] for item in testData)\n",
      "results[0], testData[0][1]"
     ],
     "language": "python",
     "metadata": {},
     "outputs": [
      {
       "metadata": {},
       "output_type": "pyout",
       "prompt_number": 51,
       "text": [
        "('soc.religion.christian', 'soc.religion.christian')"
       ]
      }
     ],
     "prompt_number": 51
    },
    {
     "cell_type": "code",
     "collapsed": false,
     "input": [
      "from sklearn.metrics import confusion_matrix"
     ],
     "language": "python",
     "metadata": {},
     "outputs": [],
     "prompt_number": 52
    },
    {
     "cell_type": "code",
     "collapsed": false,
     "input": [
      "# Compute confusion matrix\n",
      "cmm = confusion_matrix([x[1] for x in testData], results)\n",
      "\n",
      "print(cmm)\n",
      "cmm = np.array(cmm,dtype=np.float)\n",
      "print cmm.shape\n",
      "\n",
      "#f=figure()\n",
      "#ax = f.add_subplot(111)\n",
      "#show()\n",
      "#%pylab inline\n",
      "\n",
      "# Show confusion matrix in a separate window\n",
      "imshow(cmm,interpolation='nearest')\n",
      "title('Confusion matrix')\n",
      "colorbar()\n",
      "ylabel('True label')\n",
      "xlabel('Predicted label')\n",
      "#pl."
     ],
     "language": "python",
     "metadata": {},
     "outputs": [
      {
       "output_type": "stream",
       "stream": "stdout",
       "text": [
        "[[12  0  0  0  0  0  0  0  0  0  0  0  0  0  1  0  0  0  0  1]\n",
        " [ 0 20  3  0  0  2  0  0  0  0  0  0  1  0  0  0  0  1  1  0]\n",
        " [ 0  1 22  1  2  1  0  0  0  0  0  0  0  0  0  0  0  0  0  0]\n",
        " [ 0  0  2 14  3  0  1  2  0  0  0  0  1  0  1  0  0  0  0  0]\n",
        " [ 1  0  1  2 17  0  3  0  0  1  0  1  1  0  0  0  0  0  0  0]\n",
        " [ 0  4  5  0  0 21  0  0  0  0  0  0  2  0  0  0  1  0  0  0]\n",
        " [ 0  0  0  0  1  0 19  2  0  0  0  0  1  0  0  0  0  0  0  0]\n",
        " [ 0  0  0  0  0  0  3 21  0  0  0  0  0  0  0  0  0  0  0  0]\n",
        " [ 0  0  1  0  0  0  0  0 29  0  0  0  0  0  0  0  0  0  0  0]\n",
        " [ 0  1  0  0  0  0  1  0  0 27  0  0  0  0  0  0  0  0  1  0]\n",
        " [ 0  0  0  0  0  0  1  0  0  0 24  0  0  0  0  0  0  0  0  0]\n",
        " [ 0  1  0  0  0  2  0  0  1  1  0 22  0  0  0  0  1  0  0  0]\n",
        " [ 0  2  0  0  0  0  0  1  0  0  0  0 21  0  0  0  0  0  1  0]\n",
        " [ 0  0  1  0  0  0  0  1  0  0  0  0  0 27  0  0  0  0  0  0]\n",
        " [ 0  0  0  1  0  0  1  0  0  0  0  0  1  0 30  0  0  0  0  0]\n",
        " [ 1  0  0  0  0  0  0  0  0  0  0  0  0  0  0 21  0  0  0  1]\n",
        " [ 0  0  0  0  0  0  0  1  1  0  0  0  0  0  0  0 19  0  1  0]\n",
        " [ 0  0  0  0  0  1  0  0  0  0  0  0  0  0  0  0  0 21  1  0]\n",
        " [ 0  0  0  0  0  0  0  0  0  0  0  0  0  0  0  0  2  0 13  0]\n",
        " [ 5  0  0  0  1  0  0  1  0  0  0  1  0  0  1  1  0  0  0  7]]\n",
        "(20, 20)\n"
       ]
      },
      {
       "metadata": {},
       "output_type": "pyout",
       "prompt_number": 65,
       "text": [
        "<matplotlib.text.Text at 0x10ecf4ad0>"
       ]
      },
      {
       "metadata": {},
       "output_type": "display_data",
       "png": "[encoded data removed]",
       "text": [
        "<matplotlib.figure.Figure at 0x110ad96d0>"
       ]
      }
     ],
     "prompt_number": 65
    },
    {
     "cell_type": "code",
     "collapsed": false,
     "input": [],
     "language": "python",
     "metadata": {},
     "outputs": []
    }
   ],
   "metadata": {}
  }
 ]
}