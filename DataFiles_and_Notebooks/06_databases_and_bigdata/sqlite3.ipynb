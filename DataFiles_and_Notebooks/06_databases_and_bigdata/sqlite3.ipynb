{
 "metadata": {
  "name": "sqlite3"
 },
 "nbformat": 3,
 "nbformat_minor": 0,
 "worksheets": [
  {
   "cells": [
    {
     "cell_type": "markdown",
     "metadata": {},
     "source": [
      "# sqlite3 interface through Python\n",
      "UC Berkeley Python class (AY250; 2012)\n",
      "\n",
      "First, we show simple database creation."
     ]
    },
    {
     "cell_type": "code",
     "collapsed": false,
     "input": [
      "import sqlite3\n",
      "connection = sqlite3.connect(\"/tmp/example.db\")\n",
      "cursor = connection.cursor()\n",
      "sql_cmd = \"\"\"CREATE TABLE dan_aykroyd (id INTEGER PRIMARY KEY AUTOINCREMENT,\n",
      "    skit_title TEXT, air_date DATE, season INT, ep INT, role TEXT)\"\"\"\n",
      "cursor.execute(sql_cmd)"
     ],
     "language": "python",
     "metadata": {},
     "outputs": []
    },
    {
     "cell_type": "markdown",
     "metadata": {},
     "source": [
      "Then, we insert some data."
     ]
    },
    {
     "cell_type": "code",
     "collapsed": true,
     "input": [
      "skit_data = [\n",
      "    (\"Trojan Horse Home Security\", \"10/11/75\", 1, 1, \"Kenny Vorstrather\"), \n",
      "    (\"E. Buzz Miller's Animal Kingdom\", \"2/25/78\", 3, 12, \"E. Buzz Miller\"), \n",
      "    (\"The Coneheads at Home\", \"10/21/78\", 4, 3, \"Beldar Conehead\")]\n",
      "for role in skit_data:\n",
      "    sql_cmd = (\"INSERT INTO dan_aykroyd (skit_title, air_date, season, \" +     \n",
      "        \"ep, role) VALUES \" + str(role))\n",
      "    cursor.execute(sql_cmd)"
     ],
     "language": "python",
     "metadata": {},
     "outputs": []
    },
    {
     "cell_type": "markdown",
     "metadata": {},
     "source": [
      "Lastly, we run a simple query on the database we just made."
     ]
    },
    {
     "cell_type": "code",
     "collapsed": false,
     "input": [
      "sql_cmd = \"SELECT * FROM dan_aykroyd WHERE air_date > '10/12/75'\"\n",
      "cursor.execute(sql_cmd)\n",
      "db_info = cursor.fetchall()\n",
      "for entry in db_info: print entry\n",
      "connection.commit()\n",
      "connection.close()"
     ],
     "language": "python",
     "metadata": {},
     "outputs": []
    },
    {
     "cell_type": "markdown",
     "metadata": {},
     "source": [
      "Create another table, enter data, run simple join on columns using both tables."
     ]
    },
    {
     "cell_type": "code",
     "collapsed": false,
     "input": [
      "connection = sqlite3.connect(\"/tmp/example.db\")\n",
      "cursor = connection.cursor()\n",
      "sql_cmd = \"\"\"CREATE TABLE jane_curtin (id INTEGER PRIMARY KEY AUTOINCREMENT,\n",
      "    skit_title TEXT, air_date DATE, season INT, ep INT, role TEXT)\"\"\"\n",
      "cursor.execute(sql_cmd)\n",
      "skit_data = [\n",
      "    (\"Teen Talk\", \"7/24/76\", 1, 23, \"Jane\"), \n",
      "    (\"The Snakehandling O'Sheas\", \"9/25/76\", 2, 2, \"Jane O'Shea\"), \n",
      "    (\"The Coneheads at Home\", \"10/21/78\", 4, 3, \"Prymaat Conehead\")]\n",
      "for role in skit_data:\n",
      "    sql_cmd = (\"INSERT INTO jane_curtin (skit_title, air_date, season, \" +     \n",
      "        \"ep, role) VALUES \" + str(role))\n",
      "    cursor.execute(sql_cmd)\n",
      "# Our query is to find which skits featured both Dan Aykroyd and Jane Curtin.\n",
      "sql_cmd = \"\"\"SELECT dan_aykroyd.skit_title, dan_aykroyd.air_date, \n",
      "    dan_aykroyd.season, dan_aykroyd.ep, dan_aykroyd.role, jane_curtin.role\n",
      "    FROM dan_aykroyd, jane_curtin WHERE \n",
      "    dan_aykroyd.skit_title = jane_curtin.skit_title AND \n",
      "    dan_aykroyd.air_date = jane_curtin.air_date\"\"\"\n",
      "cursor.execute(sql_cmd)\n",
      "db_info = cursor.fetchall()\n",
      "for entry in db_info: print entry"
     ],
     "language": "python",
     "metadata": {},
     "outputs": []
    },
    {
     "cell_type": "markdown",
     "metadata": {},
     "source": [
      "We can also run a left join."
     ]
    },
    {
     "cell_type": "code",
     "collapsed": false,
     "input": [
      "sql_cmd = \"\"\"SELECT dan_aykroyd.skit_title, dan_aykroyd.air_date, \n",
      "    dan_aykroyd.season, dan_aykroyd.ep, dan_aykroyd.role, jane_curtin.role\n",
      "    FROM dan_aykroyd LEFT JOIN jane_curtin ON \n",
      "    dan_aykroyd.skit_title = jane_curtin.skit_title AND \n",
      "    dan_aykroyd.air_date = jane_curtin.air_date\"\"\"\n",
      "cursor.execute(sql_cmd)\n",
      "db_info = cursor.fetchall()\n",
      "for entry in db_info: print entry\n",
      "connection.commit()\n",
      "connection.close()"
     ],
     "language": "python",
     "metadata": {},
     "outputs": []
    },
    {
     "cell_type": "markdown",
     "metadata": {},
     "source": [
      "# Example with Plotting\n",
      "Emphasis on data retrieval"
     ]
    },
    {
     "cell_type": "code",
     "collapsed": false,
     "input": [
      "import urllib2, sqlite3, datetime\n",
      "from numpy import loadtxt, array\n",
      "%pylab inline\n",
      "\n",
      "def get_stock_data(stock_symbol):\n",
      "    response = urllib2.urlopen(\"http://ichart.finance.yahoo.com/table.csv?s=\" + \n",
      "        stock_symbol + \"&d=9&e=3&f=2012&g=d&a=1&b=1&c=2000&ignore=.csv\")\n",
      "    data = response.read()\n",
      "    response.close()\n",
      "    output = file(stock_symbol + \".txt\", \"w\")\n",
      "    output.write(data)\n",
      "    output.close()\n",
      "    return loadtxt(stock_symbol + \".txt\", skiprows=1, delimiter=\",\", \n",
      "                   dtype='|S10, float, float, float, float, float, float')"
     ],
     "language": "python",
     "metadata": {},
     "outputs": []
    },
    {
     "cell_type": "markdown",
     "metadata": {},
     "source": [
      "Example of data file:\n",
      "<code>\n",
      "Date,Open,High,Low,Close,Volume,Adj Close\n",
      "2012-03-02,544.24,546.80,542.52,545.18,15382800,545.18\n",
      "2012-03-01,548.17,548.21,538.77,544.47,24380200,544.47\n",
      "2012-02-29,541.56,547.61,535.70,542.44,33973800,542.44\n",
      "2012-02-28,527.96,535.41,525.85,535.41,21398000,535.41\n",
      "2012-02-27,521.31,528.50,516.28,525.76,19515700,525.76\n",
      "2012-02-24,519.67,522.90,518.64,522.41,14824000,522.41\n",
      "2012-02-23,515.08,517.83,509.50,516.39,20270400,516.39\n",
      "2012-02-22,513.08,515.49,509.07,513.04,17243800,513.04\n",
      "2012-02-21,506.88,514.85,504.12,514.85,21580400,514.85\n",
      ".\n",
      ".\n",
      ".\n",
      "</code>\n",
      "continues on until 2000-02-01"
     ]
    },
    {
     "cell_type": "markdown",
     "metadata": {},
     "source": [
      "Here we create a table, download the stock data, and populate the table with the data."
     ]
    },
    {
     "cell_type": "code",
     "collapsed": true,
     "input": [
      "connection = sqlite3.connect(\":memory:\")\n",
      "cursor = connection.cursor()\n",
      "sql_cmd = \"\"\"CREATE TABLE stocks (id INTEGER PRIMARY KEY AUTOINCREMENT,\n",
      "    symbol TEXT, day INT, open FLOAT, high FLOAT, low FLOAT, close FLOAT,\n",
      "    volume FLOAT, adj_close FLOAT)\"\"\"\n",
      "cursor.execute(sql_cmd)\n",
      "\n",
      "stock_symbols = [\"VZ\", \"AAPL\", \"FORD\", \"MSFT\", \"BA\"]\n",
      "ref_date = datetime.date(2000, 1, 1)\n",
      "for stock_symbol in stock_symbols:\n",
      "    data = get_stock_data(stock_symbol)\n",
      "    for row in data:\n",
      "        year = int(row[0].split(\"-\")[0])\n",
      "        month = int(row[0].split(\"-\")[1])\n",
      "        day = int(row[0].split(\"-\")[2])\n",
      "        stock_date = datetime.date(year, month, day)\n",
      "        row[0] = (stock_date - ref_date).days\n",
      "        sql_cmd = (\"INSERT INTO stocks (symbol, day, open, high, low, close, \" +\n",
      "            \"volume, adj_close) VALUES \" + \n",
      "            str(row).replace(\"(\", \"('\" + stock_symbol + \"', \"))\n",
      "        cursor.execute(sql_cmd)\n",
      "    connection.commit()"
     ],
     "language": "python",
     "metadata": {},
     "outputs": []
    },
    {
     "cell_type": "markdown",
     "metadata": {},
     "source": [
      "We can plot from the table easily, using the query to select out only the data we want to visualize."
     ]
    },
    {
     "cell_type": "code",
     "collapsed": false,
     "input": [
      "figsize(12,10)\n",
      "for ss in stock_symbols:\n",
      "    sql_cmd = \"SELECT day, close FROM stocks WHERE symbol == '\" + ss + \"'\"\n",
      "    cursor.execute(sql_cmd)\n",
      "    db_info = array(cursor.fetchall())\n",
      "    plot(db_info[:, 0], db_info[:, 1], label=ss)\n",
      "connection.close()\n",
      "\n",
      "legend(loc=2)\n",
      "xlabel(\"Days since 1/1/2000\")\n",
      "ylabel(\"Stock Value\")\n",
      "suptitle(\"Stock Performance\")"
     ],
     "language": "python",
     "metadata": {},
     "outputs": []
    }
   ],
   "metadata": {}
  }
 ]
}