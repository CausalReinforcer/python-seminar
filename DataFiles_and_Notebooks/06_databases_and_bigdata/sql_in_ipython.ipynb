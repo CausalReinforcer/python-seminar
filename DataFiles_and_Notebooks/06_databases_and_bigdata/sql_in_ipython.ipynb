{
 "metadata": {
  "name": ""
 },
 "nbformat": 3,
 "nbformat_minor": 0,
 "worksheets": [
  {
   "cells": [
    {
     "cell_type": "code",
     "collapsed": false,
     "input": [
      "# pip install ipython-sql\n",
      "# https://pypi.python.org/pypi/ipython-sql"
     ],
     "language": "python",
     "metadata": {},
     "outputs": [],
     "prompt_number": 25
    },
    {
     "cell_type": "code",
     "collapsed": false,
     "input": [
      "%load_ext sql"
     ],
     "language": "python",
     "metadata": {},
     "outputs": [],
     "prompt_number": 1
    },
    {
     "cell_type": "code",
     "collapsed": false,
     "input": [
      "%%sql sqlite:///foo1.db\n",
      "CREATE TABLE writer (first_name, last_name, year_of_death);\n",
      "INSERT INTO writer VALUES ('William', 'Shakespeare', 1616);\n",
      "INSERT INTO writer VALUES ('Bertold', 'Brecht', 1956);\n",
      "INSERT INTO writer VALUES ('Wes', 'McKinney', Null);"
     ],
     "language": "python",
     "metadata": {},
     "outputs": [
      {
       "metadata": {},
       "output_type": "pyout",
       "prompt_number": 14,
       "text": [
        "[]"
       ]
      }
     ],
     "prompt_number": 14
    },
    {
     "cell_type": "code",
     "collapsed": false,
     "input": [
      "%%sql\n",
      "select * from writer"
     ],
     "language": "python",
     "metadata": {},
     "outputs": [
      {
       "html": [
        "<table>\n",
        "    <tr>\n",
        "        <th>first_name</th>\n",
        "        <th>last_name</th>\n",
        "        <th>year_of_death</th>\n",
        "    </tr>\n",
        "    <tr>\n",
        "        <td>William</td>\n",
        "        <td>Shakespeare</td>\n",
        "        <td>1616</td>\n",
        "    </tr>\n",
        "    <tr>\n",
        "        <td>Bertold</td>\n",
        "        <td>Brecht</td>\n",
        "        <td>1956</td>\n",
        "    </tr>\n",
        "    <tr>\n",
        "        <td>Wes</td>\n",
        "        <td>McKinney</td>\n",
        "        <td>None</td>\n",
        "    </tr>\n",
        "</table>"
       ],
       "metadata": {},
       "output_type": "pyout",
       "prompt_number": 15,
       "text": [
        "[(u'William', u'Shakespeare', 1616),\n",
        " (u'Bertold', u'Brecht', 1956),\n",
        " (u'Wes', u'McKinney', None)]"
       ]
      }
     ],
     "prompt_number": 15
    },
    {
     "cell_type": "code",
     "collapsed": false,
     "input": [
      "result = %sql SELECT * FROM writer WHERE year_of_death > 1605"
     ],
     "language": "python",
     "metadata": {},
     "outputs": [],
     "prompt_number": 16
    },
    {
     "cell_type": "code",
     "collapsed": false,
     "input": [
      "dataframe = result.DataFrame() #we'll see dataframes/pandas next week!"
     ],
     "language": "python",
     "metadata": {},
     "outputs": [],
     "prompt_number": 20
    },
    {
     "cell_type": "code",
     "collapsed": false,
     "input": [
      "dataframe"
     ],
     "language": "python",
     "metadata": {},
     "outputs": [
      {
       "html": [
        "<div style=\"max-height:1000px;max-width:1500px;overflow:auto;\">\n",
        "<table border=\"1\" class=\"dataframe\">\n",
        "  <thead>\n",
        "    <tr style=\"text-align: right;\">\n",
        "      <th></th>\n",
        "      <th>first_name</th>\n",
        "      <th>last_name</th>\n",
        "      <th>year_of_death</th>\n",
        "    </tr>\n",
        "  </thead>\n",
        "  <tbody>\n",
        "    <tr>\n",
        "      <th>0</th>\n",
        "      <td> William</td>\n",
        "      <td> Shakespeare</td>\n",
        "      <td> 1616</td>\n",
        "    </tr>\n",
        "    <tr>\n",
        "      <th>1</th>\n",
        "      <td> Bertold</td>\n",
        "      <td>      Brecht</td>\n",
        "      <td> 1956</td>\n",
        "    </tr>\n",
        "  </tbody>\n",
        "</table>\n",
        "</div>"
       ],
       "metadata": {},
       "output_type": "pyout",
       "prompt_number": 21,
       "text": [
        "  first_name    last_name year_of_death\n",
        "0    William  Shakespeare          1616\n",
        "1    Bertold       Brecht          1956"
       ]
      }
     ],
     "prompt_number": 21
    },
    {
     "cell_type": "code",
     "collapsed": false,
     "input": [
      "%matplotlib inline"
     ],
     "language": "python",
     "metadata": {},
     "outputs": [],
     "prompt_number": 22
    },
    {
     "cell_type": "code",
     "collapsed": false,
     "input": [
      "result.bar()"
     ],
     "language": "python",
     "metadata": {},
     "outputs": [
      {
       "metadata": {},
       "output_type": "pyout",
       "prompt_number": 24,
       "text": [
        "<Container object of 2 artists>"
       ]
      },
      {
       "metadata": {},
       "output_type": "display_data",
       "png": "[encoded data removed]",
       "text": [
        "<matplotlib.figure.Figure at 0x1078edd50>"
       ]
      }
     ],
     "prompt_number": 24
    },
    {
     "cell_type": "code",
     "collapsed": false,
     "input": [],
     "language": "python",
     "metadata": {},
     "outputs": []
    }
   ],
   "metadata": {}
  }
 ]
}