{
 "metadata": {
  "name": ""
 },
 "nbformat": 3,
 "nbformat_minor": 0,
 "worksheets": [
  {
   "cells": [
    {
     "cell_type": "code",
     "collapsed": false,
     "input": [
      "# shameless ripped off from http://bit.ly/15WsUXU\n",
      "!pip install sqlalchemy"
     ],
     "language": "python",
     "metadata": {},
     "outputs": [
      {
       "output_type": "stream",
       "stream": "stdout",
       "text": [
        "/bin/sh: pip: command not found\r\n"
       ]
      }
     ],
     "prompt_number": 1
    },
    {
     "cell_type": "heading",
     "level": 1,
     "metadata": {},
     "source": [
      "Core"
     ]
    },
    {
     "cell_type": "heading",
     "level": 3,
     "metadata": {},
     "source": [
      "Create an engine. For this demo we're using SQLite in memory, and echoing the SQL as it's executed. "
     ]
    },
    {
     "cell_type": "code",
     "collapsed": false,
     "input": [
      "from sqlalchemy import create_engine\n",
      "engine = create_engine('sqlite:///:memory:')"
     ],
     "language": "python",
     "metadata": {},
     "outputs": [],
     "prompt_number": 1
    },
    {
     "cell_type": "heading",
     "level": 3,
     "metadata": {},
     "source": [
      "Let's declare a basic table"
     ]
    },
    {
     "cell_type": "code",
     "collapsed": false,
     "input": [
      "from sqlalchemy import *\n",
      "metadata = MetaData()\n",
      "\n",
      "vehicles_table = Table('vehicles', metadata,\n",
      "\t\t\t\t       Column('model', String),\n",
      "                       Column('registration', String),\n",
      "                       Column('odometer', Integer),\n",
      "                       Column('last_service', Date),)\n",
      "vehicles_table"
     ],
     "language": "python",
     "metadata": {},
     "outputs": [
      {
       "metadata": {},
       "output_type": "pyout",
       "prompt_number": 2,
       "text": [
        "Table('vehicles', MetaData(bind=None), Column('model', String(), table=<vehicles>), Column('registration', String(), table=<vehicles>), Column('odometer', Integer(), table=<vehicles>), Column('last_service', Date(), table=<vehicles>), schema=None)"
       ]
      }
     ],
     "prompt_number": 2
    },
    {
     "cell_type": "heading",
     "level": 3,
     "metadata": {},
     "source": [
      "The table doesn't exist yet, so let's create it"
     ]
    },
    {
     "cell_type": "code",
     "collapsed": false,
     "input": [
      "vehicles_table.create(bind=engine)"
     ],
     "language": "python",
     "metadata": {},
     "outputs": [],
     "prompt_number": 3
    },
    {
     "cell_type": "heading",
     "level": 3,
     "metadata": {},
     "source": [
      "SQLAlchemy core's main job is to generate SQL"
     ]
    },
    {
     "cell_type": "code",
     "collapsed": false,
     "input": [
      "query = vehicles_table.select()\n",
      "print type(query)\n",
      "print query"
     ],
     "language": "python",
     "metadata": {},
     "outputs": [
      {
       "output_type": "stream",
       "stream": "stdout",
       "text": [
        "<class 'sqlalchemy.sql.expression.Select'>\n",
        "SELECT vehicles.model, vehicles.registration, vehicles.odometer, vehicles.last_service \n",
        "FROM vehicles\n"
       ]
      }
     ],
     "prompt_number": 4
    },
    {
     "cell_type": "heading",
     "level": 3,
     "metadata": {},
     "source": [
      "The _select_ above is a shortcut for..."
     ]
    },
    {
     "cell_type": "code",
     "collapsed": false,
     "input": [
      "query = select([vehicles_table])\n",
      "print type(query)\n",
      "print query"
     ],
     "language": "python",
     "metadata": {},
     "outputs": [
      {
       "output_type": "stream",
       "stream": "stdout",
       "text": [
        "<class 'sqlalchemy.sql.expression.Select'>\n",
        "SELECT vehicles.model, vehicles.registration, vehicles.odometer, vehicles.last_service \n",
        "FROM vehicles\n"
       ]
      }
     ],
     "prompt_number": 5
    },
    {
     "cell_type": "heading",
     "level": 3,
     "metadata": {},
     "source": [
      "Access the table's column metadata"
     ]
    },
    {
     "cell_type": "code",
     "collapsed": false,
     "input": [
      "vehicles_table.c.odometer"
     ],
     "language": "python",
     "metadata": {},
     "outputs": [
      {
       "metadata": {},
       "output_type": "pyout",
       "prompt_number": 6,
       "text": [
        "Column('odometer', Integer(), table=<vehicles>)"
       ]
      }
     ],
     "prompt_number": 6
    },
    {
     "cell_type": "heading",
     "level": 3,
     "metadata": {},
     "source": [
      "Using method chaining we can add to the query. Note how column operators are overloaded to produce SQL"
     ]
    },
    {
     "cell_type": "code",
     "collapsed": false,
     "input": [
      "query = query.where(vehicles_table.c.odometer < 10000)\n",
      "print query"
     ],
     "language": "python",
     "metadata": {},
     "outputs": [
      {
       "output_type": "stream",
       "stream": "stdout",
       "text": [
        "SELECT vehicles.model, vehicles.registration, vehicles.odometer, vehicles.last_service \n",
        "FROM vehicles \n",
        "WHERE vehicles.odometer < :odometer_1\n"
       ]
      }
     ],
     "prompt_number": 7
    },
    {
     "cell_type": "heading",
     "level": 3,
     "metadata": {},
     "source": [
      "Using the engine created earlier, let's now run our query"
     ]
    },
    {
     "cell_type": "code",
     "collapsed": false,
     "input": [
      "results = engine.execute(query)\n",
      "for row in results:\n",
      "    print row"
     ],
     "language": "python",
     "metadata": {},
     "outputs": [],
     "prompt_number": 8
    },
    {
     "cell_type": "heading",
     "level": 3,
     "metadata": {},
     "source": [
      "No results, let's insert some rows"
     ]
    },
    {
     "cell_type": "code",
     "collapsed": false,
     "input": [
      "values = [\n",
      "    { 'model': 'Ford Festiva', 'registration': 'HAX00R', 'odometer': 3141 },\n",
      "    { 'model': 'Lotus Elise', 'registration': 'DELEG8', 'odometer': 31415 },\n",
      "]\n",
      "rows = engine.execute(vehicles_table.insert(), list(values)).rowcount\n",
      "print rows, \"rows inserted\""
     ],
     "language": "python",
     "metadata": {},
     "outputs": [
      {
       "output_type": "stream",
       "stream": "stdout",
       "text": [
        "2 rows inserted\n"
       ]
      }
     ],
     "prompt_number": 9
    },
    {
     "cell_type": "heading",
     "level": 3,
     "metadata": {},
     "source": [
      "Try our query again"
     ]
    },
    {
     "cell_type": "code",
     "collapsed": false,
     "input": [
      "results = engine.execute(query)\n",
      "for row in results:\n",
      "    print row"
     ],
     "language": "python",
     "metadata": {},
     "outputs": [
      {
       "output_type": "stream",
       "stream": "stdout",
       "text": [
        "(u'Ford Festiva', u'HAX00R', 3141, None)\n"
       ]
      }
     ],
     "prompt_number": 10
    },
    {
     "cell_type": "heading",
     "level": 3,
     "metadata": {},
     "source": [
      "Trying something more elaborate, let's see the SQL for adding up the odometer readings by model "
     ]
    },
    {
     "cell_type": "code",
     "collapsed": false,
     "input": [
      "print select([vehicles_table.c.model, \n",
      "              func.sum(vehicles_table.c.odometer).label('total_km')\n",
      "             ]).group_by(vehicles_table.c.model)"
     ],
     "language": "python",
     "metadata": {},
     "outputs": [
      {
       "output_type": "stream",
       "stream": "stdout",
       "text": [
        "SELECT vehicles.model, sum(vehicles.odometer) AS total_km \n",
        "FROM vehicles GROUP BY vehicles.model\n"
       ]
      }
     ],
     "prompt_number": 11
    },
    {
     "cell_type": "heading",
     "level": 3,
     "metadata": {},
     "source": [
      "There's much much more we can do. Literal SQL, functions, joins, aliases, unions, ..."
     ]
    },
    {
     "cell_type": "heading",
     "level": 1,
     "metadata": {},
     "source": [
      "ORM"
     ]
    },
    {
     "cell_type": "code",
     "collapsed": false,
     "input": [
      "from sqlalchemy.ext.declarative import declarative_base\n",
      "from sqlalchemy.orm import relationship\n",
      "Base = declarative_base()\n",
      "\n",
      "class Person(Base):\n",
      "    __tablename__ = 'people' # Choose your own table name!\n",
      "    id = Column(Integer, primary_key=True)\n",
      "    first_name = Column(String)\n",
      "    last_name = Column(String)\n",
      "    email = Column(String)\n",
      "    birthday = Column(DateTime)\n",
      "    appointments = relationship(\"Appointment\", backref=\"person\")\n",
      "\n",
      "    def __init__(self, firstname, lastname, email):\n",
      "        \"\"\" Constructor is optional \"\"\"\n",
      "        self.first_name = firstname\n",
      "        self.last_name = lastname\n",
      "        self.email = email\n",
      "\n",
      "class Appointment(Base):\n",
      "    __tablename__ = 'appointments'\n",
      "    id = Column(Integer, primary_key=True)\n",
      "    person_id = Column(Integer, ForeignKey('people.id')) # <-- Table name\n",
      "    meeting_at = Column(DateTime)\n",
      "    notes = Column(String)"
     ],
     "language": "python",
     "metadata": {},
     "outputs": [],
     "prompt_number": 13
    },
    {
     "cell_type": "code",
     "collapsed": false,
     "input": [
      "print \"Underlying table object\", repr(Person.__table__)\n",
      "print\n",
      "print \"Mapper that's taking care of things\", repr(Person.__mapper__)\n",
      "print\n",
      "print \"What does the declarative base know?\", repr(Base.metadata.tables)"
     ],
     "language": "python",
     "metadata": {},
     "outputs": [
      {
       "output_type": "stream",
       "stream": "stdout",
       "text": [
        "Underlying table object Table('people', MetaData(bind=None), Column('id', Integer(), table=<people>, primary_key=True, nullable=False), Column('first_name', String(), table=<people>), Column('last_name', String(), table=<people>), Column('email', String(), table=<people>), Column('birthday', DateTime(), table=<people>), schema=None)\n",
        "\n",
        "Mapper that's taking care of things <Mapper at 0x103d04990; Person>\n",
        "\n",
        "What does the declarative base know? immutabledict({'appointments': Table('appointments', MetaData(bind=None), Column('id', Integer(), table=<appointments>, primary_key=True, nullable=False), Column('person_id', Integer(), ForeignKey('people.id'), table=<appointments>), Column('meeting_at', DateTime(), table=<appointments>), Column('notes', String(), table=<appointments>), schema=None), 'people': Table('people', MetaData(bind=None), Column('id', Integer(), table=<people>, primary_key=True, nullable=False), Column('first_name', String(), table=<people>), Column('last_name', String(), table=<people>), Column('email', String(), table=<people>), Column('birthday', DateTime(), table=<people>), schema=None)})\n"
       ]
      }
     ],
     "prompt_number": 14
    },
    {
     "cell_type": "heading",
     "level": 3,
     "metadata": {},
     "source": [
      "Create the table!"
     ]
    },
    {
     "cell_type": "code",
     "collapsed": false,
     "input": [
      "Base.metadata.create_all(engine) "
     ],
     "language": "python",
     "metadata": {},
     "outputs": [],
     "prompt_number": 15
    },
    {
     "cell_type": "heading",
     "level": 3,
     "metadata": {},
     "source": [
      "Now let's create a session"
     ]
    },
    {
     "cell_type": "code",
     "collapsed": false,
     "input": [
      "from sqlalchemy.orm import sessionmaker\n",
      "Session = sessionmaker(bind=engine)\n",
      "session = Session()\n",
      "\n",
      "p = Person('newfirst', 'newlast', 'new@example.com');\n",
      "session.add(p)"
     ],
     "language": "python",
     "metadata": {},
     "outputs": [],
     "prompt_number": 17
    },
    {
     "cell_type": "heading",
     "level": 3,
     "metadata": {},
     "source": [
      "The query below will cause the above addition to be automatically flushed."
     ]
    },
    {
     "cell_type": "code",
     "collapsed": false,
     "input": [
      "for p in session.query(Person):\n",
      "    print p.first_name"
     ],
     "language": "python",
     "metadata": {},
     "outputs": []
    },
    {
     "cell_type": "heading",
     "level": 3,
     "metadata": {},
     "source": [
      "The ORM uses the underlying core to generate SQL"
     ]
    },
    {
     "cell_type": "code",
     "collapsed": false,
     "input": [
      "print session.query(Person).filter_by(id=1)"
     ],
     "language": "python",
     "metadata": {},
     "outputs": []
    },
    {
     "cell_type": "heading",
     "level": 3,
     "metadata": {},
     "source": [
      "Session queries can be built up to retrieve specific elements"
     ]
    },
    {
     "cell_type": "code",
     "collapsed": false,
     "input": [
      "for row in session.query(Person, Person.first_name, Person.email.label('address')).filter_by(id=1):\n",
      "    print \"Person object:\", row.Person\n",
      "    print \"Selected attributes:\", row.first_name, row.address"
     ],
     "language": "python",
     "metadata": {},
     "outputs": [
      {
       "output_type": "stream",
       "stream": "stdout",
       "text": [
        "Person object: <__main__.Person object at 0x103c41390>\n",
        "Selected attributes: newfirst new@example.com\n"
       ]
      }
     ],
     "prompt_number": 18
    },
    {
     "cell_type": "heading",
     "level": 3,
     "metadata": {},
     "source": [
      "The session keeps track of objects and their state, so the exact same object is returned even via another query."
     ]
    },
    {
     "cell_type": "code",
     "collapsed": false,
     "input": [
      "queried_person = session.query(Person).filter_by(first_name='newfirst').first()\n",
      "\n",
      "p is queried_person"
     ],
     "language": "python",
     "metadata": {},
     "outputs": [
      {
       "metadata": {},
       "output_type": "pyout",
       "prompt_number": 19,
       "text": [
        "True"
       ]
      }
     ],
     "prompt_number": 19
    },
    {
     "cell_type": "heading",
     "level": 3,
     "metadata": {},
     "source": [
      "Queries are generative"
     ]
    },
    {
     "cell_type": "code",
     "collapsed": false,
     "input": [
      "query = session.query(Person).filter(~Person.first_name.in_(['ed', 'wendy', 'jack']))\n",
      "print query"
     ],
     "language": "python",
     "metadata": {},
     "outputs": [
      {
       "output_type": "stream",
       "stream": "stdout",
       "text": [
        "SELECT people.id AS people_id, people.first_name AS people_first_name, people.last_name AS people_last_name, people.email AS people_email, people.birthday AS people_birthday \n",
        "FROM people \n",
        "WHERE people.first_name NOT IN (:first_name_1, :first_name_2, :first_name_3)\n"
       ]
      }
     ],
     "prompt_number": 20
    },
    {
     "cell_type": "heading",
     "level": 3,
     "metadata": {},
     "source": [
      "Additional filter criteria is added with an AND operator"
     ]
    },
    {
     "cell_type": "code",
     "collapsed": false,
     "input": [
      "from datetime import datetime, timedelta\n",
      "query = query.filter(Person.birthday < datetime.now() - timedelta(days=1))\n",
      "print query"
     ],
     "language": "python",
     "metadata": {},
     "outputs": [
      {
       "output_type": "stream",
       "stream": "stdout",
       "text": [
        "SELECT people.id AS people_id, people.first_name AS people_first_name, people.last_name AS people_last_name, people.email AS people_email, people.birthday AS people_birthday \n",
        "FROM people \n",
        "WHERE people.first_name NOT IN (:first_name_1, :first_name_2, :first_name_3) AND people.birthday < :birthday_1\n"
       ]
      }
     ],
     "prompt_number": 21
    },
    {
     "cell_type": "heading",
     "level": 1,
     "metadata": {},
     "source": [
      "Relationships"
     ]
    },
    {
     "cell_type": "heading",
     "level": 3,
     "metadata": {},
     "source": [
      "Let's create an appointment related to our person"
     ]
    },
    {
     "cell_type": "code",
     "collapsed": false,
     "input": [
      "appointment = Appointment(person=session.query(Person).first(),\n",
      "                          notes=\"Appointment date TBC\")\n",
      "session.add(appointment)"
     ],
     "language": "python",
     "metadata": {},
     "outputs": [],
     "prompt_number": 22
    },
    {
     "cell_type": "heading",
     "level": 3,
     "metadata": {},
     "source": [
      "Now we can query from either end of the relationship"
     ]
    },
    {
     "cell_type": "code",
     "collapsed": false,
     "input": [
      "for a in session.query(Appointment):\n",
      "    print a.person"
     ],
     "language": "python",
     "metadata": {},
     "outputs": [
      {
       "output_type": "stream",
       "stream": "stdout",
       "text": [
        "<__main__.Person object at 0x103c41390>\n"
       ]
      }
     ],
     "prompt_number": 23
    },
    {
     "cell_type": "code",
     "collapsed": false,
     "input": [
      "for p in session.query(Person):\n",
      "    print p.appointments"
     ],
     "language": "python",
     "metadata": {},
     "outputs": [
      {
       "output_type": "stream",
       "stream": "stdout",
       "text": [
        "[<__main__.Appointment object at 0x103d87850>]\n"
       ]
      }
     ],
     "prompt_number": 24
    },
    {
     "cell_type": "code",
     "collapsed": false,
     "input": [],
     "language": "python",
     "metadata": {},
     "outputs": []
    }
   ],
   "metadata": {}
  }
 ]
}