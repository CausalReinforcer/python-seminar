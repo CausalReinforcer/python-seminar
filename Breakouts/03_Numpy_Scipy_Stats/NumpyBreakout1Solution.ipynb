{
 "metadata": {
  "name": "NumpyBreakout1Solution"
 },
 "nbformat": 3,
 "nbformat_minor": 0,
 "worksheets": [
  {
   "cells": [
    {
     "cell_type": "markdown",
     "metadata": {},
     "source": [
      "Breakout #1 Solutions (numpy/scipy/stats class)\n",
      "------------------------------------------------\n",
      "AY250 UC Berkeley (2012)\n",
      "\n",
      "1) Make an ndarray representing a 52 deck of cards\n",
      "  (A,2-10,J,Q,K + 4 suits) where each element\n",
      "  represents a unique card including it\u2019s numerical\n",
      "  equivalent (e.g.,  A = 1, K = 13)\n",
      "\n",
      "2) Drawing 5 cards randomly from a shuffled deck, \n",
      " what is probability of getting at least two cards of the same value (ie. a pair)? What is the probability of getting all five cards from a different suit (ie. a flush)?"
     ]
    },
    {
     "cell_type": "code",
     "collapsed": false,
     "input": [
      "import numpy as np\n",
      "in_suit = [\"A\"] + [str(x) for x in range(2,11)] + [\"J\",\"Q\",\"K\"]\n",
      "suits = [\"C\",\"S\",\"H\",\"D\"]\n",
      "deck = []\n",
      "for s in suits:\n",
      "    deck += [(x,s,i+1) for i,x in enumerate(in_suit)]\n",
      "deck = np.array(deck,dtype=[('card','a1'),('suit','a1'),('val','i4')])"
     ],
     "language": "python",
     "metadata": {},
     "outputs": [],
     "prompt_number": 2
    },
    {
     "cell_type": "code",
     "collapsed": false,
     "input": [
      "deck"
     ],
     "language": "python",
     "metadata": {},
     "outputs": [
      {
       "output_type": "pyout",
       "prompt_number": 3,
       "text": [
        "array([('A', 'C', 1), ('2', 'C', 2), ('3', 'C', 3), ('4', 'C', 4),\n",
        "       ('5', 'C', 5), ('6', 'C', 6), ('7', 'C', 7), ('8', 'C', 8),\n",
        "       ('9', 'C', 9), ('1', 'C', 10), ('J', 'C', 11), ('Q', 'C', 12),\n",
        "       ('K', 'C', 13), ('A', 'S', 1), ('2', 'S', 2), ('3', 'S', 3),\n",
        "       ('4', 'S', 4), ('5', 'S', 5), ('6', 'S', 6), ('7', 'S', 7),\n",
        "       ('8', 'S', 8), ('9', 'S', 9), ('1', 'S', 10), ('J', 'S', 11),\n",
        "       ('Q', 'S', 12), ('K', 'S', 13), ('A', 'H', 1), ('2', 'H', 2),\n",
        "       ('3', 'H', 3), ('4', 'H', 4), ('5', 'H', 5), ('6', 'H', 6),\n",
        "       ('7', 'H', 7), ('8', 'H', 8), ('9', 'H', 9), ('1', 'H', 10),\n",
        "       ('J', 'H', 11), ('Q', 'H', 12), ('K', 'H', 13), ('A', 'D', 1),\n",
        "       ('2', 'D', 2), ('3', 'D', 3), ('4', 'D', 4), ('5', 'D', 5),\n",
        "       ('6', 'D', 6), ('7', 'D', 7), ('8', 'D', 8), ('9', 'D', 9),\n",
        "       ('1', 'D', 10), ('J', 'D', 11), ('Q', 'D', 12), ('K', 'D', 13)], \n",
        "      dtype=[('card', '|S1'), ('suit', '|S1'), ('val', '<i4')])"
       ]
      }
     ],
     "prompt_number": 3
    },
    {
     "cell_type": "code",
     "collapsed": false,
     "input": [
      "deck.shape"
     ],
     "language": "python",
     "metadata": {},
     "outputs": [
      {
       "output_type": "pyout",
       "prompt_number": 4,
       "text": [
        "(52,)"
       ]
      }
     ],
     "prompt_number": 4
    },
    {
     "cell_type": "code",
     "collapsed": false,
     "input": [
      "from numpy.random import shuffle\n",
      "n_loops = 100000\n",
      "n_cards = 5\n",
      "n_flush = 0.0\n",
      "n_pairs = 0.0\n",
      "n_straight = 0.0\n",
      "for i in xrange(n_loops):\n",
      "    shuffle(deck)\n",
      "    top_cards = deck[0:n_cards]\n",
      "    # check for flushy-ness\n",
      "    if len(np.unique(top_cards[\"suit\"])) == 1:\n",
      "        n_flush += 1\n",
      "    # check for pair-ness\n",
      "    is_pair = len(np.unique(top_cards[\"val\"])) < n_cards\n",
      "    if is_pair:\n",
      "        n_pairs += 1\n",
      "    # check for straight-ness\n",
      "    tmp = top_cards[top_cards['val'].argsort()]['val'] # order\n",
      "    if not is_pair and ((tmp[-1] - tmp[0] == (n_cards - 1)) or\n",
      "                        (tmp[0] == 1 and tmp[1] == 10 and \n",
      "                         (tmp[-1] - tmp[1] == (n_cards - 2)))):\n",
      "        #print tmp\n",
      "        # that last or gives us a 10-A straight\n",
      "        n_straight += 1\n",
      "\n",
      "print \"P(>=pair) = %f  ; P(flush) = %f ; P(straight) = %f\" % \\\n",
      "     (n_pairs/n_loops,n_flush/n_loops,n_straight/n_loops)"
     ],
     "language": "python",
     "metadata": {},
     "outputs": [
      {
       "output_type": "stream",
       "stream": "stdout",
       "text": [
        "P(>=pair) = 0.493160  ; P(flush) = 0.001820 ; P(straight) = 0.004150\n"
       ]
      }
     ],
     "prompt_number": 5
    },
    {
     "cell_type": "markdown",
     "metadata": {},
     "source": [
      "Check out the draw poker odds...we did pretty well!\n",
      "\n",
      "http://en.wikipedia.org/wiki/Poker_probability#Frequency_of_5-card_poker_hands\n",
      "\n",
      "You could try to get the binomial functions from scipy and figure out if your answers \n",
      "are close to the theoretical values (from probability theory)"
     ]
    }
   ],
   "metadata": {}
  }
 ]
}