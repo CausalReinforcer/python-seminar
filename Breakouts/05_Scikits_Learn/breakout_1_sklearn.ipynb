{
 "metadata": {
  "name": ""
 },
 "nbformat": 3,
 "nbformat_minor": 0,
 "worksheets": [
  {
   "cells": [
    {
     "cell_type": "markdown",
     "metadata": {},
     "source": [
      "## Breakout 1: AY250 Fall 2013 - Python for Data Science - Machine Learning ##\n",
      "\n",
      "<img src=\"http://l1.yimg.com/bt/api/res/1.2/VRpMGylj..sbchEH8mKCmg--/YXBwaWQ9eW5ld3M7Zmk9ZmlsbDtoPTQyMTtweG9mZj01MDtweW9mZj0wO3E9ODU7dz03NDk-/http://media.zenfs.com/en_us/News/ap_webfeeds/6ebbfa2b3ecb56203e0f6a706700c38e.jpg\" width=80%>\n",
      "\n",
      "You're going to help Team USA win the <a href=\"http://www.thedailysail.com/inshore/13/65151/1/looking-ahead-to-the-35th-americas-cup\">next America's cup</a> by making a predictive model to determine the resistance of a boat given it's geometry and speed. This is usually only measureable with advanced simulations but we can get <a href=\"http://archive.ics.uci.edu/ml/datasets/Yacht+Hydrodynamics\">7-dimensional data to build a model</a> and then determine this value for arbitary new boat design:\n",
      "\n",
      "<ul>\n",
      "<li> *Prediction of residuary resistance of sailing yachts at the initial design stage is of a great value for evaluating the ship's performance and for estimating the required propulsive power. Essential inputs include the basic hull dimensions and the boat velocity.  The Delft data set comprises 308 full-scale experiments, which were performed at the Delft Ship Hydromechanics Laboratory for that purpose. These experiments include 22 different hull forms...*\n",
      "</ul>\n"
     ]
    },
    {
     "cell_type": "markdown",
     "metadata": {},
     "source": [
      "Variations concern hull geometry coefficients and the Froude number: \n",
      "\n",
      "1. Longitudinal position of the center of buoyancy. \n",
      "2. Prismatic coefficient. \n",
      "3. Length-displacement ratio. \n",
      "4. Beam-draught ratio. \n",
      "5. Length-beam ratio. \n",
      "6. Froude number. \n",
      "\n",
      "The measured variable is the residuary resistance per unit weight of displacement: \n",
      "\n",
      "7. Residuary resistance per unit weight of displacement, adimensional. "
     ]
    },
    {
     "cell_type": "code",
     "collapsed": false,
     "input": [
      "import urllib2\n",
      "from StringIO import StringIO\n",
      "dat_file = urllib2.urlopen(\"http://archive.ics.uci.edu/ml/machine-learning-databases/00243/yacht_hydrodynamics.data\")\n",
      "data = StringIO(dat_file.read())"
     ],
     "language": "python",
     "metadata": {},
     "outputs": [],
     "prompt_number": 1
    },
    {
     "cell_type": "code",
     "collapsed": false,
     "input": [
      "%pylab inline\n",
      "d = np.loadtxt(data)\n",
      "np.random.shuffle(d)  # shuffle the instances since it appears to be ordered"
     ],
     "language": "python",
     "metadata": {},
     "outputs": [
      {
       "output_type": "stream",
       "stream": "stdout",
       "text": [
        "Populating the interactive namespace from numpy and matplotlib\n"
       ]
      }
     ],
     "prompt_number": 2
    },
    {
     "cell_type": "markdown",
     "metadata": {},
     "source": [
      "a. Chunk the data into the variable you are going to predict (and call that vector Y). Split into a training set with 90% of the complete data and 10% testing set. Be sure to scale the feature data."
     ]
    },
    {
     "cell_type": "code",
     "collapsed": false,
     "input": [
      "d"
     ],
     "language": "python",
     "metadata": {},
     "outputs": [
      {
       "metadata": {},
       "output_type": "pyout",
       "prompt_number": 3,
       "text": [
        "array([[ -2.3  ,   0.564,   5.1  , ...,   3.53 ,   0.325,   5.19 ],\n",
        "       [ -2.4  ,   0.568,   4.34 , ...,   3.15 ,   0.275,   2.46 ],\n",
        "       [ -2.3  ,   0.564,   5.1  , ...,   3.53 ,   0.4  ,  21.51 ],\n",
        "       ..., \n",
        "       [ -2.4  ,   0.574,   4.36 , ...,   2.76 ,   0.15 ,   0.35 ],\n",
        "       [  0.   ,   0.565,   4.77 , ...,   3.15 ,   0.275,   2.88 ],\n",
        "       [ -2.3  ,   0.565,   4.78 , ...,   2.76 ,   0.45 ,  50.14 ]])"
       ]
      }
     ],
     "prompt_number": 3
    },
    {
     "cell_type": "markdown",
     "metadata": {},
     "source": [
      "b. Learn/fit a kNR model with k=5"
     ]
    },
    {
     "cell_type": "code",
     "collapsed": true,
     "input": [],
     "language": "python",
     "metadata": {},
     "outputs": [
      {
       "metadata": {},
       "output_type": "pyout",
       "prompt_number": 54,
       "text": [
        "KNeighborsRegressor(algorithm='auto', leaf_size=30, metric='minkowski',\n",
        "          n_neighbors=5, p=2, weights='uniform')"
       ]
      }
     ],
     "prompt_number": 54
    },
    {
     "cell_type": "markdown",
     "metadata": {},
     "source": [
      "c. Determine the mean_squared error of the result"
     ]
    },
    {
     "cell_type": "code",
     "collapsed": true,
     "input": [],
     "language": "python",
     "metadata": {},
     "outputs": [
      {
       "output_type": "stream",
       "stream": "stdout",
       "text": [
        "36.9461887742\n"
       ]
      },
      {
       "metadata": {},
       "output_type": "pyout",
       "prompt_number": 55,
       "text": [
        "<matplotlib.collections.LineCollection at 0x107eb6810>"
       ]
      },
      {
       "metadata": {},
       "output_type": "display_data",
       "png": "[encoded data removed]",
       "text": [
        "<matplotlib.figure.Figure at 0x107e8e0d0>"
       ]
      }
     ],
     "prompt_number": 55
    },
    {
     "cell_type": "markdown",
     "metadata": {},
     "source": [
      "d. What MSE would we expect from (naively) guessing the mean of the training data?"
     ]
    },
    {
     "cell_type": "code",
     "collapsed": true,
     "input": [],
     "language": "python",
     "metadata": {},
     "outputs": [
      {
       "metadata": {},
       "output_type": "pyout",
       "prompt_number": 61,
       "text": [
        "92.854808422481824"
       ]
      }
     ],
     "prompt_number": 61
    },
    {
     "cell_type": "markdown",
     "metadata": {},
     "source": [
      "e. If time, try to be a RandomForestRegressor model. How did you do?"
     ]
    },
    {
     "cell_type": "code",
     "collapsed": true,
     "input": [],
     "language": "python",
     "metadata": {},
     "outputs": [],
     "prompt_number": 72
    },
    {
     "cell_type": "code",
     "collapsed": true,
     "input": [],
     "language": "python",
     "metadata": {},
     "outputs": [
      {
       "metadata": {},
       "output_type": "pyout",
       "prompt_number": 73,
       "text": [
        "RandomForestRegressor(bootstrap=True, compute_importances=None,\n",
        "           criterion='mse', max_depth=None, max_features='auto',\n",
        "           min_density=None, min_samples_leaf=1, min_samples_split=2,\n",
        "           n_estimators=10, n_jobs=1, oob_score=False, random_state=None,\n",
        "           verbose=0)"
       ]
      }
     ],
     "prompt_number": 73
    },
    {
     "cell_type": "code",
     "collapsed": true,
     "input": [],
     "language": "python",
     "metadata": {},
     "outputs": [
      {
       "output_type": "stream",
       "stream": "stdout",
       "text": [
        "0.324242032258\n"
       ]
      },
      {
       "metadata": {},
       "output_type": "pyout",
       "prompt_number": 75,
       "text": [
        "<matplotlib.collections.LineCollection at 0x1083cbfd0>"
       ]
      },
      {
       "metadata": {},
       "output_type": "display_data",
       "png": "[encoded data removed]",
       "text": [
        "<matplotlib.figure.Figure at 0x108390790>"
       ]
      }
     ],
     "prompt_number": 75
    },
    {
     "cell_type": "markdown",
     "metadata": {},
     "source": [
      "(c) J. Bloom (UC Berkeley) 2013"
     ]
    },
    {
     "cell_type": "code",
     "collapsed": false,
     "input": [],
     "language": "python",
     "metadata": {},
     "outputs": []
    }
   ],
   "metadata": {}
  }
 ]
}